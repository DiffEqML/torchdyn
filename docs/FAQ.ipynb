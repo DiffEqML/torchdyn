{
 "cells": [
  {
   "cell_type": "markdown",
   "source": [
    "### FAQ"
   ],
   "metadata": {}
  },
  {
   "cell_type": "markdown",
   "source": [
    "Submit your questions via Slack (found in the README) or via `Issues`. If asked more than a few times, a question will have its answer added here."
   ],
   "metadata": {}
  }
 ],
 "metadata": {
  "kernelspec": {
   "display_name": "Python 3",
   "language": "python",
   "name": "python3"
  },
  "language_info": {
   "codemirror_mode": {
    "name": "ipython",
    "version": 3
   },
   "file_extension": ".py",
   "mimetype": "text/x-python",
   "name": "python",
   "nbconvert_exporter": "python",
   "pygments_lexer": "ipython3",
   "version": "3.8.8"
  }
 },
 "nbformat": 4,
 "nbformat_minor": 5
}