{
 "cells": [
  {
   "cell_type": "markdown",
   "id": "f8e5a685-5a86-4af7-888e-4688386b5171",
   "metadata": {},
   "source": [
    "### FAQ (added for version >= 1.0)"
   ]
  },
  {
   "cell_type": "markdown",
   "id": "37c83fec-e51a-427a-b94c-8dc9904b052c",
   "metadata": {},
   "source": [
    "Submit your questions via Slack (found in the README) or via `Issues`. If asked more than a few times, a question will have its answer added here."
   ]
  }
 ],
 "metadata": {
  "kernelspec": {
   "display_name": "Python 3",
   "language": "python",
   "name": "python3"
  },
  "language_info": {
   "codemirror_mode": {
    "name": "ipython",
    "version": 3
   },
   "file_extension": ".py",
   "mimetype": "text/x-python",
   "name": "python",
   "nbconvert_exporter": "python",
   "pygments_lexer": "ipython3",
   "version": "3.8.8"
  }
 },
 "nbformat": 4,
 "nbformat_minor": 5
}
