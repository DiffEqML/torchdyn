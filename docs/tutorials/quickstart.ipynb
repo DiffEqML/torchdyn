{
 "cells": [
  {
   "cell_type": "markdown",
   "id": "47ffbac2",
   "metadata": {
    "papermill": {
     "duration": 0.01696,
     "end_time": "2021-07-09T03:31:30.847478",
     "exception": false,
     "start_time": "2021-07-09T03:31:30.830518",
     "status": "completed"
    },
    "tags": []
   },
   "source": [
    "# `torchdyn`Quickstart\n",
    "\n",
    "`torchdyn` is a PyTorch library dedicated to neural differential equations and equilibrium models.\n",
    "\n",
    "Central to the `torchdyn` approach are continuous and implicit neural networks, where *depth* is taken to its infinite limit.\n",
    "\n",
    "This notebook serves as a gentle introduction to NeuralODE, concluding with a small overview of `torchdyn` features."
   ]
  },
  {
   "cell_type": "code",
   "execution_count": 1,
   "id": "f107f2dd",
   "metadata": {
    "papermill": {
     "duration": 0.949066,
     "end_time": "2021-07-09T03:31:31.806541",
     "exception": false,
     "start_time": "2021-07-09T03:31:30.857475",
     "status": "completed"
    },
    "tags": []
   },
   "outputs": [],
   "source": [
    "from torchdyn.core import NeuralODE\n",
    "from torchdyn.datasets import *\n",
    "from torchdyn import *\n",
    "\n",
    "%load_ext autoreload\n",
    "%autoreload 2"
   ]
  },
  {
   "cell_type": "code",
   "execution_count": 2,
   "id": "7c4d85be",
   "metadata": {
    "papermill": {
     "duration": 0.021497,
     "end_time": "2021-07-09T03:31:31.842451",
     "exception": false,
     "start_time": "2021-07-09T03:31:31.820954",
     "status": "completed"
    },
    "tags": [
     "parameters"
    ]
   },
   "outputs": [],
   "source": [
    "# quick run for automated notebook validation\n",
    "dry_run = False"
   ]
  },
  {
   "cell_type": "markdown",
   "id": "f8b06d1a",
   "metadata": {
    "papermill": {
     "duration": 0.010429,
     "end_time": "2021-07-09T03:31:31.901441",
     "exception": false,
     "start_time": "2021-07-09T03:31:31.891012",
     "status": "completed"
    },
    "tags": []
   },
   "source": [
    "## Generate data from a static toy dataset \n",
    "\n",
    "We’ll be generating data from toy datasets. In torchdyn, we provide a wide range of datasets often use to benchmark and understand Neural ODEs. Here we will use the classic moons dataset and train a Neural ODE for binary classification"
   ]
  },
  {
   "cell_type": "code",
   "execution_count": 3,
   "id": "6fc24851",
   "metadata": {
    "papermill": {
     "duration": 0.021708,
     "end_time": "2021-07-09T03:31:31.933509",
     "exception": false,
     "start_time": "2021-07-09T03:31:31.911801",
     "status": "completed"
    },
    "tags": []
   },
   "outputs": [],
   "source": [
    "d = ToyDataset()\n",
    "X, yn = d.generate(n_samples=512, noise=1e-1, dataset_type='moons')        "
   ]
  },
  {
   "cell_type": "code",
   "execution_count": 4,
   "id": "8d5d5faa",
   "metadata": {
    "papermill": {
     "duration": 3.099303,
     "end_time": "2021-07-09T03:31:35.047541",
     "exception": false,
     "start_time": "2021-07-09T03:31:31.948238",
     "status": "completed"
    },
    "tags": []
   },
   "outputs": [
    {
     "data": {
      "image/png": "[encoded data removed]",
      "text/plain": [
       "<Figure size 216x216 with 1 Axes>"
      ]
     },
     "metadata": {
      "needs_background": "light"
     },
     "output_type": "display_data"
    }
   ],
   "source": [
    "import matplotlib.pyplot as plt\n",
    "\n",
    "colors = ['orange', 'blue'] \n",
    "fig = plt.figure(figsize=(3,3))\n",
    "ax = fig.add_subplot(111)\n",
    "for i in range(len(X)):\n",
    "    ax.scatter(X[i,0], X[i,1], s=1, color=colors[yn[i].int()])"
   ]
  },
  {
   "cell_type": "markdown",
   "id": "4ff3f435",
   "metadata": {
    "papermill": {
     "duration": 0.010201,
     "end_time": "2021-07-09T03:31:35.070405",
     "exception": false,
     "start_time": "2021-07-09T03:31:35.060204",
     "status": "completed"
    },
    "tags": []
   },
   "source": [
    "Generated data can be easily loaded in the dataloader with standard `PyTorch` calls"
   ]
  },
  {
   "cell_type": "code",
   "execution_count": 5,
   "id": "d425a65e",
   "metadata": {
    "papermill": {
     "duration": 0.030644,
     "end_time": "2021-07-09T03:31:35.111512",
     "exception": false,
     "start_time": "2021-07-09T03:31:35.080868",
     "status": "completed"
    },
    "tags": []
   },
   "outputs": [],
   "source": [
    "import torch\n",
    "import torch.utils.data as data\n",
    "device = torch.device(\"cpu\") # all of this works in GPU as well :)\n",
    "\n",
    "X_train = torch.Tensor(X).to(device)\n",
    "y_train = torch.LongTensor(yn.long()).to(device)\n",
    "train = data.TensorDataset(X_train, y_train)\n",
    "trainloader = data.DataLoader(train, batch_size=len(X), shuffle=True)"
   ]
  },
  {
   "cell_type": "markdown",
   "id": "e726d21f",
   "metadata": {
    "papermill": {
     "duration": 0.010225,
     "end_time": "2021-07-09T03:31:35.137585",
     "exception": false,
     "start_time": "2021-07-09T03:31:35.127360",
     "status": "completed"
    },
    "tags": []
   },
   "source": [
    "We utilize [Pytorch Lightning](https://github.com/PyTorchLightning/pytorch-lightning) to handle training loops, logging and general bookkeeping. This allows `torchdyn` and Neural Differential Equations to have access to modern best practices for training and experiment reproducibility. \n",
    "\n",
    "In particular, we combine modular `torchdyn` models with `LightningModules` via a `Learner` class:"
   ]
  },
  {
   "cell_type": "code",
   "execution_count": 6,
   "id": "4611c3a1",
   "metadata": {
    "papermill": {
     "duration": 0.031905,
     "end_time": "2021-07-09T03:31:35.179814",
     "exception": false,
     "start_time": "2021-07-09T03:31:35.147909",
     "status": "completed"
    },
    "tags": []
   },
   "outputs": [],
   "source": [
    "import torch.nn as nn\n",
    "import pytorch_lightning as pl\n",
    "\n",
    "class Learner(pl.LightningModule):\n",
    "    def __init__(self, t_span:torch.Tensor, model:nn.Module):\n",
    "        super().__init__()\n",
    "        self.model, self.t_span = model, t_span\n",
    "    \n",
    "    def forward(self, x):\n",
    "        return self.model(x)\n",
    "    \n",
    "    def training_step(self, batch, batch_idx):\n",
    "        x, y = batch      \n",
    "        t_eval, y_hat = self.model(x, t_span)\n",
    "        y_hat = y_hat[-1] # select last point of solution trajectory\n",
    "        loss = nn.CrossEntropyLoss()(y_hat, y)\n",
    "        return {'loss': loss}   \n",
    "    \n",
    "    def configure_optimizers(self):\n",
    "        return torch.optim.Adam(self.model.parameters(), lr=0.01)\n",
    "\n",
    "    def train_dataloader(self):\n",
    "        return trainloader"
   ]
  },
  {
   "cell_type": "markdown",
   "id": "e2c3b359",
   "metadata": {
    "papermill": {
     "duration": 0.010158,
     "end_time": "2021-07-09T03:31:35.203791",
     "exception": false,
     "start_time": "2021-07-09T03:31:35.193633",
     "status": "completed"
    },
    "tags": []
   },
   "source": [
    "## Define a  Neural ODE"
   ]
  },
  {
   "cell_type": "markdown",
   "id": "9de620dd",
   "metadata": {
    "papermill": {
     "duration": 0.010185,
     "end_time": "2021-07-09T03:31:35.224244",
     "exception": false,
     "start_time": "2021-07-09T03:31:35.214059",
     "status": "completed"
    },
    "tags": []
   },
   "source": [
    "Analogously to most forward neural models we want to realize a map \n",
    "\n",
    "$$\n",
    "        x \\mapsto \\hat y\n",
    "$$\n",
    "\n",
    "where  $\\hat y$ becomes the best approximation of a true output $y$ given an input $x$.\n",
    "In torchdyn you can define very simple Neural ODE models of the form \n",
    "\n",
    "$$ \\left\\{\n",
    "    \\begin{aligned}\n",
    "        \\dot{z}(t) &= f(z(t), \\theta)\\\\\n",
    "        z(0) &= x\\\\\n",
    "        \\hat y & = z(1)\n",
    "    \\end{aligned}\n",
    "    \\right. \\quad t\\in[0,1]\n",
    "$$\n",
    "\n",
    "by just specifying a neural network $f$ and giving some simple settings.\n",
    "\n",
    "**Note:** This Neural ODE model is of *depth-invariant* type as neither $f$ explicitly depend on $s$ nor the parameters $\\theta$ are depth-varying. Together with their *depth-variant* counterpart with $s$ concatenated in the vector field was first proposed and implemented by [[Chen T. Q. et al, 2018]](https://arxiv.org/abs/1806.07366)"
   ]
  },
  {
   "cell_type": "markdown",
   "id": "3807a4e5",
   "metadata": {
    "papermill": {
     "duration": 0.01017,
     "end_time": "2021-07-09T03:31:35.244710",
     "exception": false,
     "start_time": "2021-07-09T03:31:35.234540",
     "status": "completed"
    },
    "tags": []
   },
   "source": [
    "### Define the vector field (DEFunc) \n",
    "\n",
    "The first step is to define any PyTorch `torch.nn.Module`. This takes the role of the Neural ODE vector field $f(h,\\theta)$ "
   ]
  },
  {
   "cell_type": "code",
   "execution_count": 16,
   "id": "14134078",
   "metadata": {
    "papermill": {
     "duration": 0.026635,
     "end_time": "2021-07-09T03:31:35.281578",
     "exception": false,
     "start_time": "2021-07-09T03:31:35.254943",
     "status": "completed"
    },
    "tags": []
   },
   "outputs": [],
   "source": [
    "f = nn.Sequential(\n",
    "        nn.Linear(2, 16),\n",
    "        nn.Tanh(),\n",
    "        nn.Linear(16, 2)                       \n",
    "    )\n",
    "t_span = torch.linspace(0, 1, 5)"
   ]
  },
  {
   "cell_type": "markdown",
   "id": "60e751bc",
   "metadata": {
    "papermill": {
     "duration": 0.010293,
     "end_time": "2021-07-09T03:31:35.306778",
     "exception": false,
     "start_time": "2021-07-09T03:31:35.296485",
     "status": "completed"
    },
    "tags": []
   },
   "source": [
    "In this case we chose $f$ to be a simple MLP with one hidden layer and $\\tanh$ activation"
   ]
  },
  {
   "cell_type": "markdown",
   "id": "b344be4e",
   "metadata": {
    "papermill": {
     "duration": 0.010434,
     "end_time": "2021-07-09T03:31:35.327650",
     "exception": false,
     "start_time": "2021-07-09T03:31:35.317216",
     "status": "completed"
    },
    "tags": []
   },
   "source": [
    "### Define the NeuralDE"
   ]
  },
  {
   "cell_type": "markdown",
   "id": "e83a3c13",
   "metadata": {
    "papermill": {
     "duration": 0.010513,
     "end_time": "2021-07-09T03:31:35.348724",
     "exception": false,
     "start_time": "2021-07-09T03:31:35.338211",
     "status": "completed"
    },
    "tags": []
   },
   "source": [
    "The final step to define a Neural ODE is to instantiate the torchdyn's class `NeuralDE` passing some customization arguments and `f` itself.\n",
    "\n",
    "In this case we specify:\n",
    "* we compute backward gradients with the `'adjoint'` method.\n",
    "* we will use the `'dopri5'` (Dormand-Prince) ODE solver from `torchdyn`, with no additional options;"
   ]
  },
  {
   "cell_type": "code",
   "execution_count": 17,
   "id": "b1e56617",
   "metadata": {
    "papermill": {
     "duration": 0.023707,
     "end_time": "2021-07-09T03:31:35.383043",
     "exception": false,
     "start_time": "2021-07-09T03:31:35.359336",
     "status": "completed"
    },
    "tags": []
   },
   "outputs": [
    {
     "name": "stdout",
     "output_type": "stream",
     "text": [
      "Your vector field callable (nn.Module) should have both time `t` and state `x` as arguments, we've wrapped it for you.\n"
     ]
    }
   ],
   "source": [
    "model = NeuralODE(f, sensitivity='adjoint', solver='dopri5').to(device)"
   ]
  },
  {
   "cell_type": "markdown",
   "id": "1ea41473",
   "metadata": {
    "papermill": {
     "duration": 0.010626,
     "end_time": "2021-07-09T03:31:35.404283",
     "exception": false,
     "start_time": "2021-07-09T03:31:35.393657",
     "status": "completed"
    },
    "tags": []
   },
   "source": [
    "## Train the Model"
   ]
  },
  {
   "cell_type": "markdown",
   "id": "3a186183",
   "metadata": {
    "papermill": {
     "duration": 0.010591,
     "end_time": "2021-07-09T03:31:35.425820",
     "exception": false,
     "start_time": "2021-07-09T03:31:35.415229",
     "status": "completed"
    },
    "tags": [
     "dry-run"
    ]
   },
   "source": [
    "With the same forward method of `NeuralDE` objects you can quickly evaluate the entire trajectory of each data point in `X_train` on an interval `t_span`"
   ]
  },
  {
   "cell_type": "code",
   "execution_count": 18,
   "id": "ded3187e",
   "metadata": {
    "papermill": {
     "duration": 0.392432,
     "end_time": "2021-07-09T03:31:35.829101",
     "exception": false,
     "start_time": "2021-07-09T03:31:35.436669",
     "status": "completed"
    },
    "tags": []
   },
   "outputs": [],
   "source": [
    "t_span = torch.linspace(0,1,100)\n",
    "t_eval, trajectory = model(X_train, t_span)\n",
    "trajectory = trajectory.detach().cpu()"
   ]
  },
  {
   "cell_type": "markdown",
   "id": "9e598baf",
   "metadata": {
    "papermill": {
     "duration": 0.010763,
     "end_time": "2021-07-09T03:31:35.851608",
     "exception": false,
     "start_time": "2021-07-09T03:31:35.840845",
     "status": "completed"
    },
    "tags": []
   },
   "source": [
    "The numerical method used to solve a `NeuralODE` have great effect on its speed. Try retraining with the following"
   ]
  },
  {
   "cell_type": "code",
   "execution_count": 23,
   "id": "bf0b1543",
   "metadata": {
    "papermill": {
     "duration": 0.698538,
     "end_time": "2021-07-09T03:31:36.561040",
     "exception": false,
     "start_time": "2021-07-09T03:31:35.862502",
     "status": "completed"
    },
    "tags": []
   },
   "outputs": [
    {
     "name": "stderr",
     "output_type": "stream",
     "text": [
      "GPU available: True, used: False\n",
      "TPU available: False, using: 0 TPU cores\n",
      "\n",
      "  | Name  | Type      | Params\n",
      "------------------------------------\n",
      "0 | model | NeuralODE | 82    \n",
      "------------------------------------\n",
      "82        Trainable params\n",
      "0         Non-trainable params\n",
      "82        Total params\n",
      "0.000     Total estimated model params size (MB)\n"
     ]
    },
    {
     "name": "stdout",
     "output_type": "stream",
     "text": [
      "Your vector field callable (nn.Module) should have both time `t` and state `x` as arguments, we've wrapped it for you.\n"
     ]
    },
    {
     "data": {
      "application/vnd.jupyter.widget-view+json": {
       "model_id": "a5ff6c356cca436ebf8e07ebdeb70fac",
       "version_major": 2,
       "version_minor": 0
      },
      "text/plain": [
       "Training: 0it [00:00, ?it/s]"
      ]
     },
     "metadata": {},
     "output_type": "display_data"
    }
   ],
   "source": [
    "f = nn.Sequential(\n",
    "        nn.Linear(2, 16),\n",
    "        nn.Tanh(),\n",
    "        nn.Linear(16, 2)                       \n",
    "    )\n",
    "\n",
    "model = NeuralODE(f, sensitivity='adjoint', solver='rk4', solver_adjoint='dopri5', atol_adjoint=1e-4, rtol_adjoint=1e-4).to(device)\n",
    "\n",
    "learn = Learner(t_span, model)\n",
    "if dry_run: trainer = pl.Trainer(min_epochs=1, max_epochs=1)\n",
    "else: trainer = pl.Trainer(min_epochs=200, max_epochs=300)\n",
    "trainer.fit(learn)"
   ]
  },
  {
   "cell_type": "markdown",
   "id": "a117e662",
   "metadata": {
    "papermill": {
     "duration": 0.011771,
     "end_time": "2021-07-09T03:31:36.585954",
     "exception": false,
     "start_time": "2021-07-09T03:31:36.574183",
     "status": "completed"
    },
    "tags": []
   },
   "source": [
    "### Plot the Training Results"
   ]
  },
  {
   "cell_type": "markdown",
   "id": "f700fcfe",
   "metadata": {
    "papermill": {
     "duration": 0.011818,
     "end_time": "2021-07-09T03:31:36.609633",
     "exception": false,
     "start_time": "2021-07-09T03:31:36.597815",
     "status": "completed"
    },
    "tags": []
   },
   "source": [
    "We can first plot the trajectories of the data points in the depth domain $s$"
   ]
  },
  {
   "cell_type": "code",
   "execution_count": 24,
   "id": "04148d3a-2f1d-4fb3-9602-8263a08fec25",
   "metadata": {},
   "outputs": [],
   "source": [
    "t_eval, trajectory = model(X_train, t_span)\n",
    "trajectory = trajectory.detach().cpu()"
   ]
  },
  {
   "cell_type": "code",
   "execution_count": 25,
   "id": "55454689",
   "metadata": {
    "papermill": {
     "duration": 1.448812,
     "end_time": "2021-07-09T03:31:38.070488",
     "exception": false,
     "start_time": "2021-07-09T03:31:36.621676",
     "status": "completed"
    },
    "tags": []
   },
   "outputs": [
    {
     "data": {
      "text/plain": [
       "Text(0.5, 1.0, 'Dimension 1')"
      ]
     },
     "execution_count": 25,
     "metadata": {},
     "output_type": "execute_result"
    },
    {
     "data": {
      "image/png": "[encoded data removed]",
      "text/plain": [
       "<Figure size 720x144 with 2 Axes>"
      ]
     },
     "metadata": {
      "needs_background": "light"
     },
     "output_type": "display_data"
    }
   ],
   "source": [
    "color=['orange', 'blue']\n",
    "\n",
    "fig = plt.figure(figsize=(10,2))\n",
    "ax0 = fig.add_subplot(121)\n",
    "ax1 = fig.add_subplot(122)\n",
    "for i in range(500):\n",
    "    ax0.plot(t_span, trajectory[:,i,0], color=color[int(yn[i])], alpha=.1);\n",
    "    ax1.plot(t_span, trajectory[:,i,1], color=color[int(yn[i])], alpha=.1);\n",
    "ax0.set_xlabel(r\"$t$ [Depth]\") ; ax0.set_ylabel(r\"$h_0(t)$\")\n",
    "ax1.set_xlabel(r\"$t$ [Depth]\") ; ax1.set_ylabel(r\"$z_1(t)$\")\n",
    "ax0.set_title(\"Dimension 0\") ; ax1.set_title(\"Dimension 1\")"
   ]
  },
  {
   "cell_type": "markdown",
   "id": "7aa5ffac",
   "metadata": {
    "papermill": {
     "duration": 0.012306,
     "end_time": "2021-07-09T03:31:38.099980",
     "exception": false,
     "start_time": "2021-07-09T03:31:38.087674",
     "status": "completed"
    },
    "tags": []
   },
   "source": [
    "Then the trajectory in the *state-space*"
   ]
  },
  {
   "cell_type": "markdown",
   "id": "b160381b",
   "metadata": {
    "papermill": {
     "duration": 0.04031,
     "end_time": "2021-07-09T03:31:38.152813",
     "exception": false,
     "start_time": "2021-07-09T03:31:38.112503",
     "status": "completed"
    },
    "tags": []
   },
   "source": [
    "As you can see, the Neural ODE steers the data-points into regions of null loss with a continuous flow in the depth domain. Finally, we can also plot the learned vector field $f$"
   ]
  },
  {
   "cell_type": "code",
   "execution_count": 26,
   "id": "896684ac",
   "metadata": {
    "papermill": {
     "duration": 0.68942,
     "end_time": "2021-07-09T03:31:38.855071",
     "exception": false,
     "start_time": "2021-07-09T03:31:38.165651",
     "status": "completed"
    },
    "tags": []
   },
   "outputs": [
    {
     "data": {
      "text/plain": [
       "<matplotlib.contour.QuadContourSet at 0x7f11ed2d5e50>"
      ]
     },
     "execution_count": 26,
     "metadata": {},
     "output_type": "execute_result"
    },
    {
     "data": {
      "image/png": "[encoded data removed]",
      "text/plain": [
       "<Figure size 288x288 with 1 Axes>"
      ]
     },
     "metadata": {
      "needs_background": "light"
     },
     "output_type": "display_data"
    }
   ],
   "source": [
    "# evaluate vector field\n",
    "n_pts = 50\n",
    "x = torch.linspace(trajectory[:,:,0].min(), trajectory[:,:,0].max(), n_pts)\n",
    "y = torch.linspace(trajectory[:,:,1].min(), trajectory[:,:,1].max(), n_pts)\n",
    "X, Y = torch.meshgrid(x, y) ; z = torch.cat([X.reshape(-1,1), Y.reshape(-1,1)], 1)\n",
    "f = model.vf(0,z.to(device)).cpu().detach()\n",
    "fx, fy = f[:,0], f[:,1] ; fx, fy = fx.reshape(n_pts , n_pts), fy.reshape(n_pts, n_pts)\n",
    "# plot vector field and its intensity\n",
    "fig = plt.figure(figsize=(4, 4)) ; ax = fig.add_subplot(111)\n",
    "ax.streamplot(X.numpy().T, Y.numpy().T, fx.numpy().T, fy.numpy().T, color='black')\n",
    "ax.contourf(X.T, Y.T, torch.sqrt(fx.T**2+fy.T**2), cmap='RdYlBu')"
   ]
  },
  {
   "cell_type": "markdown",
   "id": "f1e50ea5",
   "metadata": {
    "papermill": {
     "duration": 0.013755,
     "end_time": "2021-07-09T03:31:38.886832",
     "exception": false,
     "start_time": "2021-07-09T03:31:38.873077",
     "status": "completed"
    },
    "tags": []
   },
   "source": [
    "**Sweet! You trained your first Neural ODEs! Now you can proceed and learn about more advanced models with the next tutorials**"
   ]
  },
  {
   "cell_type": "markdown",
   "id": "26b57fe0-a77a-4b71-ac6a-963b027b6608",
   "metadata": {},
   "source": [
    "## More about `torchdyn`\n"
   ]
  },
  {
   "cell_type": "code",
   "execution_count": 46,
   "id": "dac37954-da39-45d4-950a-21e49858b270",
   "metadata": {},
   "outputs": [],
   "source": [
    "import time\n",
    "from torchdyn.numerics import Euler, RungeKutta4, Tsitouras45, DormandPrince45, MSZero, Euler, HyperEuler\n",
    "from torchdyn.numerics import odeint, odeint_mshooting, Lorenz\n",
    "from torchdyn.core import ODEProblem, MultipleShootingProblem"
   ]
  },
  {
   "cell_type": "markdown",
   "id": "7f2ba1ad-d2e5-458e-95a3-e2aaf3e0c8ac",
   "metadata": {},
   "source": [
    "But wait! `torchdyn` has way more than `NeuralODEs`. If you wish to solve generic differential equations parallelizable both in space (initial conditions) as well in time, with parallel, but do not need neural networks inside the vector field, you can use our functional API like so:"
   ]
  },
  {
   "cell_type": "code",
   "execution_count": 47,
   "id": "1b888ba6-c0cf-450f-995c-d74ebed81a05",
   "metadata": {},
   "outputs": [],
   "source": [
    "x0 = torch.randn(8, 3) + 15\n",
    "t_span = torch.linspace(0, 3, 2000)\n",
    "sys = Lorenz()"
   ]
  },
  {
   "cell_type": "code",
   "execution_count": 48,
   "id": "664fa60d-16b5-444b-9e2f-0f1323d8e8d4",
   "metadata": {},
   "outputs": [],
   "source": [
    "t0 = time.time()\n",
    "t_eval, accurate_sol = odeint(sys, x0, t_span, solver='dopri5', atol=1e-6, rtol=1e-6)\n",
    "accurate_sol_time = time.time() - t0\n",
    "\n",
    "t0 = time.time()\n",
    "t_eval, base_sol = odeint(sys, x0, t_span, solver='euler')\n",
    "base_sol_time = time.time() - t0\n",
    "\n",
    "t0 = time.time()\n",
    "t_eval, rk4_sol = odeint(sys, x0, t_span, solver='rk4')\n",
    "rk4_sol_time = time.time() - t0\n",
    "\n",
    "t0 = time.time()\n",
    "t_eval, dp5_low_sol = odeint(sys, x0, t_span, solver='dopri5', atol=1e-3, rtol=1e-3)\n",
    "dp5_low_time = time.time() - t0\n",
    "\n",
    "t0 = time.time()\n",
    "t_eval, ms_sol = odeint_mshooting(sys, x0, t_span, solver='mszero', fine_steps=2, maxiter=4)\n",
    "ms_sol_time = time.time() - t0"
   ]
  },
  {
   "cell_type": "markdown",
   "id": "8725efa0-49b1-407d-a8c2-b77373427c11",
   "metadata": {},
   "source": [
    "Alternatively, you can wrap your vector field in a specific `*Problem` to perform sensitivity analysis and optimize for terminal as well as integral objectives:"
   ]
  },
  {
   "cell_type": "code",
   "execution_count": 52,
   "id": "f8aee2cb-2a3b-4681-bc80-578a79155eee",
   "metadata": {},
   "outputs": [],
   "source": [
    "prob = ODEProblem(sys, sensitivity='interpolated_adjoint', solver='dopri5', atol=1e-3, rtol=1e-3, \n",
    "                  solver_adjoint='tsit5', atol_adjoint=1e-3, rtol_adjoint=1e-3)\n",
    "t0 = time.time()\n",
    "t_eval, sol_torchdyn = prob.odeint(x0, t_span)\n",
    "t_end1 = time.time() - t0"
   ]
  },
  {
   "cell_type": "markdown",
   "id": "089902c8-8313-4021-990a-3cec048f9224",
   "metadata": {},
   "source": [
    "Our numerics suite includes other tools, such as a `odeint_hybrid` for hybrid systems (potentially stochastic and multi-mode). We have built our numerics suite from the ground up to be compatible with hybridized methods such as hypersolvers, where a base solver works in tandem with neural approximators to increase accuracy while retaining improved extrapolation capabilities. In fact, these methods can be called from the same API:"
   ]
  },
  {
   "cell_type": "code",
   "execution_count": 40,
   "id": "0889b770-f4b4-457d-8d86-a3fa03897f3d",
   "metadata": {},
   "outputs": [],
   "source": [
    "class VanillaHyperNet(nn.Module):\n",
    "    def __init__(self, net):\n",
    "        super().__init__()\n",
    "        self.net = net\n",
    "        for p in self.net.parameters():\n",
    "            torch.nn.init.uniform_(p, 0, 1e-5)\n",
    "    def forward(self, t, x):\n",
    "        return self.net(x)"
   ]
  },
  {
   "cell_type": "code",
   "execution_count": 43,
   "id": "297abee4-ca3d-4b94-8a6d-011d294cc987",
   "metadata": {},
   "outputs": [],
   "source": [
    "net = nn.Sequential(nn.Linear(3, 64), nn.Softplus(), nn.Linear(64, 64), nn.Softplus(), nn.Linear(64, 3))\n",
    "hypersolver = HyperEuler(VanillaHyperNet(net))\n",
    "t_eval, sol = odeint(sys, x0, t_span, solver=hypersolver) # note: this has to be trained!"
   ]
  },
  {
   "cell_type": "markdown",
   "id": "3360d6ab-927e-4cc1-8e4f-7d2304a39e1f",
   "metadata": {},
   "source": [
    "We also provide an extensive set of tutorial subdivided into modules. Each tutorials deals with a specific aspect of continuous or implicit models, or showcases applications (control, generative modeling, forecasting, optimal control of ODEs and PDEs, graph node classification). Check `torchdyn/tutorials` for more information."
   ]
  }
 ],
 "metadata": {
  "kernelspec": {
   "display_name": "torchdyn",
   "language": "python",
   "name": "torchdyn"
  },
  "language_info": {
   "codemirror_mode": {
    "name": "ipython",
    "version": 3
   },
   "file_extension": ".py",
   "mimetype": "text/x-python",
   "name": "python",
   "nbconvert_exporter": "python",
   "pygments_lexer": "ipython3",
   "version": "3.8.8"
  },
  "latex_envs": {
   "LaTeX_envs_menu_present": true,
   "autoclose": false,
   "autocomplete": true,
   "bibliofile": "biblio.bib",
   "cite_by": "apalike",
   "current_citInitial": 1,
   "eqLabelWithNumbers": true,
   "eqNumInitial": 1,
   "hotkeys": {
    "equation": "Ctrl-E",
    "itemize": "Ctrl-I"
   },
   "labels_anchors": false,
   "latex_user_defs": false,
   "report_style_numbering": false,
   "user_envs_cfg": false
  },
  "papermill": {
   "default_parameters": {},
   "duration": 10.151894,
   "end_time": "2021-07-09T03:31:40.350777",
   "environment_variables": {},
   "exception": null,
   "input_path": "tutorials/00_quickstart.ipynb",
   "output_path": "tutorials/00_quickstart.ipynb",
   "parameters": {
    "dry_run": true
   },
   "start_time": "2021-07-09T03:31:30.198883",
   "version": "2.3.3"
  },
  "varInspector": {
   "cols": {
    "lenName": 16,
    "lenType": 16,
    "lenVar": 40
   },
   "kernels_config": {
    "python": {
     "delete_cmd_postfix": "",
     "delete_cmd_prefix": "del ",
     "library": "var_list.py",
     "varRefreshCmd": "print(var_dic_list())"
    },
    "r": {
     "delete_cmd_postfix": ") ",
     "delete_cmd_prefix": "rm(",
     "library": "var_list.r",
     "varRefreshCmd": "cat(var_dic_list()) "
    }
   },
   "types_to_exclude": [
    "module",
    "function",
    "builtin_function_or_method",
    "instance",
    "_Feature"
   ],
   "window_display": false
  },
  "widgets": {
   "application/vnd.jupyter.widget-state+json": {
    "state": {
     "07975a6e31ee4c66a3cc106d186bd56f": {
      "model_module": "@jupyter-widgets/controls",
      "model_module_version": "1.5.0",
      "model_name": "HBoxModel",
      "state": {
       "_dom_classes": [],
       "_model_module": "@jupyter-widgets/controls",
       "_model_module_version": "1.5.0",
       "_model_name": "HBoxModel",
       "_view_count": null,
       "_view_module": "@jupyter-widgets/controls",
       "_view_module_version": "1.5.0",
       "_view_name": "HBoxView",
       "box_style": "",
       "children": [
        "IPY_MODEL_56c92ef6e3e7474b93f6eb20cbd0b089",
        "IPY_MODEL_c5899dd447b84596852825836e34e5a3",
        "IPY_MODEL_fbacffce53db49a688c31ad9513565da"
       ],
       "layout": "IPY_MODEL_487b0a3607b44f349885ac1a4389eeff"
      }
     },
     "0b79da9cb3c34a9cbe596919c9aec91d": {
      "model_module": "@jupyter-widgets/base",
      "model_module_version": "1.2.0",
      "model_name": "LayoutModel",
      "state": {
       "_model_module": "@jupyter-widgets/base",
       "_model_module_version": "1.2.0",
       "_model_name": "LayoutModel",
       "_view_count": null,
       "_view_module": "@jupyter-widgets/base",
       "_view_module_version": "1.2.0",
       "_view_name": "LayoutView",
       "align_content": null,
       "align_items": null,
       "align_self": null,
       "border": null,
       "bottom": null,
       "display": null,
       "flex": "2",
       "flex_flow": null,
       "grid_area": null,
       "grid_auto_columns": null,
       "grid_auto_flow": null,
       "grid_auto_rows": null,
       "grid_column": null,
       "grid_gap": null,
       "grid_row": null,
       "grid_template_areas": null,
       "grid_template_columns": null,
       "grid_template_rows": null,
       "height": null,
       "justify_content": null,
       "justify_items": null,
       "left": null,
       "margin": null,
       "max_height": null,
       "max_width": null,
       "min_height": null,
       "min_width": null,
       "object_fit": null,
       "object_position": null,
       "order": null,
       "overflow": null,
       "overflow_x": null,
       "overflow_y": null,
       "padding": null,
       "right": null,
       "top": null,
       "visibility": null,
       "width": null
      }
     },
     "1f986ced11984b94a0f1b630f37ff899": {
      "model_module": "@jupyter-widgets/controls",
      "model_module_version": "1.5.0",
      "model_name": "DescriptionStyleModel",
      "state": {
       "_model_module": "@jupyter-widgets/controls",
       "_model_module_version": "1.5.0",
       "_model_name": "DescriptionStyleModel",
       "_view_count": null,
       "_view_module": "@jupyter-widgets/base",
       "_view_module_version": "1.2.0",
       "_view_name": "StyleView",
       "description_width": ""
      }
     },
     "487b0a3607b44f349885ac1a4389eeff": {
      "model_module": "@jupyter-widgets/base",
      "model_module_version": "1.2.0",
      "model_name": "LayoutModel",
      "state": {
       "_model_module": "@jupyter-widgets/base",
       "_model_module_version": "1.2.0",
       "_model_name": "LayoutModel",
       "_view_count": null,
       "_view_module": "@jupyter-widgets/base",
       "_view_module_version": "1.2.0",
       "_view_name": "LayoutView",
       "align_content": null,
       "align_items": null,
       "align_self": null,
       "border": null,
       "bottom": null,
       "display": "inline-flex",
       "flex": null,
       "flex_flow": "row wrap",
       "grid_area": null,
       "grid_auto_columns": null,
       "grid_auto_flow": null,
       "grid_auto_rows": null,
       "grid_column": null,
       "grid_gap": null,
       "grid_row": null,
       "grid_template_areas": null,
       "grid_template_columns": null,
       "grid_template_rows": null,
       "height": null,
       "justify_content": null,
       "justify_items": null,
       "left": null,
       "margin": null,
       "max_height": null,
       "max_width": null,
       "min_height": null,
       "min_width": null,
       "object_fit": null,
       "object_position": null,
       "order": null,
       "overflow": null,
       "overflow_x": null,
       "overflow_y": null,
       "padding": null,
       "right": null,
       "top": null,
       "visibility": null,
       "width": "100%"
      }
     },
     "56c92ef6e3e7474b93f6eb20cbd0b089": {
      "model_module": "@jupyter-widgets/controls",
      "model_module_version": "1.5.0",
      "model_name": "HTMLModel",
      "state": {
       "_dom_classes": [],
       "_model_module": "@jupyter-widgets/controls",
       "_model_module_version": "1.5.0",
       "_model_name": "HTMLModel",
       "_view_count": null,
       "_view_module": "@jupyter-widgets/controls",
       "_view_module_version": "1.5.0",
       "_view_name": "HTMLView",
       "description": "",
       "description_tooltip": null,
       "layout": "IPY_MODEL_850002b7b02b4a48a1e1737044dfd673",
       "placeholder": "​",
       "style": "IPY_MODEL_f3480ca824214a3a8aafbda4a6361189",
       "value": "Epoch 0: 100%"
      }
     },
     "850002b7b02b4a48a1e1737044dfd673": {
      "model_module": "@jupyter-widgets/base",
      "model_module_version": "1.2.0",
      "model_name": "LayoutModel",
      "state": {
       "_model_module": "@jupyter-widgets/base",
       "_model_module_version": "1.2.0",
       "_model_name": "LayoutModel",
       "_view_count": null,
       "_view_module": "@jupyter-widgets/base",
       "_view_module_version": "1.2.0",
       "_view_name": "LayoutView",
       "align_content": null,
       "align_items": null,
       "align_self": null,
       "border": null,
       "bottom": null,
       "display": null,
       "flex": null,
       "flex_flow": null,
       "grid_area": null,
       "grid_auto_columns": null,
       "grid_auto_flow": null,
       "grid_auto_rows": null,
       "grid_column": null,
       "grid_gap": null,
       "grid_row": null,
       "grid_template_areas": null,
       "grid_template_columns": null,
       "grid_template_rows": null,
       "height": null,
       "justify_content": null,
       "justify_items": null,
       "left": null,
       "margin": null,
       "max_height": null,
       "max_width": null,
       "min_height": null,
       "min_width": null,
       "object_fit": null,
       "object_position": null,
       "order": null,
       "overflow": null,
       "overflow_x": null,
       "overflow_y": null,
       "padding": null,
       "right": null,
       "top": null,
       "visibility": null,
       "width": null
      }
     },
     "a23b47f3424a4b74bc68b8027d1fdb6e": {
      "model_module": "@jupyter-widgets/controls",
      "model_module_version": "1.5.0",
      "model_name": "ProgressStyleModel",
      "state": {
       "_model_module": "@jupyter-widgets/controls",
       "_model_module_version": "1.5.0",
       "_model_name": "ProgressStyleModel",
       "_view_count": null,
       "_view_module": "@jupyter-widgets/base",
       "_view_module_version": "1.2.0",
       "_view_name": "StyleView",
       "bar_color": null,
       "description_width": ""
      }
     },
     "c5899dd447b84596852825836e34e5a3": {
      "model_module": "@jupyter-widgets/controls",
      "model_module_version": "1.5.0",
      "model_name": "FloatProgressModel",
      "state": {
       "_dom_classes": [],
       "_model_module": "@jupyter-widgets/controls",
       "_model_module_version": "1.5.0",
       "_model_name": "FloatProgressModel",
       "_view_count": null,
       "_view_module": "@jupyter-widgets/controls",
       "_view_module_version": "1.5.0",
       "_view_name": "ProgressView",
       "bar_style": "success",
       "description": "",
       "description_tooltip": null,
       "layout": "IPY_MODEL_0b79da9cb3c34a9cbe596919c9aec91d",
       "max": 1,
       "min": 0,
       "orientation": "horizontal",
       "style": "IPY_MODEL_a23b47f3424a4b74bc68b8027d1fdb6e",
       "value": 1
      }
     },
     "db1ec9f8e21749708ab1cd73bca4b037": {
      "model_module": "@jupyter-widgets/base",
      "model_module_version": "1.2.0",
      "model_name": "LayoutModel",
      "state": {
       "_model_module": "@jupyter-widgets/base",
       "_model_module_version": "1.2.0",
       "_model_name": "LayoutModel",
       "_view_count": null,
       "_view_module": "@jupyter-widgets/base",
       "_view_module_version": "1.2.0",
       "_view_name": "LayoutView",
       "align_content": null,
       "align_items": null,
       "align_self": null,
       "border": null,
       "bottom": null,
       "display": null,
       "flex": null,
       "flex_flow": null,
       "grid_area": null,
       "grid_auto_columns": null,
       "grid_auto_flow": null,
       "grid_auto_rows": null,
       "grid_column": null,
       "grid_gap": null,
       "grid_row": null,
       "grid_template_areas": null,
       "grid_template_columns": null,
       "grid_template_rows": null,
       "height": null,
       "justify_content": null,
       "justify_items": null,
       "left": null,
       "margin": null,
       "max_height": null,
       "max_width": null,
       "min_height": null,
       "min_width": null,
       "object_fit": null,
       "object_position": null,
       "order": null,
       "overflow": null,
       "overflow_x": null,
       "overflow_y": null,
       "padding": null,
       "right": null,
       "top": null,
       "visibility": null,
       "width": null
      }
     },
     "f3480ca824214a3a8aafbda4a6361189": {
      "model_module": "@jupyter-widgets/controls",
      "model_module_version": "1.5.0",
      "model_name": "DescriptionStyleModel",
      "state": {
       "_model_module": "@jupyter-widgets/controls",
       "_model_module_version": "1.5.0",
       "_model_name": "DescriptionStyleModel",
       "_view_count": null,
       "_view_module": "@jupyter-widgets/base",
       "_view_module_version": "1.2.0",
       "_view_name": "StyleView",
       "description_width": ""
      }
     },
     "fbacffce53db49a688c31ad9513565da": {
      "model_module": "@jupyter-widgets/controls",
      "model_module_version": "1.5.0",
      "model_name": "HTMLModel",
      "state": {
       "_dom_classes": [],
       "_model_module": "@jupyter-widgets/controls",
       "_model_module_version": "1.5.0",
       "_model_name": "HTMLModel",
       "_view_count": null,
       "_view_module": "@jupyter-widgets/controls",
       "_view_module_version": "1.5.0",
       "_view_name": "HTMLView",
       "description": "",
       "description_tooltip": null,
       "layout": "IPY_MODEL_db1ec9f8e21749708ab1cd73bca4b037",
       "placeholder": "​",
       "style": "IPY_MODEL_1f986ced11984b94a0f1b630f37ff899",
       "value": " 1/1 [00:00&lt;00:00,  1.64it/s, loss=1.17, v_num=300]"
      }
     }
    },
    "version_major": 2,
    "version_minor": 0
   }
  }
 },
 "nbformat": 4,
 "nbformat_minor": 5
}
