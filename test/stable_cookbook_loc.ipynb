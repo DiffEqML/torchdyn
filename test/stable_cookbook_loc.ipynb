{
 "cells": [
  {
   "cell_type": "code",
   "execution_count": 1,
   "metadata": {},
   "outputs": [],
   "source": [
    "import sys\n",
    "sys.path.append('../')"
   ]
  },
  {
   "cell_type": "code",
   "execution_count": null,
   "metadata": {},
   "outputs": [],
   "source": [
    "from torchdyn.models import *\n",
    "from torchdyn import *\n",
    "from torchdyn.datasets import *"
   ]
  },
  {
   "cell_type": "markdown",
   "metadata": {},
   "source": [
    "**Data:** we use again the moons dataset (with some added noise) simply because all the models will be effective to solve the binary classification problem.\n",
    "\n"
   ]
  },
  {
   "cell_type": "code",
   "execution_count": 3,
   "metadata": {},
   "outputs": [],
   "source": [
    "d = ToyDataset()\n",
    "X, yn = d.generate(n_samples=256, dataset_type='moons', noise=.4)"
   ]
  },
  {
   "cell_type": "code",
   "execution_count": 4,
   "metadata": {},
   "outputs": [
    {
     "data": {
      "image/png": "[encoded data removed]",
      "text/plain": [
       "<Figure size 216x216 with 1 Axes>"
      ]
     },
     "metadata": {
      "needs_background": "light"
     },
     "output_type": "display_data"
    }
   ],
   "source": [
    "import matplotlib.pyplot as plt\n",
    "\n",
    "colors = ['orange', 'blue'] \n",
    "fig = plt.figure(figsize=(3,3))\n",
    "ax = fig.add_subplot(111)\n",
    "for i in range(len(X)):\n",
    "    ax.scatter(X[i,0], X[i,1], color=colors[yn[i].int()])"
   ]
  },
  {
   "cell_type": "code",
   "execution_count": 5,
   "metadata": {},
   "outputs": [],
   "source": [
    "import torch\n",
    "import torch.utils.data as data\n",
    "device = torch.device(\"cuda:0\" if torch.cuda.is_available() else \"cpu\")\n",
    "\n",
    "X_train = torch.Tensor(X).to(device)\n",
    "y_train = torch.LongTensor(yn.long()).to(device)\n",
    "train = data.TensorDataset(X_train, y_train)\n",
    "trainloader = data.DataLoader(train, batch_size=len(X), shuffle=False)"
   ]
  },
  {
   "cell_type": "markdown",
   "metadata": {},
   "source": [
    "**Learner**"
   ]
  },
  {
   "cell_type": "code",
   "execution_count": 6,
   "metadata": {},
   "outputs": [],
   "source": [
    "import torch.nn as nn\n",
    "import pytorch_lightning as pl\n",
    "\n",
    "class Learner(pl.LightningModule):\n",
    "    def __init__(self, model:nn.Module): #settings:dict={}):\n",
    "        super().__init__()\n",
    "        #defaults.update(settings)\n",
    "        #self.settings = defaults\n",
    "        self.model = model\n",
    "        self.c = 0\n",
    "    \n",
    "    def forward(self, x):\n",
    "        return self.model(x)\n",
    "    \n",
    "    def training_step(self, batch, batch_idx):\n",
    "        x, y = batch \n",
    "        y_hat = self.model(x)  \n",
    "        loss = nn.CrossEntropyLoss()(y_hat, y)\n",
    "        logs = {'train_loss': loss}\n",
    "        return {'loss': loss, 'log': logs}   \n",
    "    \n",
    "    def configure_optimizers(self):\n",
    "        return torch.optim.Adam(self.model.parameters(), lr=0.01)\n",
    "\n",
    "    def train_dataloader(self):\n",
    "        return trainloader"
   ]
  },
  {
   "cell_type": "code",
   "execution_count": 7,
   "metadata": {},
   "outputs": [],
   "source": [
    "from torch.autograd import grad as grad"
   ]
  },
  {
   "cell_type": "code",
   "execution_count": 8,
   "metadata": {},
   "outputs": [],
   "source": [
    "import pdb\n",
    "class intloss(nn.Module):\n",
    "    def __init__(self, f):\n",
    "        super().__init__()\n",
    "        self.f = f\n",
    "    def forward(self, x):\n",
    "        #x.requires_grad_(True)\n",
    "        loss = 1e-4*torch.abs(self.f(x)).sum(1) #grad(self.f(s, x), x, create_graph=True\n",
    "        return loss"
   ]
  },
  {
   "cell_type": "code",
   "execution_count": 9,
   "metadata": {},
   "outputs": [],
   "source": [
    "from torch.autograd.functional import jacobian as jac\n",
    "class Stable2(nn.Module):\n",
    "    \"\"\"Stable Neural Flow\"\"\"\n",
    "    def __init__(self, net, depthvar=False):\n",
    "        super().__init__()\n",
    "        self.net, self.depthvar = net, depthvar\n",
    "\n",
    "    def forward(self, x):\n",
    "        bs, n = x.shape[0], x.shape[1] // 2\n",
    "        out = -jac(self.net, x.requires_grad_(True), create_graph=True)[range(bs), :, range(bs), :]\n",
    "        return out[:,:-1] if self.depthvar else out"
   ]
  },
  {
   "cell_type": "code",
   "execution_count": 10,
   "metadata": {},
   "outputs": [],
   "source": [
    "class Stable(nn.Module):\n",
    "    \"\"\"Stable Neural Flow\"\"\"\n",
    "    def __init__(self, net, depthvar=False, controlled=False):\n",
    "        super().__init__()\n",
    "        self.net, self.depthvar, self.controlled = net, depthvar, controlled\n",
    "\n",
    "    def forward(self, x):\n",
    "        with torch.set_grad_enabled(True):\n",
    "            bs, n = x.shape[0], x.shape[1] // 2\n",
    "            x = x.requires_grad_(True)\n",
    "            eps = self.net(x).sum()\n",
    "            out = -torch.autograd.grad(eps, x, allow_unused=False, create_graph=True)[0] \n",
    "            #self.out = out\n",
    "        out = out[:,:-1] if self.depthvar else out\n",
    "        out = out[:,:-2] if self.controlled else out\n",
    "        return out"
   ]
  },
  {
   "cell_type": "code",
   "execution_count": 153,
   "metadata": {},
   "outputs": [
    {
     "name": "stderr",
     "output_type": "stream",
     "text": [
      "GPU available: True, used: False\n",
      "No environment variable for node rank defined. Set as 0.\n",
      "\n",
      "   | Name                       | Type       | Params\n",
      "------------------------------------------------------\n",
      "0  | model                      | Sequential | 540   \n",
      "1  | model.0                    | NeuralDE   | 540   \n",
      "2  | model.0.defunc             | DEFunc     | 540   \n",
      "3  | model.0.defunc.m           | Sequential | 540   \n",
      "4  | model.0.defunc.m.0         | Sequential | 135   \n",
      "5  | model.0.defunc.m.0.0       | Stable     | 129   \n",
      "6  | model.0.defunc.m.0.0.net   | Sequential | 129   \n",
      "7  | model.0.defunc.m.0.0.net.0 | Linear     | 96    \n",
      "8  | model.0.defunc.m.0.0.net.1 | Tanh       | 0     \n",
      "9  | model.0.defunc.m.0.0.net.2 | Linear     | 33    \n",
      "10 | model.0.defunc.m.0.0.net.3 | Sigmoid    | 0     \n",
      "11 | model.0.defunc.m.0.1       | Linear     | 6     \n",
      "12 | model.0.defunc.m.1         | Sequential | 135   \n",
      "13 | model.0.defunc.m.1.0       | Stable     | 129   \n",
      "14 | model.0.defunc.m.1.0.net   | Sequential | 129   \n",
      "15 | model.0.defunc.m.1.0.net.0 | Linear     | 96    \n",
      "16 | model.0.defunc.m.1.0.net.1 | Tanh       | 0     \n",
      "17 | model.0.defunc.m.1.0.net.2 | Linear     | 33    \n",
      "18 | model.0.defunc.m.1.0.net.3 | Sigmoid    | 0     \n",
      "19 | model.0.defunc.m.1.1       | Linear     | 6     \n",
      "20 | model.0.defunc.m.2         | Sequential | 135   \n",
      "21 | model.0.defunc.m.2.0       | Stable     | 129   \n",
      "22 | model.0.defunc.m.2.0.net   | Sequential | 129   \n",
      "23 | model.0.defunc.m.2.0.net.0 | Linear     | 96    \n",
      "24 | model.0.defunc.m.2.0.net.1 | Tanh       | 0     \n",
      "25 | model.0.defunc.m.2.0.net.2 | Linear     | 33    \n",
      "26 | model.0.defunc.m.2.0.net.3 | Sigmoid    | 0     \n",
      "27 | model.0.defunc.m.2.1       | Linear     | 6     \n",
      "28 | model.0.defunc.m.3         | Sequential | 135   \n",
      "29 | model.0.defunc.m.3.0       | Stable     | 129   \n",
      "30 | model.0.defunc.m.3.0.net   | Sequential | 129   \n",
      "31 | model.0.defunc.m.3.0.net.0 | Linear     | 96    \n",
      "32 | model.0.defunc.m.3.0.net.1 | Tanh       | 0     \n",
      "33 | model.0.defunc.m.3.0.net.2 | Linear     | 33    \n",
      "34 | model.0.defunc.m.3.0.net.3 | Sigmoid    | 0     \n",
      "35 | model.0.defunc.m.3.1       | Linear     | 6     \n",
      "36 | model.0.adjoint            | Adjoint    | 0     \n",
      "/home/jyp/michael_dev/testenv/lib/python3.7/site-packages/pytorch_lightning/utilities/distributed.py:23: UserWarning: The dataloader, train dataloader, does not have many workers which may be a bottleneck. Consider increasing the value of the `num_workers` argument` in the `DataLoader` init to improve performance.\n",
      "  warnings.warn(*args, **kwargs)\n"
     ]
    },
    {
     "data": {
      "application/vnd.jupyter.widget-view+json": {
       "model_id": "e7ae5d64f5654b97adac2228f2e97f8d",
       "version_major": 2,
       "version_minor": 0
      },
      "text/plain": [
       "HBox(children=(FloatProgress(value=1.0, bar_style='info', description='Training', layout=Layout(flex='2'), max…"
      ]
     },
     "metadata": {},
     "output_type": "display_data"
    },
    {
     "name": "stderr",
     "output_type": "stream",
     "text": [
      "/home/jyp/michael_dev/testenv/lib/python3.7/site-packages/pytorch_lightning/utilities/distributed.py:23: UserWarning: Did not find hyperparameters at model hparams. Saving checkpoint without hyperparameters.\n",
      "  warnings.warn(*args, **kwargs)\n"
     ]
    },
    {
     "name": "stdout",
     "output_type": "stream",
     "text": [
      "\n"
     ]
    },
    {
     "data": {
      "text/plain": [
       "1"
      ]
     },
     "execution_count": 153,
     "metadata": {},
     "output_type": "execute_result"
    }
   ],
   "source": [
    "# vector field parametrized by a NN\n",
    "stable_stack = [nn.Sequential(Stable(nn.Sequential(\n",
    "                  nn.Linear(4, 32),\n",
    "                  nn.Tanh(), \n",
    "                  nn.Linear(32, 1),\n",
    "                  nn.Sigmoid()\n",
    "                   )), nn.Linear(2, 2)) for i in range(4)]\n",
    "\n",
    "f = nn.Sequential(*stable_stack)\n",
    "\n",
    "# neural ODE\n",
    "model = NeuralDE(f, \n",
    "                 order=1,\n",
    "                 solver='dopri5',\n",
    "                 s_span=torch.linspace(0, 1, 2),\n",
    "                 sensitivity='adjoint', \n",
    "                 controlled=False,\n",
    "                 intloss=None).to(device)\n",
    "seq = nn.Sequential(model).to(device)\n",
    "# # train the neural ODE\n",
    "learn = Learner(seq)\n",
    "trainer = pl.Trainer(min_nb_epochs=300, max_nb_epochs=600)\n",
    "trainer.fit(learn)"
   ]
  },
  {
   "cell_type": "markdown",
   "metadata": {},
   "source": [
    "**Plots**"
   ]
  },
  {
   "cell_type": "code",
   "execution_count": 151,
   "metadata": {},
   "outputs": [],
   "source": [
    "# Evaluate the data trajectories\n",
    "s_span = torch.linspace(0,1,100)\n",
    "#X_d = seq[0](X_train)\n",
    "trajectory = model.trajectory(X_train, s_span).detach().cpu()"
   ]
  },
  {
   "cell_type": "code",
   "execution_count": 152,
   "metadata": {},
   "outputs": [
    {
     "data": {
      "image/png": "[encoded data removed]",
      "text/plain": [
       "<Figure size 576x144 with 2 Axes>"
      ]
     },
     "metadata": {
      "needs_background": "light"
     },
     "output_type": "display_data"
    }
   ],
   "source": [
    "# Trajectories in the depth domain\n",
    "plot_2D_depth_trajectory(s_span, trajectory, yn, len(X))"
   ]
  },
  {
   "cell_type": "code",
   "execution_count": null,
   "metadata": {},
   "outputs": [],
   "source": []
  }
 ],
 "metadata": {
  "kernelspec": {
   "display_name": "Python 3",
   "language": "python",
   "name": "python3"
  },
  "language_info": {
   "codemirror_mode": {
    "name": "ipython",
    "version": 3
   },
   "file_extension": ".py",
   "mimetype": "text/x-python",
   "name": "python",
   "nbconvert_exporter": "python",
   "pygments_lexer": "ipython3",
   "version": "3.7.7"
  },
  "latex_envs": {
   "LaTeX_envs_menu_present": true,
   "autoclose": false,
   "autocomplete": true,
   "bibliofile": "biblio.bib",
   "cite_by": "apalike",
   "current_citInitial": 1,
   "eqLabelWithNumbers": true,
   "eqNumInitial": 1,
   "hotkeys": {
    "equation": "Ctrl-E",
    "itemize": "Ctrl-I"
   },
   "labels_anchors": false,
   "latex_user_defs": false,
   "report_style_numbering": false,
   "user_envs_cfg": false
  },
  "varInspector": {
   "cols": {
    "lenName": 16,
    "lenType": 16,
    "lenVar": 40
   },
   "kernels_config": {
    "python": {
     "delete_cmd_postfix": "",
     "delete_cmd_prefix": "del ",
     "library": "var_list.py",
     "varRefreshCmd": "print(var_dic_list())"
    },
    "r": {
     "delete_cmd_postfix": ") ",
     "delete_cmd_prefix": "rm(",
     "library": "var_list.r",
     "varRefreshCmd": "cat(var_dic_list()) "
    }
   },
   "types_to_exclude": [
    "module",
    "function",
    "builtin_function_or_method",
    "instance",
    "_Feature"
   ],
   "window_display": false
  }
 },
 "nbformat": 4,
 "nbformat_minor": 4
}
