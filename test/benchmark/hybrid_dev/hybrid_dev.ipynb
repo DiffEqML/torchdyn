{
 "cells": [
  {
   "cell_type": "code",
   "execution_count": 13,
   "metadata": {},
   "outputs": [],
   "source": [
    "import sys; sys.path.append('../../')\n",
    "from torchdyn import *\n",
    "from torchdyn.models import NeuralDE, HybridNeuralDE\n",
    "import torch; import torch.nn as nn"
   ]
  },
  {
   "cell_type": "code",
   "execution_count": 18,
   "metadata": {},
   "outputs": [],
   "source": [
    "TRAJ_LEN = 100\n",
    "H_DIM = 10\n",
    "BS = 32\n",
    "OUT_DIM = 4\n",
    "IN_DIM = 2\n",
    "\n",
    "def test_rnn_hybrid():\n",
    "    x = torch.randn(TRAJ_LEN, BS, IN_DIM)\n",
    "    f = nn.Linear(H_DIM, H_DIM)\n",
    "    flow = NeuralDE(f)\n",
    "    jump = nn.RNNCell(IN_DIM, H_DIM)\n",
    "    out = nn.Linear(H_DIM, OUT_DIM)\n",
    "\n",
    "    model = HybridNeuralDE(flow, jump, out)\n",
    "    test_traj = model(x)\n",
    "    assert test_traj.shape == torch.Size([BS, OUT_DIM]) \n",
    "\n",
    "def test_lstm_hybrid():\n",
    "    x = torch.randn(TRAJ_LEN, BS, IN_DIM)\n",
    "    f = nn.Linear(H_DIM, H_DIM)\n",
    "    flow = NeuralDE(f)\n",
    "    jump = nn.LSTMCell(IN_DIM, H_DIM)\n",
    "    out = nn.Linear(H_DIM, OUT_DIM)\n",
    "\n",
    "    model = HybridNeuralDE(flow, jump, out)\n",
    "    test_traj = model(x)\n",
    "    assert test_traj.shape == torch.Size([BS, OUT_DIM]) "
   ]
  },
  {
   "cell_type": "code",
   "execution_count": 19,
   "metadata": {},
   "outputs": [],
   "source": [
    "test_rnn_hybrid(); test_lstm_hybrid()"
   ]
  },
  {
   "cell_type": "code",
   "execution_count": null,
   "metadata": {},
   "outputs": [],
   "source": []
  }
 ],
 "metadata": {
  "kernelspec": {
   "display_name": "Python 3",
   "language": "python",
   "name": "python3"
  },
  "language_info": {
   "codemirror_mode": {
    "name": "ipython",
    "version": 3
   },
   "file_extension": ".py",
   "mimetype": "text/x-python",
   "name": "python",
   "nbconvert_exporter": "python",
   "pygments_lexer": "ipython3",
   "version": "3.8.3"
  }
 },
 "nbformat": 4,
 "nbformat_minor": 4
}
