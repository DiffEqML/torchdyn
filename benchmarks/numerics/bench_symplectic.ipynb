{
 "cells": [
  {
   "cell_type": "code",
   "execution_count": 143,
   "metadata": {},
   "outputs": [
    {
     "name": "stdout",
     "output_type": "stream",
     "text": [
      "The autoreload extension is already loaded. To reload it, use:\n",
      "  %reload_ext autoreload\n"
     ]
    }
   ],
   "source": [
    "import torchdyn\n",
    "import torch\n",
    "import torch.nn as nn\n",
    "import matplotlib.pyplot as plt\n",
    "from torchdyn.numerics import AsynchronousLeapfrog\n",
    "from torchdyn.numerics import odeint, odeint_symplectic\n",
    "\n",
    "import torchdiffeq\n",
    "import time \n",
    "%load_ext autoreload\n",
    "%autoreload 2"
   ]
  },
  {
   "cell_type": "code",
   "execution_count": 185,
   "metadata": {},
   "outputs": [],
   "source": [
    "vf = nn.Sequential(nn.Linear(2, 32), nn.Tanh(), nn.Linear(32, 2))\n",
    "class TestSystem(nn.Module):\n",
    "    def __init__(self, vf):\n",
    "        super().__init__()\n",
    "        self.nfe = 0\n",
    "        self.vf = vf\n",
    "        self.order = 1\n",
    "\n",
    "    def forward(self, t, x):\n",
    "        self.nfe += 1\n",
    "        return self.vf(x)"
   ]
  },
  {
   "cell_type": "code",
   "execution_count": 194,
   "metadata": {},
   "outputs": [],
   "source": [
    "f = TestSystem(vf)\n",
    "x = torch.randn(1024, 2)\n",
    "t_span = torch.linspace(0, 4, 200)"
   ]
  },
  {
   "cell_type": "markdown",
   "metadata": {},
   "source": [
    "#### Fixed--step bench"
   ]
  },
  {
   "cell_type": "code",
   "execution_count": 195,
   "metadata": {},
   "outputs": [
    {
     "name": "stdout",
     "output_type": "stream",
     "text": [
      "0.1455554962158203\n",
      "0.12147045135498047\n"
     ]
    }
   ],
   "source": [
    "t0 = time.time()\n",
    "v = f(0., x)\n",
    "xv = torch.cat([x, v], -1)\n",
    "solver = AsynchronousLeapfrog(stepping_class='fixed')\n",
    "t_eval, sol1 = odeint_symplectic(f, xv, t_span, solver=solver)\n",
    "t_end1 = time.time() - t0\n",
    "print(t_end1)\n",
    "\n",
    "t0 = time.time()\n",
    "sol2 = torchdiffeq.odeint(f, x, t_span, method='midpoint')\n",
    "t_end2 = time.time() - t0\n",
    "print(t_end2)\n",
    "\n",
    "true_sol = torchdiffeq.odeint(f, x, t_span, method='dopri5', atol=1e-9, rtol=1e-9)"
   ]
  },
  {
   "cell_type": "code",
   "execution_count": 196,
   "metadata": {},
   "outputs": [
    {
     "data": {
      "text/plain": [
       "<matplotlib.legend.Legend at 0x7f51d285e9a0>"
      ]
     },
     "execution_count": 196,
     "metadata": {},
     "output_type": "execute_result"
    },
    {
     "data": {
      "image/png": "[encoded data removed]",
      "text/plain": [
       "<Figure size 576x216 with 1 Axes>"
      ]
     },
     "metadata": {
      "needs_background": "light"
     },
     "output_type": "display_data"
    }
   ],
   "source": [
    "fig = plt.figure(figsize=(8,3))\n",
    "ax = plt.subplot(111)\n",
    "line, _ = ax.plot((sol1[...,:2]-true_sol).detach().abs().mean(1), c='black')\n",
    "line.set_label('torchdyn')\n",
    "line, _ = ax.plot((sol2-true_sol).detach().abs().mean(1), c='red')\n",
    "line.set_label('torchdiffeq')\n",
    "ax.set_ylabel('error')\n",
    "ax.set_xlabel('time')\n",
    "plt.legend()"
   ]
  }
 ],
 "metadata": {
  "kernelspec": {
   "display_name": "torchdyn",
   "language": "python",
   "name": "torchdyn"
  },
  "language_info": {
   "codemirror_mode": {
    "name": "ipython",
    "version": 3
   },
   "file_extension": ".py",
   "mimetype": "text/x-python",
   "name": "python",
   "nbconvert_exporter": "python",
   "pygments_lexer": "ipython3",
   "version": "3.8.5"
  }
 },
 "nbformat": 4,
 "nbformat_minor": 4
}
