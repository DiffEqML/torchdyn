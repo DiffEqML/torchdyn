{
 "cells": [
  {
   "cell_type": "markdown",
   "id": "be2a2629",
   "metadata": {
    "papermill": {
     "duration": 0.014232,
     "end_time": "2021-06-15T09:00:27.562638",
     "exception": false,
     "start_time": "2021-06-15T09:00:27.548406",
     "status": "completed"
    },
    "tags": []
   },
   "source": [
    "# TorchDyn Quickstart\n",
    "\n",
    "**TorchDyn is the toolkit for continuous models in PyTorch. Play with state-of-the-art architectures or use its powerful libraries to create your own.**\n",
    "\n",
    "\n",
    "Central to the `torchdyn` approach are continuous neural networks, where *width*, *depth* (or both) are taken to their infinite limit. On the optimization front, we consider continuous \"data-stream\" regimes and gradient flow methods, where the dataset represents a time-evolving signal processed by the neural network to adapt its parameters. \n",
    "\n",
    "By providing a centralized, easy-to-access collection of model templates, tutorial and application notebooks, we hope to speed-up research in this area and ultimately contribute to turning neural differential equations into an effective tool for control, system identification and common machine learning tasks.\n"
   ]
  },
  {
   "cell_type": "code",
   "execution_count": 1,
   "id": "cdbb32bb",
   "metadata": {
    "execution": {
     "iopub.execute_input": "2021-06-15T09:00:27.584958Z",
     "iopub.status.busy": "2021-06-15T09:00:27.584644Z",
     "iopub.status.idle": "2021-06-15T09:00:28.878349Z",
     "shell.execute_reply": "2021-06-15T09:00:28.877809Z"
    },
    "papermill": {
     "duration": 1.306831,
     "end_time": "2021-06-15T09:00:28.878523",
     "exception": false,
     "start_time": "2021-06-15T09:00:27.571692",
     "status": "completed"
    },
    "tags": []
   },
   "outputs": [],
   "source": [
    "import sys ; sys.path.append('../')\n",
    "from torchdyn.core import NeuralODE\n",
    "from torchdyn.datasets import *\n",
    "from torchdyn import *"
   ]
  },
  {
   "cell_type": "markdown",
   "id": "8c28bb38",
   "metadata": {
    "papermill": {
     "duration": 0.008922,
     "end_time": "2021-06-15T09:00:28.900911",
     "exception": false,
     "start_time": "2021-06-15T09:00:28.891989",
     "status": "completed"
    },
    "tags": []
   },
   "source": [
    "## Generate data from a static toy dataset \n",
    "\n",
    "We’ll be generating data from toy datasets. In torchdyn, we provide a wide range of datasets often use to benchmark and understand Neural ODEs. Here we will use the classic moons dataset and train a Neural ODE for binary classification"
   ]
  },
  {
   "cell_type": "code",
   "execution_count": 2,
   "id": "8b1f13e1",
   "metadata": {
    "execution": {
     "iopub.execute_input": "2021-06-15T09:00:28.923658Z",
     "iopub.status.busy": "2021-06-15T09:00:28.923386Z",
     "iopub.status.idle": "2021-06-15T09:00:28.925581Z",
     "shell.execute_reply": "2021-06-15T09:00:28.925798Z"
    },
    "papermill": {
     "duration": 0.015839,
     "end_time": "2021-06-15T09:00:28.925859",
     "exception": false,
     "start_time": "2021-06-15T09:00:28.910020",
     "status": "completed"
    },
    "tags": []
   },
   "outputs": [],
   "source": [
    "d = ToyDataset()\n",
    "X, yn = d.generate(n_samples=512, noise=1e-1, dataset_type='moons')        "
   ]
  },
  {
   "cell_type": "code",
   "execution_count": 3,
   "id": "f843002b",
   "metadata": {
    "execution": {
     "iopub.execute_input": "2021-06-15T09:00:28.947781Z",
     "iopub.status.busy": "2021-06-15T09:00:28.947480Z",
     "iopub.status.idle": "2021-06-15T09:00:32.058395Z",
     "shell.execute_reply": "2021-06-15T09:00:32.058799Z"
    },
    "papermill": {
     "duration": 3.123824,
     "end_time": "2021-06-15T09:00:32.058937",
     "exception": false,
     "start_time": "2021-06-15T09:00:28.935113",
     "status": "completed"
    },
    "tags": []
   },
   "outputs": [
    {
     "data": {
      "image/png": "[encoded data removed]",
      "text/plain": [
       "<Figure size 216x216 with 1 Axes>"
      ]
     },
     "metadata": {
      "needs_background": "light"
     },
     "output_type": "display_data"
    }
   ],
   "source": [
    "import matplotlib.pyplot as plt\n",
    "\n",
    "colors = ['orange', 'blue'] \n",
    "fig = plt.figure(figsize=(3,3))\n",
    "ax = fig.add_subplot(111)\n",
    "for i in range(len(X)):\n",
    "    ax.scatter(X[i,0], X[i,1], s=1, color=colors[yn[i].int()])"
   ]
  },
  {
   "cell_type": "markdown",
   "id": "ddcb036e",
   "metadata": {
    "papermill": {
     "duration": 0.009643,
     "end_time": "2021-06-15T09:00:32.081972",
     "exception": false,
     "start_time": "2021-06-15T09:00:32.072329",
     "status": "completed"
    },
    "tags": []
   },
   "source": [
    "Generated data can be easily loaded in the dataloader with standard `PyTorch` calls"
   ]
  },
  {
   "cell_type": "code",
   "execution_count": 4,
   "id": "c95ebf23",
   "metadata": {
    "execution": {
     "iopub.execute_input": "2021-06-15T09:00:32.105725Z",
     "iopub.status.busy": "2021-06-15T09:00:32.105431Z",
     "iopub.status.idle": "2021-06-15T09:00:32.107765Z",
     "shell.execute_reply": "2021-06-15T09:00:32.107457Z"
    },
    "papermill": {
     "duration": 0.016313,
     "end_time": "2021-06-15T09:00:32.107827",
     "exception": false,
     "start_time": "2021-06-15T09:00:32.091514",
     "status": "completed"
    },
    "tags": []
   },
   "outputs": [],
   "source": [
    "import torch\n",
    "import torch.utils.data as data\n",
    "device = torch.device(\"cpu\") # all of this works in GPU as well :)\n",
    "\n",
    "X_train = torch.Tensor(X).to(device)\n",
    "y_train = torch.LongTensor(yn.long()).to(device)\n",
    "train = data.TensorDataset(X_train, y_train)\n",
    "trainloader = data.DataLoader(train, batch_size=len(X), shuffle=True)"
   ]
  },
  {
   "cell_type": "markdown",
   "id": "d58ccb23",
   "metadata": {
    "papermill": {
     "duration": 0.009413,
     "end_time": "2021-06-15T09:00:32.126822",
     "exception": false,
     "start_time": "2021-06-15T09:00:32.117409",
     "status": "completed"
    },
    "tags": []
   },
   "source": [
    "We utilize [Pytorch Lightning](https://github.com/PyTorchLightning/pytorch-lightning) to handle training loops, logging and general bookkeeping. This allows `torchdyn` and Neural Differential Equations to have access to modern best practices for training and experiment reproducibility. \n",
    "\n",
    "In particular, we combine modular `torchdyn` models with `LightningModules` via a `Learner` class:"
   ]
  },
  {
   "cell_type": "code",
   "execution_count": 5,
   "id": "64185f5d",
   "metadata": {
    "execution": {
     "iopub.execute_input": "2021-06-15T09:00:32.151307Z",
     "iopub.status.busy": "2021-06-15T09:00:32.151046Z",
     "iopub.status.idle": "2021-06-15T09:00:32.153276Z",
     "shell.execute_reply": "2021-06-15T09:00:32.153055Z"
    },
    "papermill": {
     "duration": 0.017003,
     "end_time": "2021-06-15T09:00:32.153327",
     "exception": false,
     "start_time": "2021-06-15T09:00:32.136324",
     "status": "completed"
    },
    "tags": []
   },
   "outputs": [],
   "source": [
    "import torch.nn as nn\n",
    "import pytorch_lightning as pl\n",
    "\n",
    "class Learner(pl.LightningModule):\n",
    "    def __init__(self, model:nn.Module):\n",
    "        super().__init__()\n",
    "        self.model = model\n",
    "    \n",
    "    def forward(self, x):\n",
    "        return self.model(x)\n",
    "    \n",
    "    def training_step(self, batch, batch_idx):\n",
    "        x, y = batch      \n",
    "        y_hat = self.model(x)   \n",
    "        loss = nn.CrossEntropyLoss()(y_hat, y)\n",
    "        return {'loss': loss}   \n",
    "    \n",
    "    def configure_optimizers(self):\n",
    "        return torch.optim.Adam(self.model.parameters(), lr=0.01)\n",
    "\n",
    "    def train_dataloader(self):\n",
    "        return trainloader"
   ]
  },
  {
   "cell_type": "markdown",
   "id": "913e9b78",
   "metadata": {
    "papermill": {
     "duration": 0.009556,
     "end_time": "2021-06-15T09:00:32.172470",
     "exception": false,
     "start_time": "2021-06-15T09:00:32.162914",
     "status": "completed"
    },
    "tags": []
   },
   "source": [
    "## Define a  Neural ODE"
   ]
  },
  {
   "cell_type": "markdown",
   "id": "aa4526af",
   "metadata": {
    "papermill": {
     "duration": 0.009724,
     "end_time": "2021-06-15T09:00:32.191907",
     "exception": false,
     "start_time": "2021-06-15T09:00:32.182183",
     "status": "completed"
    },
    "tags": []
   },
   "source": [
    "Analogously to most forward neural models we want to realize a map \n",
    "\n",
    "$$\n",
    "        x \\mapsto \\hat y\n",
    "$$\n",
    "\n",
    "where  $\\hat y$ becomes the best approximation of a true output $y$ given an input $x$.\n",
    "In torchdyn you can define very simple Neural ODE models of the form \n",
    "\n",
    "$$ \\left\\{\n",
    "    \\begin{aligned}\n",
    "        \\dot{z}(s) &= f(z(s), \\theta)\\\\\n",
    "        z(0) &= x\\\\\n",
    "        \\hat y & = z(1)\n",
    "    \\end{aligned}\n",
    "    \\right. \\quad s\\in[0,1]\n",
    "$$\n",
    "\n",
    "by just specifying a neural network $f$ and giving some simple settings.\n",
    "\n",
    "**Note:** This Neural ODE model is of *depth-invariant* type as neither $f$ explicitly depend on $s$ nor the parameters $\\theta$ are depth-varying. Together with their *depth-variant* counterpart with $s$ concatenated in the vector field was first proposed and implemented by [[Chen T. Q. et al, 2018]](https://arxiv.org/abs/1806.07366)"
   ]
  },
  {
   "cell_type": "markdown",
   "id": "397071ae",
   "metadata": {
    "papermill": {
     "duration": 0.009514,
     "end_time": "2021-06-15T09:00:32.210980",
     "exception": false,
     "start_time": "2021-06-15T09:00:32.201466",
     "status": "completed"
    },
    "tags": []
   },
   "source": [
    "### Define the vector field (DEFunc) \n",
    "\n",
    "The first step is to define any PyTorch `torch.nn.Module`. This takes the role of the Neural ODE vector field $f(h,\\theta)$ "
   ]
  },
  {
   "cell_type": "code",
   "execution_count": 6,
   "id": "fda25163",
   "metadata": {
    "execution": {
     "iopub.execute_input": "2021-06-15T09:00:32.233349Z",
     "iopub.status.busy": "2021-06-15T09:00:32.233050Z",
     "iopub.status.idle": "2021-06-15T09:00:32.235752Z",
     "shell.execute_reply": "2021-06-15T09:00:32.235485Z"
    },
    "papermill": {
     "duration": 0.015152,
     "end_time": "2021-06-15T09:00:32.235805",
     "exception": false,
     "start_time": "2021-06-15T09:00:32.220653",
     "status": "completed"
    },
    "tags": []
   },
   "outputs": [],
   "source": [
    "f = nn.Sequential(\n",
    "        nn.Linear(2, 16),\n",
    "        nn.Tanh(),\n",
    "        nn.Linear(16, 2)                       \n",
    "    )"
   ]
  },
  {
   "cell_type": "markdown",
   "id": "575d96e5",
   "metadata": {
    "papermill": {
     "duration": 0.009724,
     "end_time": "2021-06-15T09:00:32.255227",
     "exception": false,
     "start_time": "2021-06-15T09:00:32.245503",
     "status": "completed"
    },
    "tags": []
   },
   "source": [
    "In this case we chose $f$ to be a simple MLP with one hidden layer and $\\tanh$ activation"
   ]
  },
  {
   "cell_type": "markdown",
   "id": "99c066da",
   "metadata": {
    "papermill": {
     "duration": 0.009668,
     "end_time": "2021-06-15T09:00:32.274593",
     "exception": false,
     "start_time": "2021-06-15T09:00:32.264925",
     "status": "completed"
    },
    "tags": []
   },
   "source": [
    "### Define the NeuralDE"
   ]
  },
  {
   "cell_type": "markdown",
   "id": "e4369cff",
   "metadata": {
    "papermill": {
     "duration": 0.009709,
     "end_time": "2021-06-15T09:00:32.294111",
     "exception": false,
     "start_time": "2021-06-15T09:00:32.284402",
     "status": "completed"
    },
    "tags": []
   },
   "source": [
    "The final step to define a Neural ODE is to instantiate the torchdyn's class `NeuralDE` passing some customization arguments and `f` itself.\n",
    "\n",
    "In this case we specify:\n",
    "* we compute backward gradients with the `'adjoint'` method.\n",
    "* we will use the `'dopri5'` (Dormand-Prince) ODE solver from `torchdiffeq`;"
   ]
  },
  {
   "cell_type": "code",
   "execution_count": 7,
   "id": "b8d2b449",
   "metadata": {
    "execution": {
     "iopub.execute_input": "2021-06-15T09:00:32.317267Z",
     "iopub.status.busy": "2021-06-15T09:00:32.316852Z",
     "iopub.status.idle": "2021-06-15T09:00:32.319551Z",
     "shell.execute_reply": "2021-06-15T09:00:32.319282Z"
    },
    "papermill": {
     "duration": 0.015431,
     "end_time": "2021-06-15T09:00:32.319603",
     "exception": false,
     "start_time": "2021-06-15T09:00:32.304172",
     "status": "completed"
    },
    "tags": []
   },
   "outputs": [],
   "source": [
    "model = NeuralODE(f, sensitivity='adjoint', solver='dopri5').to(device)"
   ]
  },
  {
   "cell_type": "markdown",
   "id": "1d9edbed",
   "metadata": {
    "papermill": {
     "duration": 0.009788,
     "end_time": "2021-06-15T09:00:32.339078",
     "exception": false,
     "start_time": "2021-06-15T09:00:32.329290",
     "status": "completed"
    },
    "tags": []
   },
   "source": [
    "## Train the Model"
   ]
  },
  {
   "cell_type": "code",
   "execution_count": 8,
   "id": "ab1463ce",
   "metadata": {
    "execution": {
     "iopub.execute_input": "2021-06-15T09:00:32.399361Z",
     "iopub.status.busy": "2021-06-15T09:00:32.398869Z",
     "iopub.status.idle": "2021-06-15T09:01:06.172373Z",
     "shell.execute_reply": "2021-06-15T09:01:06.172643Z"
    },
    "papermill": {
     "duration": 33.823909,
     "end_time": "2021-06-15T09:01:06.172756",
     "exception": false,
     "start_time": "2021-06-15T09:00:32.348847",
     "status": "completed"
    },
    "tags": []
   },
   "outputs": [
    {
     "name": "stderr",
     "output_type": "stream",
     "text": [
      "GPU available: True, used: False\n"
     ]
    },
    {
     "name": "stderr",
     "output_type": "stream",
     "text": [
      "TPU available: False, using: 0 TPU cores\n"
     ]
    },
    {
     "name": "stderr",
     "output_type": "stream",
     "text": [
      "/home/michael/anaconda3/lib/python3.8/site-packages/pytorch_lightning/utilities/distributed.py:69: UserWarning: GPU available but not used. Set the gpus flag in your trainer `Trainer(gpus=1)` or script `--gpus=1`.\n",
      "  warnings.warn(*args, **kwargs)\n"
     ]
    },
    {
     "name": "stderr",
     "output_type": "stream",
     "text": [
      "\n",
      "  | Name  | Type      | Params\n",
      "------------------------------------\n",
      "0 | model | NeuralODE | 82    \n",
      "------------------------------------\n",
      "82        Trainable params\n",
      "0         Non-trainable params\n",
      "82        Total params\n",
      "0.000     Total estimated model params size (MB)\n"
     ]
    },
    {
     "name": "stderr",
     "output_type": "stream",
     "text": [
      "/home/michael/anaconda3/lib/python3.8/site-packages/pytorch_lightning/utilities/distributed.py:69: UserWarning: The dataloader, train dataloader, does not have many workers which may be a bottleneck. Consider increasing the value of the `num_workers` argument` (try 48 which is the number of cpus on this machine) in the `DataLoader` init to improve performance.\n",
      "  warnings.warn(*args, **kwargs)\n"
     ]
    },
    {
     "data": {
      "application/vnd.jupyter.widget-view+json": {
       "model_id": "09fb19e180fd4c1887afa89c4f8f037c",
       "version_major": 2,
       "version_minor": 0
      },
      "text/plain": [
       "Training: 0it [00:00, ?it/s]"
      ]
     },
     "metadata": {},
     "output_type": "display_data"
    }
   ],
   "source": [
    "learn = Learner(model)\n",
    "trainer = pl.Trainer(min_epochs=200, max_epochs=300)\n",
    "trainer.fit(learn)"
   ]
  },
  {
   "cell_type": "markdown",
   "id": "89ca9a06",
   "metadata": {
    "papermill": {
     "duration": 0.011173,
     "end_time": "2021-06-15T09:01:06.195565",
     "exception": false,
     "start_time": "2021-06-15T09:01:06.184392",
     "status": "completed"
    },
    "tags": []
   },
   "source": [
    "With the method `trajectory` of `NeuralDE` objects you can quickly evaluate the entire trajectory of each data point in `X_train` on an interval `s_span`"
   ]
  },
  {
   "cell_type": "code",
   "execution_count": 9,
   "id": "7261172c",
   "metadata": {
    "execution": {
     "iopub.execute_input": "2021-06-15T09:01:06.220497Z",
     "iopub.status.busy": "2021-06-15T09:01:06.220231Z",
     "iopub.status.idle": "2021-06-15T09:01:06.279405Z",
     "shell.execute_reply": "2021-06-15T09:01:06.279622Z"
    },
    "papermill": {
     "duration": 0.072932,
     "end_time": "2021-06-15T09:01:06.279694",
     "exception": false,
     "start_time": "2021-06-15T09:01:06.206762",
     "status": "completed"
    },
    "tags": []
   },
   "outputs": [],
   "source": [
    "s_span = torch.linspace(0,1,100)\n",
    "trajectory = model.trajectory(X_train, s_span).detach().cpu()"
   ]
  },
  {
   "cell_type": "markdown",
   "id": "fd24f3c0",
   "metadata": {
    "papermill": {
     "duration": 0.011103,
     "end_time": "2021-06-15T09:01:06.302083",
     "exception": false,
     "start_time": "2021-06-15T09:01:06.290980",
     "status": "completed"
    },
    "tags": []
   },
   "source": [
    "### Plot the Training Results"
   ]
  },
  {
   "cell_type": "markdown",
   "id": "b9fdd08f",
   "metadata": {
    "papermill": {
     "duration": 0.011021,
     "end_time": "2021-06-15T09:01:06.324198",
     "exception": false,
     "start_time": "2021-06-15T09:01:06.313177",
     "status": "completed"
    },
    "tags": []
   },
   "source": [
    "We can first plot the trajectories of the data points in the depth domain $s$"
   ]
  },
  {
   "cell_type": "code",
   "execution_count": 10,
   "id": "9be03313",
   "metadata": {
    "execution": {
     "iopub.execute_input": "2021-06-15T09:01:06.357239Z",
     "iopub.status.busy": "2021-06-15T09:01:06.350248Z",
     "iopub.status.idle": "2021-06-15T09:01:07.871163Z",
     "shell.execute_reply": "2021-06-15T09:01:07.871574Z"
    },
    "papermill": {
     "duration": 1.536496,
     "end_time": "2021-06-15T09:01:07.871719",
     "exception": false,
     "start_time": "2021-06-15T09:01:06.335223",
     "status": "completed"
    },
    "tags": []
   },
   "outputs": [
    {
     "data": {
      "text/plain": [
       "Text(0.5, 1.0, 'Dimension 1')"
      ]
     },
     "execution_count": 10,
     "metadata": {},
     "output_type": "execute_result"
    },
    {
     "data": {
      "image/png": "[encoded data removed]",
      "text/plain": [
       "<Figure size 720x144 with 2 Axes>"
      ]
     },
     "metadata": {
      "needs_background": "light"
     },
     "output_type": "display_data"
    }
   ],
   "source": [
    "color=['orange', 'blue']\n",
    "\n",
    "fig = plt.figure(figsize=(10,2))\n",
    "ax0 = fig.add_subplot(121)\n",
    "ax1 = fig.add_subplot(122)\n",
    "for i in range(500):\n",
    "    ax0.plot(s_span, trajectory[:,i,0], color=color[int(yn[i])], alpha=.1);\n",
    "    ax1.plot(s_span, trajectory[:,i,1], color=color[int(yn[i])], alpha=.1);\n",
    "ax0.set_xlabel(r\"$s$ [Depth]\") ; ax0.set_ylabel(r\"$h_0(s)$\")\n",
    "ax1.set_xlabel(r\"$s$ [Depth]\") ; ax1.set_ylabel(r\"$z_1(s)$\")\n",
    "ax0.set_title(\"Dimension 0\") ; ax1.set_title(\"Dimension 1\")"
   ]
  },
  {
   "cell_type": "markdown",
   "id": "48836b21",
   "metadata": {
    "papermill": {
     "duration": 0.012069,
     "end_time": "2021-06-15T09:01:07.899649",
     "exception": false,
     "start_time": "2021-06-15T09:01:07.887580",
     "status": "completed"
    },
    "tags": []
   },
   "source": [
    "Then the trajectory in the *state-space*"
   ]
  },
  {
   "cell_type": "markdown",
   "id": "e16f52c6",
   "metadata": {
    "papermill": {
     "duration": 0.017721,
     "end_time": "2021-06-15T09:01:07.929588",
     "exception": false,
     "start_time": "2021-06-15T09:01:07.911867",
     "status": "completed"
    },
    "tags": []
   },
   "source": [
    "As you can see, the Neural ODE steers the data-points into regions of null loss with a continuous flow in the depth domain. Finally, we can also plot the learned vector field $f$"
   ]
  },
  {
   "cell_type": "code",
   "execution_count": 11,
   "id": "8b44bf8b",
   "metadata": {
    "execution": {
     "iopub.execute_input": "2021-06-15T09:01:07.960966Z",
     "iopub.status.busy": "2021-06-15T09:01:07.960623Z",
     "iopub.status.idle": "2021-06-15T09:01:08.496108Z",
     "shell.execute_reply": "2021-06-15T09:01:08.496335Z"
    },
    "papermill": {
     "duration": 0.554611,
     "end_time": "2021-06-15T09:01:08.496457",
     "exception": false,
     "start_time": "2021-06-15T09:01:07.941846",
     "status": "completed"
    },
    "tags": []
   },
   "outputs": [
    {
     "data": {
      "text/plain": [
       "<matplotlib.contour.QuadContourSet at 0x7fb7dd4290d0>"
      ]
     },
     "execution_count": 11,
     "metadata": {},
     "output_type": "execute_result"
    },
    {
     "data": {
      "image/png": "[encoded data removed]",
      "text/plain": [
       "<Figure size 288x288 with 1 Axes>"
      ]
     },
     "metadata": {
      "needs_background": "light"
     },
     "output_type": "display_data"
    }
   ],
   "source": [
    "# evaluate vector field\n",
    "n_pts = 50\n",
    "x = torch.linspace(trajectory[:,:,0].min(), trajectory[:,:,0].max(), n_pts)\n",
    "y = torch.linspace(trajectory[:,:,1].min(), trajectory[:,:,1].max(), n_pts)\n",
    "X, Y = torch.meshgrid(x, y) ; z = torch.cat([X.reshape(-1,1), Y.reshape(-1,1)], 1)\n",
    "f = model.defunc(0,z.to(device)).cpu().detach()\n",
    "fx, fy = f[:,0], f[:,1] ; fx, fy = fx.reshape(n_pts , n_pts), fy.reshape(n_pts, n_pts)\n",
    "# plot vector field and its intensity\n",
    "fig = plt.figure(figsize=(4, 4)) ; ax = fig.add_subplot(111)\n",
    "ax.streamplot(X.numpy().T, Y.numpy().T, fx.numpy().T, fy.numpy().T, color='black')\n",
    "ax.contourf(X.T, Y.T, torch.sqrt(fx.T**2+fy.T**2), cmap='RdYlBu')"
   ]
  },
  {
   "cell_type": "markdown",
   "id": "46b1000b",
   "metadata": {
    "papermill": {
     "duration": 0.013547,
     "end_time": "2021-06-15T09:01:08.524549",
     "exception": false,
     "start_time": "2021-06-15T09:01:08.511002",
     "status": "completed"
    },
    "tags": []
   },
   "source": [
    "**Sweet! You trained your first Neural ODE! Now you can proceed and learn about more advanced models with the next tutorials**"
   ]
  },
  {
   "cell_type": "code",
   "execution_count": null,
   "id": "d9ccd3cc",
   "metadata": {
    "papermill": {
     "duration": 0.013467,
     "end_time": "2021-06-15T09:01:08.551507",
     "exception": false,
     "start_time": "2021-06-15T09:01:08.538040",
     "status": "completed"
    },
    "tags": []
   },
   "outputs": [],
   "source": []
  }
 ],
 "metadata": {
  "kernelspec": {
   "display_name": "Python 3",
   "language": "python",
   "name": "python3"
  },
  "language_info": {
   "codemirror_mode": {
    "name": "ipython",
    "version": 3
   },
   "file_extension": ".py",
   "mimetype": "text/x-python",
   "name": "python",
   "nbconvert_exporter": "python",
   "pygments_lexer": "ipython3",
   "version": "3.8.5"
  },
  "latex_envs": {
   "LaTeX_envs_menu_present": true,
   "autoclose": false,
   "autocomplete": true,
   "bibliofile": "biblio.bib",
   "cite_by": "apalike",
   "current_citInitial": 1,
   "eqLabelWithNumbers": true,
   "eqNumInitial": 1,
   "hotkeys": {
    "equation": "Ctrl-E",
    "itemize": "Ctrl-I"
   },
   "labels_anchors": false,
   "latex_user_defs": false,
   "report_style_numbering": false,
   "user_envs_cfg": false
  },
  "papermill": {
   "default_parameters": {},
   "duration": 43.152711,
   "end_time": "2021-06-15T09:01:10.088762",
   "environment_variables": {},
   "exception": null,
   "input_path": "tutorials/00_quickstart.ipynb",
   "output_path": "tutorials/00_quickstart.ipynb",
   "parameters": {},
   "start_time": "2021-06-15T09:00:26.936051",
   "version": "2.3.3"
  },
  "varInspector": {
   "cols": {
    "lenName": 16,
    "lenType": 16,
    "lenVar": 40
   },
   "kernels_config": {
    "python": {
     "delete_cmd_postfix": "",
     "delete_cmd_prefix": "del ",
     "library": "var_list.py",
     "varRefreshCmd": "print(var_dic_list())"
    },
    "r": {
     "delete_cmd_postfix": ") ",
     "delete_cmd_prefix": "rm(",
     "library": "var_list.r",
     "varRefreshCmd": "cat(var_dic_list()) "
    }
   },
   "types_to_exclude": [
    "module",
    "function",
    "builtin_function_or_method",
    "instance",
    "_Feature"
   ],
   "window_display": false
  },
  "widgets": {
   "application/vnd.jupyter.widget-state+json": {
    "state": {
     "09fb19e180fd4c1887afa89c4f8f037c": {
      "model_module": "@jupyter-widgets/controls",
      "model_module_version": "1.5.0",
      "model_name": "HBoxModel",
      "state": {
       "_dom_classes": [],
       "_model_module": "@jupyter-widgets/controls",
       "_model_module_version": "1.5.0",
       "_model_name": "HBoxModel",
       "_view_count": null,
       "_view_module": "@jupyter-widgets/controls",
       "_view_module_version": "1.5.0",
       "_view_name": "HBoxView",
       "box_style": "",
       "children": [
        "IPY_MODEL_5886298d477a417286daa98a86d095e4",
        "IPY_MODEL_4e518d96558f4ed6941bb778d9f00ee1",
        "IPY_MODEL_547abf7f5a3e45828c354a767dd69b0c"
       ],
       "layout": "IPY_MODEL_9fda5d15ba8841bcac8eed859c3fe6de"
      }
     },
     "4e518d96558f4ed6941bb778d9f00ee1": {
      "model_module": "@jupyter-widgets/controls",
      "model_module_version": "1.5.0",
      "model_name": "FloatProgressModel",
      "state": {
       "_dom_classes": [],
       "_model_module": "@jupyter-widgets/controls",
       "_model_module_version": "1.5.0",
       "_model_name": "FloatProgressModel",
       "_view_count": null,
       "_view_module": "@jupyter-widgets/controls",
       "_view_module_version": "1.5.0",
       "_view_name": "ProgressView",
       "bar_style": "success",
       "description": "",
       "description_tooltip": null,
       "layout": "IPY_MODEL_710eb8d3b82642eea4dabfbb87c46ba2",
       "max": 1.0,
       "min": 0.0,
       "orientation": "horizontal",
       "style": "IPY_MODEL_80359a4470e944fb882fe0737a09d45d",
       "value": 1.0
      }
     },
     "547abf7f5a3e45828c354a767dd69b0c": {
      "model_module": "@jupyter-widgets/controls",
      "model_module_version": "1.5.0",
      "model_name": "HTMLModel",
      "state": {
       "_dom_classes": [],
       "_model_module": "@jupyter-widgets/controls",
       "_model_module_version": "1.5.0",
       "_model_name": "HTMLModel",
       "_view_count": null,
       "_view_module": "@jupyter-widgets/controls",
       "_view_module_version": "1.5.0",
       "_view_name": "HTMLView",
       "description": "",
       "description_tooltip": null,
       "layout": "IPY_MODEL_a4dfa9fbc7604f2e8f4e0b61028d3b45",
       "placeholder": "​",
       "style": "IPY_MODEL_9c303b7389b7419eb9109e5d773d0809",
       "value": " 1/1 [00:00&lt;00:00,  7.30it/s, loss=0.00164, v_num=128]"
      }
     },
     "5886298d477a417286daa98a86d095e4": {
      "model_module": "@jupyter-widgets/controls",
      "model_module_version": "1.5.0",
      "model_name": "HTMLModel",
      "state": {
       "_dom_classes": [],
       "_model_module": "@jupyter-widgets/controls",
       "_model_module_version": "1.5.0",
       "_model_name": "HTMLModel",
       "_view_count": null,
       "_view_module": "@jupyter-widgets/controls",
       "_view_module_version": "1.5.0",
       "_view_name": "HTMLView",
       "description": "",
       "description_tooltip": null,
       "layout": "IPY_MODEL_baa933b835aa4bd8b0681a71639ef82d",
       "placeholder": "​",
       "style": "IPY_MODEL_8c9f1ae3087c4e148195660c94890eae",
       "value": "Epoch 299: 100%"
      }
     },
     "710eb8d3b82642eea4dabfbb87c46ba2": {
      "model_module": "@jupyter-widgets/base",
      "model_module_version": "1.2.0",
      "model_name": "LayoutModel",
      "state": {
       "_model_module": "@jupyter-widgets/base",
       "_model_module_version": "1.2.0",
       "_model_name": "LayoutModel",
       "_view_count": null,
       "_view_module": "@jupyter-widgets/base",
       "_view_module_version": "1.2.0",
       "_view_name": "LayoutView",
       "align_content": null,
       "align_items": null,
       "align_self": null,
       "border": null,
       "bottom": null,
       "display": null,
       "flex": "2",
       "flex_flow": null,
       "grid_area": null,
       "grid_auto_columns": null,
       "grid_auto_flow": null,
       "grid_auto_rows": null,
       "grid_column": null,
       "grid_gap": null,
       "grid_row": null,
       "grid_template_areas": null,
       "grid_template_columns": null,
       "grid_template_rows": null,
       "height": null,
       "justify_content": null,
       "justify_items": null,
       "left": null,
       "margin": null,
       "max_height": null,
       "max_width": null,
       "min_height": null,
       "min_width": null,
       "object_fit": null,
       "object_position": null,
       "order": null,
       "overflow": null,
       "overflow_x": null,
       "overflow_y": null,
       "padding": null,
       "right": null,
       "top": null,
       "visibility": null,
       "width": null
      }
     },
     "80359a4470e944fb882fe0737a09d45d": {
      "model_module": "@jupyter-widgets/controls",
      "model_module_version": "1.5.0",
      "model_name": "ProgressStyleModel",
      "state": {
       "_model_module": "@jupyter-widgets/controls",
       "_model_module_version": "1.5.0",
       "_model_name": "ProgressStyleModel",
       "_view_count": null,
       "_view_module": "@jupyter-widgets/base",
       "_view_module_version": "1.2.0",
       "_view_name": "StyleView",
       "bar_color": null,
       "description_width": ""
      }
     },
     "8c9f1ae3087c4e148195660c94890eae": {
      "model_module": "@jupyter-widgets/controls",
      "model_module_version": "1.5.0",
      "model_name": "DescriptionStyleModel",
      "state": {
       "_model_module": "@jupyter-widgets/controls",
       "_model_module_version": "1.5.0",
       "_model_name": "DescriptionStyleModel",
       "_view_count": null,
       "_view_module": "@jupyter-widgets/base",
       "_view_module_version": "1.2.0",
       "_view_name": "StyleView",
       "description_width": ""
      }
     },
     "9c303b7389b7419eb9109e5d773d0809": {
      "model_module": "@jupyter-widgets/controls",
      "model_module_version": "1.5.0",
      "model_name": "DescriptionStyleModel",
      "state": {
       "_model_module": "@jupyter-widgets/controls",
       "_model_module_version": "1.5.0",
       "_model_name": "DescriptionStyleModel",
       "_view_count": null,
       "_view_module": "@jupyter-widgets/base",
       "_view_module_version": "1.2.0",
       "_view_name": "StyleView",
       "description_width": ""
      }
     },
     "9fda5d15ba8841bcac8eed859c3fe6de": {
      "model_module": "@jupyter-widgets/base",
      "model_module_version": "1.2.0",
      "model_name": "LayoutModel",
      "state": {
       "_model_module": "@jupyter-widgets/base",
       "_model_module_version": "1.2.0",
       "_model_name": "LayoutModel",
       "_view_count": null,
       "_view_module": "@jupyter-widgets/base",
       "_view_module_version": "1.2.0",
       "_view_name": "LayoutView",
       "align_content": null,
       "align_items": null,
       "align_self": null,
       "border": null,
       "bottom": null,
       "display": "inline-flex",
       "flex": null,
       "flex_flow": "row wrap",
       "grid_area": null,
       "grid_auto_columns": null,
       "grid_auto_flow": null,
       "grid_auto_rows": null,
       "grid_column": null,
       "grid_gap": null,
       "grid_row": null,
       "grid_template_areas": null,
       "grid_template_columns": null,
       "grid_template_rows": null,
       "height": null,
       "justify_content": null,
       "justify_items": null,
       "left": null,
       "margin": null,
       "max_height": null,
       "max_width": null,
       "min_height": null,
       "min_width": null,
       "object_fit": null,
       "object_position": null,
       "order": null,
       "overflow": null,
       "overflow_x": null,
       "overflow_y": null,
       "padding": null,
       "right": null,
       "top": null,
       "visibility": null,
       "width": "100%"
      }
     },
     "a4dfa9fbc7604f2e8f4e0b61028d3b45": {
      "model_module": "@jupyter-widgets/base",
      "model_module_version": "1.2.0",
      "model_name": "LayoutModel",
      "state": {
       "_model_module": "@jupyter-widgets/base",
       "_model_module_version": "1.2.0",
       "_model_name": "LayoutModel",
       "_view_count": null,
       "_view_module": "@jupyter-widgets/base",
       "_view_module_version": "1.2.0",
       "_view_name": "LayoutView",
       "align_content": null,
       "align_items": null,
       "align_self": null,
       "border": null,
       "bottom": null,
       "display": null,
       "flex": null,
       "flex_flow": null,
       "grid_area": null,
       "grid_auto_columns": null,
       "grid_auto_flow": null,
       "grid_auto_rows": null,
       "grid_column": null,
       "grid_gap": null,
       "grid_row": null,
       "grid_template_areas": null,
       "grid_template_columns": null,
       "grid_template_rows": null,
       "height": null,
       "justify_content": null,
       "justify_items": null,
       "left": null,
       "margin": null,
       "max_height": null,
       "max_width": null,
       "min_height": null,
       "min_width": null,
       "object_fit": null,
       "object_position": null,
       "order": null,
       "overflow": null,
       "overflow_x": null,
       "overflow_y": null,
       "padding": null,
       "right": null,
       "top": null,
       "visibility": null,
       "width": null
      }
     },
     "baa933b835aa4bd8b0681a71639ef82d": {
      "model_module": "@jupyter-widgets/base",
      "model_module_version": "1.2.0",
      "model_name": "LayoutModel",
      "state": {
       "_model_module": "@jupyter-widgets/base",
       "_model_module_version": "1.2.0",
       "_model_name": "LayoutModel",
       "_view_count": null,
       "_view_module": "@jupyter-widgets/base",
       "_view_module_version": "1.2.0",
       "_view_name": "LayoutView",
       "align_content": null,
       "align_items": null,
       "align_self": null,
       "border": null,
       "bottom": null,
       "display": null,
       "flex": null,
       "flex_flow": null,
       "grid_area": null,
       "grid_auto_columns": null,
       "grid_auto_flow": null,
       "grid_auto_rows": null,
       "grid_column": null,
       "grid_gap": null,
       "grid_row": null,
       "grid_template_areas": null,
       "grid_template_columns": null,
       "grid_template_rows": null,
       "height": null,
       "justify_content": null,
       "justify_items": null,
       "left": null,
       "margin": null,
       "max_height": null,
       "max_width": null,
       "min_height": null,
       "min_width": null,
       "object_fit": null,
       "object_position": null,
       "order": null,
       "overflow": null,
       "overflow_x": null,
       "overflow_y": null,
       "padding": null,
       "right": null,
       "top": null,
       "visibility": null,
       "width": null
      }
     }
    },
    "version_major": 2,
    "version_minor": 0
   }
  }
 },
 "nbformat": 4,
 "nbformat_minor": 5
}