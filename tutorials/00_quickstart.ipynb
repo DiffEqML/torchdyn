{
 "cells": [
  {
   "cell_type": "markdown",
   "metadata": {
    "papermill": {
     "duration": 0.015887,
     "end_time": "2021-06-16T04:37:12.190333",
     "exception": false,
     "start_time": "2021-06-16T04:37:12.174446",
     "status": "completed"
    },
    "tags": []
   },
   "source": [
    "# TorchDyn Quickstart\n",
    "\n",
    "**TorchDyn is the toolkit for continuous models in PyTorch. Play with state-of-the-art architectures or use its powerful libraries to create your own.**\n",
    "\n",
    "\n",
    "Central to the `torchdyn` approach are continuous neural networks, where *width*, *depth* (or both) are taken to their infinite limit. On the optimization front, we consider continuous \"data-stream\" regimes and gradient flow methods, where the dataset represents a time-evolving signal processed by the neural network to adapt its parameters. \n",
    "\n",
    "By providing a centralized, easy-to-access collection of model templates, tutorial and application notebooks, we hope to speed-up research in this area and ultimately contribute to turning neural differential equations into an effective tool for control, system identification and common machine learning tasks.\n"
   ]
  },
  {
   "cell_type": "code",
   "execution_count": 1,
   "metadata": {
    "execution": {
     "iopub.execute_input": "2021-06-16T04:37:12.216658Z",
     "iopub.status.busy": "2021-06-16T04:37:12.216386Z",
     "iopub.status.idle": "2021-06-16T04:37:13.090527Z",
     "shell.execute_reply": "2021-06-16T04:37:13.090760Z"
    },
    "papermill": {
     "duration": 0.890863,
     "end_time": "2021-06-16T04:37:13.090866",
     "exception": false,
     "start_time": "2021-06-16T04:37:12.200003",
     "status": "completed"
    },
    "tags": []
   },
   "outputs": [],
   "source": [
    "from torchdyn.core import NeuralODE\n",
    "from torchdyn.datasets import *\n",
    "from torchdyn import *"
   ]
  },
  {
   "cell_type": "markdown",
   "metadata": {
    "papermill": {
     "duration": 0.009786,
     "end_time": "2021-06-16T04:37:13.110596",
     "exception": false,
     "start_time": "2021-06-16T04:37:13.100810",
     "status": "completed"
    },
    "tags": []
   },
   "source": [
    "## Generate data from a static toy dataset \n",
    "\n",
    "We’ll be generating data from toy datasets. In torchdyn, we provide a wide range of datasets often use to benchmark and understand Neural ODEs. Here we will use the classic moons dataset and train a Neural ODE for binary classification"
   ]
  },
  {
   "cell_type": "code",
   "execution_count": 2,
   "metadata": {
    "execution": {
     "iopub.execute_input": "2021-06-16T04:37:13.134385Z",
     "iopub.status.busy": "2021-06-16T04:37:13.134098Z",
     "iopub.status.idle": "2021-06-16T04:37:13.136419Z",
     "shell.execute_reply": "2021-06-16T04:37:13.136186Z"
    },
    "papermill": {
     "duration": 0.016075,
     "end_time": "2021-06-16T04:37:13.136469",
     "exception": false,
     "start_time": "2021-06-16T04:37:13.120394",
     "status": "completed"
    },
    "tags": []
   },
   "outputs": [],
   "source": [
    "d = ToyDataset()\n",
    "X, yn = d.generate(n_samples=512, noise=1e-1, dataset_type='moons')        "
   ]
  },
  {
   "cell_type": "code",
   "execution_count": 3,
   "metadata": {
    "execution": {
     "iopub.execute_input": "2021-06-16T04:37:13.160005Z",
     "iopub.status.busy": "2021-06-16T04:37:13.159696Z",
     "iopub.status.idle": "2021-06-16T04:37:16.259870Z",
     "shell.execute_reply": "2021-06-16T04:37:16.260283Z"
    },
    "papermill": {
     "duration": 3.114239,
     "end_time": "2021-06-16T04:37:16.260403",
     "exception": false,
     "start_time": "2021-06-16T04:37:13.146164",
     "status": "completed"
    },
    "tags": []
   },
   "outputs": [
    {
     "data": {
      "image/png": "[encoded data removed]",
      "text/plain": [
       "<Figure size 216x216 with 1 Axes>"
      ]
     },
     "metadata": {
      "needs_background": "light"
     },
     "output_type": "display_data"
    }
   ],
   "source": [
    "import matplotlib.pyplot as plt\n",
    "\n",
    "colors = ['orange', 'blue'] \n",
    "fig = plt.figure(figsize=(3,3))\n",
    "ax = fig.add_subplot(111)\n",
    "for i in range(len(X)):\n",
    "    ax.scatter(X[i,0], X[i,1], s=1, color=colors[yn[i].int()])"
   ]
  },
  {
   "cell_type": "markdown",
   "metadata": {
    "papermill": {
     "duration": 0.010031,
     "end_time": "2021-06-16T04:37:16.283542",
     "exception": false,
     "start_time": "2021-06-16T04:37:16.273511",
     "status": "completed"
    },
    "tags": []
   },
   "source": [
    "Generated data can be easily loaded in the dataloader with standard `PyTorch` calls"
   ]
  },
  {
   "cell_type": "code",
   "execution_count": 4,
   "metadata": {
    "execution": {
     "iopub.execute_input": "2021-06-16T04:37:16.309363Z",
     "iopub.status.busy": "2021-06-16T04:37:16.309093Z",
     "iopub.status.idle": "2021-06-16T04:37:16.310901Z",
     "shell.execute_reply": "2021-06-16T04:37:16.310628Z"
    },
    "papermill": {
     "duration": 0.017361,
     "end_time": "2021-06-16T04:37:16.310950",
     "exception": false,
     "start_time": "2021-06-16T04:37:16.293589",
     "status": "completed"
    },
    "tags": []
   },
   "outputs": [],
   "source": [
    "import torch\n",
    "import torch.utils.data as data\n",
    "device = torch.device(\"cpu\") # all of this works in GPU as well :)\n",
    "\n",
    "X_train = torch.Tensor(X).to(device)\n",
    "y_train = torch.LongTensor(yn.long()).to(device)\n",
    "train = data.TensorDataset(X_train, y_train)\n",
    "trainloader = data.DataLoader(train, batch_size=len(X), shuffle=True)"
   ]
  },
  {
   "cell_type": "markdown",
   "metadata": {
    "papermill": {
     "duration": 0.009815,
     "end_time": "2021-06-16T04:37:16.330664",
     "exception": false,
     "start_time": "2021-06-16T04:37:16.320849",
     "status": "completed"
    },
    "tags": []
   },
   "source": [
    "We utilize [Pytorch Lightning](https://github.com/PyTorchLightning/pytorch-lightning) to handle training loops, logging and general bookkeeping. This allows `torchdyn` and Neural Differential Equations to have access to modern best practices for training and experiment reproducibility. \n",
    "\n",
    "In particular, we combine modular `torchdyn` models with `LightningModules` via a `Learner` class:"
   ]
  },
  {
   "cell_type": "code",
   "execution_count": 5,
   "metadata": {
    "execution": {
     "iopub.execute_input": "2021-06-16T04:37:16.357058Z",
     "iopub.status.busy": "2021-06-16T04:37:16.356744Z",
     "iopub.status.idle": "2021-06-16T04:37:16.359015Z",
     "shell.execute_reply": "2021-06-16T04:37:16.358677Z"
    },
    "papermill": {
     "duration": 0.018479,
     "end_time": "2021-06-16T04:37:16.359090",
     "exception": false,
     "start_time": "2021-06-16T04:37:16.340611",
     "status": "completed"
    },
    "tags": []
   },
   "outputs": [],
   "source": [
    "import torch.nn as nn\n",
    "import pytorch_lightning as pl\n",
    "\n",
    "class Learner(pl.LightningModule):\n",
    "    def __init__(self, model:nn.Module):\n",
    "        super().__init__()\n",
    "        self.model = model\n",
    "    \n",
    "    def forward(self, x):\n",
    "        return self.model(x)\n",
    "    \n",
    "    def training_step(self, batch, batch_idx):\n",
    "        x, y = batch      \n",
    "        y_hat = self.model(x)   \n",
    "        loss = nn.CrossEntropyLoss()(y_hat, y)\n",
    "        return {'loss': loss}   \n",
    "    \n",
    "    def configure_optimizers(self):\n",
    "        return torch.optim.Adam(self.model.parameters(), lr=0.01)\n",
    "\n",
    "    def train_dataloader(self):\n",
    "        return trainloader"
   ]
  },
  {
   "cell_type": "markdown",
   "metadata": {
    "papermill": {
     "duration": 0.009876,
     "end_time": "2021-06-16T04:37:16.382644",
     "exception": false,
     "start_time": "2021-06-16T04:37:16.372768",
     "status": "completed"
    },
    "tags": []
   },
   "source": [
    "## Define a  Neural ODE"
   ]
  },
  {
   "cell_type": "markdown",
   "metadata": {
    "papermill": {
     "duration": 0.00991,
     "end_time": "2021-06-16T04:37:16.402504",
     "exception": false,
     "start_time": "2021-06-16T04:37:16.392594",
     "status": "completed"
    },
    "tags": []
   },
   "source": [
    "Analogously to most forward neural models we want to realize a map \n",
    "\n",
    "$$\n",
    "        x \\mapsto \\hat y\n",
    "$$\n",
    "\n",
    "where  $\\hat y$ becomes the best approximation of a true output $y$ given an input $x$.\n",
    "In torchdyn you can define very simple Neural ODE models of the form \n",
    "\n",
    "$$ \\left\\{\n",
    "    \\begin{aligned}\n",
    "        \\dot{z}(s) &= f(z(s), \\theta)\\\\\n",
    "        z(0) &= x\\\\\n",
    "        \\hat y & = z(1)\n",
    "    \\end{aligned}\n",
    "    \\right. \\quad s\\in[0,1]\n",
    "$$\n",
    "\n",
    "by just specifying a neural network $f$ and giving some simple settings.\n",
    "\n",
    "**Note:** This Neural ODE model is of *depth-invariant* type as neither $f$ explicitly depend on $s$ nor the parameters $\\theta$ are depth-varying. Together with their *depth-variant* counterpart with $s$ concatenated in the vector field was first proposed and implemented by [[Chen T. Q. et al, 2018]](https://arxiv.org/abs/1806.07366)"
   ]
  },
  {
   "cell_type": "markdown",
   "metadata": {
    "papermill": {
     "duration": 0.010045,
     "end_time": "2021-06-16T04:37:16.422451",
     "exception": false,
     "start_time": "2021-06-16T04:37:16.412406",
     "status": "completed"
    },
    "tags": []
   },
   "source": [
    "### Define the vector field (DEFunc) \n",
    "\n",
    "The first step is to define any PyTorch `torch.nn.Module`. This takes the role of the Neural ODE vector field $f(h,\\theta)$ "
   ]
  },
  {
   "cell_type": "code",
   "execution_count": 6,
   "metadata": {
    "execution": {
     "iopub.execute_input": "2021-06-16T04:37:16.446475Z",
     "iopub.status.busy": "2021-06-16T04:37:16.446199Z",
     "iopub.status.idle": "2021-06-16T04:37:16.448834Z",
     "shell.execute_reply": "2021-06-16T04:37:16.449088Z"
    },
    "papermill": {
     "duration": 0.016584,
     "end_time": "2021-06-16T04:37:16.449155",
     "exception": false,
     "start_time": "2021-06-16T04:37:16.432571",
     "status": "completed"
    },
    "tags": []
   },
   "outputs": [],
   "source": [
    "f = nn.Sequential(\n",
    "        nn.Linear(2, 16),\n",
    "        nn.Tanh(),\n",
    "        nn.Linear(16, 2)                       \n",
    "    )"
   ]
  },
  {
   "cell_type": "markdown",
   "metadata": {
    "papermill": {
     "duration": 0.010075,
     "end_time": "2021-06-16T04:37:16.473439",
     "exception": false,
     "start_time": "2021-06-16T04:37:16.463364",
     "status": "completed"
    },
    "tags": []
   },
   "source": [
    "In this case we chose $f$ to be a simple MLP with one hidden layer and $\\tanh$ activation"
   ]
  },
  {
   "cell_type": "markdown",
   "metadata": {
    "papermill": {
     "duration": 0.009849,
     "end_time": "2021-06-16T04:37:16.493468",
     "exception": false,
     "start_time": "2021-06-16T04:37:16.483619",
     "status": "completed"
    },
    "tags": []
   },
   "source": [
    "### Define the NeuralDE"
   ]
  },
  {
   "cell_type": "markdown",
   "metadata": {
    "papermill": {
     "duration": 0.00985,
     "end_time": "2021-06-16T04:37:16.513359",
     "exception": false,
     "start_time": "2021-06-16T04:37:16.503509",
     "status": "completed"
    },
    "tags": []
   },
   "source": [
    "The final step to define a Neural ODE is to instantiate the torchdyn's class `NeuralDE` passing some customization arguments and `f` itself.\n",
    "\n",
    "In this case we specify:\n",
    "* we compute backward gradients with the `'adjoint'` method.\n",
    "* we will use the `'dopri5'` (Dormand-Prince) ODE solver from `torchdiffeq`;"
   ]
  },
  {
   "cell_type": "code",
   "execution_count": 7,
   "metadata": {
    "execution": {
     "iopub.execute_input": "2021-06-16T04:37:16.537746Z",
     "iopub.status.busy": "2021-06-16T04:37:16.537419Z",
     "iopub.status.idle": "2021-06-16T04:37:16.539409Z",
     "shell.execute_reply": "2021-06-16T04:37:16.539626Z"
    },
    "papermill": {
     "duration": 0.016392,
     "end_time": "2021-06-16T04:37:16.539684",
     "exception": false,
     "start_time": "2021-06-16T04:37:16.523292",
     "status": "completed"
    },
    "tags": []
   },
   "outputs": [],
   "source": [
    "model = NeuralODE(f, sensitivity='adjoint', solver='dopri5').to(device)"
   ]
  },
  {
   "cell_type": "markdown",
   "metadata": {
    "papermill": {
     "duration": 0.009874,
     "end_time": "2021-06-16T04:37:16.559457",
     "exception": false,
     "start_time": "2021-06-16T04:37:16.549583",
     "status": "completed"
    },
    "tags": []
   },
   "source": [
    "## Train the Model"
   ]
  },
  {
   "cell_type": "code",
   "execution_count": 8,
   "metadata": {
    "execution": {
     "iopub.execute_input": "2021-06-16T04:37:16.616429Z",
     "iopub.status.busy": "2021-06-16T04:37:16.615929Z",
     "iopub.status.idle": "2021-06-16T04:37:49.134202Z",
     "shell.execute_reply": "2021-06-16T04:37:49.134485Z"
    },
    "papermill": {
     "duration": 32.565209,
     "end_time": "2021-06-16T04:37:49.134585",
     "exception": false,
     "start_time": "2021-06-16T04:37:16.569376",
     "status": "completed"
    },
    "tags": []
   },
   "outputs": [
    {
     "name": "stderr",
     "output_type": "stream",
     "text": [
      "GPU available: True, used: False\n",
      "TPU available: False, using: 0 TPU cores\n",
      "/home/michael/.cache/pypoetry/virtualenvs/torchdyn-voYSR01p-py3.8/lib/python3.8/site-packages/pytorch_lightning/utilities/distributed.py:69: UserWarning: GPU available but not used. Set the gpus flag in your trainer `Trainer(gpus=1)` or script `--gpus=1`.\n",
      "  warnings.warn(*args, **kwargs)\n",
      "\n",
      "  | Name  | Type      | Params\n",
      "------------------------------------\n",
      "0 | model | NeuralODE | 82    \n",
      "------------------------------------\n",
      "82        Trainable params\n",
      "0         Non-trainable params\n",
      "82        Total params\n",
      "0.000     Total estimated model params size (MB)\n"
     ]
    },
    {
     "name": "stdout",
     "output_type": "stream",
     "text": [
      "Epoch 4:   0%|          | 0/1 [00:00<?, ?it/s, loss=0.976, v_num=133]        "
     ]
    },
    {
     "name": "stderr",
     "output_type": "stream",
     "text": [
      "/home/michael/.cache/pypoetry/virtualenvs/torchdyn-voYSR01p-py3.8/lib/python3.8/site-packages/pytorch_lightning/utilities/distributed.py:69: UserWarning: The dataloader, train dataloader, does not have many workers which may be a bottleneck. Consider increasing the value of the `num_workers` argument` (try 48 which is the number of cpus on this machine) in the `DataLoader` init to improve performance.\n",
      "  warnings.warn(*args, **kwargs)\n"
     ]
    },
    {
     "name": "stdout",
     "output_type": "stream",
     "text": [
      "Epoch 299: 100%|██████████| 1/1 [00:00<00:00,  6.65it/s, loss=0.00128, v_num=133]\n"
     ]
    }
   ],
   "source": [
    "learn = Learner(model)\n",
    "trainer = pl.Trainer(min_epochs=200, max_epochs=300)\n",
    "trainer.fit(learn)"
   ]
  },
  {
   "cell_type": "markdown",
   "metadata": {
    "papermill": {
     "duration": 0.173816,
     "end_time": "2021-06-16T04:37:49.483844",
     "exception": false,
     "start_time": "2021-06-16T04:37:49.310028",
     "status": "completed"
    },
    "tags": []
   },
   "source": [
    "With the method `trajectory` of `NeuralDE` objects you can quickly evaluate the entire trajectory of each data point in `X_train` on an interval `s_span`"
   ]
  },
  {
   "cell_type": "code",
   "execution_count": 9,
   "metadata": {
    "execution": {
     "iopub.execute_input": "2021-06-16T04:37:49.833695Z",
     "iopub.status.busy": "2021-06-16T04:37:49.833380Z",
     "iopub.status.idle": "2021-06-16T04:37:49.895180Z",
     "shell.execute_reply": "2021-06-16T04:37:49.895400Z"
    },
    "papermill": {
     "duration": 0.238262,
     "end_time": "2021-06-16T04:37:49.895467",
     "exception": false,
     "start_time": "2021-06-16T04:37:49.657205",
     "status": "completed"
    },
    "tags": []
   },
   "outputs": [],
   "source": [
    "s_span = torch.linspace(0,1,100)\n",
    "trajectory = model.trajectory(X_train, s_span).detach().cpu()"
   ]
  },
  {
   "cell_type": "markdown",
   "metadata": {
    "papermill": {
     "duration": 0.17308,
     "end_time": "2021-06-16T04:37:50.242824",
     "exception": false,
     "start_time": "2021-06-16T04:37:50.069744",
     "status": "completed"
    },
    "tags": []
   },
   "source": [
    "### Plot the Training Results"
   ]
  },
  {
   "cell_type": "markdown",
   "metadata": {
    "papermill": {
     "duration": 0.192076,
     "end_time": "2021-06-16T04:37:50.607492",
     "exception": false,
     "start_time": "2021-06-16T04:37:50.415416",
     "status": "completed"
    },
    "tags": []
   },
   "source": [
    "We can first plot the trajectories of the data points in the depth domain $s$"
   ]
  },
  {
   "cell_type": "code",
   "execution_count": 10,
   "metadata": {
    "execution": {
     "iopub.execute_input": "2021-06-16T04:37:50.973727Z",
     "iopub.status.busy": "2021-06-16T04:37:50.971429Z",
     "iopub.status.idle": "2021-06-16T04:37:52.365130Z",
     "shell.execute_reply": "2021-06-16T04:37:52.364676Z"
    },
    "papermill": {
     "duration": 1.584767,
     "end_time": "2021-06-16T04:37:52.365235",
     "exception": false,
     "start_time": "2021-06-16T04:37:50.780468",
     "status": "completed"
    },
    "tags": []
   },
   "outputs": [
    {
     "data": {
      "text/plain": [
       "Text(0.5, 1.0, 'Dimension 1')"
      ]
     },
     "execution_count": 10,
     "metadata": {},
     "output_type": "execute_result"
    },
    {
     "data": {
      "image/png": "[encoded data removed]",
      "text/plain": [
       "<Figure size 720x144 with 2 Axes>"
      ]
     },
     "metadata": {
      "needs_background": "light"
     },
     "output_type": "display_data"
    }
   ],
   "source": [
    "color=['orange', 'blue']\n",
    "\n",
    "fig = plt.figure(figsize=(10,2))\n",
    "ax0 = fig.add_subplot(121)\n",
    "ax1 = fig.add_subplot(122)\n",
    "for i in range(500):\n",
    "    ax0.plot(s_span, trajectory[:,i,0], color=color[int(yn[i])], alpha=.1);\n",
    "    ax1.plot(s_span, trajectory[:,i,1], color=color[int(yn[i])], alpha=.1);\n",
    "ax0.set_xlabel(r\"$s$ [Depth]\") ; ax0.set_ylabel(r\"$h_0(s)$\")\n",
    "ax1.set_xlabel(r\"$s$ [Depth]\") ; ax1.set_ylabel(r\"$z_1(s)$\")\n",
    "ax0.set_title(\"Dimension 0\") ; ax1.set_title(\"Dimension 1\")"
   ]
  },
  {
   "cell_type": "markdown",
   "metadata": {
    "papermill": {
     "duration": 0.17436,
     "end_time": "2021-06-16T04:37:52.723380",
     "exception": false,
     "start_time": "2021-06-16T04:37:52.549020",
     "status": "completed"
    },
    "tags": []
   },
   "source": [
    "Then the trajectory in the *state-space*"
   ]
  },
  {
   "cell_type": "markdown",
   "metadata": {
    "papermill": {
     "duration": 0.172814,
     "end_time": "2021-06-16T04:37:53.068941",
     "exception": false,
     "start_time": "2021-06-16T04:37:52.896127",
     "status": "completed"
    },
    "tags": []
   },
   "source": [
    "As you can see, the Neural ODE steers the data-points into regions of null loss with a continuous flow in the depth domain. Finally, we can also plot the learned vector field $f$"
   ]
  },
  {
   "cell_type": "code",
   "execution_count": 11,
   "metadata": {
    "execution": {
     "iopub.execute_input": "2021-06-16T04:37:53.423395Z",
     "iopub.status.busy": "2021-06-16T04:37:53.423095Z",
     "iopub.status.idle": "2021-06-16T04:37:54.028601Z",
     "shell.execute_reply": "2021-06-16T04:37:54.029033Z"
    },
    "papermill": {
     "duration": 0.78657,
     "end_time": "2021-06-16T04:37:54.029155",
     "exception": false,
     "start_time": "2021-06-16T04:37:53.242585",
     "status": "completed"
    },
    "tags": []
   },
   "outputs": [
    {
     "data": {
      "text/plain": [
       "<matplotlib.contour.QuadContourSet at 0x7fbb4d692760>"
      ]
     },
     "execution_count": 11,
     "metadata": {},
     "output_type": "execute_result"
    },
    {
     "data": {
      "image/png": "[encoded data removed]",
      "text/plain": [
       "<Figure size 288x288 with 1 Axes>"
      ]
     },
     "metadata": {
      "needs_background": "light"
     },
     "output_type": "display_data"
    }
   ],
   "source": [
    "# evaluate vector field\n",
    "n_pts = 50\n",
    "x = torch.linspace(trajectory[:,:,0].min(), trajectory[:,:,0].max(), n_pts)\n",
    "y = torch.linspace(trajectory[:,:,1].min(), trajectory[:,:,1].max(), n_pts)\n",
    "X, Y = torch.meshgrid(x, y) ; z = torch.cat([X.reshape(-1,1), Y.reshape(-1,1)], 1)\n",
    "f = model.defunc(0,z.to(device)).cpu().detach()\n",
    "fx, fy = f[:,0], f[:,1] ; fx, fy = fx.reshape(n_pts , n_pts), fy.reshape(n_pts, n_pts)\n",
    "# plot vector field and its intensity\n",
    "fig = plt.figure(figsize=(4, 4)) ; ax = fig.add_subplot(111)\n",
    "ax.streamplot(X.numpy().T, Y.numpy().T, fx.numpy().T, fy.numpy().T, color='black')\n",
    "ax.contourf(X.T, Y.T, torch.sqrt(fx.T**2+fy.T**2), cmap='RdYlBu')"
   ]
  },
  {
   "cell_type": "markdown",
   "metadata": {
    "papermill": {
     "duration": 0.17496,
     "end_time": "2021-06-16T04:37:54.385713",
     "exception": false,
     "start_time": "2021-06-16T04:37:54.210753",
     "status": "completed"
    },
    "tags": []
   },
   "source": [
    "**Sweet! You trained your first Neural ODE! Now you can proceed and learn about more advanced models with the next tutorials**"
   ]
  },
  {
   "cell_type": "code",
   "execution_count": null,
   "metadata": {
    "papermill": {
     "duration": 0.174468,
     "end_time": "2021-06-16T04:37:54.734892",
     "exception": false,
     "start_time": "2021-06-16T04:37:54.560424",
     "status": "completed"
    },
    "tags": []
   },
   "outputs": [],
   "source": []
  }
 ],
 "metadata": {
  "kernelspec": {
   "display_name": "Python 3",
   "language": "python",
   "name": "python3"
  },
  "language_info": {
   "codemirror_mode": {
    "name": "ipython",
    "version": 3
   },
   "file_extension": ".py",
   "mimetype": "text/x-python",
   "name": "python",
   "nbconvert_exporter": "python",
   "pygments_lexer": "ipython3",
   "version": "3.8.5"
  },
  "latex_envs": {
   "LaTeX_envs_menu_present": true,
   "autoclose": false,
   "autocomplete": true,
   "bibliofile": "biblio.bib",
   "cite_by": "apalike",
   "current_citInitial": 1,
   "eqLabelWithNumbers": true,
   "eqNumInitial": 1,
   "hotkeys": {
    "equation": "Ctrl-E",
    "itemize": "Ctrl-I"
   },
   "labels_anchors": false,
   "latex_user_defs": false,
   "report_style_numbering": false,
   "user_envs_cfg": false
  },
  "papermill": {
   "default_parameters": {},
   "duration": 43.999225,
   "end_time": "2021-06-16T04:37:55.516109",
   "environment_variables": {},
   "exception": null,
   "input_path": "tutorials/00_quickstart.ipynb",
   "output_path": "tutorials/00_quickstart.ipynb",
   "parameters": {},
   "start_time": "2021-06-16T04:37:11.516884",
   "version": "2.3.3"
  },
  "varInspector": {
   "cols": {
    "lenName": 16,
    "lenType": 16,
    "lenVar": 40
   },
   "kernels_config": {
    "python": {
     "delete_cmd_postfix": "",
     "delete_cmd_prefix": "del ",
     "library": "var_list.py",
     "varRefreshCmd": "print(var_dic_list())"
    },
    "r": {
     "delete_cmd_postfix": ") ",
     "delete_cmd_prefix": "rm(",
     "library": "var_list.r",
     "varRefreshCmd": "cat(var_dic_list()) "
    }
   },
   "types_to_exclude": [
    "module",
    "function",
    "builtin_function_or_method",
    "instance",
    "_Feature"
   ],
   "window_display": false
  },
  "widgets": {
   "application/vnd.jupyter.widget-state+json": {
    "state": {
     "01c9f0b8c3f9475dad1ece149cc26297": {
      "model_module": "@jupyter-widgets/controls",
      "model_module_version": "1.5.0",
      "model_name": "HTMLModel",
      "state": {
       "_dom_classes": [],
       "_model_module": "@jupyter-widgets/controls",
       "_model_module_version": "1.5.0",
       "_model_name": "HTMLModel",
       "_view_count": null,
       "_view_module": "@jupyter-widgets/controls",
       "_view_module_version": "1.5.0",
       "_view_name": "HTMLView",
       "description": "",
       "description_tooltip": null,
       "layout": "IPY_MODEL_62ff363c31924dbc9dc2e2f6ce1e2799",
       "placeholder": "​",
       "style": "IPY_MODEL_2ac62e343c1f4a9a8f73e351bbf08105",
       "value": " 1/1 [00:00&lt;00:00,  6.89it/s, loss=0.00143, v_num=130]"
      }
     },
     "116dc59bdc604b8b8b794f669f57e7d0": {
      "model_module": "@jupyter-widgets/controls",
      "model_module_version": "1.5.0",
      "model_name": "HTMLModel",
      "state": {
       "_dom_classes": [],
       "_model_module": "@jupyter-widgets/controls",
       "_model_module_version": "1.5.0",
       "_model_name": "HTMLModel",
       "_view_count": null,
       "_view_module": "@jupyter-widgets/controls",
       "_view_module_version": "1.5.0",
       "_view_name": "HTMLView",
       "description": "",
       "description_tooltip": null,
       "layout": "IPY_MODEL_fa9e7a7772354fc78912a32faaa5f80d",
       "placeholder": "​",
       "style": "IPY_MODEL_ad940f2c36c448d29c0553816aafcc28",
       "value": "Epoch 299: 100%"
      }
     },
     "2ac62e343c1f4a9a8f73e351bbf08105": {
      "model_module": "@jupyter-widgets/controls",
      "model_module_version": "1.5.0",
      "model_name": "DescriptionStyleModel",
      "state": {
       "_model_module": "@jupyter-widgets/controls",
       "_model_module_version": "1.5.0",
       "_model_name": "DescriptionStyleModel",
       "_view_count": null,
       "_view_module": "@jupyter-widgets/base",
       "_view_module_version": "1.2.0",
       "_view_name": "StyleView",
       "description_width": ""
      }
     },
     "62ff363c31924dbc9dc2e2f6ce1e2799": {
      "model_module": "@jupyter-widgets/base",
      "model_module_version": "1.2.0",
      "model_name": "LayoutModel",
      "state": {
       "_model_module": "@jupyter-widgets/base",
       "_model_module_version": "1.2.0",
       "_model_name": "LayoutModel",
       "_view_count": null,
       "_view_module": "@jupyter-widgets/base",
       "_view_module_version": "1.2.0",
       "_view_name": "LayoutView",
       "align_content": null,
       "align_items": null,
       "align_self": null,
       "border": null,
       "bottom": null,
       "display": null,
       "flex": null,
       "flex_flow": null,
       "grid_area": null,
       "grid_auto_columns": null,
       "grid_auto_flow": null,
       "grid_auto_rows": null,
       "grid_column": null,
       "grid_gap": null,
       "grid_row": null,
       "grid_template_areas": null,
       "grid_template_columns": null,
       "grid_template_rows": null,
       "height": null,
       "justify_content": null,
       "justify_items": null,
       "left": null,
       "margin": null,
       "max_height": null,
       "max_width": null,
       "min_height": null,
       "min_width": null,
       "object_fit": null,
       "object_position": null,
       "order": null,
       "overflow": null,
       "overflow_x": null,
       "overflow_y": null,
       "padding": null,
       "right": null,
       "top": null,
       "visibility": null,
       "width": null
      }
     },
     "8b9db87e24734f9093af7d6805c761a2": {
      "model_module": "@jupyter-widgets/base",
      "model_module_version": "1.2.0",
      "model_name": "LayoutModel",
      "state": {
       "_model_module": "@jupyter-widgets/base",
       "_model_module_version": "1.2.0",
       "_model_name": "LayoutModel",
       "_view_count": null,
       "_view_module": "@jupyter-widgets/base",
       "_view_module_version": "1.2.0",
       "_view_name": "LayoutView",
       "align_content": null,
       "align_items": null,
       "align_self": null,
       "border": null,
       "bottom": null,
       "display": null,
       "flex": "2",
       "flex_flow": null,
       "grid_area": null,
       "grid_auto_columns": null,
       "grid_auto_flow": null,
       "grid_auto_rows": null,
       "grid_column": null,
       "grid_gap": null,
       "grid_row": null,
       "grid_template_areas": null,
       "grid_template_columns": null,
       "grid_template_rows": null,
       "height": null,
       "justify_content": null,
       "justify_items": null,
       "left": null,
       "margin": null,
       "max_height": null,
       "max_width": null,
       "min_height": null,
       "min_width": null,
       "object_fit": null,
       "object_position": null,
       "order": null,
       "overflow": null,
       "overflow_x": null,
       "overflow_y": null,
       "padding": null,
       "right": null,
       "top": null,
       "visibility": null,
       "width": null
      }
     },
     "acd8b35756824433a2e7c7414a7c932a": {
      "model_module": "@jupyter-widgets/controls",
      "model_module_version": "1.5.0",
      "model_name": "FloatProgressModel",
      "state": {
       "_dom_classes": [],
       "_model_module": "@jupyter-widgets/controls",
       "_model_module_version": "1.5.0",
       "_model_name": "FloatProgressModel",
       "_view_count": null,
       "_view_module": "@jupyter-widgets/controls",
       "_view_module_version": "1.5.0",
       "_view_name": "ProgressView",
       "bar_style": "success",
       "description": "",
       "description_tooltip": null,
       "layout": "IPY_MODEL_8b9db87e24734f9093af7d6805c761a2",
       "max": 1,
       "min": 0,
       "orientation": "horizontal",
       "style": "IPY_MODEL_f5620172d0834b8eb890d15404e95ee1",
       "value": 1
      }
     },
     "ad940f2c36c448d29c0553816aafcc28": {
      "model_module": "@jupyter-widgets/controls",
      "model_module_version": "1.5.0",
      "model_name": "DescriptionStyleModel",
      "state": {
       "_model_module": "@jupyter-widgets/controls",
       "_model_module_version": "1.5.0",
       "_model_name": "DescriptionStyleModel",
       "_view_count": null,
       "_view_module": "@jupyter-widgets/base",
       "_view_module_version": "1.2.0",
       "_view_name": "StyleView",
       "description_width": ""
      }
     },
     "ce485f1f85f94f53ad16605a6fa1b826": {
      "model_module": "@jupyter-widgets/base",
      "model_module_version": "1.2.0",
      "model_name": "LayoutModel",
      "state": {
       "_model_module": "@jupyter-widgets/base",
       "_model_module_version": "1.2.0",
       "_model_name": "LayoutModel",
       "_view_count": null,
       "_view_module": "@jupyter-widgets/base",
       "_view_module_version": "1.2.0",
       "_view_name": "LayoutView",
       "align_content": null,
       "align_items": null,
       "align_self": null,
       "border": null,
       "bottom": null,
       "display": "inline-flex",
       "flex": null,
       "flex_flow": "row wrap",
       "grid_area": null,
       "grid_auto_columns": null,
       "grid_auto_flow": null,
       "grid_auto_rows": null,
       "grid_column": null,
       "grid_gap": null,
       "grid_row": null,
       "grid_template_areas": null,
       "grid_template_columns": null,
       "grid_template_rows": null,
       "height": null,
       "justify_content": null,
       "justify_items": null,
       "left": null,
       "margin": null,
       "max_height": null,
       "max_width": null,
       "min_height": null,
       "min_width": null,
       "object_fit": null,
       "object_position": null,
       "order": null,
       "overflow": null,
       "overflow_x": null,
       "overflow_y": null,
       "padding": null,
       "right": null,
       "top": null,
       "visibility": null,
       "width": "100%"
      }
     },
     "e78b7619cdc84671b74fa5f71de852b1": {
      "model_module": "@jupyter-widgets/controls",
      "model_module_version": "1.5.0",
      "model_name": "HBoxModel",
      "state": {
       "_dom_classes": [],
       "_model_module": "@jupyter-widgets/controls",
       "_model_module_version": "1.5.0",
       "_model_name": "HBoxModel",
       "_view_count": null,
       "_view_module": "@jupyter-widgets/controls",
       "_view_module_version": "1.5.0",
       "_view_name": "HBoxView",
       "box_style": "",
       "children": [
        "IPY_MODEL_116dc59bdc604b8b8b794f669f57e7d0",
        "IPY_MODEL_acd8b35756824433a2e7c7414a7c932a",
        "IPY_MODEL_01c9f0b8c3f9475dad1ece149cc26297"
       ],
       "layout": "IPY_MODEL_ce485f1f85f94f53ad16605a6fa1b826"
      }
     },
     "f5620172d0834b8eb890d15404e95ee1": {
      "model_module": "@jupyter-widgets/controls",
      "model_module_version": "1.5.0",
      "model_name": "ProgressStyleModel",
      "state": {
       "_model_module": "@jupyter-widgets/controls",
       "_model_module_version": "1.5.0",
       "_model_name": "ProgressStyleModel",
       "_view_count": null,
       "_view_module": "@jupyter-widgets/base",
       "_view_module_version": "1.2.0",
       "_view_name": "StyleView",
       "bar_color": null,
       "description_width": ""
      }
     },
     "fa9e7a7772354fc78912a32faaa5f80d": {
      "model_module": "@jupyter-widgets/base",
      "model_module_version": "1.2.0",
      "model_name": "LayoutModel",
      "state": {
       "_model_module": "@jupyter-widgets/base",
       "_model_module_version": "1.2.0",
       "_model_name": "LayoutModel",
       "_view_count": null,
       "_view_module": "@jupyter-widgets/base",
       "_view_module_version": "1.2.0",
       "_view_name": "LayoutView",
       "align_content": null,
       "align_items": null,
       "align_self": null,
       "border": null,
       "bottom": null,
       "display": null,
       "flex": null,
       "flex_flow": null,
       "grid_area": null,
       "grid_auto_columns": null,
       "grid_auto_flow": null,
       "grid_auto_rows": null,
       "grid_column": null,
       "grid_gap": null,
       "grid_row": null,
       "grid_template_areas": null,
       "grid_template_columns": null,
       "grid_template_rows": null,
       "height": null,
       "justify_content": null,
       "justify_items": null,
       "left": null,
       "margin": null,
       "max_height": null,
       "max_width": null,
       "min_height": null,
       "min_width": null,
       "object_fit": null,
       "object_position": null,
       "order": null,
       "overflow": null,
       "overflow_x": null,
       "overflow_y": null,
       "padding": null,
       "right": null,
       "top": null,
       "visibility": null,
       "width": null
      }
     }
    },
    "version_major": 2,
    "version_minor": 0
   }
  }
 },
 "nbformat": 4,
 "nbformat_minor": 5
}
