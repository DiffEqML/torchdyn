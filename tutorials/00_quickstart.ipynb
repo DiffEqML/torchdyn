{
 "cells": [
  {
   "cell_type": "markdown",
   "id": "0a852200",
   "metadata": {
    "papermill": {
     "duration": 0.014992,
     "end_time": "2021-06-17T12:40:44.374943",
     "exception": false,
     "start_time": "2021-06-17T12:40:44.359951",
     "status": "completed"
    },
    "tags": []
   },
   "source": [
    "# TorchDyn Quickstart\n",
    "\n",
    "**TorchDyn is the toolkit for continuous models in PyTorch. Play with state-of-the-art architectures or use its powerful libraries to create your own.**\n",
    "\n",
    "\n",
    "Central to the `torchdyn` approach are continuous neural networks, where *width*, *depth* (or both) are taken to their infinite limit. On the optimization front, we consider continuous \"data-stream\" regimes and gradient flow methods, where the dataset represents a time-evolving signal processed by the neural network to adapt its parameters. \n",
    "\n",
    "By providing a centralized, easy-to-access collection of model templates, tutorial and application notebooks, we hope to speed-up research in this area and ultimately contribute to turning neural differential equations into an effective tool for control, system identification and common machine learning tasks.\n"
   ]
  },
  {
   "cell_type": "code",
   "execution_count": 1,
   "id": "427e1744",
   "metadata": {
    "execution": {
     "iopub.execute_input": "2021-06-17T12:40:44.400821Z",
     "iopub.status.busy": "2021-06-17T12:40:44.400556Z",
     "iopub.status.idle": "2021-06-17T12:40:45.334322Z",
     "shell.execute_reply": "2021-06-17T12:40:45.334561Z"
    },
    "papermill": {
     "duration": 0.950439,
     "end_time": "2021-06-17T12:40:45.334664",
     "exception": false,
     "start_time": "2021-06-17T12:40:44.384225",
     "status": "completed"
    },
    "tags": []
   },
   "outputs": [],
   "source": [
    "from torchdyn.core import NeuralODE\n",
    "from torchdyn.datasets import *\n",
    "from torchdyn import *"
   ]
  },
  {
   "cell_type": "markdown",
   "id": "d8d66c12",
   "metadata": {
    "papermill": {
     "duration": 0.0094,
     "end_time": "2021-06-17T12:40:45.353760",
     "exception": false,
     "start_time": "2021-06-17T12:40:45.344360",
     "status": "completed"
    },
    "tags": []
   },
   "source": [
    "## Generate data from a static toy dataset \n",
    "\n",
    "We’ll be generating data from toy datasets. In torchdyn, we provide a wide range of datasets often use to benchmark and understand Neural ODEs. Here we will use the classic moons dataset and train a Neural ODE for binary classification"
   ]
  },
  {
   "cell_type": "code",
   "execution_count": 2,
   "id": "eae80f9c",
   "metadata": {
    "execution": {
     "iopub.execute_input": "2021-06-17T12:40:45.375260Z",
     "iopub.status.busy": "2021-06-17T12:40:45.374990Z",
     "iopub.status.idle": "2021-06-17T12:40:45.376597Z",
     "shell.execute_reply": "2021-06-17T12:40:45.376817Z"
    },
    "papermill": {
     "duration": 0.013665,
     "end_time": "2021-06-17T12:40:45.376875",
     "exception": false,
     "start_time": "2021-06-17T12:40:45.363210",
     "status": "completed"
    },
    "tags": []
   },
   "outputs": [],
   "source": [
    "d = ToyDataset()\n",
    "X, yn = d.generate(n_samples=512, noise=1e-1, dataset_type='moons')        "
   ]
  },
  {
   "cell_type": "code",
   "execution_count": 3,
   "id": "f7d3d725",
   "metadata": {
    "execution": {
     "iopub.execute_input": "2021-06-17T12:40:45.398238Z",
     "iopub.status.busy": "2021-06-17T12:40:45.397972Z",
     "iopub.status.idle": "2021-06-17T12:40:48.427767Z",
     "shell.execute_reply": "2021-06-17T12:40:48.427302Z"
    },
    "papermill": {
     "duration": 3.04145,
     "end_time": "2021-06-17T12:40:48.427886",
     "exception": false,
     "start_time": "2021-06-17T12:40:45.386436",
     "status": "completed"
    },
    "tags": []
   },
   "outputs": [
    {
     "data": {
      "image/png": "[encoded data removed]",
      "text/plain": [
       "<Figure size 216x216 with 1 Axes>"
      ]
     },
     "metadata": {
      "needs_background": "light"
     },
     "output_type": "display_data"
    }
   ],
   "source": [
    "import matplotlib.pyplot as plt\n",
    "\n",
    "colors = ['orange', 'blue'] \n",
    "fig = plt.figure(figsize=(3,3))\n",
    "ax = fig.add_subplot(111)\n",
    "for i in range(len(X)):\n",
    "    ax.scatter(X[i,0], X[i,1], s=1, color=colors[yn[i].int()])"
   ]
  },
  {
   "cell_type": "markdown",
   "id": "f50bec8d",
   "metadata": {
    "papermill": {
     "duration": 0.009588,
     "end_time": "2021-06-17T12:40:48.450799",
     "exception": false,
     "start_time": "2021-06-17T12:40:48.441211",
     "status": "completed"
    },
    "tags": []
   },
   "source": [
    "Generated data can be easily loaded in the dataloader with standard `PyTorch` calls"
   ]
  },
  {
   "cell_type": "code",
   "execution_count": 4,
   "id": "38ce625a",
   "metadata": {
    "execution": {
     "iopub.execute_input": "2021-06-17T12:40:48.476306Z",
     "iopub.status.busy": "2021-06-17T12:40:48.475988Z",
     "iopub.status.idle": "2021-06-17T12:40:48.479813Z",
     "shell.execute_reply": "2021-06-17T12:40:48.480025Z"
    },
    "papermill": {
     "duration": 0.017731,
     "end_time": "2021-06-17T12:40:48.480086",
     "exception": false,
     "start_time": "2021-06-17T12:40:48.462355",
     "status": "completed"
    },
    "tags": []
   },
   "outputs": [],
   "source": [
    "import torch\n",
    "import torch.utils.data as data\n",
    "device = torch.device(\"cpu\") # all of this works in GPU as well :)\n",
    "\n",
    "X_train = torch.Tensor(X).to(device)\n",
    "y_train = torch.LongTensor(yn.long()).to(device)\n",
    "train = data.TensorDataset(X_train, y_train)\n",
    "trainloader = data.DataLoader(train, batch_size=len(X), shuffle=True)"
   ]
  },
  {
   "cell_type": "markdown",
   "id": "f5d4eb7b",
   "metadata": {
    "papermill": {
     "duration": 0.011105,
     "end_time": "2021-06-17T12:40:48.501049",
     "exception": false,
     "start_time": "2021-06-17T12:40:48.489944",
     "status": "completed"
    },
    "tags": []
   },
   "source": [
    "We utilize [Pytorch Lightning](https://github.com/PyTorchLightning/pytorch-lightning) to handle training loops, logging and general bookkeeping. This allows `torchdyn` and Neural Differential Equations to have access to modern best practices for training and experiment reproducibility. \n",
    "\n",
    "In particular, we combine modular `torchdyn` models with `LightningModules` via a `Learner` class:"
   ]
  },
  {
   "cell_type": "code",
   "execution_count": 5,
   "id": "53e6a240",
   "metadata": {
    "execution": {
     "iopub.execute_input": "2021-06-17T12:40:48.527625Z",
     "iopub.status.busy": "2021-06-17T12:40:48.527354Z",
     "iopub.status.idle": "2021-06-17T12:40:48.529307Z",
     "shell.execute_reply": "2021-06-17T12:40:48.529031Z"
    },
    "papermill": {
     "duration": 0.017865,
     "end_time": "2021-06-17T12:40:48.529360",
     "exception": false,
     "start_time": "2021-06-17T12:40:48.511495",
     "status": "completed"
    },
    "tags": []
   },
   "outputs": [],
   "source": [
    "import torch.nn as nn\n",
    "import pytorch_lightning as pl\n",
    "\n",
    "class Learner(pl.LightningModule):\n",
    "    def __init__(self, model:nn.Module):\n",
    "        super().__init__()\n",
    "        self.model = model\n",
    "    \n",
    "    def forward(self, x):\n",
    "        return self.model(x)\n",
    "    \n",
    "    def training_step(self, batch, batch_idx):\n",
    "        x, y = batch      \n",
    "        y_hat = self.model(x)   \n",
    "        loss = nn.CrossEntropyLoss()(y_hat, y)\n",
    "        return {'loss': loss}   \n",
    "    \n",
    "    def configure_optimizers(self):\n",
    "        return torch.optim.Adam(self.model.parameters(), lr=0.01)\n",
    "\n",
    "    def train_dataloader(self):\n",
    "        return trainloader"
   ]
  },
  {
   "cell_type": "markdown",
   "id": "e4b45220",
   "metadata": {
    "papermill": {
     "duration": 0.0096,
     "end_time": "2021-06-17T12:40:48.548645",
     "exception": false,
     "start_time": "2021-06-17T12:40:48.539045",
     "status": "completed"
    },
    "tags": []
   },
   "source": [
    "## Define a  Neural ODE"
   ]
  },
  {
   "cell_type": "markdown",
   "id": "3a2f562e",
   "metadata": {
    "papermill": {
     "duration": 0.00958,
     "end_time": "2021-06-17T12:40:48.568098",
     "exception": false,
     "start_time": "2021-06-17T12:40:48.558518",
     "status": "completed"
    },
    "tags": []
   },
   "source": [
    "Analogously to most forward neural models we want to realize a map \n",
    "\n",
    "$$\n",
    "        x \\mapsto \\hat y\n",
    "$$\n",
    "\n",
    "where  $\\hat y$ becomes the best approximation of a true output $y$ given an input $x$.\n",
    "In torchdyn you can define very simple Neural ODE models of the form \n",
    "\n",
    "$$ \\left\\{\n",
    "    \\begin{aligned}\n",
    "        \\dot{z}(s) &= f(z(s), \\theta)\\\\\n",
    "        z(0) &= x\\\\\n",
    "        \\hat y & = z(1)\n",
    "    \\end{aligned}\n",
    "    \\right. \\quad s\\in[0,1]\n",
    "$$\n",
    "\n",
    "by just specifying a neural network $f$ and giving some simple settings.\n",
    "\n",
    "**Note:** This Neural ODE model is of *depth-invariant* type as neither $f$ explicitly depend on $s$ nor the parameters $\\theta$ are depth-varying. Together with their *depth-variant* counterpart with $s$ concatenated in the vector field was first proposed and implemented by [[Chen T. Q. et al, 2018]](https://arxiv.org/abs/1806.07366)"
   ]
  },
  {
   "cell_type": "markdown",
   "id": "da360c23",
   "metadata": {
    "papermill": {
     "duration": 0.009594,
     "end_time": "2021-06-17T12:40:48.587324",
     "exception": false,
     "start_time": "2021-06-17T12:40:48.577730",
     "status": "completed"
    },
    "tags": []
   },
   "source": [
    "### Define the vector field (DEFunc) \n",
    "\n",
    "The first step is to define any PyTorch `torch.nn.Module`. This takes the role of the Neural ODE vector field $f(h,\\theta)$ "
   ]
  },
  {
   "cell_type": "code",
   "execution_count": 6,
   "id": "182176d7",
   "metadata": {
    "execution": {
     "iopub.execute_input": "2021-06-17T12:40:48.610000Z",
     "iopub.status.busy": "2021-06-17T12:40:48.609735Z",
     "iopub.status.idle": "2021-06-17T12:40:48.612435Z",
     "shell.execute_reply": "2021-06-17T12:40:48.612690Z"
    },
    "papermill": {
     "duration": 0.015792,
     "end_time": "2021-06-17T12:40:48.612758",
     "exception": false,
     "start_time": "2021-06-17T12:40:48.596966",
     "status": "completed"
    },
    "tags": []
   },
   "outputs": [],
   "source": [
    "f = nn.Sequential(\n",
    "        nn.Linear(2, 16),\n",
    "        nn.Tanh(),\n",
    "        nn.Linear(16, 2)                       \n",
    "    )"
   ]
  },
  {
   "cell_type": "markdown",
   "id": "468b2de5",
   "metadata": {
    "papermill": {
     "duration": 0.009669,
     "end_time": "2021-06-17T12:40:48.632230",
     "exception": false,
     "start_time": "2021-06-17T12:40:48.622561",
     "status": "completed"
    },
    "tags": []
   },
   "source": [
    "In this case we chose $f$ to be a simple MLP with one hidden layer and $\\tanh$ activation"
   ]
  },
  {
   "cell_type": "markdown",
   "id": "780c01d4",
   "metadata": {
    "papermill": {
     "duration": 0.009668,
     "end_time": "2021-06-17T12:40:48.651551",
     "exception": false,
     "start_time": "2021-06-17T12:40:48.641883",
     "status": "completed"
    },
    "tags": []
   },
   "source": [
    "### Define the NeuralDE"
   ]
  },
  {
   "cell_type": "markdown",
   "id": "da062403",
   "metadata": {
    "papermill": {
     "duration": 0.009634,
     "end_time": "2021-06-17T12:40:48.670881",
     "exception": false,
     "start_time": "2021-06-17T12:40:48.661247",
     "status": "completed"
    },
    "tags": []
   },
   "source": [
    "The final step to define a Neural ODE is to instantiate the torchdyn's class `NeuralDE` passing some customization arguments and `f` itself.\n",
    "\n",
    "In this case we specify:\n",
    "* we compute backward gradients with the `'adjoint'` method.\n",
    "* we will use the `'dopri5'` (Dormand-Prince) ODE solver from `torchdiffeq`;"
   ]
  },
  {
   "cell_type": "code",
   "execution_count": 7,
   "id": "076e9a76",
   "metadata": {
    "execution": {
     "iopub.execute_input": "2021-06-17T12:40:48.693570Z",
     "iopub.status.busy": "2021-06-17T12:40:48.693299Z",
     "iopub.status.idle": "2021-06-17T12:40:48.695338Z",
     "shell.execute_reply": "2021-06-17T12:40:48.695554Z"
    },
    "papermill": {
     "duration": 0.015034,
     "end_time": "2021-06-17T12:40:48.695612",
     "exception": false,
     "start_time": "2021-06-17T12:40:48.680578",
     "status": "completed"
    },
    "tags": []
   },
   "outputs": [],
   "source": [
    "model = NeuralODE(f, sensitivity='adjoint', solver='dopri5').to(device)"
   ]
  },
  {
   "cell_type": "markdown",
   "id": "0d3a2537",
   "metadata": {
    "papermill": {
     "duration": 0.009603,
     "end_time": "2021-06-17T12:40:48.714949",
     "exception": false,
     "start_time": "2021-06-17T12:40:48.705346",
     "status": "completed"
    },
    "tags": []
   },
   "source": [
    "## Train the Model"
   ]
  },
  {
   "cell_type": "code",
   "execution_count": 8,
   "id": "229ec8f9",
   "metadata": {
    "execution": {
     "iopub.execute_input": "2021-06-17T12:40:48.769574Z",
     "iopub.status.busy": "2021-06-17T12:40:48.769070Z",
     "iopub.status.idle": "2021-06-17T12:41:19.288928Z",
     "shell.execute_reply": "2021-06-17T12:41:19.289175Z"
    },
    "papermill": {
     "duration": 30.564639,
     "end_time": "2021-06-17T12:41:19.289265",
     "exception": false,
     "start_time": "2021-06-17T12:40:48.724626",
     "status": "completed"
    },
    "tags": []
   },
   "outputs": [
    {
     "name": "stderr",
     "output_type": "stream",
     "text": [
      "GPU available: True, used: False\n"
     ]
    },
    {
     "name": "stderr",
     "output_type": "stream",
     "text": [
      "TPU available: False, using: 0 TPU cores\n"
     ]
    },
    {
     "name": "stderr",
     "output_type": "stream",
     "text": [
      "/home/michael/.cache/pypoetry/virtualenvs/torchdyn-voYSR01p-py3.8/lib/python3.8/site-packages/pytorch_lightning/utilities/distributed.py:69: UserWarning: GPU available but not used. Set the gpus flag in your trainer `Trainer(gpus=1)` or script `--gpus=1`.\n",
      "  warnings.warn(*args, **kwargs)\n",
      "\n",
      "  | Name  | Type      | Params\n",
      "------------------------------------\n",
      "0 | model | NeuralODE | 82    \n",
      "------------------------------------\n",
      "82        Trainable params\n",
      "0         Non-trainable params\n",
      "82        Total params\n",
      "0.000     Total estimated model params size (MB)\n"
     ]
    },
    {
     "name": "stderr",
     "output_type": "stream",
     "text": [
      "/home/michael/.cache/pypoetry/virtualenvs/torchdyn-voYSR01p-py3.8/lib/python3.8/site-packages/pytorch_lightning/utilities/distributed.py:69: UserWarning: The dataloader, train dataloader, does not have many workers which may be a bottleneck. Consider increasing the value of the `num_workers` argument` (try 48 which is the number of cpus on this machine) in the `DataLoader` init to improve performance.\n",
      "  warnings.warn(*args, **kwargs)\n"
     ]
    },
    {
     "data": {
      "application/vnd.jupyter.widget-view+json": {
       "model_id": "83a1ea6798d04f40aebabab4fc0bee1e",
       "version_major": 2,
       "version_minor": 0
      },
      "text/plain": [
       "Training: 0it [00:00, ?it/s]"
      ]
     },
     "metadata": {},
     "output_type": "display_data"
    }
   ],
   "source": [
    "learn = Learner(model)\n",
    "trainer = pl.Trainer(min_epochs=200, max_epochs=300)\n",
    "trainer.fit(learn)"
   ]
  },
  {
   "cell_type": "markdown",
   "id": "f79ca21d",
   "metadata": {
    "papermill": {
     "duration": 0.011419,
     "end_time": "2021-06-17T12:41:19.312551",
     "exception": false,
     "start_time": "2021-06-17T12:41:19.301132",
     "status": "completed"
    },
    "tags": []
   },
   "source": [
    "With the method `trajectory` of `NeuralDE` objects you can quickly evaluate the entire trajectory of each data point in `X_train` on an interval `s_span`"
   ]
  },
  {
   "cell_type": "code",
   "execution_count": 9,
   "id": "a508a193",
   "metadata": {
    "execution": {
     "iopub.execute_input": "2021-06-17T12:41:19.339473Z",
     "iopub.status.busy": "2021-06-17T12:41:19.339153Z",
     "iopub.status.idle": "2021-06-17T12:41:19.394222Z",
     "shell.execute_reply": "2021-06-17T12:41:19.394498Z"
    },
    "papermill": {
     "duration": 0.070117,
     "end_time": "2021-06-17T12:41:19.394563",
     "exception": false,
     "start_time": "2021-06-17T12:41:19.324446",
     "status": "completed"
    },
    "tags": []
   },
   "outputs": [],
   "source": [
    "s_span = torch.linspace(0,1,100)\n",
    "trajectory = model.trajectory(X_train, s_span).detach().cpu()"
   ]
  },
  {
   "cell_type": "markdown",
   "id": "f2d82883",
   "metadata": {
    "papermill": {
     "duration": 0.011168,
     "end_time": "2021-06-17T12:41:19.420369",
     "exception": false,
     "start_time": "2021-06-17T12:41:19.409201",
     "status": "completed"
    },
    "tags": []
   },
   "source": [
    "### Plot the Training Results"
   ]
  },
  {
   "cell_type": "markdown",
   "id": "d412e494",
   "metadata": {
    "papermill": {
     "duration": 0.011109,
     "end_time": "2021-06-17T12:41:19.442850",
     "exception": false,
     "start_time": "2021-06-17T12:41:19.431741",
     "status": "completed"
    },
    "tags": []
   },
   "source": [
    "We can first plot the trajectories of the data points in the depth domain $s$"
   ]
  },
  {
   "cell_type": "code",
   "execution_count": 10,
   "id": "f301afea",
   "metadata": {
    "execution": {
     "iopub.execute_input": "2021-06-17T12:41:19.495518Z",
     "iopub.status.busy": "2021-06-17T12:41:19.485426Z",
     "iopub.status.idle": "2021-06-17T12:41:21.071875Z",
     "shell.execute_reply": "2021-06-17T12:41:21.072310Z"
    },
    "papermill": {
     "duration": 1.618533,
     "end_time": "2021-06-17T12:41:21.072453",
     "exception": false,
     "start_time": "2021-06-17T12:41:19.453920",
     "status": "completed"
    },
    "tags": []
   },
   "outputs": [
    {
     "data": {
      "text/plain": [
       "Text(0.5, 1.0, 'Dimension 1')"
      ]
     },
     "execution_count": 10,
     "metadata": {},
     "output_type": "execute_result"
    },
    {
     "data": {
      "image/png": "[encoded data removed]",
      "text/plain": [
       "<Figure size 720x144 with 2 Axes>"
      ]
     },
     "metadata": {
      "needs_background": "light"
     },
     "output_type": "display_data"
    }
   ],
   "source": [
    "color=['orange', 'blue']\n",
    "\n",
    "fig = plt.figure(figsize=(10,2))\n",
    "ax0 = fig.add_subplot(121)\n",
    "ax1 = fig.add_subplot(122)\n",
    "for i in range(500):\n",
    "    ax0.plot(s_span, trajectory[:,i,0], color=color[int(yn[i])], alpha=.1);\n",
    "    ax1.plot(s_span, trajectory[:,i,1], color=color[int(yn[i])], alpha=.1);\n",
    "ax0.set_xlabel(r\"$s$ [Depth]\") ; ax0.set_ylabel(r\"$h_0(s)$\")\n",
    "ax1.set_xlabel(r\"$s$ [Depth]\") ; ax1.set_ylabel(r\"$z_1(s)$\")\n",
    "ax0.set_title(\"Dimension 0\") ; ax1.set_title(\"Dimension 1\")"
   ]
  },
  {
   "cell_type": "markdown",
   "id": "42f23b82",
   "metadata": {
    "papermill": {
     "duration": 0.012465,
     "end_time": "2021-06-17T12:41:21.100703",
     "exception": false,
     "start_time": "2021-06-17T12:41:21.088238",
     "status": "completed"
    },
    "tags": []
   },
   "source": [
    "Then the trajectory in the *state-space*"
   ]
  },
  {
   "cell_type": "markdown",
   "id": "9aa7cef8",
   "metadata": {
    "papermill": {
     "duration": 0.012078,
     "end_time": "2021-06-17T12:41:21.124814",
     "exception": false,
     "start_time": "2021-06-17T12:41:21.112736",
     "status": "completed"
    },
    "tags": []
   },
   "source": [
    "As you can see, the Neural ODE steers the data-points into regions of null loss with a continuous flow in the depth domain. Finally, we can also plot the learned vector field $f$"
   ]
  },
  {
   "cell_type": "code",
   "execution_count": 11,
   "id": "e8c8176d",
   "metadata": {
    "execution": {
     "iopub.execute_input": "2021-06-17T12:41:21.155007Z",
     "iopub.status.busy": "2021-06-17T12:41:21.154711Z",
     "iopub.status.idle": "2021-06-17T12:41:21.676039Z",
     "shell.execute_reply": "2021-06-17T12:41:21.676470Z"
    },
    "papermill": {
     "duration": 0.539738,
     "end_time": "2021-06-17T12:41:21.676613",
     "exception": false,
     "start_time": "2021-06-17T12:41:21.136875",
     "status": "completed"
    },
    "tags": []
   },
   "outputs": [
    {
     "data": {
      "text/plain": [
       "<matplotlib.contour.QuadContourSet at 0x7fe5540cb850>"
      ]
     },
     "execution_count": 11,
     "metadata": {},
     "output_type": "execute_result"
    },
    {
     "data": {
      "image/png": "[encoded data removed]",
      "text/plain": [
       "<Figure size 288x288 with 1 Axes>"
      ]
     },
     "metadata": {
      "needs_background": "light"
     },
     "output_type": "display_data"
    }
   ],
   "source": [
    "# evaluate vector field\n",
    "n_pts = 50\n",
    "x = torch.linspace(trajectory[:,:,0].min(), trajectory[:,:,0].max(), n_pts)\n",
    "y = torch.linspace(trajectory[:,:,1].min(), trajectory[:,:,1].max(), n_pts)\n",
    "X, Y = torch.meshgrid(x, y) ; z = torch.cat([X.reshape(-1,1), Y.reshape(-1,1)], 1)\n",
    "f = model.defunc(0,z.to(device)).cpu().detach()\n",
    "fx, fy = f[:,0], f[:,1] ; fx, fy = fx.reshape(n_pts , n_pts), fy.reshape(n_pts, n_pts)\n",
    "# plot vector field and its intensity\n",
    "fig = plt.figure(figsize=(4, 4)) ; ax = fig.add_subplot(111)\n",
    "ax.streamplot(X.numpy().T, Y.numpy().T, fx.numpy().T, fy.numpy().T, color='black')\n",
    "ax.contourf(X.T, Y.T, torch.sqrt(fx.T**2+fy.T**2), cmap='RdYlBu')"
   ]
  },
  {
   "cell_type": "markdown",
   "id": "5e14eed9",
   "metadata": {
    "papermill": {
     "duration": 0.013463,
     "end_time": "2021-06-17T12:41:21.709029",
     "exception": false,
     "start_time": "2021-06-17T12:41:21.695566",
     "status": "completed"
    },
    "tags": []
   },
   "source": [
    "**Sweet! You trained your first Neural ODE! Now you can proceed and learn about more advanced models with the next tutorials**"
   ]
  },
  {
   "cell_type": "code",
   "execution_count": null,
   "id": "60992105",
   "metadata": {
    "papermill": {
     "duration": 0.013487,
     "end_time": "2021-06-17T12:41:21.736071",
     "exception": false,
     "start_time": "2021-06-17T12:41:21.722584",
     "status": "completed"
    },
    "tags": []
   },
   "outputs": [],
   "source": []
  }
 ],
 "metadata": {
  "kernelspec": {
   "display_name": "Python 3",
   "language": "python",
   "name": "python3"
  },
  "language_info": {
   "codemirror_mode": {
    "name": "ipython",
    "version": 3
   },
   "file_extension": ".py",
   "mimetype": "text/x-python",
   "name": "python",
   "nbconvert_exporter": "python",
   "pygments_lexer": "ipython3",
   "version": "3.8.5"
  },
  "latex_envs": {
   "LaTeX_envs_menu_present": true,
   "autoclose": false,
   "autocomplete": true,
   "bibliofile": "biblio.bib",
   "cite_by": "apalike",
   "current_citInitial": 1,
   "eqLabelWithNumbers": true,
   "eqNumInitial": 1,
   "hotkeys": {
    "equation": "Ctrl-E",
    "itemize": "Ctrl-I"
   },
   "labels_anchors": false,
   "latex_user_defs": false,
   "report_style_numbering": false,
   "user_envs_cfg": false
  },
  "papermill": {
   "default_parameters": {},
   "duration": 38.754863,
   "end_time": "2021-06-17T12:41:22.455941",
   "environment_variables": {},
   "exception": null,
   "input_path": "tutorials/00_quickstart.ipynb",
   "output_path": "tutorials/00_quickstart.ipynb",
   "parameters": {},
   "start_time": "2021-06-17T12:40:43.701078",
   "version": "2.3.3"
  },
  "varInspector": {
   "cols": {
    "lenName": 16,
    "lenType": 16,
    "lenVar": 40
   },
   "kernels_config": {
    "python": {
     "delete_cmd_postfix": "",
     "delete_cmd_prefix": "del ",
     "library": "var_list.py",
     "varRefreshCmd": "print(var_dic_list())"
    },
    "r": {
     "delete_cmd_postfix": ") ",
     "delete_cmd_prefix": "rm(",
     "library": "var_list.r",
     "varRefreshCmd": "cat(var_dic_list()) "
    }
   },
   "types_to_exclude": [
    "module",
    "function",
    "builtin_function_or_method",
    "instance",
    "_Feature"
   ],
   "window_display": false
  },
  "widgets": {
   "application/vnd.jupyter.widget-state+json": {
    "state": {
     "158e90ab7ea9447a95e56b0068a7d92c": {
      "model_module": "@jupyter-widgets/base",
      "model_module_version": "1.2.0",
      "model_name": "LayoutModel",
      "state": {
       "_model_module": "@jupyter-widgets/base",
       "_model_module_version": "1.2.0",
       "_model_name": "LayoutModel",
       "_view_count": null,
       "_view_module": "@jupyter-widgets/base",
       "_view_module_version": "1.2.0",
       "_view_name": "LayoutView",
       "align_content": null,
       "align_items": null,
       "align_self": null,
       "border": null,
       "bottom": null,
       "display": null,
       "flex": null,
       "flex_flow": null,
       "grid_area": null,
       "grid_auto_columns": null,
       "grid_auto_flow": null,
       "grid_auto_rows": null,
       "grid_column": null,
       "grid_gap": null,
       "grid_row": null,
       "grid_template_areas": null,
       "grid_template_columns": null,
       "grid_template_rows": null,
       "height": null,
       "justify_content": null,
       "justify_items": null,
       "left": null,
       "margin": null,
       "max_height": null,
       "max_width": null,
       "min_height": null,
       "min_width": null,
       "object_fit": null,
       "object_position": null,
       "order": null,
       "overflow": null,
       "overflow_x": null,
       "overflow_y": null,
       "padding": null,
       "right": null,
       "top": null,
       "visibility": null,
       "width": null
      }
     },
     "1aea26bae21e409592cb96aae554c987": {
      "model_module": "@jupyter-widgets/controls",
      "model_module_version": "1.5.0",
      "model_name": "HTMLModel",
      "state": {
       "_dom_classes": [],
       "_model_module": "@jupyter-widgets/controls",
       "_model_module_version": "1.5.0",
       "_model_name": "HTMLModel",
       "_view_count": null,
       "_view_module": "@jupyter-widgets/controls",
       "_view_module_version": "1.5.0",
       "_view_name": "HTMLView",
       "description": "",
       "description_tooltip": null,
       "layout": "IPY_MODEL_158e90ab7ea9447a95e56b0068a7d92c",
       "placeholder": "​",
       "style": "IPY_MODEL_f742854f7e3846b1b14b96282a05e3ce",
       "value": "Epoch 299: 100%"
      }
     },
     "2fc617af4c824879bfc077dda442b9b6": {
      "model_module": "@jupyter-widgets/controls",
      "model_module_version": "1.5.0",
      "model_name": "DescriptionStyleModel",
      "state": {
       "_model_module": "@jupyter-widgets/controls",
       "_model_module_version": "1.5.0",
       "_model_name": "DescriptionStyleModel",
       "_view_count": null,
       "_view_module": "@jupyter-widgets/base",
       "_view_module_version": "1.2.0",
       "_view_name": "StyleView",
       "description_width": ""
      }
     },
     "4b7fb70bede44a4c9688260189f8c979": {
      "model_module": "@jupyter-widgets/base",
      "model_module_version": "1.2.0",
      "model_name": "LayoutModel",
      "state": {
       "_model_module": "@jupyter-widgets/base",
       "_model_module_version": "1.2.0",
       "_model_name": "LayoutModel",
       "_view_count": null,
       "_view_module": "@jupyter-widgets/base",
       "_view_module_version": "1.2.0",
       "_view_name": "LayoutView",
       "align_content": null,
       "align_items": null,
       "align_self": null,
       "border": null,
       "bottom": null,
       "display": null,
       "flex": null,
       "flex_flow": null,
       "grid_area": null,
       "grid_auto_columns": null,
       "grid_auto_flow": null,
       "grid_auto_rows": null,
       "grid_column": null,
       "grid_gap": null,
       "grid_row": null,
       "grid_template_areas": null,
       "grid_template_columns": null,
       "grid_template_rows": null,
       "height": null,
       "justify_content": null,
       "justify_items": null,
       "left": null,
       "margin": null,
       "max_height": null,
       "max_width": null,
       "min_height": null,
       "min_width": null,
       "object_fit": null,
       "object_position": null,
       "order": null,
       "overflow": null,
       "overflow_x": null,
       "overflow_y": null,
       "padding": null,
       "right": null,
       "top": null,
       "visibility": null,
       "width": null
      }
     },
     "690f16b5f90647629f4f0e87fe047b84": {
      "model_module": "@jupyter-widgets/base",
      "model_module_version": "1.2.0",
      "model_name": "LayoutModel",
      "state": {
       "_model_module": "@jupyter-widgets/base",
       "_model_module_version": "1.2.0",
       "_model_name": "LayoutModel",
       "_view_count": null,
       "_view_module": "@jupyter-widgets/base",
       "_view_module_version": "1.2.0",
       "_view_name": "LayoutView",
       "align_content": null,
       "align_items": null,
       "align_self": null,
       "border": null,
       "bottom": null,
       "display": "inline-flex",
       "flex": null,
       "flex_flow": "row wrap",
       "grid_area": null,
       "grid_auto_columns": null,
       "grid_auto_flow": null,
       "grid_auto_rows": null,
       "grid_column": null,
       "grid_gap": null,
       "grid_row": null,
       "grid_template_areas": null,
       "grid_template_columns": null,
       "grid_template_rows": null,
       "height": null,
       "justify_content": null,
       "justify_items": null,
       "left": null,
       "margin": null,
       "max_height": null,
       "max_width": null,
       "min_height": null,
       "min_width": null,
       "object_fit": null,
       "object_position": null,
       "order": null,
       "overflow": null,
       "overflow_x": null,
       "overflow_y": null,
       "padding": null,
       "right": null,
       "top": null,
       "visibility": null,
       "width": "100%"
      }
     },
     "7896419f2ed5420a9af341a85251667a": {
      "model_module": "@jupyter-widgets/base",
      "model_module_version": "1.2.0",
      "model_name": "LayoutModel",
      "state": {
       "_model_module": "@jupyter-widgets/base",
       "_model_module_version": "1.2.0",
       "_model_name": "LayoutModel",
       "_view_count": null,
       "_view_module": "@jupyter-widgets/base",
       "_view_module_version": "1.2.0",
       "_view_name": "LayoutView",
       "align_content": null,
       "align_items": null,
       "align_self": null,
       "border": null,
       "bottom": null,
       "display": null,
       "flex": "2",
       "flex_flow": null,
       "grid_area": null,
       "grid_auto_columns": null,
       "grid_auto_flow": null,
       "grid_auto_rows": null,
       "grid_column": null,
       "grid_gap": null,
       "grid_row": null,
       "grid_template_areas": null,
       "grid_template_columns": null,
       "grid_template_rows": null,
       "height": null,
       "justify_content": null,
       "justify_items": null,
       "left": null,
       "margin": null,
       "max_height": null,
       "max_width": null,
       "min_height": null,
       "min_width": null,
       "object_fit": null,
       "object_position": null,
       "order": null,
       "overflow": null,
       "overflow_x": null,
       "overflow_y": null,
       "padding": null,
       "right": null,
       "top": null,
       "visibility": null,
       "width": null
      }
     },
     "83a1ea6798d04f40aebabab4fc0bee1e": {
      "model_module": "@jupyter-widgets/controls",
      "model_module_version": "1.5.0",
      "model_name": "HBoxModel",
      "state": {
       "_dom_classes": [],
       "_model_module": "@jupyter-widgets/controls",
       "_model_module_version": "1.5.0",
       "_model_name": "HBoxModel",
       "_view_count": null,
       "_view_module": "@jupyter-widgets/controls",
       "_view_module_version": "1.5.0",
       "_view_name": "HBoxView",
       "box_style": "",
       "children": [
        "IPY_MODEL_1aea26bae21e409592cb96aae554c987",
        "IPY_MODEL_f79081e6376a4cea8118ea85e087202b",
        "IPY_MODEL_e6fbf942256647f9ba70d91da7eaf0da"
       ],
       "layout": "IPY_MODEL_690f16b5f90647629f4f0e87fe047b84"
      }
     },
     "e6fbf942256647f9ba70d91da7eaf0da": {
      "model_module": "@jupyter-widgets/controls",
      "model_module_version": "1.5.0",
      "model_name": "HTMLModel",
      "state": {
       "_dom_classes": [],
       "_model_module": "@jupyter-widgets/controls",
       "_model_module_version": "1.5.0",
       "_model_name": "HTMLModel",
       "_view_count": null,
       "_view_module": "@jupyter-widgets/controls",
       "_view_module_version": "1.5.0",
       "_view_name": "HTMLView",
       "description": "",
       "description_tooltip": null,
       "layout": "IPY_MODEL_4b7fb70bede44a4c9688260189f8c979",
       "placeholder": "​",
       "style": "IPY_MODEL_2fc617af4c824879bfc077dda442b9b6",
       "value": " 1/1 [00:00&lt;00:00,  7.26it/s, loss=0.00227, v_num=152]"
      }
     },
     "f742854f7e3846b1b14b96282a05e3ce": {
      "model_module": "@jupyter-widgets/controls",
      "model_module_version": "1.5.0",
      "model_name": "DescriptionStyleModel",
      "state": {
       "_model_module": "@jupyter-widgets/controls",
       "_model_module_version": "1.5.0",
       "_model_name": "DescriptionStyleModel",
       "_view_count": null,
       "_view_module": "@jupyter-widgets/base",
       "_view_module_version": "1.2.0",
       "_view_name": "StyleView",
       "description_width": ""
      }
     },
     "f79081e6376a4cea8118ea85e087202b": {
      "model_module": "@jupyter-widgets/controls",
      "model_module_version": "1.5.0",
      "model_name": "FloatProgressModel",
      "state": {
       "_dom_classes": [],
       "_model_module": "@jupyter-widgets/controls",
       "_model_module_version": "1.5.0",
       "_model_name": "FloatProgressModel",
       "_view_count": null,
       "_view_module": "@jupyter-widgets/controls",
       "_view_module_version": "1.5.0",
       "_view_name": "ProgressView",
       "bar_style": "success",
       "description": "",
       "description_tooltip": null,
       "layout": "IPY_MODEL_7896419f2ed5420a9af341a85251667a",
       "max": 1.0,
       "min": 0.0,
       "orientation": "horizontal",
       "style": "IPY_MODEL_fd6629e7f69e4fd2a1e4fabaf29c0c14",
       "value": 1.0
      }
     },
     "fd6629e7f69e4fd2a1e4fabaf29c0c14": {
      "model_module": "@jupyter-widgets/controls",
      "model_module_version": "1.5.0",
      "model_name": "ProgressStyleModel",
      "state": {
       "_model_module": "@jupyter-widgets/controls",
       "_model_module_version": "1.5.0",
       "_model_name": "ProgressStyleModel",
       "_view_count": null,
       "_view_module": "@jupyter-widgets/base",
       "_view_module_version": "1.2.0",
       "_view_name": "StyleView",
       "bar_color": null,
       "description_width": ""
      }
     }
    },
    "version_major": 2,
    "version_minor": 0
   }
  }
 },
 "nbformat": 4,
 "nbformat_minor": 5
}