{
 "cells": [
  {
   "cell_type": "markdown",
   "id": "974044ab",
   "metadata": {
    "papermill": {
     "duration": 0.015667,
     "end_time": "2021-07-07T08:24:56.952823",
     "exception": false,
     "start_time": "2021-07-07T08:24:56.937156",
     "status": "completed"
    },
    "tags": []
   },
   "source": [
    "# `torchdyn`Quickstart\n",
    "\n",
    "**torchdyn is the toolkit for continuous models in PyTorch. Play with state-of-the-art architectures or use its class and function primitives to create your own.**\n",
    "\n",
    "Central to the `torchdyn` approach are continuous and implicit neural networks, where *depth* is taken to its infinite limit.\n",
    "\n",
    "By providing a centralized, easy-to-access collection of model templates, tutorial and application notebooks, we hope to speed-up research in this area and ultimately contribute to turning neural differential equations into an effective tool for control, system identification and common machine learning tasks.\n"
   ]
  },
  {
   "cell_type": "code",
   "execution_count": 1,
   "id": "07c3b710",
   "metadata": {
    "execution": {
     "iopub.execute_input": "2021-07-07T08:24:56.989568Z",
     "iopub.status.busy": "2021-07-07T08:24:56.989260Z",
     "iopub.status.idle": "2021-07-07T08:24:58.403428Z",
     "shell.execute_reply": "2021-07-07T08:24:58.403061Z"
    },
    "papermill": {
     "duration": 1.437271,
     "end_time": "2021-07-07T08:24:58.403560",
     "exception": false,
     "start_time": "2021-07-07T08:24:56.966289",
     "status": "completed"
    },
    "tags": []
   },
   "outputs": [],
   "source": [
    "from torchdyn.core import NeuralODE\n",
    "from torchdyn.datasets import *\n",
    "from torchdyn import *\n",
    "\n",
    "%load_ext autoreload\n",
    "%autoreload 2"
   ]
  },
  {
   "cell_type": "markdown",
   "id": "d77cfe11",
   "metadata": {
    "papermill": {
     "duration": 0.013887,
     "end_time": "2021-07-07T08:24:58.431611",
     "exception": false,
     "start_time": "2021-07-07T08:24:58.417724",
     "status": "completed"
    },
    "tags": []
   },
   "source": [
    "## Generate data from a static toy dataset \n",
    "\n",
    "We’ll be generating data from toy datasets. In torchdyn, we provide a wide range of datasets often use to benchmark and understand Neural ODEs. Here we will use the classic moons dataset and train a Neural ODE for binary classification"
   ]
  },
  {
   "cell_type": "code",
   "execution_count": 2,
   "id": "55dd52dc",
   "metadata": {
    "execution": {
     "iopub.execute_input": "2021-07-07T08:24:58.463801Z",
     "iopub.status.busy": "2021-07-07T08:24:58.463526Z",
     "iopub.status.idle": "2021-07-07T08:24:58.476212Z",
     "shell.execute_reply": "2021-07-07T08:24:58.475931Z"
    },
    "papermill": {
     "duration": 0.025615,
     "end_time": "2021-07-07T08:24:58.476290",
     "exception": false,
     "start_time": "2021-07-07T08:24:58.450675",
     "status": "completed"
    },
    "tags": []
   },
   "outputs": [],
   "source": [
    "d = ToyDataset()\n",
    "X, yn = d.generate(n_samples=512, noise=1e-1, dataset_type='moons')        "
   ]
  },
  {
   "cell_type": "code",
   "execution_count": 3,
   "id": "5b8eef12",
   "metadata": {
    "execution": {
     "iopub.execute_input": "2021-07-07T08:24:58.504836Z",
     "iopub.status.busy": "2021-07-07T08:24:58.503698Z",
     "iopub.status.idle": "2021-07-07T08:25:01.745175Z",
     "shell.execute_reply": "2021-07-07T08:25:01.744880Z"
    },
    "papermill": {
     "duration": 3.254591,
     "end_time": "2021-07-07T08:25:01.745262",
     "exception": false,
     "start_time": "2021-07-07T08:24:58.490671",
     "status": "completed"
    },
    "tags": []
   },
   "outputs": [
    {
     "data": {
      "image/png": "[encoded data removed]",
      "text/plain": [
       "<Figure size 216x216 with 1 Axes>"
      ]
     },
     "metadata": {
      "needs_background": "light"
     },
     "output_type": "display_data"
    }
   ],
   "source": [
    "import matplotlib.pyplot as plt\n",
    "\n",
    "colors = ['orange', 'blue'] \n",
    "fig = plt.figure(figsize=(3,3))\n",
    "ax = fig.add_subplot(111)\n",
    "for i in range(len(X)):\n",
    "    ax.scatter(X[i,0], X[i,1], s=1, color=colors[yn[i].int()])"
   ]
  },
  {
   "cell_type": "markdown",
   "id": "694987ea",
   "metadata": {
    "papermill": {
     "duration": 0.013795,
     "end_time": "2021-07-07T08:25:01.773766",
     "exception": false,
     "start_time": "2021-07-07T08:25:01.759971",
     "status": "completed"
    },
    "tags": []
   },
   "source": [
    "Generated data can be easily loaded in the dataloader with standard `PyTorch` calls"
   ]
  },
  {
   "cell_type": "code",
   "execution_count": 4,
   "id": "cb437598",
   "metadata": {
    "execution": {
     "iopub.execute_input": "2021-07-07T08:25:01.805014Z",
     "iopub.status.busy": "2021-07-07T08:25:01.804699Z",
     "iopub.status.idle": "2021-07-07T08:25:01.820352Z",
     "shell.execute_reply": "2021-07-07T08:25:01.820583Z"
    },
    "papermill": {
     "duration": 0.033107,
     "end_time": "2021-07-07T08:25:01.820662",
     "exception": false,
     "start_time": "2021-07-07T08:25:01.787555",
     "status": "completed"
    },
    "tags": []
   },
   "outputs": [],
   "source": [
    "import torch\n",
    "import torch.utils.data as data\n",
    "device = torch.device(\"cpu\") # all of this works in GPU as well :)\n",
    "\n",
    "X_train = torch.Tensor(X).to(device)\n",
    "y_train = torch.LongTensor(yn.long()).to(device)\n",
    "train = data.TensorDataset(X_train, y_train)\n",
    "trainloader = data.DataLoader(train, batch_size=len(X), shuffle=True)"
   ]
  },
  {
   "cell_type": "markdown",
   "id": "643031be",
   "metadata": {
    "papermill": {
     "duration": 0.013622,
     "end_time": "2021-07-07T08:25:01.848056",
     "exception": false,
     "start_time": "2021-07-07T08:25:01.834434",
     "status": "completed"
    },
    "tags": []
   },
   "source": [
    "We utilize [Pytorch Lightning](https://github.com/PyTorchLightning/pytorch-lightning) to handle training loops, logging and general bookkeeping. This allows `torchdyn` and Neural Differential Equations to have access to modern best practices for training and experiment reproducibility. \n",
    "\n",
    "In particular, we combine modular `torchdyn` models with `LightningModules` via a `Learner` class:"
   ]
  },
  {
   "cell_type": "code",
   "execution_count": 5,
   "id": "ff0a74d0",
   "metadata": {
    "execution": {
     "iopub.execute_input": "2021-07-07T08:25:01.879248Z",
     "iopub.status.busy": "2021-07-07T08:25:01.878930Z",
     "iopub.status.idle": "2021-07-07T08:25:01.889728Z",
     "shell.execute_reply": "2021-07-07T08:25:01.889980Z"
    },
    "papermill": {
     "duration": 0.027943,
     "end_time": "2021-07-07T08:25:01.890060",
     "exception": false,
     "start_time": "2021-07-07T08:25:01.862117",
     "status": "completed"
    },
    "tags": []
   },
   "outputs": [],
   "source": [
    "import torch.nn as nn\n",
    "import pytorch_lightning as pl\n",
    "\n",
    "class Learner(pl.LightningModule):\n",
    "    def __init__(self, t_span:torch.Tensor, model:nn.Module):\n",
    "        super().__init__()\n",
    "        self.model, self.t_span = model, t_span\n",
    "    \n",
    "    def forward(self, x):\n",
    "        return self.model(x)\n",
    "    \n",
    "    def training_step(self, batch, batch_idx):\n",
    "        x, y = batch      \n",
    "        t_eval, y_hat = self.model(x, t_span)\n",
    "        y_hat = y_hat[-1] # select last point of solution trajectory\n",
    "        loss = nn.CrossEntropyLoss()(y_hat, y)\n",
    "        return {'loss': loss}   \n",
    "    \n",
    "    def configure_optimizers(self):\n",
    "        return torch.optim.Adam(self.model.parameters(), lr=0.01)\n",
    "\n",
    "    def train_dataloader(self):\n",
    "        return trainloader"
   ]
  },
  {
   "cell_type": "markdown",
   "id": "cc1465a6",
   "metadata": {
    "papermill": {
     "duration": 0.013661,
     "end_time": "2021-07-07T08:25:01.917395",
     "exception": false,
     "start_time": "2021-07-07T08:25:01.903734",
     "status": "completed"
    },
    "tags": []
   },
   "source": [
    "## Define a  Neural ODE"
   ]
  },
  {
   "cell_type": "markdown",
   "id": "1a6e75b1",
   "metadata": {
    "papermill": {
     "duration": 0.013787,
     "end_time": "2021-07-07T08:25:01.944738",
     "exception": false,
     "start_time": "2021-07-07T08:25:01.930951",
     "status": "completed"
    },
    "tags": []
   },
   "source": [
    "Analogously to most forward neural models we want to realize a map \n",
    "\n",
    "$$\n",
    "        x \\mapsto \\hat y\n",
    "$$\n",
    "\n",
    "where  $\\hat y$ becomes the best approximation of a true output $y$ given an input $x$.\n",
    "In torchdyn you can define very simple Neural ODE models of the form \n",
    "\n",
    "$$ \\left\\{\n",
    "    \\begin{aligned}\n",
    "        \\dot{z}(t) &= f(z(t), \\theta)\\\\\n",
    "        z(0) &= x\\\\\n",
    "        \\hat y & = z(1)\n",
    "    \\end{aligned}\n",
    "    \\right. \\quad t\\in[0,1]\n",
    "$$\n",
    "\n",
    "by just specifying a neural network $f$ and giving some simple settings.\n",
    "\n",
    "**Note:** This Neural ODE model is of *depth-invariant* type as neither $f$ explicitly depend on $s$ nor the parameters $\\theta$ are depth-varying. Together with their *depth-variant* counterpart with $s$ concatenated in the vector field was first proposed and implemented by [[Chen T. Q. et al, 2018]](https://arxiv.org/abs/1806.07366)"
   ]
  },
  {
   "cell_type": "markdown",
   "id": "5b0b84c9",
   "metadata": {
    "papermill": {
     "duration": 0.013708,
     "end_time": "2021-07-07T08:25:01.972192",
     "exception": false,
     "start_time": "2021-07-07T08:25:01.958484",
     "status": "completed"
    },
    "tags": []
   },
   "source": [
    "### Define the vector field (DEFunc) \n",
    "\n",
    "The first step is to define any PyTorch `torch.nn.Module`. This takes the role of the Neural ODE vector field $f(h,\\theta)$ "
   ]
  },
  {
   "cell_type": "code",
   "execution_count": 6,
   "id": "bb9e7fca",
   "metadata": {
    "execution": {
     "iopub.execute_input": "2021-07-07T08:25:02.002396Z",
     "iopub.status.busy": "2021-07-07T08:25:02.002065Z",
     "iopub.status.idle": "2021-07-07T08:25:02.017384Z",
     "shell.execute_reply": "2021-07-07T08:25:02.017085Z"
    },
    "papermill": {
     "duration": 0.031466,
     "end_time": "2021-07-07T08:25:02.017470",
     "exception": false,
     "start_time": "2021-07-07T08:25:01.986004",
     "status": "completed"
    },
    "tags": []
   },
   "outputs": [],
   "source": [
    "f = nn.Sequential(\n",
    "        nn.Linear(2, 16),\n",
    "        nn.Tanh(),\n",
    "        nn.Linear(16, 2)                       \n",
    "    )\n",
    "t_span = torch.linspace(0, 1, 5)"
   ]
  },
  {
   "cell_type": "markdown",
   "id": "08282504",
   "metadata": {
    "papermill": {
     "duration": 0.013683,
     "end_time": "2021-07-07T08:25:02.045791",
     "exception": false,
     "start_time": "2021-07-07T08:25:02.032108",
     "status": "completed"
    },
    "tags": []
   },
   "source": [
    "In this case we chose $f$ to be a simple MLP with one hidden layer and $\\tanh$ activation"
   ]
  },
  {
   "cell_type": "markdown",
   "id": "d13cb399",
   "metadata": {
    "papermill": {
     "duration": 0.013531,
     "end_time": "2021-07-07T08:25:02.073035",
     "exception": false,
     "start_time": "2021-07-07T08:25:02.059504",
     "status": "completed"
    },
    "tags": []
   },
   "source": [
    "### Define the NeuralDE"
   ]
  },
  {
   "cell_type": "markdown",
   "id": "9c41d127",
   "metadata": {
    "papermill": {
     "duration": 0.013635,
     "end_time": "2021-07-07T08:25:02.100390",
     "exception": false,
     "start_time": "2021-07-07T08:25:02.086755",
     "status": "completed"
    },
    "tags": []
   },
   "source": [
    "The final step to define a Neural ODE is to instantiate the torchdyn's class `NeuralDE` passing some customization arguments and `f` itself.\n",
    "\n",
    "In this case we specify:\n",
    "* we compute backward gradients with the `'adjoint'` method.\n",
    "* we will use the `'dopri5'` (Dormand-Prince) ODE solver from `torchdyn`, with no additional options;"
   ]
  },
  {
   "cell_type": "code",
   "execution_count": 7,
   "id": "be690874",
   "metadata": {
    "execution": {
     "iopub.execute_input": "2021-07-07T08:25:02.130466Z",
     "iopub.status.busy": "2021-07-07T08:25:02.130151Z",
     "iopub.status.idle": "2021-07-07T08:25:02.143902Z",
     "shell.execute_reply": "2021-07-07T08:25:02.144155Z"
    },
    "papermill": {
     "duration": 0.029891,
     "end_time": "2021-07-07T08:25:02.144248",
     "exception": false,
     "start_time": "2021-07-07T08:25:02.114357",
     "status": "completed"
    },
    "tags": []
   },
   "outputs": [
    {
     "name": "stdout",
     "output_type": "stream",
     "text": [
      "Your vector field callable (nn.Module) should have both time `t` and state `x` as arguments, we've wrapped it for you.\n"
     ]
    }
   ],
   "source": [
    "model = NeuralODE(f, sensitivity='adjoint', solver='dopri5').to(device)"
   ]
  },
  {
   "cell_type": "markdown",
   "id": "62b0e8f1",
   "metadata": {
    "papermill": {
     "duration": 0.014115,
     "end_time": "2021-07-07T08:25:02.172890",
     "exception": false,
     "start_time": "2021-07-07T08:25:02.158775",
     "status": "completed"
    },
    "tags": []
   },
   "source": [
    "## Train the Model"
   ]
  },
  {
   "cell_type": "code",
   "execution_count": 8,
   "id": "7c26fc84",
   "metadata": {
    "execution": {
     "iopub.execute_input": "2021-07-07T08:25:02.204552Z",
     "iopub.status.busy": "2021-07-07T08:25:02.204241Z",
     "iopub.status.idle": "2021-07-07T08:20:24.897113Z",
     "shell.execute_reply": "2021-07-07T08:20:24.897421Z"
    },
    "papermill": {
     "duration": null,
     "end_time": null,
     "exception": false,
     "start_time": "2021-07-07T08:25:02.187638",
     "status": "running"
    },
    "tags": []
   },
   "outputs": [
    {
     "name": "stderr",
     "output_type": "stream",
     "text": [
      "GPU available: True, used: False\n"
     ]
    },
    {
     "name": "stderr",
     "output_type": "stream",
     "text": [
      "TPU available: False, using: 0 TPU cores\n"
     ]
    },
    {
     "name": "stderr",
     "output_type": "stream",
     "text": [
      "/home/michael/.cache/pypoetry/virtualenvs/torchdyn-voYSR01p-py3.8/lib/python3.8/site-packages/pytorch_lightning/utilities/distributed.py:69: UserWarning: GPU available but not used. Set the gpus flag in your trainer `Trainer(gpus=1)` or script `--gpus=1`.\n",
      "  warnings.warn(*args, **kwargs)\n",
      "\n",
      "  | Name  | Type      | Params\n",
      "------------------------------------\n",
      "0 | model | NeuralODE | 82    \n",
      "------------------------------------\n",
      "82        Trainable params\n",
      "0         Non-trainable params\n",
      "82        Total params\n",
      "0.000     Total estimated model params size (MB)\n"
     ]
    },
    {
     "name": "stderr",
     "output_type": "stream",
     "text": [
      "/home/michael/.cache/pypoetry/virtualenvs/torchdyn-voYSR01p-py3.8/lib/python3.8/site-packages/pytorch_lightning/utilities/distributed.py:69: UserWarning: The dataloader, train dataloader, does not have many workers which may be a bottleneck. Consider increasing the value of the `num_workers` argument` (try 48 which is the number of cpus on this machine) in the `DataLoader` init to improve performance.\n",
      "  warnings.warn(*args, **kwargs)\n"
     ]
    },
    {
     "data": {
      "application/vnd.jupyter.widget-view+json": {
       "model_id": "f5c5186470f94baabf4f54754098b790",
       "version_major": 2,
       "version_minor": 0
      },
      "text/plain": [
       "Training: 0it [00:00, ?it/s]"
      ]
     },
     "metadata": {},
     "output_type": "display_data"
    }
   ],
   "source": [
    "learn = Learner(t_span, model)\n",
    "trainer = pl.Trainer(min_epochs=200, max_epochs=300)\n",
    "trainer.fit(learn)"
   ]
  },
  {
   "cell_type": "markdown",
   "id": "8f512660",
   "metadata": {
    "papermill": {
     "duration": null,
     "end_time": null,
     "exception": null,
     "start_time": null,
     "status": "pending"
    },
    "tags": []
   },
   "source": [
    "With the same forward method of `NeuralDE` objects you can quickly evaluate the entire trajectory of each data point in `X_train` on an interval `t_span`"
   ]
  },
  {
   "cell_type": "code",
   "execution_count": null,
   "id": "0521235e",
   "metadata": {
    "execution": {
     "iopub.execute_input": "2021-07-07T08:20:24.956653Z",
     "iopub.status.busy": "2021-07-07T08:20:24.956351Z",
     "iopub.status.idle": "2021-07-07T08:20:27.042324Z",
     "shell.execute_reply": "2021-07-07T08:20:27.041961Z"
    },
    "papermill": {
     "duration": null,
     "end_time": null,
     "exception": null,
     "start_time": null,
     "status": "pending"
    },
    "tags": []
   },
   "outputs": [],
   "source": [
    "t_span = torch.linspace(0,1,100)\n",
    "t_eval, trajectory = model(X_train, t_span)\n",
    "trajectory = trajectory.detach().cpu()"
   ]
  },
  {
   "cell_type": "markdown",
   "id": "dbd6cb05",
   "metadata": {
    "papermill": {
     "duration": null,
     "end_time": null,
     "exception": null,
     "start_time": null,
     "status": "pending"
    },
    "tags": []
   },
   "source": [
    "The numerical method used to solve a `NeuralODE` have great effect on its speed. Try retraining with the following"
   ]
  },
  {
   "cell_type": "code",
   "execution_count": null,
   "id": "67dae023",
   "metadata": {
    "execution": {
     "iopub.execute_input": "2021-07-07T08:20:27.099741Z",
     "iopub.status.busy": "2021-07-07T08:20:27.099439Z",
     "iopub.status.idle": "2021-07-07T08:24:06.843939Z",
     "shell.execute_reply": "2021-07-07T08:24:06.844303Z"
    },
    "papermill": {
     "duration": null,
     "end_time": null,
     "exception": null,
     "start_time": null,
     "status": "pending"
    },
    "tags": []
   },
   "outputs": [],
   "source": [
    "f = nn.Sequential(\n",
    "        nn.Linear(2, 16),\n",
    "        nn.Tanh(),\n",
    "        nn.Linear(16, 2)                       \n",
    "    )\n",
    "\n",
    "model = NeuralODE(f, sensitivity='adjoint', solver='rk4', solver_adjoint='dopri5', atol_adjoint=1e-4, rtol_adjoint=1e-4).to(device)\n",
    "learn = Learner(t_span, model)\n",
    "trainer = pl.Trainer(min_epochs=200, max_epochs=300)\n",
    "trainer.fit(learn)"
   ]
  },
  {
   "cell_type": "markdown",
   "id": "ea324b64",
   "metadata": {
    "papermill": {
     "duration": null,
     "end_time": null,
     "exception": null,
     "start_time": null,
     "status": "pending"
    },
    "tags": []
   },
   "source": [
    "### Plot the Training Results"
   ]
  },
  {
   "cell_type": "markdown",
   "id": "07d7853d",
   "metadata": {
    "papermill": {
     "duration": null,
     "end_time": null,
     "exception": null,
     "start_time": null,
     "status": "pending"
    },
    "tags": []
   },
   "source": [
    "We can first plot the trajectories of the data points in the depth domain $s$"
   ]
  },
  {
   "cell_type": "code",
   "execution_count": null,
   "id": "060de4fe",
   "metadata": {
    "execution": {
     "iopub.execute_input": "2021-07-07T08:24:06.928330Z",
     "iopub.status.busy": "2021-07-07T08:24:06.928057Z",
     "iopub.status.idle": "2021-07-07T08:24:07.164275Z",
     "shell.execute_reply": "2021-07-07T08:24:07.163982Z"
    },
    "papermill": {
     "duration": null,
     "end_time": null,
     "exception": null,
     "start_time": null,
     "status": "pending"
    },
    "tags": []
   },
   "outputs": [],
   "source": [
    "color=['orange', 'blue']\n",
    "\n",
    "fig = plt.figure(figsize=(10,2))\n",
    "ax0 = fig.add_subplot(121)\n",
    "ax1 = fig.add_subplot(122)\n",
    "for i in range(500):\n",
    "    ax0.plot(t_span, trajectory[:,i,0], color=color[int(yn[i])], alpha=.1);\n",
    "    ax1.plot(t_span, trajectory[:,i,1], color=color[int(yn[i])], alpha=.1);\n",
    "ax0.set_xlabel(r\"$t$ [Depth]\") ; ax0.set_ylabel(r\"$h_0(t)$\")\n",
    "ax1.set_xlabel(r\"$t$ [Depth]\") ; ax1.set_ylabel(r\"$z_1(t)$\")\n",
    "ax0.set_title(\"Dimension 0\") ; ax1.set_title(\"Dimension 1\")"
   ]
  },
  {
   "cell_type": "markdown",
   "id": "d25536c2",
   "metadata": {
    "papermill": {
     "duration": null,
     "end_time": null,
     "exception": null,
     "start_time": null,
     "status": "pending"
    },
    "tags": []
   },
   "source": [
    "Then the trajectory in the *state-space*"
   ]
  },
  {
   "cell_type": "markdown",
   "id": "4f6c68dd",
   "metadata": {
    "papermill": {
     "duration": null,
     "end_time": null,
     "exception": null,
     "start_time": null,
     "status": "pending"
    },
    "tags": []
   },
   "source": [
    "As you can see, the Neural ODE steers the data-points into regions of null loss with a continuous flow in the depth domain. Finally, we can also plot the learned vector field $f$"
   ]
  },
  {
   "cell_type": "code",
   "execution_count": null,
   "id": "0c945171",
   "metadata": {
    "papermill": {
     "duration": null,
     "end_time": null,
     "exception": null,
     "start_time": null,
     "status": "pending"
    },
    "tags": []
   },
   "outputs": [],
   "source": [
    "# evaluate vector field\n",
    "n_pts = 50\n",
    "x = torch.linspace(trajectory[:,:,0].min(), trajectory[:,:,0].max(), n_pts)\n",
    "y = torch.linspace(trajectory[:,:,1].min(), trajectory[:,:,1].max(), n_pts)\n",
    "X, Y = torch.meshgrid(x, y) ; z = torch.cat([X.reshape(-1,1), Y.reshape(-1,1)], 1)\n",
    "f = model.vf(0,z.to(device)).cpu().detach()\n",
    "fx, fy = f[:,0], f[:,1] ; fx, fy = fx.reshape(n_pts , n_pts), fy.reshape(n_pts, n_pts)\n",
    "# plot vector field and its intensity\n",
    "fig = plt.figure(figsize=(4, 4)) ; ax = fig.add_subplot(111)\n",
    "ax.streamplot(X.numpy().T, Y.numpy().T, fx.numpy().T, fy.numpy().T, color='black')\n",
    "ax.contourf(X.T, Y.T, torch.sqrt(fx.T**2+fy.T**2), cmap='RdYlBu')"
   ]
  },
  {
   "cell_type": "markdown",
   "id": "c98aa2ec",
   "metadata": {
    "papermill": {
     "duration": null,
     "end_time": null,
     "exception": null,
     "start_time": null,
     "status": "pending"
    },
    "tags": []
   },
   "source": [
    "**Sweet! You trained your first Neural ODEs! Now you can proceed and learn about more advanced models with the next tutorials**"
   ]
  }
 ],
 "metadata": {
  "kernelspec": {
   "display_name": "torchdyn",
   "language": "python",
   "name": "torchdyn"
  },
  "language_info": {
   "codemirror_mode": {
    "name": "ipython",
    "version": 3
   },
   "file_extension": ".py",
   "mimetype": "text/x-python",
   "name": "python",
   "nbconvert_exporter": "python",
   "pygments_lexer": "ipython3",
   "version": "3.8.5"
  },
  "latex_envs": {
   "LaTeX_envs_menu_present": true,
   "autoclose": false,
   "autocomplete": true,
   "bibliofile": "biblio.bib",
   "cite_by": "apalike",
   "current_citInitial": 1,
   "eqLabelWithNumbers": true,
   "eqNumInitial": 1,
   "hotkeys": {
    "equation": "Ctrl-E",
    "itemize": "Ctrl-I"
   },
   "labels_anchors": false,
   "latex_user_defs": false,
   "report_style_numbering": false,
   "user_envs_cfg": false
  },
  "papermill": {
   "default_parameters": {},
   "duration": null,
   "end_time": null,
   "environment_variables": {},
   "exception": null,
   "input_path": "tutorials/00_quickstart.ipynb",
   "output_path": "tutorials/00_quickstart.ipynb",
   "parameters": {},
   "start_time": "2021-07-07T08:24:56.211519",
   "version": "2.3.3"
  },
  "varInspector": {
   "cols": {
    "lenName": 16,
    "lenType": 16,
    "lenVar": 40
   },
   "kernels_config": {
    "python": {
     "delete_cmd_postfix": "",
     "delete_cmd_prefix": "del ",
     "library": "var_list.py",
     "varRefreshCmd": "print(var_dic_list())"
    },
    "r": {
     "delete_cmd_postfix": ") ",
     "delete_cmd_prefix": "rm(",
     "library": "var_list.r",
     "varRefreshCmd": "cat(var_dic_list()) "
    }
   },
   "types_to_exclude": [
    "module",
    "function",
    "builtin_function_or_method",
    "instance",
    "_Feature"
   ],
   "window_display": false
  },
  "widgets": {
   "application/vnd.jupyter.widget-state+json": {
    "state": {
     "064ec02b520e4065aa504e1c67248332": {
      "model_module": "@jupyter-widgets/controls",
      "model_module_version": "1.5.0",
      "model_name": "HTMLModel",
      "state": {
       "_dom_classes": [],
       "_model_module": "@jupyter-widgets/controls",
       "_model_module_version": "1.5.0",
       "_model_name": "HTMLModel",
       "_view_count": null,
       "_view_module": "@jupyter-widgets/controls",
       "_view_module_version": "1.5.0",
       "_view_name": "HTMLView",
       "description": "",
       "description_tooltip": null,
       "layout": "IPY_MODEL_b143d9aa00324e90b29aadc77a2e2988",
       "placeholder": "​",
       "style": "IPY_MODEL_b8d5d787a6cd49d38b47712ec26604e5",
       "value": "Epoch 299: 100%"
      }
     },
     "0acc8aafb35b4d6b9666cb1d9d05df2a": {
      "model_module": "@jupyter-widgets/controls",
      "model_module_version": "1.5.0",
      "model_name": "DescriptionStyleModel",
      "state": {
       "_model_module": "@jupyter-widgets/controls",
       "_model_module_version": "1.5.0",
       "_model_name": "DescriptionStyleModel",
       "_view_count": null,
       "_view_module": "@jupyter-widgets/base",
       "_view_module_version": "1.2.0",
       "_view_name": "StyleView",
       "description_width": ""
      }
     },
     "174a6498cd384345b3680beb4774a4b6": {
      "model_module": "@jupyter-widgets/base",
      "model_module_version": "1.2.0",
      "model_name": "LayoutModel",
      "state": {
       "_model_module": "@jupyter-widgets/base",
       "_model_module_version": "1.2.0",
       "_model_name": "LayoutModel",
       "_view_count": null,
       "_view_module": "@jupyter-widgets/base",
       "_view_module_version": "1.2.0",
       "_view_name": "LayoutView",
       "align_content": null,
       "align_items": null,
       "align_self": null,
       "border": null,
       "bottom": null,
       "display": null,
       "flex": null,
       "flex_flow": null,
       "grid_area": null,
       "grid_auto_columns": null,
       "grid_auto_flow": null,
       "grid_auto_rows": null,
       "grid_column": null,
       "grid_gap": null,
       "grid_row": null,
       "grid_template_areas": null,
       "grid_template_columns": null,
       "grid_template_rows": null,
       "height": null,
       "justify_content": null,
       "justify_items": null,
       "left": null,
       "margin": null,
       "max_height": null,
       "max_width": null,
       "min_height": null,
       "min_width": null,
       "object_fit": null,
       "object_position": null,
       "order": null,
       "overflow": null,
       "overflow_x": null,
       "overflow_y": null,
       "padding": null,
       "right": null,
       "top": null,
       "visibility": null,
       "width": null
      }
     },
     "1e6de2e8ddc94458825a2e8e8ba6dc9d": {
      "model_module": "@jupyter-widgets/base",
      "model_module_version": "1.2.0",
      "model_name": "LayoutModel",
      "state": {
       "_model_module": "@jupyter-widgets/base",
       "_model_module_version": "1.2.0",
       "_model_name": "LayoutModel",
       "_view_count": null,
       "_view_module": "@jupyter-widgets/base",
       "_view_module_version": "1.2.0",
       "_view_name": "LayoutView",
       "align_content": null,
       "align_items": null,
       "align_self": null,
       "border": null,
       "bottom": null,
       "display": null,
       "flex": null,
       "flex_flow": null,
       "grid_area": null,
       "grid_auto_columns": null,
       "grid_auto_flow": null,
       "grid_auto_rows": null,
       "grid_column": null,
       "grid_gap": null,
       "grid_row": null,
       "grid_template_areas": null,
       "grid_template_columns": null,
       "grid_template_rows": null,
       "height": null,
       "justify_content": null,
       "justify_items": null,
       "left": null,
       "margin": null,
       "max_height": null,
       "max_width": null,
       "min_height": null,
       "min_width": null,
       "object_fit": null,
       "object_position": null,
       "order": null,
       "overflow": null,
       "overflow_x": null,
       "overflow_y": null,
       "padding": null,
       "right": null,
       "top": null,
       "visibility": null,
       "width": null
      }
     },
     "2beff4c275904900b9da8fb452eea575": {
      "model_module": "@jupyter-widgets/controls",
      "model_module_version": "1.5.0",
      "model_name": "HBoxModel",
      "state": {
       "_dom_classes": [],
       "_model_module": "@jupyter-widgets/controls",
       "_model_module_version": "1.5.0",
       "_model_name": "HBoxModel",
       "_view_count": null,
       "_view_module": "@jupyter-widgets/controls",
       "_view_module_version": "1.5.0",
       "_view_name": "HBoxView",
       "box_style": "",
       "children": [
        "IPY_MODEL_064ec02b520e4065aa504e1c67248332",
        "IPY_MODEL_9c5adfd817e248ecabf2df1bf700974d",
        "IPY_MODEL_7614ff1ac4f5442bb1e9be4b1133b072"
       ],
       "layout": "IPY_MODEL_5eb18cc490954871bd86b5e302d0b870"
      }
     },
     "4d9cd2cf090f4846b89e50c19ffa3a2f": {
      "model_module": "@jupyter-widgets/base",
      "model_module_version": "1.2.0",
      "model_name": "LayoutModel",
      "state": {
       "_model_module": "@jupyter-widgets/base",
       "_model_module_version": "1.2.0",
       "_model_name": "LayoutModel",
       "_view_count": null,
       "_view_module": "@jupyter-widgets/base",
       "_view_module_version": "1.2.0",
       "_view_name": "LayoutView",
       "align_content": null,
       "align_items": null,
       "align_self": null,
       "border": null,
       "bottom": null,
       "display": "inline-flex",
       "flex": null,
       "flex_flow": "row wrap",
       "grid_area": null,
       "grid_auto_columns": null,
       "grid_auto_flow": null,
       "grid_auto_rows": null,
       "grid_column": null,
       "grid_gap": null,
       "grid_row": null,
       "grid_template_areas": null,
       "grid_template_columns": null,
       "grid_template_rows": null,
       "height": null,
       "justify_content": null,
       "justify_items": null,
       "left": null,
       "margin": null,
       "max_height": null,
       "max_width": null,
       "min_height": null,
       "min_width": null,
       "object_fit": null,
       "object_position": null,
       "order": null,
       "overflow": null,
       "overflow_x": null,
       "overflow_y": null,
       "padding": null,
       "right": null,
       "top": null,
       "visibility": null,
       "width": "100%"
      }
     },
     "50668d79f712411fb1d1907a94674a34": {
      "model_module": "@jupyter-widgets/base",
      "model_module_version": "1.2.0",
      "model_name": "LayoutModel",
      "state": {
       "_model_module": "@jupyter-widgets/base",
       "_model_module_version": "1.2.0",
       "_model_name": "LayoutModel",
       "_view_count": null,
       "_view_module": "@jupyter-widgets/base",
       "_view_module_version": "1.2.0",
       "_view_name": "LayoutView",
       "align_content": null,
       "align_items": null,
       "align_self": null,
       "border": null,
       "bottom": null,
       "display": null,
       "flex": null,
       "flex_flow": null,
       "grid_area": null,
       "grid_auto_columns": null,
       "grid_auto_flow": null,
       "grid_auto_rows": null,
       "grid_column": null,
       "grid_gap": null,
       "grid_row": null,
       "grid_template_areas": null,
       "grid_template_columns": null,
       "grid_template_rows": null,
       "height": null,
       "justify_content": null,
       "justify_items": null,
       "left": null,
       "margin": null,
       "max_height": null,
       "max_width": null,
       "min_height": null,
       "min_width": null,
       "object_fit": null,
       "object_position": null,
       "order": null,
       "overflow": null,
       "overflow_x": null,
       "overflow_y": null,
       "padding": null,
       "right": null,
       "top": null,
       "visibility": null,
       "width": null
      }
     },
     "5eb18cc490954871bd86b5e302d0b870": {
      "model_module": "@jupyter-widgets/base",
      "model_module_version": "1.2.0",
      "model_name": "LayoutModel",
      "state": {
       "_model_module": "@jupyter-widgets/base",
       "_model_module_version": "1.2.0",
       "_model_name": "LayoutModel",
       "_view_count": null,
       "_view_module": "@jupyter-widgets/base",
       "_view_module_version": "1.2.0",
       "_view_name": "LayoutView",
       "align_content": null,
       "align_items": null,
       "align_self": null,
       "border": null,
       "bottom": null,
       "display": "inline-flex",
       "flex": null,
       "flex_flow": "row wrap",
       "grid_area": null,
       "grid_auto_columns": null,
       "grid_auto_flow": null,
       "grid_auto_rows": null,
       "grid_column": null,
       "grid_gap": null,
       "grid_row": null,
       "grid_template_areas": null,
       "grid_template_columns": null,
       "grid_template_rows": null,
       "height": null,
       "justify_content": null,
       "justify_items": null,
       "left": null,
       "margin": null,
       "max_height": null,
       "max_width": null,
       "min_height": null,
       "min_width": null,
       "object_fit": null,
       "object_position": null,
       "order": null,
       "overflow": null,
       "overflow_x": null,
       "overflow_y": null,
       "padding": null,
       "right": null,
       "top": null,
       "visibility": null,
       "width": "100%"
      }
     },
     "694addc02ea74fee9709c58c1aee5eb7": {
      "model_module": "@jupyter-widgets/controls",
      "model_module_version": "1.5.0",
      "model_name": "DescriptionStyleModel",
      "state": {
       "_model_module": "@jupyter-widgets/controls",
       "_model_module_version": "1.5.0",
       "_model_name": "DescriptionStyleModel",
       "_view_count": null,
       "_view_module": "@jupyter-widgets/base",
       "_view_module_version": "1.2.0",
       "_view_name": "StyleView",
       "description_width": ""
      }
     },
     "6f09c90c7deb42c49be12a4129c72dfa": {
      "model_module": "@jupyter-widgets/controls",
      "model_module_version": "1.5.0",
      "model_name": "ProgressStyleModel",
      "state": {
       "_model_module": "@jupyter-widgets/controls",
       "_model_module_version": "1.5.0",
       "_model_name": "ProgressStyleModel",
       "_view_count": null,
       "_view_module": "@jupyter-widgets/base",
       "_view_module_version": "1.2.0",
       "_view_name": "StyleView",
       "bar_color": null,
       "description_width": ""
      }
     },
     "7614ff1ac4f5442bb1e9be4b1133b072": {
      "model_module": "@jupyter-widgets/controls",
      "model_module_version": "1.5.0",
      "model_name": "HTMLModel",
      "state": {
       "_dom_classes": [],
       "_model_module": "@jupyter-widgets/controls",
       "_model_module_version": "1.5.0",
       "_model_name": "HTMLModel",
       "_view_count": null,
       "_view_module": "@jupyter-widgets/controls",
       "_view_module_version": "1.5.0",
       "_view_name": "HTMLView",
       "description": "",
       "description_tooltip": null,
       "layout": "IPY_MODEL_1e6de2e8ddc94458825a2e8e8ba6dc9d",
       "placeholder": "​",
       "style": "IPY_MODEL_0acc8aafb35b4d6b9666cb1d9d05df2a",
       "value": " 1/1 [00:00&lt;00:00,  1.53it/s, loss=0.00221, v_num=287]"
      }
     },
     "858e1b91964d46b9a8100168ac290326": {
      "model_module": "@jupyter-widgets/controls",
      "model_module_version": "1.5.0",
      "model_name": "HBoxModel",
      "state": {
       "_dom_classes": [],
       "_model_module": "@jupyter-widgets/controls",
       "_model_module_version": "1.5.0",
       "_model_name": "HBoxModel",
       "_view_count": null,
       "_view_module": "@jupyter-widgets/controls",
       "_view_module_version": "1.5.0",
       "_view_name": "HBoxView",
       "box_style": "",
       "children": [
        "IPY_MODEL_bb5ffd98d05b47e6a6c3c91bbdacc1fb",
        "IPY_MODEL_b7f03dadd8184ba0860fee131beec7c2",
        "IPY_MODEL_c185de18194c497ab7e461f5e2de627c"
       ],
       "layout": "IPY_MODEL_4d9cd2cf090f4846b89e50c19ffa3a2f"
      }
     },
     "9c5adfd817e248ecabf2df1bf700974d": {
      "model_module": "@jupyter-widgets/controls",
      "model_module_version": "1.5.0",
      "model_name": "FloatProgressModel",
      "state": {
       "_dom_classes": [],
       "_model_module": "@jupyter-widgets/controls",
       "_model_module_version": "1.5.0",
       "_model_name": "FloatProgressModel",
       "_view_count": null,
       "_view_module": "@jupyter-widgets/controls",
       "_view_module_version": "1.5.0",
       "_view_name": "ProgressView",
       "bar_style": "success",
       "description": "",
       "description_tooltip": null,
       "layout": "IPY_MODEL_dc976bf09a144880b8c4b1a75728a049",
       "max": 1,
       "min": 0,
       "orientation": "horizontal",
       "style": "IPY_MODEL_6f09c90c7deb42c49be12a4129c72dfa",
       "value": 1
      }
     },
     "b143d9aa00324e90b29aadc77a2e2988": {
      "model_module": "@jupyter-widgets/base",
      "model_module_version": "1.2.0",
      "model_name": "LayoutModel",
      "state": {
       "_model_module": "@jupyter-widgets/base",
       "_model_module_version": "1.2.0",
       "_model_name": "LayoutModel",
       "_view_count": null,
       "_view_module": "@jupyter-widgets/base",
       "_view_module_version": "1.2.0",
       "_view_name": "LayoutView",
       "align_content": null,
       "align_items": null,
       "align_self": null,
       "border": null,
       "bottom": null,
       "display": null,
       "flex": null,
       "flex_flow": null,
       "grid_area": null,
       "grid_auto_columns": null,
       "grid_auto_flow": null,
       "grid_auto_rows": null,
       "grid_column": null,
       "grid_gap": null,
       "grid_row": null,
       "grid_template_areas": null,
       "grid_template_columns": null,
       "grid_template_rows": null,
       "height": null,
       "justify_content": null,
       "justify_items": null,
       "left": null,
       "margin": null,
       "max_height": null,
       "max_width": null,
       "min_height": null,
       "min_width": null,
       "object_fit": null,
       "object_position": null,
       "order": null,
       "overflow": null,
       "overflow_x": null,
       "overflow_y": null,
       "padding": null,
       "right": null,
       "top": null,
       "visibility": null,
       "width": null
      }
     },
     "b7f03dadd8184ba0860fee131beec7c2": {
      "model_module": "@jupyter-widgets/controls",
      "model_module_version": "1.5.0",
      "model_name": "FloatProgressModel",
      "state": {
       "_dom_classes": [],
       "_model_module": "@jupyter-widgets/controls",
       "_model_module_version": "1.5.0",
       "_model_name": "FloatProgressModel",
       "_view_count": null,
       "_view_module": "@jupyter-widgets/controls",
       "_view_module_version": "1.5.0",
       "_view_name": "ProgressView",
       "bar_style": "success",
       "description": "",
       "description_tooltip": null,
       "layout": "IPY_MODEL_da5113b7db5f45cd8200bdaab70648dc",
       "max": 1,
       "min": 0,
       "orientation": "horizontal",
       "style": "IPY_MODEL_b7fba272994f414280674618a5b02c27",
       "value": 1
      }
     },
     "b7fba272994f414280674618a5b02c27": {
      "model_module": "@jupyter-widgets/controls",
      "model_module_version": "1.5.0",
      "model_name": "ProgressStyleModel",
      "state": {
       "_model_module": "@jupyter-widgets/controls",
       "_model_module_version": "1.5.0",
       "_model_name": "ProgressStyleModel",
       "_view_count": null,
       "_view_module": "@jupyter-widgets/base",
       "_view_module_version": "1.2.0",
       "_view_name": "StyleView",
       "bar_color": null,
       "description_width": ""
      }
     },
     "b8d5d787a6cd49d38b47712ec26604e5": {
      "model_module": "@jupyter-widgets/controls",
      "model_module_version": "1.5.0",
      "model_name": "DescriptionStyleModel",
      "state": {
       "_model_module": "@jupyter-widgets/controls",
       "_model_module_version": "1.5.0",
       "_model_name": "DescriptionStyleModel",
       "_view_count": null,
       "_view_module": "@jupyter-widgets/base",
       "_view_module_version": "1.2.0",
       "_view_name": "StyleView",
       "description_width": ""
      }
     },
     "bb5ffd98d05b47e6a6c3c91bbdacc1fb": {
      "model_module": "@jupyter-widgets/controls",
      "model_module_version": "1.5.0",
      "model_name": "HTMLModel",
      "state": {
       "_dom_classes": [],
       "_model_module": "@jupyter-widgets/controls",
       "_model_module_version": "1.5.0",
       "_model_name": "HTMLModel",
       "_view_count": null,
       "_view_module": "@jupyter-widgets/controls",
       "_view_module_version": "1.5.0",
       "_view_name": "HTMLView",
       "description": "",
       "description_tooltip": null,
       "layout": "IPY_MODEL_50668d79f712411fb1d1907a94674a34",
       "placeholder": "​",
       "style": "IPY_MODEL_bd0d113d87bf4f1aa6b276f0b22088c7",
       "value": "Epoch 299: 100%"
      }
     },
     "bd0d113d87bf4f1aa6b276f0b22088c7": {
      "model_module": "@jupyter-widgets/controls",
      "model_module_version": "1.5.0",
      "model_name": "DescriptionStyleModel",
      "state": {
       "_model_module": "@jupyter-widgets/controls",
       "_model_module_version": "1.5.0",
       "_model_name": "DescriptionStyleModel",
       "_view_count": null,
       "_view_module": "@jupyter-widgets/base",
       "_view_module_version": "1.2.0",
       "_view_name": "StyleView",
       "description_width": ""
      }
     },
     "c185de18194c497ab7e461f5e2de627c": {
      "model_module": "@jupyter-widgets/controls",
      "model_module_version": "1.5.0",
      "model_name": "HTMLModel",
      "state": {
       "_dom_classes": [],
       "_model_module": "@jupyter-widgets/controls",
       "_model_module_version": "1.5.0",
       "_model_name": "HTMLModel",
       "_view_count": null,
       "_view_module": "@jupyter-widgets/controls",
       "_view_module_version": "1.5.0",
       "_view_name": "HTMLView",
       "description": "",
       "description_tooltip": null,
       "layout": "IPY_MODEL_174a6498cd384345b3680beb4774a4b6",
       "placeholder": "​",
       "style": "IPY_MODEL_694addc02ea74fee9709c58c1aee5eb7",
       "value": " 1/1 [00:00&lt;00:00,  1.62it/s, loss=0.00229, v_num=279]"
      }
     },
     "da5113b7db5f45cd8200bdaab70648dc": {
      "model_module": "@jupyter-widgets/base",
      "model_module_version": "1.2.0",
      "model_name": "LayoutModel",
      "state": {
       "_model_module": "@jupyter-widgets/base",
       "_model_module_version": "1.2.0",
       "_model_name": "LayoutModel",
       "_view_count": null,
       "_view_module": "@jupyter-widgets/base",
       "_view_module_version": "1.2.0",
       "_view_name": "LayoutView",
       "align_content": null,
       "align_items": null,
       "align_self": null,
       "border": null,
       "bottom": null,
       "display": null,
       "flex": "2",
       "flex_flow": null,
       "grid_area": null,
       "grid_auto_columns": null,
       "grid_auto_flow": null,
       "grid_auto_rows": null,
       "grid_column": null,
       "grid_gap": null,
       "grid_row": null,
       "grid_template_areas": null,
       "grid_template_columns": null,
       "grid_template_rows": null,
       "height": null,
       "justify_content": null,
       "justify_items": null,
       "left": null,
       "margin": null,
       "max_height": null,
       "max_width": null,
       "min_height": null,
       "min_width": null,
       "object_fit": null,
       "object_position": null,
       "order": null,
       "overflow": null,
       "overflow_x": null,
       "overflow_y": null,
       "padding": null,
       "right": null,
       "top": null,
       "visibility": null,
       "width": null
      }
     },
     "dc976bf09a144880b8c4b1a75728a049": {
      "model_module": "@jupyter-widgets/base",
      "model_module_version": "1.2.0",
      "model_name": "LayoutModel",
      "state": {
       "_model_module": "@jupyter-widgets/base",
       "_model_module_version": "1.2.0",
       "_model_name": "LayoutModel",
       "_view_count": null,
       "_view_module": "@jupyter-widgets/base",
       "_view_module_version": "1.2.0",
       "_view_name": "LayoutView",
       "align_content": null,
       "align_items": null,
       "align_self": null,
       "border": null,
       "bottom": null,
       "display": null,
       "flex": "2",
       "flex_flow": null,
       "grid_area": null,
       "grid_auto_columns": null,
       "grid_auto_flow": null,
       "grid_auto_rows": null,
       "grid_column": null,
       "grid_gap": null,
       "grid_row": null,
       "grid_template_areas": null,
       "grid_template_columns": null,
       "grid_template_rows": null,
       "height": null,
       "justify_content": null,
       "justify_items": null,
       "left": null,
       "margin": null,
       "max_height": null,
       "max_width": null,
       "min_height": null,
       "min_width": null,
       "object_fit": null,
       "object_position": null,
       "order": null,
       "overflow": null,
       "overflow_x": null,
       "overflow_y": null,
       "padding": null,
       "right": null,
       "top": null,
       "visibility": null,
       "width": null
      }
     }
    },
    "version_major": 2,
    "version_minor": 0
   }
  }
 },
 "nbformat": 4,
 "nbformat_minor": 5
}