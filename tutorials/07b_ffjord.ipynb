{
 "cells": [
  {
   "cell_type": "markdown",
   "metadata": {},
   "source": [
    "# Density Estimation with FFJORDs"
   ]
  },
  {
   "cell_type": "markdown",
   "metadata": {},
   "source": [
    "Free-form Jacobian of Reversible Dynamics (FFJORD) is a continuous normalizing flow (CNF) variants proposed in [Grathwohl et al., 2018](https://arxiv.org/pdf/1810.01367.pdf). The core novelty is proposing utilization of stochastic trace estimators to improve scalability of the Jacobian trace computation ($O(1)$ calls to autograd instead of $O(D)$)."
   ]
  },
  {
   "cell_type": "code",
   "execution_count": 1,
   "metadata": {},
   "outputs": [],
   "source": [
    "import sys ; sys.path.append('../')\n",
    "import torchdyn; from torchdyn.models import *; from torchdyn.datasets import *"
   ]
  },
  {
   "cell_type": "markdown",
   "metadata": {},
   "source": [
    "This time, we use a fun dataset: the `DiffEqML` logo."
   ]
  },
  {
   "cell_type": "code",
   "execution_count": 2,
   "metadata": {},
   "outputs": [
    {
     "data": {
      "text/plain": [
       "<matplotlib.collections.PathCollection at 0x18328783088>"
      ]
     },
     "execution_count": 2,
     "metadata": {},
     "output_type": "execute_result"
    },
    {
     "data": {
      "image/png": "[encoded data removed]",
      "text/plain": [
       "<Figure size 216x216 with 1 Axes>"
      ]
     },
     "metadata": {
      "needs_background": "light"
     },
     "output_type": "display_data"
    }
   ],
   "source": [
    "data = ToyDataset()\n",
    "n_samples = 1 << 14\n",
    "n_gaussians = 7\n",
    "\n",
    "X, yn = data.generate(n_samples, 'diffeqml', noise=5e-2)\n",
    "X = (X - X.mean())/X.std()\n",
    "\n",
    "import matplotlib.pyplot as plt\n",
    "plt.figure(figsize=(3, 3))\n",
    "plt.scatter(X[:,0], X[:,1], c='olive', alpha=0.3, s=1)"
   ]
  },
  {
   "cell_type": "code",
   "execution_count": 3,
   "metadata": {},
   "outputs": [],
   "source": [
    "import torch\n",
    "import torch.utils.data as data\n",
    "device = torch.device(\"cuda:0\" if torch.cuda.is_available() else \"cpu\")\n",
    "X_train = torch.Tensor(X).to(device)\n",
    "train = data.TensorDataset(X_train)\n",
    "trainloader = data.DataLoader(train, batch_size=1024, shuffle=True) "
   ]
  },
  {
   "cell_type": "markdown",
   "metadata": {},
   "source": [
    "## The FFJORD model"
   ]
  },
  {
   "cell_type": "markdown",
   "metadata": {},
   "source": [
    "In `torchdyn`, we decouple CNFs from the Jacobian trace estimators they use. This allows us to easily implement variants without alternations to the original module. Indeed, we can simply define the Hutchinson stochastic estimator separately as follows"
   ]
  },
  {
   "cell_type": "code",
   "execution_count": 4,
   "metadata": {},
   "outputs": [],
   "source": [
    "def hutch_trace(x_out, x_in, noise=None, **kwargs):\n",
    "    \"\"\"Hutchinson's trace Jacobian estimator, O(1) call to autograd\"\"\"\n",
    "    jvp = torch.autograd.grad(x_out, x_in, noise, create_graph=True)[0]\n",
    "    trJ = torch.einsum('bi,bi->b', jvp, noise) \n",
    "    return trJ"
   ]
  },
  {
   "cell_type": "markdown",
   "metadata": {},
   "source": [
    "And then instantiate a CNF as before. "
   ]
  },
  {
   "cell_type": "code",
   "execution_count": 5,
   "metadata": {},
   "outputs": [],
   "source": [
    "f = nn.Sequential(\n",
    "        nn.Linear(2, 64),\n",
    "        nn.Softplus(),\n",
    "        nn.Linear(64, 64),\n",
    "        nn.Softplus(),\n",
    "        nn.Linear(64, 64),\n",
    "        nn.Softplus(),\n",
    "        nn.Linear(64, 2),\n",
    "    )\n",
    "\n",
    "from torch.distributions import MultivariateNormal, Uniform, TransformedDistribution, SigmoidTransform, Categorical\n",
    "prior = MultivariateNormal(torch.zeros(2).to(device), torch.eye(2).to(device)) \n",
    "\n",
    "# stochastic estimators require a definition of a distribution where \"noise\" vectors are sampled from\n",
    "noise_dist = MultivariateNormal(torch.zeros(2).to(device), torch.eye(2).to(device))\n",
    "# cnf wraps the net as with other energy models\n",
    "cnf = CNF(f, trace_estimator=hutch_trace, noise_dist=noise_dist)\n",
    "nde = NeuralDE(cnf, solver='dopri5', s_span=torch.linspace(0, 1, 2), sensitivity='adjoint', atol=1e-4, rtol=1e-4)"
   ]
  },
  {
   "cell_type": "markdown",
   "metadata": {},
   "source": [
    "Augmenter takes care of setting up the additional scalar dimension for the divergence dynamics.\n",
    "The `DEFunc` wrapper (implicitly defined when passing `f` to the NeuralDE) will ensure compatibility of depth-concatenation and data-control with the divergence dimension.\n",
    "\n",
    "Utilizing additional augmented dimensions is also compatible, as only the first will be used for the jacobian trace."
   ]
  },
  {
   "cell_type": "code",
   "execution_count": 6,
   "metadata": {},
   "outputs": [],
   "source": [
    "model = nn.Sequential(Augmenter(augment_idx=1, augment_dims=1),\n",
    "                      nde).to(device)"
   ]
  },
  {
   "cell_type": "markdown",
   "metadata": {},
   "source": [
    "Standard Learner. It is often useful to visualize samples during normalizing flow training, in order to identify issues quickly and stop runs that are not promising. For an example of how to log images using `PyTorch Lightning` and `Wandb`, refer to torchdyn's `benchmark` notebooks."
   ]
  },
  {
   "cell_type": "code",
   "execution_count": 7,
   "metadata": {},
   "outputs": [],
   "source": [
    "import pytorch_lightning as pl\n",
    "\n",
    "class Learner(pl.LightningModule):\n",
    "    def __init__(self, model:nn.Module):\n",
    "        super().__init__()\n",
    "        self.model = model\n",
    "        self.iters = 0\n",
    "        \n",
    "    def forward(self, x):\n",
    "        return self.model(x)\n",
    "    \n",
    "    def training_step(self, batch, batch_idx):\n",
    "        self.iters += 1 \n",
    "        x = batch[0] \n",
    "        xtrJ = self.model(x)  \n",
    "        logprob = prior.log_prob(xtrJ[:,1:]).to(x) - xtrJ[:,0] # logp(z_S) = logp(z_0) - \\int_0^S trJ\n",
    "        loss = -torch.mean(logprob)\n",
    "        nde.nfe = 0\n",
    "        return {'loss': loss}   \n",
    "    \n",
    "    def configure_optimizers(self):\n",
    "        return torch.optim.AdamW(self.model.parameters(), lr=2e-3, weight_decay=1e-5)\n",
    "\n",
    "    def train_dataloader(self):\n",
    "        return trainloader"
   ]
  },
  {
   "cell_type": "code",
   "execution_count": null,
   "metadata": {},
   "outputs": [
    {
     "name": "stderr",
     "output_type": "stream",
     "text": [
      "GPU available: True, used: False\n",
      "TPU available: False, using: 0 TPU cores\n",
      "\n",
      "  | Name  | Type       | Params\n",
      "-------------------------------------\n",
      "0 | model | Sequential | 8 K   \n"
     ]
    },
    {
     "data": {
      "application/vnd.jupyter.widget-view+json": {
       "model_id": "7d9e5a2a69174272aec435bcdaf4cf01",
       "version_major": 2,
       "version_minor": 0
      },
      "text/plain": [
       "HBox(children=(FloatProgress(value=1.0, bar_style='info', description='Training', layout=Layout(flex='2'), max…"
      ]
     },
     "metadata": {},
     "output_type": "display_data"
    }
   ],
   "source": [
    "learn = Learner(model)\n",
    "trainer = pl.Trainer(max_epochs=300)\n",
    "trainer.fit(learn);"
   ]
  },
  {
   "cell_type": "markdown",
   "metadata": {},
   "source": [
    "## Visualizing the Samples"
   ]
  },
  {
   "cell_type": "markdown",
   "metadata": {},
   "source": [
    "Sampling from CNFs is easy: we query the prior latent normal and then pass the samples through the `z -> x` CNF flow. To reverse the flow, we flip `s_span`:"
   ]
  },
  {
   "cell_type": "code",
   "execution_count": null,
   "metadata": {},
   "outputs": [],
   "source": [
    "sample = prior.sample(torch.Size([1 << 14]))\n",
    "# integrating from 1 to 0\n",
    "model[1].s_span = torch.linspace(1, 0, 2)\n",
    "new_x = model(sample).cpu().detach()"
   ]
  },
  {
   "cell_type": "markdown",
   "metadata": {},
   "source": [
    "We then plot, samples, flows and density like so:"
   ]
  },
  {
   "cell_type": "code",
   "execution_count": null,
   "metadata": {},
   "outputs": [],
   "source": [
    "plt.figure(figsize=(12, 4))\n",
    "plt.subplot(121)\n",
    "plt.scatter(new_x[:,1], new_x[:,2], s=2.3, alpha=0.2, linewidths=0.1, c='blue', edgecolors='black')\n",
    "plt.xlim(-2, 2)\n",
    "plt.ylim(-2, 2)\n",
    "\n",
    "plt.subplot(122)\n",
    "plt.scatter(X[:,0], X[:,1], s=3.3, alpha=0.2, c='red',  linewidths=0.1, edgecolors='black')\n",
    "plt.xlim(-2, 2)\n",
    "plt.ylim(-2, 2)"
   ]
  },
  {
   "cell_type": "markdown",
   "metadata": {},
   "source": [
    "We plot the flows from prior to data distribution:"
   ]
  },
  {
   "cell_type": "code",
   "execution_count": null,
   "metadata": {},
   "outputs": [],
   "source": [
    "traj = model[1].trajectory(Augmenter(1, 1)(sample.cuda()), s_span=torch.linspace(1,0,100)).detach().cpu() ; sample = sample.cpu()\n",
    "traj = traj[:, :, 1:] # scrapping first dimension := jacobian trace"
   ]
  },
  {
   "cell_type": "code",
   "execution_count": null,
   "metadata": {},
   "outputs": [],
   "source": [
    "n = 2000\n",
    "plt.figure(figsize=(6,6))\n",
    "plt.scatter(sample[:n,0], sample[:n,1], s=10, alpha=0.8, c='black')\n",
    "plt.scatter(traj[:,:n,0], traj[:,:n,1], s=0.2, alpha=0.2, c='olive')\n",
    "plt.scatter(traj[-1,:n,0], traj[-1,:n,1], s=4, alpha=1, c='blue')\n",
    "plt.legend(['Prior sample z(S)', 'Flow', 'z(0)'])"
   ]
  },
  {
   "cell_type": "markdown",
   "metadata": {},
   "source": [
    "Following tutorials in this series (WIP) will discuss regularization strategies to speed up CNF training, such as those discussed for example in [Finlay et al. 2020](https://arxiv.org/abs/2002.02798)."
   ]
  }
 ],
 "metadata": {
  "kernelspec": {
   "display_name": "Python 3",
   "language": "python",
   "name": "python3"
  },
  "language_info": {
   "codemirror_mode": {
    "name": "ipython",
    "version": 3
   },
   "file_extension": ".py",
   "mimetype": "text/x-python",
   "name": "python",
   "nbconvert_exporter": "python",
   "pygments_lexer": "ipython3",
   "version": "3.7.7"
  },
  "latex_envs": {
   "LaTeX_envs_menu_present": true,
   "autoclose": false,
   "autocomplete": true,
   "bibliofile": "biblio.bib",
   "cite_by": "apalike",
   "current_citInitial": 1,
   "eqLabelWithNumbers": true,
   "eqNumInitial": 1,
   "hotkeys": {
    "equation": "Ctrl-E",
    "itemize": "Ctrl-I"
   },
   "labels_anchors": false,
   "latex_user_defs": false,
   "report_style_numbering": false,
   "user_envs_cfg": false
  }
 },
 "nbformat": 4,
 "nbformat_minor": 4
}
