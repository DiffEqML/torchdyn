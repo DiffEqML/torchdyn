{
 "cells": [
  {
   "cell_type": "markdown",
   "id": "98fa97b5",
   "metadata": {
    "tags": [
     "papermill-error-cell-tag"
    ]
   },
   "source": [
    "<span style=\"color:red; font-family:Helvetica Neue, Helvetica, Arial, sans-serif; font-size:2em;\">An Exception was encountered at '<a href=\"#papermill-error-cell\">In [8]</a>'.</span>"
   ]
  },
  {
   "cell_type": "markdown",
   "id": "4b5a43b4",
   "metadata": {
    "papermill": {
     "duration": 0.022454,
     "end_time": "2021-06-16T04:37:56.630771",
     "exception": false,
     "start_time": "2021-06-16T04:37:56.608317",
     "status": "completed"
    },
    "tags": []
   },
   "source": [
    "# The Cookbook of Neural ODEs\n",
    "\n",
    "Torchdyn implements out-of-the-box a variety of continuous-depth models. In this introductory tutorial, we show how we can switch between model variants with minor effort. We will touch upon the following Neural ODE variants:\n",
    "\n",
    "* **Vanilla** (depth-invariant) (same as the [torchdyn quickstart](./00_quickstart.html) tutorial)\n",
    "* **Vanilla** (depth-variant)\n",
    "* **Galerkin**\n",
    "* **Data-controlled**\n",
    "* **Stacked (piece-wise constant weights)**\n",
    "* **Stacked with discrete state transitions**\n",
    "--------------------------------------\n",
    "\n",
    "For more advanced models check out \n",
    "\n",
    "* [Hamiltonian Neural Networks](./06a_hamiltonian_nn.html)\n",
    "* [Lagrangian Neural Networks](./06b_lagrangian_nn.html)\n",
    "* [Continuous Normalizing Flow](./07_continuous_normalizing_flow.html)\n",
    "* [Graph Neural ODEs](./08_graph_neural_de.html)"
   ]
  },
  {
   "cell_type": "code",
   "execution_count": 1,
   "id": "3b0c88e0",
   "metadata": {
    "execution": {
     "iopub.execute_input": "2021-06-16T04:37:56.674345Z",
     "iopub.status.busy": "2021-06-16T04:37:56.674037Z",
     "iopub.status.idle": "2021-06-16T04:37:57.519729Z",
     "shell.execute_reply": "2021-06-16T04:37:57.519973Z"
    },
    "papermill": {
     "duration": 0.87161,
     "end_time": "2021-06-16T04:37:57.520151",
     "exception": false,
     "start_time": "2021-06-16T04:37:56.648541",
     "status": "completed"
    },
    "tags": []
   },
   "outputs": [],
   "source": [
    "import sys ; sys.path.append('../')\n",
    "from torchdyn.core import NeuralODE\n",
    "from torchdyn.nn import DataControl, DepthCat, Augmenter\n",
    "from torchdyn.datasets import *"
   ]
  },
  {
   "cell_type": "markdown",
   "id": "0e95f80c",
   "metadata": {
    "papermill": {
     "duration": 0.01815,
     "end_time": "2021-06-16T04:37:57.557500",
     "exception": false,
     "start_time": "2021-06-16T04:37:57.539350",
     "status": "completed"
    },
    "tags": []
   },
   "source": [
    "**Data:** we use again the moons dataset (with some added noise) simply because all the models will be effective to solve this easy binary classification problem.\n",
    "\n"
   ]
  },
  {
   "cell_type": "code",
   "execution_count": 2,
   "id": "2dc3f84b",
   "metadata": {
    "execution": {
     "iopub.execute_input": "2021-06-16T04:37:57.596715Z",
     "iopub.status.busy": "2021-06-16T04:37:57.596398Z",
     "iopub.status.idle": "2021-06-16T04:37:57.598398Z",
     "shell.execute_reply": "2021-06-16T04:37:57.598625Z"
    },
    "papermill": {
     "duration": 0.022829,
     "end_time": "2021-06-16T04:37:57.598688",
     "exception": false,
     "start_time": "2021-06-16T04:37:57.575859",
     "status": "completed"
    },
    "tags": []
   },
   "outputs": [],
   "source": [
    "d = ToyDataset()\n",
    "X, yn = d.generate(n_samples=512, dataset_type='moons', noise=.1)"
   ]
  },
  {
   "cell_type": "code",
   "execution_count": 3,
   "id": "f11a384a",
   "metadata": {
    "execution": {
     "iopub.execute_input": "2021-06-16T04:37:57.637528Z",
     "iopub.status.busy": "2021-06-16T04:37:57.637131Z",
     "iopub.status.idle": "2021-06-16T04:38:00.733088Z",
     "shell.execute_reply": "2021-06-16T04:38:00.733332Z"
    },
    "papermill": {
     "duration": 3.116745,
     "end_time": "2021-06-16T04:38:00.733433",
     "exception": false,
     "start_time": "2021-06-16T04:37:57.616688",
     "status": "completed"
    },
    "tags": []
   },
   "outputs": [
    {
     "data": {
      "image/png": "[encoded data removed]",
      "text/plain": [
       "<Figure size 216x216 with 1 Axes>"
      ]
     },
     "metadata": {
      "needs_background": "light"
     },
     "output_type": "display_data"
    }
   ],
   "source": [
    "import matplotlib.pyplot as plt\n",
    "\n",
    "colors = ['orange', 'blue'] \n",
    "fig = plt.figure(figsize=(3,3))\n",
    "ax = fig.add_subplot(111)\n",
    "for i in range(len(X)):\n",
    "    ax.scatter(X[i,0], X[i,1], s=1, color=colors[yn[i].int()])"
   ]
  },
  {
   "cell_type": "code",
   "execution_count": 4,
   "id": "99d3e808",
   "metadata": {
    "execution": {
     "iopub.execute_input": "2021-06-16T04:38:00.807443Z",
     "iopub.status.busy": "2021-06-16T04:38:00.807069Z",
     "iopub.status.idle": "2021-06-16T04:38:05.238099Z",
     "shell.execute_reply": "2021-06-16T04:38:05.237584Z"
    },
    "papermill": {
     "duration": 4.484295,
     "end_time": "2021-06-16T04:38:05.238224",
     "exception": false,
     "start_time": "2021-06-16T04:38:00.753929",
     "status": "completed"
    },
    "tags": []
   },
   "outputs": [],
   "source": [
    "import torch\n",
    "import torch.utils.data as data\n",
    "device = torch.device(\"cuda:0\" if torch.cuda.is_available() else \"cpu\")\n",
    "\n",
    "X_train = torch.Tensor(X).to(device)\n",
    "y_train = torch.LongTensor(yn.long()).to(device)\n",
    "train = data.TensorDataset(X_train, y_train)\n",
    "trainloader = data.DataLoader(train, batch_size=len(X), shuffle=True)"
   ]
  },
  {
   "cell_type": "markdown",
   "id": "d15fce83",
   "metadata": {
    "papermill": {
     "duration": 0.01823,
     "end_time": "2021-06-16T04:38:05.279332",
     "exception": false,
     "start_time": "2021-06-16T04:38:05.261102",
     "status": "completed"
    },
    "tags": []
   },
   "source": [
    "**Learner**"
   ]
  },
  {
   "cell_type": "code",
   "execution_count": 5,
   "id": "53da50ea",
   "metadata": {
    "execution": {
     "iopub.execute_input": "2021-06-16T04:38:05.320871Z",
     "iopub.status.busy": "2021-06-16T04:38:05.320556Z",
     "iopub.status.idle": "2021-06-16T04:38:05.322563Z",
     "shell.execute_reply": "2021-06-16T04:38:05.322773Z"
    },
    "papermill": {
     "duration": 0.025298,
     "end_time": "2021-06-16T04:38:05.322831",
     "exception": false,
     "start_time": "2021-06-16T04:38:05.297533",
     "status": "completed"
    },
    "tags": []
   },
   "outputs": [],
   "source": [
    "import torch.nn as nn\n",
    "import pytorch_lightning as pl\n",
    "\n",
    "class Learner(pl.LightningModule):\n",
    "    def __init__(self, model:nn.Module):\n",
    "        super().__init__()\n",
    "        self.model = model\n",
    "    \n",
    "    def forward(self, x):\n",
    "        return self.model(x)\n",
    "    \n",
    "    def training_step(self, batch, batch_idx):\n",
    "        x, y = batch      \n",
    "        y_hat = self.model(x)   \n",
    "        loss = nn.CrossEntropyLoss()(y_hat, y)\n",
    "        logs = {'train_loss': loss}\n",
    "        return {'loss': loss, 'log': logs}   \n",
    "    \n",
    "    def configure_optimizers(self):\n",
    "        return torch.optim.Adam(self.model.parameters(), lr=0.005)\n",
    "\n",
    "    def train_dataloader(self):\n",
    "        return trainloader"
   ]
  },
  {
   "cell_type": "markdown",
   "id": "0f4db8c5",
   "metadata": {
    "papermill": {
     "duration": 0.018254,
     "end_time": "2021-06-16T04:38:05.359449",
     "exception": false,
     "start_time": "2021-06-16T04:38:05.341195",
     "status": "completed"
    },
    "tags": []
   },
   "source": [
    "**Note:** In this notebook we will consider the depth domain $[0,1]$, i.e. $s\\in[0,1]$. Note that, for most architectures in *static* settings (aka we do not deal with dynamic data) any other depth domain does not actually affect the expressiveness of Neural ODEs, since it can be seen as a rescaled/shifted version of $[0,1]$. Please note that, however, other choices of the depth domain can indeed affect the training phase\n",
    "\n",
    "The depth domain can be accessed and modified through the `s_span` setting of `NeuralDE` instances."
   ]
  },
  {
   "cell_type": "markdown",
   "id": "065aa6e6",
   "metadata": {
    "papermill": {
     "duration": 0.018421,
     "end_time": "2021-06-16T04:38:05.396347",
     "exception": false,
     "start_time": "2021-06-16T04:38:05.377926",
     "status": "completed"
    },
    "tags": []
   },
   "source": [
    "## Vanilla Neural ODE (Depth-Invariant)"
   ]
  },
  {
   "cell_type": "markdown",
   "id": "03072a2e",
   "metadata": {
    "papermill": {
     "duration": 0.018333,
     "end_time": "2021-06-16T04:38:05.433033",
     "exception": false,
     "start_time": "2021-06-16T04:38:05.414700",
     "status": "completed"
    },
    "tags": []
   },
   "source": [
    "$$ \\left\\{\n",
    "    \\begin{aligned}\n",
    "        \\dot{z}(s) &= f(z(s), \\theta)\\\\\n",
    "        z(0) &= x\\\\\n",
    "        \\hat y & = z(1)\n",
    "    \\end{aligned}\n",
    "    \\right. \\quad s\\in[0,1]\n",
    "$$"
   ]
  },
  {
   "cell_type": "markdown",
   "id": "83d9ab95",
   "metadata": {
    "papermill": {
     "duration": 0.018219,
     "end_time": "2021-06-16T04:38:05.469616",
     "exception": false,
     "start_time": "2021-06-16T04:38:05.451397",
     "status": "completed"
    },
    "tags": []
   },
   "source": [
    "This model is the same used in [torchdyn quickstart](./00_quickstart.html) tutorial. The vector field is parametrized by a neural network $f$ with *static* parameters $\\theta$ and taking as input only the state $h(s)$."
   ]
  },
  {
   "cell_type": "code",
   "execution_count": 6,
   "id": "e8088aaa",
   "metadata": {
    "execution": {
     "iopub.execute_input": "2021-06-16T04:38:05.510583Z",
     "iopub.status.busy": "2021-06-16T04:38:05.509913Z",
     "iopub.status.idle": "2021-06-16T04:38:05.521337Z",
     "shell.execute_reply": "2021-06-16T04:38:05.520828Z"
    },
    "papermill": {
     "duration": 0.033242,
     "end_time": "2021-06-16T04:38:05.521433",
     "exception": false,
     "start_time": "2021-06-16T04:38:05.488191",
     "status": "completed"
    },
    "tags": []
   },
   "outputs": [],
   "source": [
    "# vector field parametrized by a NN\n",
    "f = nn.Sequential(\n",
    "        nn.Linear(2, 64),\n",
    "        nn.Tanh(), \n",
    "        nn.Linear(64, 2))\n",
    "\n",
    "# Neural ODE\n",
    "model = NeuralODE(f, sensitivity='adjoint', solver='dopri5').to(device)"
   ]
  },
  {
   "cell_type": "code",
   "execution_count": 7,
   "id": "c1d26219",
   "metadata": {
    "execution": {
     "iopub.execute_input": "2021-06-16T04:38:05.565525Z",
     "iopub.status.busy": "2021-06-16T04:38:05.565266Z",
     "iopub.status.idle": "2021-06-16T04:38:20.643973Z",
     "shell.execute_reply": "2021-06-16T04:38:20.644200Z"
    },
    "papermill": {
     "duration": 15.099901,
     "end_time": "2021-06-16T04:38:20.644298",
     "exception": false,
     "start_time": "2021-06-16T04:38:05.544397",
     "status": "completed"
    },
    "tags": []
   },
   "outputs": [
    {
     "name": "stderr",
     "output_type": "stream",
     "text": [
      "GPU available: True, used: False\n"
     ]
    },
    {
     "name": "stderr",
     "output_type": "stream",
     "text": [
      "TPU available: False, using: 0 TPU cores\n"
     ]
    },
    {
     "name": "stderr",
     "output_type": "stream",
     "text": [
      "/home/michael/.cache/pypoetry/virtualenvs/torchdyn-voYSR01p-py3.8/lib/python3.8/site-packages/pytorch_lightning/utilities/distributed.py:69: UserWarning: GPU available but not used. Set the gpus flag in your trainer `Trainer(gpus=1)` or script `--gpus=1`.\n",
      "  warnings.warn(*args, **kwargs)\n",
      "\n",
      "  | Name  | Type      | Params\n",
      "------------------------------------\n",
      "0 | model | NeuralODE | 322   \n",
      "------------------------------------\n",
      "322       Trainable params\n",
      "0         Non-trainable params\n",
      "322       Total params\n",
      "0.001     Total estimated model params size (MB)\n"
     ]
    },
    {
     "name": "stdout",
     "output_type": "stream",
     "text": [
      "\r",
      "Training: 0it [00:00, ?it/s]"
     ]
    },
    {
     "name": "stdout",
     "output_type": "stream",
     "text": [
      "\r",
      "Training:   0%|          | 0/1 [00:00<?, ?it/s]"
     ]
    },
    {
     "name": "stdout",
     "output_type": "stream",
     "text": [
      "\r",
      "Epoch 0:   0%|          | 0/1 [00:00<?, ?it/s] "
     ]
    },
    {
     "name": "stdout",
     "output_type": "stream",
     "text": [
      "\r",
      "Epoch 0: 100%|██████████| 1/1 [00:00<00:00, 39.51it/s, loss=1.06, v_num=134]"
     ]
    },
    {
     "name": "stdout",
     "output_type": "stream",
     "text": [
      "\r",
      "Epoch 0:   0%|          | 0/1 [00:00<?, ?it/s, loss=1.06, v_num=134]        "
     ]
    },
    {
     "name": "stdout",
     "output_type": "stream",
     "text": [
      "\r",
      "Epoch 1:   0%|          | 0/1 [00:00<?, ?it/s, loss=1.06, v_num=134]"
     ]
    },
    {
     "name": "stdout",
     "output_type": "stream",
     "text": [
      "\r",
      "Epoch 1: 100%|██████████| 1/1 [00:00<00:00, 49.95it/s, loss=1.03, v_num=134]"
     ]
    },
    {
     "name": "stdout",
     "output_type": "stream",
     "text": [
      "\r",
      "Epoch 1:   0%|          | 0/1 [00:00<?, ?it/s, loss=1.03, v_num=134]        "
     ]
    },
    {
     "name": "stdout",
     "output_type": "stream",
     "text": [
      "\r",
      "Epoch 2:   0%|          | 0/1 [00:00<?, ?it/s, loss=1.03, v_num=134]"
     ]
    },
    {
     "name": "stdout",
     "output_type": "stream",
     "text": [
      "\r",
      "Epoch 2: 100%|██████████| 1/1 [00:00<00:00, 47.05it/s, loss=1.01, v_num=134]"
     ]
    },
    {
     "name": "stdout",
     "output_type": "stream",
     "text": [
      "\r",
      "Epoch 2:   0%|          | 0/1 [00:00<?, ?it/s, loss=1.01, v_num=134]        "
     ]
    },
    {
     "name": "stdout",
     "output_type": "stream",
     "text": [
      "\r",
      "Epoch 3:   0%|          | 0/1 [00:00<?, ?it/s, loss=1.01, v_num=134]"
     ]
    },
    {
     "name": "stdout",
     "output_type": "stream",
     "text": [
      "\r",
      "Epoch 3: 100%|██████████| 1/1 [00:00<00:00, 41.15it/s, loss=0.984, v_num=134]"
     ]
    },
    {
     "name": "stdout",
     "output_type": "stream",
     "text": [
      "\r",
      "Epoch 3:   0%|          | 0/1 [00:00<?, ?it/s, loss=0.984, v_num=134]        "
     ]
    },
    {
     "name": "stdout",
     "output_type": "stream",
     "text": [
      "\r",
      "Epoch 4:   0%|          | 0/1 [00:00<?, ?it/s, loss=0.984, v_num=134]"
     ]
    },
    {
     "name": "stdout",
     "output_type": "stream",
     "text": [
      "\r",
      "Epoch 4: 100%|██████████| 1/1 [00:00<00:00, 41.10it/s, loss=0.964, v_num=134]"
     ]
    },
    {
     "name": "stdout",
     "output_type": "stream",
     "text": [
      "\r",
      "Epoch 4:   0%|          | 0/1 [00:00<?, ?it/s, loss=0.964, v_num=134]        "
     ]
    },
    {
     "name": "stdout",
     "output_type": "stream",
     "text": [
      "\r",
      "Epoch 5:   0%|          | 0/1 [00:00<?, ?it/s, loss=0.964, v_num=134]"
     ]
    },
    {
     "name": "stdout",
     "output_type": "stream",
     "text": [
      "\r",
      "Epoch 5: 100%|██████████| 1/1 [00:00<00:00, 38.55it/s, loss=0.945, v_num=134]"
     ]
    },
    {
     "name": "stdout",
     "output_type": "stream",
     "text": [
      "\r",
      "Epoch 5:   0%|          | 0/1 [00:00<?, ?it/s, loss=0.945, v_num=134]        "
     ]
    },
    {
     "name": "stdout",
     "output_type": "stream",
     "text": [
      "\r",
      "Epoch 6:   0%|          | 0/1 [00:00<?, ?it/s, loss=0.945, v_num=134]"
     ]
    },
    {
     "name": "stdout",
     "output_type": "stream",
     "text": [
      "\r",
      "Epoch 6: 100%|██████████| 1/1 [00:00<00:00, 38.33it/s, loss=0.929, v_num=134]"
     ]
    },
    {
     "name": "stdout",
     "output_type": "stream",
     "text": [
      "\r",
      "Epoch 6:   0%|          | 0/1 [00:00<?, ?it/s, loss=0.929, v_num=134]        "
     ]
    },
    {
     "name": "stdout",
     "output_type": "stream",
     "text": [
      "\r",
      "Epoch 7:   0%|          | 0/1 [00:00<?, ?it/s, loss=0.929, v_num=134]"
     ]
    },
    {
     "name": "stderr",
     "output_type": "stream",
     "text": [
      "/home/michael/.cache/pypoetry/virtualenvs/torchdyn-voYSR01p-py3.8/lib/python3.8/site-packages/pytorch_lightning/utilities/distributed.py:69: UserWarning: The dataloader, train dataloader, does not have many workers which may be a bottleneck. Consider increasing the value of the `num_workers` argument` (try 48 which is the number of cpus on this machine) in the `DataLoader` init to improve performance.\n",
      "  warnings.warn(*args, **kwargs)\n"
     ]
    },
    {
     "name": "stdout",
     "output_type": "stream",
     "text": [
      "\r",
      "Epoch 7: 100%|██████████| 1/1 [00:00<00:00, 37.58it/s, loss=0.914, v_num=134]"
     ]
    },
    {
     "name": "stdout",
     "output_type": "stream",
     "text": [
      "\r",
      "Epoch 7:   0%|          | 0/1 [00:00<?, ?it/s, loss=0.914, v_num=134]        "
     ]
    },
    {
     "name": "stdout",
     "output_type": "stream",
     "text": [
      "\r",
      "Epoch 8:   0%|          | 0/1 [00:00<?, ?it/s, loss=0.914, v_num=134]"
     ]
    },
    {
     "name": "stdout",
     "output_type": "stream",
     "text": [
      "\r",
      "Epoch 8: 100%|██████████| 1/1 [00:00<00:00, 38.08it/s, loss=0.901, v_num=134]"
     ]
    },
    {
     "name": "stdout",
     "output_type": "stream",
     "text": [
      "\r",
      "Epoch 8:   0%|          | 0/1 [00:00<?, ?it/s, loss=0.901, v_num=134]        "
     ]
    },
    {
     "name": "stdout",
     "output_type": "stream",
     "text": [
      "\r",
      "Epoch 9:   0%|          | 0/1 [00:00<?, ?it/s, loss=0.901, v_num=134]"
     ]
    },
    {
     "name": "stdout",
     "output_type": "stream",
     "text": [
      "\r",
      "Epoch 9: 100%|██████████| 1/1 [00:00<00:00, 38.31it/s, loss=0.889, v_num=134]"
     ]
    },
    {
     "name": "stdout",
     "output_type": "stream",
     "text": [
      "\r",
      "Epoch 9:   0%|          | 0/1 [00:00<?, ?it/s, loss=0.889, v_num=134]        "
     ]
    },
    {
     "name": "stdout",
     "output_type": "stream",
     "text": [
      "\r",
      "Epoch 10:   0%|          | 0/1 [00:00<?, ?it/s, loss=0.889, v_num=134]"
     ]
    },
    {
     "name": "stdout",
     "output_type": "stream",
     "text": [
      "\r",
      "Epoch 10: 100%|██████████| 1/1 [00:00<00:00, 38.22it/s, loss=0.878, v_num=134]"
     ]
    },
    {
     "name": "stdout",
     "output_type": "stream",
     "text": [
      "\r",
      "Epoch 10:   0%|          | 0/1 [00:00<?, ?it/s, loss=0.878, v_num=134]        "
     ]
    },
    {
     "name": "stdout",
     "output_type": "stream",
     "text": [
      "\r",
      "Epoch 11:   0%|          | 0/1 [00:00<?, ?it/s, loss=0.878, v_num=134]"
     ]
    },
    {
     "name": "stdout",
     "output_type": "stream",
     "text": [
      "\r",
      "Epoch 11: 100%|██████████| 1/1 [00:00<00:00, 36.12it/s, loss=0.868, v_num=134]"
     ]
    },
    {
     "name": "stdout",
     "output_type": "stream",
     "text": [
      "\r",
      "Epoch 11:   0%|          | 0/1 [00:00<?, ?it/s, loss=0.868, v_num=134]        "
     ]
    },
    {
     "name": "stdout",
     "output_type": "stream",
     "text": [
      "\r",
      "Epoch 12:   0%|          | 0/1 [00:00<?, ?it/s, loss=0.868, v_num=134]"
     ]
    },
    {
     "name": "stdout",
     "output_type": "stream",
     "text": [
      "\r",
      "Epoch 12: 100%|██████████| 1/1 [00:00<00:00, 34.22it/s, loss=0.859, v_num=134]"
     ]
    },
    {
     "name": "stdout",
     "output_type": "stream",
     "text": [
      "\r",
      "Epoch 12:   0%|          | 0/1 [00:00<?, ?it/s, loss=0.859, v_num=134]        "
     ]
    },
    {
     "name": "stdout",
     "output_type": "stream",
     "text": [
      "\r",
      "Epoch 13:   0%|          | 0/1 [00:00<?, ?it/s, loss=0.859, v_num=134]"
     ]
    },
    {
     "name": "stdout",
     "output_type": "stream",
     "text": [
      "\r",
      "Epoch 13: 100%|██████████| 1/1 [00:00<00:00, 36.26it/s, loss=0.85, v_num=134]"
     ]
    },
    {
     "name": "stdout",
     "output_type": "stream",
     "text": [
      "\r",
      "Epoch 13:   0%|          | 0/1 [00:00<?, ?it/s, loss=0.85, v_num=134]        "
     ]
    },
    {
     "name": "stdout",
     "output_type": "stream",
     "text": [
      "\r",
      "Epoch 14:   0%|          | 0/1 [00:00<?, ?it/s, loss=0.85, v_num=134]"
     ]
    },
    {
     "name": "stdout",
     "output_type": "stream",
     "text": [
      "\r",
      "Epoch 14: 100%|██████████| 1/1 [00:00<00:00, 30.02it/s, loss=0.843, v_num=134]"
     ]
    },
    {
     "name": "stdout",
     "output_type": "stream",
     "text": [
      "\r",
      "Epoch 14:   0%|          | 0/1 [00:00<?, ?it/s, loss=0.843, v_num=134]        "
     ]
    },
    {
     "name": "stdout",
     "output_type": "stream",
     "text": [
      "\r",
      "Epoch 15:   0%|          | 0/1 [00:00<?, ?it/s, loss=0.843, v_num=134]"
     ]
    },
    {
     "name": "stdout",
     "output_type": "stream",
     "text": [
      "\r",
      "Epoch 15: 100%|██████████| 1/1 [00:00<00:00, 30.07it/s, loss=0.836, v_num=134]"
     ]
    },
    {
     "name": "stdout",
     "output_type": "stream",
     "text": [
      "\r",
      "Epoch 15:   0%|          | 0/1 [00:00<?, ?it/s, loss=0.836, v_num=134]        "
     ]
    },
    {
     "name": "stdout",
     "output_type": "stream",
     "text": [
      "\r",
      "Epoch 16:   0%|          | 0/1 [00:00<?, ?it/s, loss=0.836, v_num=134]"
     ]
    },
    {
     "name": "stdout",
     "output_type": "stream",
     "text": [
      "\r",
      "Epoch 16: 100%|██████████| 1/1 [00:00<00:00, 30.56it/s, loss=0.829, v_num=134]"
     ]
    },
    {
     "name": "stdout",
     "output_type": "stream",
     "text": [
      "\r",
      "Epoch 16:   0%|          | 0/1 [00:00<?, ?it/s, loss=0.829, v_num=134]        "
     ]
    },
    {
     "name": "stdout",
     "output_type": "stream",
     "text": [
      "\r",
      "Epoch 17:   0%|          | 0/1 [00:00<?, ?it/s, loss=0.829, v_num=134]"
     ]
    },
    {
     "name": "stdout",
     "output_type": "stream",
     "text": [
      "\r",
      "Epoch 17: 100%|██████████| 1/1 [00:00<00:00, 26.26it/s, loss=0.823, v_num=134]"
     ]
    },
    {
     "name": "stdout",
     "output_type": "stream",
     "text": [
      "\r",
      "Epoch 17:   0%|          | 0/1 [00:00<?, ?it/s, loss=0.823, v_num=134]        "
     ]
    },
    {
     "name": "stdout",
     "output_type": "stream",
     "text": [
      "\r",
      "Epoch 18:   0%|          | 0/1 [00:00<?, ?it/s, loss=0.823, v_num=134]"
     ]
    },
    {
     "name": "stdout",
     "output_type": "stream",
     "text": [
      "\r",
      "Epoch 18: 100%|██████████| 1/1 [00:00<00:00, 27.30it/s, loss=0.818, v_num=134]"
     ]
    },
    {
     "name": "stdout",
     "output_type": "stream",
     "text": [
      "\r",
      "Epoch 18:   0%|          | 0/1 [00:00<?, ?it/s, loss=0.818, v_num=134]        "
     ]
    },
    {
     "name": "stdout",
     "output_type": "stream",
     "text": [
      "\r",
      "Epoch 19:   0%|          | 0/1 [00:00<?, ?it/s, loss=0.818, v_num=134]"
     ]
    },
    {
     "name": "stdout",
     "output_type": "stream",
     "text": [
      "\r",
      "Epoch 19: 100%|██████████| 1/1 [00:00<00:00, 25.45it/s, loss=0.813, v_num=134]"
     ]
    },
    {
     "name": "stdout",
     "output_type": "stream",
     "text": [
      "\r",
      "Epoch 19:   0%|          | 0/1 [00:00<?, ?it/s, loss=0.813, v_num=134]        "
     ]
    },
    {
     "name": "stdout",
     "output_type": "stream",
     "text": [
      "\r",
      "Epoch 20:   0%|          | 0/1 [00:00<?, ?it/s, loss=0.813, v_num=134]"
     ]
    },
    {
     "name": "stdout",
     "output_type": "stream",
     "text": [
      "\r",
      "Epoch 20: 100%|██████████| 1/1 [00:00<00:00, 26.58it/s, loss=0.795, v_num=134]"
     ]
    },
    {
     "name": "stdout",
     "output_type": "stream",
     "text": [
      "\r",
      "Epoch 20:   0%|          | 0/1 [00:00<?, ?it/s, loss=0.795, v_num=134]        "
     ]
    },
    {
     "name": "stdout",
     "output_type": "stream",
     "text": [
      "\r",
      "Epoch 21:   0%|          | 0/1 [00:00<?, ?it/s, loss=0.795, v_num=134]"
     ]
    },
    {
     "name": "stdout",
     "output_type": "stream",
     "text": [
      "\r",
      "Epoch 21: 100%|██████████| 1/1 [00:00<00:00, 27.61it/s, loss=0.781, v_num=134]"
     ]
    },
    {
     "name": "stdout",
     "output_type": "stream",
     "text": [
      "\r",
      "Epoch 21:   0%|          | 0/1 [00:00<?, ?it/s, loss=0.781, v_num=134]        "
     ]
    },
    {
     "name": "stdout",
     "output_type": "stream",
     "text": [
      "\r",
      "Epoch 22:   0%|          | 0/1 [00:00<?, ?it/s, loss=0.781, v_num=134]"
     ]
    },
    {
     "name": "stdout",
     "output_type": "stream",
     "text": [
      "\r",
      "Epoch 22: 100%|██████████| 1/1 [00:00<00:00, 27.25it/s, loss=0.768, v_num=134]"
     ]
    },
    {
     "name": "stdout",
     "output_type": "stream",
     "text": [
      "\r",
      "Epoch 22:   0%|          | 0/1 [00:00<?, ?it/s, loss=0.768, v_num=134]        "
     ]
    },
    {
     "name": "stdout",
     "output_type": "stream",
     "text": [
      "\r",
      "Epoch 23:   0%|          | 0/1 [00:00<?, ?it/s, loss=0.768, v_num=134]"
     ]
    },
    {
     "name": "stdout",
     "output_type": "stream",
     "text": [
      "\r",
      "Epoch 23: 100%|██████████| 1/1 [00:00<00:00, 27.52it/s, loss=0.758, v_num=134]"
     ]
    },
    {
     "name": "stdout",
     "output_type": "stream",
     "text": [
      "\r",
      "Epoch 23:   0%|          | 0/1 [00:00<?, ?it/s, loss=0.758, v_num=134]        "
     ]
    },
    {
     "name": "stdout",
     "output_type": "stream",
     "text": [
      "\r",
      "Epoch 24:   0%|          | 0/1 [00:00<?, ?it/s, loss=0.758, v_num=134]"
     ]
    },
    {
     "name": "stdout",
     "output_type": "stream",
     "text": [
      "\r",
      "Epoch 24: 100%|██████████| 1/1 [00:00<00:00, 26.45it/s, loss=0.749, v_num=134]"
     ]
    },
    {
     "name": "stdout",
     "output_type": "stream",
     "text": [
      "\r",
      "Epoch 24:   0%|          | 0/1 [00:00<?, ?it/s, loss=0.749, v_num=134]        "
     ]
    },
    {
     "name": "stdout",
     "output_type": "stream",
     "text": [
      "\r",
      "Epoch 25:   0%|          | 0/1 [00:00<?, ?it/s, loss=0.749, v_num=134]"
     ]
    },
    {
     "name": "stdout",
     "output_type": "stream",
     "text": [
      "\r",
      "Epoch 25: 100%|██████████| 1/1 [00:00<00:00, 25.40it/s, loss=0.742, v_num=134]"
     ]
    },
    {
     "name": "stdout",
     "output_type": "stream",
     "text": [
      "\r",
      "Epoch 25:   0%|          | 0/1 [00:00<?, ?it/s, loss=0.742, v_num=134]        "
     ]
    },
    {
     "name": "stdout",
     "output_type": "stream",
     "text": [
      "\r",
      "Epoch 26:   0%|          | 0/1 [00:00<?, ?it/s, loss=0.742, v_num=134]"
     ]
    },
    {
     "name": "stdout",
     "output_type": "stream",
     "text": [
      "\r",
      "Epoch 26: 100%|██████████| 1/1 [00:00<00:00, 24.42it/s, loss=0.735, v_num=134]"
     ]
    },
    {
     "name": "stdout",
     "output_type": "stream",
     "text": [
      "\r",
      "Epoch 26:   0%|          | 0/1 [00:00<?, ?it/s, loss=0.735, v_num=134]        "
     ]
    },
    {
     "name": "stdout",
     "output_type": "stream",
     "text": [
      "\r",
      "Epoch 27:   0%|          | 0/1 [00:00<?, ?it/s, loss=0.735, v_num=134]"
     ]
    },
    {
     "name": "stdout",
     "output_type": "stream",
     "text": [
      "\r",
      "Epoch 27: 100%|██████████| 1/1 [00:00<00:00, 25.14it/s, loss=0.73, v_num=134]"
     ]
    },
    {
     "name": "stdout",
     "output_type": "stream",
     "text": [
      "\r",
      "Epoch 27:   0%|          | 0/1 [00:00<?, ?it/s, loss=0.73, v_num=134]        "
     ]
    },
    {
     "name": "stdout",
     "output_type": "stream",
     "text": [
      "\r",
      "Epoch 28:   0%|          | 0/1 [00:00<?, ?it/s, loss=0.73, v_num=134]"
     ]
    },
    {
     "name": "stdout",
     "output_type": "stream",
     "text": [
      "\r",
      "Epoch 28: 100%|██████████| 1/1 [00:00<00:00, 28.05it/s, loss=0.725, v_num=134]"
     ]
    },
    {
     "name": "stdout",
     "output_type": "stream",
     "text": [
      "\r",
      "Epoch 28:   0%|          | 0/1 [00:00<?, ?it/s, loss=0.725, v_num=134]        "
     ]
    },
    {
     "name": "stdout",
     "output_type": "stream",
     "text": [
      "\r",
      "Epoch 29:   0%|          | 0/1 [00:00<?, ?it/s, loss=0.725, v_num=134]"
     ]
    },
    {
     "name": "stdout",
     "output_type": "stream",
     "text": [
      "\r",
      "Epoch 29: 100%|██████████| 1/1 [00:00<00:00, 25.50it/s, loss=0.721, v_num=134]"
     ]
    },
    {
     "name": "stdout",
     "output_type": "stream",
     "text": [
      "\r",
      "Epoch 29:   0%|          | 0/1 [00:00<?, ?it/s, loss=0.721, v_num=134]        "
     ]
    },
    {
     "name": "stdout",
     "output_type": "stream",
     "text": [
      "\r",
      "Epoch 30:   0%|          | 0/1 [00:00<?, ?it/s, loss=0.721, v_num=134]"
     ]
    },
    {
     "name": "stdout",
     "output_type": "stream",
     "text": [
      "\r",
      "Epoch 30: 100%|██████████| 1/1 [00:00<00:00, 24.05it/s, loss=0.718, v_num=134]"
     ]
    },
    {
     "name": "stdout",
     "output_type": "stream",
     "text": [
      "\r",
      "Epoch 30:   0%|          | 0/1 [00:00<?, ?it/s, loss=0.718, v_num=134]        "
     ]
    },
    {
     "name": "stdout",
     "output_type": "stream",
     "text": [
      "\r",
      "Epoch 31:   0%|          | 0/1 [00:00<?, ?it/s, loss=0.718, v_num=134]"
     ]
    },
    {
     "name": "stdout",
     "output_type": "stream",
     "text": [
      "\r",
      "Epoch 31: 100%|██████████| 1/1 [00:00<00:00, 24.12it/s, loss=0.715, v_num=134]"
     ]
    },
    {
     "name": "stdout",
     "output_type": "stream",
     "text": [
      "\r",
      "Epoch 31:   0%|          | 0/1 [00:00<?, ?it/s, loss=0.715, v_num=134]        "
     ]
    },
    {
     "name": "stdout",
     "output_type": "stream",
     "text": [
      "\r",
      "Epoch 32:   0%|          | 0/1 [00:00<?, ?it/s, loss=0.715, v_num=134]"
     ]
    },
    {
     "name": "stdout",
     "output_type": "stream",
     "text": [
      "\r",
      "Epoch 32: 100%|██████████| 1/1 [00:00<00:00, 24.01it/s, loss=0.713, v_num=134]"
     ]
    },
    {
     "name": "stdout",
     "output_type": "stream",
     "text": [
      "\r",
      "Epoch 32:   0%|          | 0/1 [00:00<?, ?it/s, loss=0.713, v_num=134]        "
     ]
    },
    {
     "name": "stdout",
     "output_type": "stream",
     "text": [
      "\r",
      "Epoch 33:   0%|          | 0/1 [00:00<?, ?it/s, loss=0.713, v_num=134]"
     ]
    },
    {
     "name": "stdout",
     "output_type": "stream",
     "text": [
      "\r",
      "Epoch 33: 100%|██████████| 1/1 [00:00<00:00, 22.44it/s, loss=0.71, v_num=134]"
     ]
    },
    {
     "name": "stdout",
     "output_type": "stream",
     "text": [
      "\r",
      "Epoch 33:   0%|          | 0/1 [00:00<?, ?it/s, loss=0.71, v_num=134]        "
     ]
    },
    {
     "name": "stdout",
     "output_type": "stream",
     "text": [
      "\r",
      "Epoch 34:   0%|          | 0/1 [00:00<?, ?it/s, loss=0.71, v_num=134]"
     ]
    },
    {
     "name": "stdout",
     "output_type": "stream",
     "text": [
      "\r",
      "Epoch 34: 100%|██████████| 1/1 [00:00<00:00, 23.98it/s, loss=0.709, v_num=134]"
     ]
    },
    {
     "name": "stdout",
     "output_type": "stream",
     "text": [
      "\r",
      "Epoch 34:   0%|          | 0/1 [00:00<?, ?it/s, loss=0.709, v_num=134]        "
     ]
    },
    {
     "name": "stdout",
     "output_type": "stream",
     "text": [
      "\r",
      "Epoch 35:   0%|          | 0/1 [00:00<?, ?it/s, loss=0.709, v_num=134]"
     ]
    },
    {
     "name": "stdout",
     "output_type": "stream",
     "text": [
      "\r",
      "Epoch 35: 100%|██████████| 1/1 [00:00<00:00, 22.34it/s, loss=0.707, v_num=134]"
     ]
    },
    {
     "name": "stdout",
     "output_type": "stream",
     "text": [
      "\r",
      "Epoch 35:   0%|          | 0/1 [00:00<?, ?it/s, loss=0.707, v_num=134]        "
     ]
    },
    {
     "name": "stdout",
     "output_type": "stream",
     "text": [
      "\r",
      "Epoch 36:   0%|          | 0/1 [00:00<?, ?it/s, loss=0.707, v_num=134]"
     ]
    },
    {
     "name": "stdout",
     "output_type": "stream",
     "text": [
      "\r",
      "Epoch 36: 100%|██████████| 1/1 [00:00<00:00, 22.41it/s, loss=0.705, v_num=134]"
     ]
    },
    {
     "name": "stdout",
     "output_type": "stream",
     "text": [
      "\r",
      "Epoch 36:   0%|          | 0/1 [00:00<?, ?it/s, loss=0.705, v_num=134]        "
     ]
    },
    {
     "name": "stdout",
     "output_type": "stream",
     "text": [
      "\r",
      "Epoch 37:   0%|          | 0/1 [00:00<?, ?it/s, loss=0.705, v_num=134]"
     ]
    },
    {
     "name": "stdout",
     "output_type": "stream",
     "text": [
      "\r",
      "Epoch 37: 100%|██████████| 1/1 [00:00<00:00, 23.95it/s, loss=0.704, v_num=134]"
     ]
    },
    {
     "name": "stdout",
     "output_type": "stream",
     "text": [
      "\r",
      "Epoch 37:   0%|          | 0/1 [00:00<?, ?it/s, loss=0.704, v_num=134]        "
     ]
    },
    {
     "name": "stdout",
     "output_type": "stream",
     "text": [
      "\r",
      "Epoch 38:   0%|          | 0/1 [00:00<?, ?it/s, loss=0.704, v_num=134]"
     ]
    },
    {
     "name": "stdout",
     "output_type": "stream",
     "text": [
      "\r",
      "Epoch 38: 100%|██████████| 1/1 [00:00<00:00, 22.49it/s, loss=0.703, v_num=134]"
     ]
    },
    {
     "name": "stdout",
     "output_type": "stream",
     "text": [
      "\r",
      "Epoch 38:   0%|          | 0/1 [00:00<?, ?it/s, loss=0.703, v_num=134]        "
     ]
    },
    {
     "name": "stdout",
     "output_type": "stream",
     "text": [
      "\r",
      "Epoch 39:   0%|          | 0/1 [00:00<?, ?it/s, loss=0.703, v_num=134]"
     ]
    },
    {
     "name": "stdout",
     "output_type": "stream",
     "text": [
      "\r",
      "Epoch 39: 100%|██████████| 1/1 [00:00<00:00, 18.89it/s, loss=0.702, v_num=134]"
     ]
    },
    {
     "name": "stdout",
     "output_type": "stream",
     "text": [
      "\r",
      "Epoch 39:   0%|          | 0/1 [00:00<?, ?it/s, loss=0.702, v_num=134]        "
     ]
    },
    {
     "name": "stdout",
     "output_type": "stream",
     "text": [
      "\r",
      "Epoch 40:   0%|          | 0/1 [00:00<?, ?it/s, loss=0.702, v_num=134]"
     ]
    },
    {
     "name": "stdout",
     "output_type": "stream",
     "text": [
      "\r",
      "Epoch 40: 100%|██████████| 1/1 [00:00<00:00, 19.97it/s, loss=0.701, v_num=134]"
     ]
    },
    {
     "name": "stdout",
     "output_type": "stream",
     "text": [
      "\r",
      "Epoch 40:   0%|          | 0/1 [00:00<?, ?it/s, loss=0.701, v_num=134]        "
     ]
    },
    {
     "name": "stdout",
     "output_type": "stream",
     "text": [
      "\r",
      "Epoch 41:   0%|          | 0/1 [00:00<?, ?it/s, loss=0.701, v_num=134]"
     ]
    },
    {
     "name": "stdout",
     "output_type": "stream",
     "text": [
      "\r",
      "Epoch 41: 100%|██████████| 1/1 [00:00<00:00, 22.30it/s, loss=0.7, v_num=134]"
     ]
    },
    {
     "name": "stdout",
     "output_type": "stream",
     "text": [
      "\r",
      "Epoch 41:   0%|          | 0/1 [00:00<?, ?it/s, loss=0.7, v_num=134]        "
     ]
    },
    {
     "name": "stdout",
     "output_type": "stream",
     "text": [
      "\r",
      "Epoch 42:   0%|          | 0/1 [00:00<?, ?it/s, loss=0.7, v_num=134]"
     ]
    },
    {
     "name": "stdout",
     "output_type": "stream",
     "text": [
      "\r",
      "Epoch 42: 100%|██████████| 1/1 [00:00<00:00, 23.27it/s, loss=0.699, v_num=134]"
     ]
    },
    {
     "name": "stdout",
     "output_type": "stream",
     "text": [
      "\r",
      "Epoch 42:   0%|          | 0/1 [00:00<?, ?it/s, loss=0.699, v_num=134]        "
     ]
    },
    {
     "name": "stdout",
     "output_type": "stream",
     "text": [
      "\r",
      "Epoch 43:   0%|          | 0/1 [00:00<?, ?it/s, loss=0.699, v_num=134]"
     ]
    },
    {
     "name": "stdout",
     "output_type": "stream",
     "text": [
      "\r",
      "Epoch 43: 100%|██████████| 1/1 [00:00<00:00, 23.26it/s, loss=0.699, v_num=134]"
     ]
    },
    {
     "name": "stdout",
     "output_type": "stream",
     "text": [
      "\r",
      "Epoch 43:   0%|          | 0/1 [00:00<?, ?it/s, loss=0.699, v_num=134]        "
     ]
    },
    {
     "name": "stdout",
     "output_type": "stream",
     "text": [
      "\r",
      "Epoch 44:   0%|          | 0/1 [00:00<?, ?it/s, loss=0.699, v_num=134]"
     ]
    },
    {
     "name": "stdout",
     "output_type": "stream",
     "text": [
      "\r",
      "Epoch 44: 100%|██████████| 1/1 [00:00<00:00, 23.96it/s, loss=0.698, v_num=134]"
     ]
    },
    {
     "name": "stdout",
     "output_type": "stream",
     "text": [
      "\r",
      "Epoch 44:   0%|          | 0/1 [00:00<?, ?it/s, loss=0.698, v_num=134]        "
     ]
    },
    {
     "name": "stdout",
     "output_type": "stream",
     "text": [
      "\r",
      "Epoch 45:   0%|          | 0/1 [00:00<?, ?it/s, loss=0.698, v_num=134]"
     ]
    },
    {
     "name": "stdout",
     "output_type": "stream",
     "text": [
      "\r",
      "Epoch 45: 100%|██████████| 1/1 [00:00<00:00, 20.41it/s, loss=0.697, v_num=134]"
     ]
    },
    {
     "name": "stdout",
     "output_type": "stream",
     "text": [
      "\r",
      "Epoch 45:   0%|          | 0/1 [00:00<?, ?it/s, loss=0.697, v_num=134]        "
     ]
    },
    {
     "name": "stdout",
     "output_type": "stream",
     "text": [
      "\r",
      "Epoch 46:   0%|          | 0/1 [00:00<?, ?it/s, loss=0.697, v_num=134]"
     ]
    },
    {
     "name": "stdout",
     "output_type": "stream",
     "text": [
      "\r",
      "Epoch 46: 100%|██████████| 1/1 [00:00<00:00, 22.86it/s, loss=0.697, v_num=134]"
     ]
    },
    {
     "name": "stdout",
     "output_type": "stream",
     "text": [
      "\r",
      "Epoch 46:   0%|          | 0/1 [00:00<?, ?it/s, loss=0.697, v_num=134]        "
     ]
    },
    {
     "name": "stdout",
     "output_type": "stream",
     "text": [
      "\r",
      "Epoch 47:   0%|          | 0/1 [00:00<?, ?it/s, loss=0.697, v_num=134]"
     ]
    },
    {
     "name": "stdout",
     "output_type": "stream",
     "text": [
      "\r",
      "Epoch 47: 100%|██████████| 1/1 [00:00<00:00, 20.78it/s, loss=0.696, v_num=134]"
     ]
    },
    {
     "name": "stdout",
     "output_type": "stream",
     "text": [
      "\r",
      "Epoch 47:   0%|          | 0/1 [00:00<?, ?it/s, loss=0.696, v_num=134]        "
     ]
    },
    {
     "name": "stdout",
     "output_type": "stream",
     "text": [
      "\r",
      "Epoch 48:   0%|          | 0/1 [00:00<?, ?it/s, loss=0.696, v_num=134]"
     ]
    },
    {
     "name": "stdout",
     "output_type": "stream",
     "text": [
      "\r",
      "Epoch 48: 100%|██████████| 1/1 [00:00<00:00, 19.89it/s, loss=0.696, v_num=134]"
     ]
    },
    {
     "name": "stdout",
     "output_type": "stream",
     "text": [
      "\r",
      "Epoch 48:   0%|          | 0/1 [00:00<?, ?it/s, loss=0.696, v_num=134]        "
     ]
    },
    {
     "name": "stdout",
     "output_type": "stream",
     "text": [
      "\r",
      "Epoch 49:   0%|          | 0/1 [00:00<?, ?it/s, loss=0.696, v_num=134]"
     ]
    },
    {
     "name": "stdout",
     "output_type": "stream",
     "text": [
      "\r",
      "Epoch 49: 100%|██████████| 1/1 [00:00<00:00, 23.61it/s, loss=0.695, v_num=134]"
     ]
    },
    {
     "name": "stdout",
     "output_type": "stream",
     "text": [
      "\r",
      "Epoch 49:   0%|          | 0/1 [00:00<?, ?it/s, loss=0.695, v_num=134]        "
     ]
    },
    {
     "name": "stdout",
     "output_type": "stream",
     "text": [
      "\r",
      "Epoch 50:   0%|          | 0/1 [00:00<?, ?it/s, loss=0.695, v_num=134]"
     ]
    },
    {
     "name": "stdout",
     "output_type": "stream",
     "text": [
      "\r",
      "Epoch 50: 100%|██████████| 1/1 [00:00<00:00, 23.45it/s, loss=0.695, v_num=134]"
     ]
    },
    {
     "name": "stdout",
     "output_type": "stream",
     "text": [
      "\r",
      "Epoch 50:   0%|          | 0/1 [00:00<?, ?it/s, loss=0.695, v_num=134]        "
     ]
    },
    {
     "name": "stdout",
     "output_type": "stream",
     "text": [
      "\r",
      "Epoch 51:   0%|          | 0/1 [00:00<?, ?it/s, loss=0.695, v_num=134]"
     ]
    },
    {
     "name": "stdout",
     "output_type": "stream",
     "text": [
      "\r",
      "Epoch 51: 100%|██████████| 1/1 [00:00<00:00, 19.97it/s, loss=0.694, v_num=134]"
     ]
    },
    {
     "name": "stdout",
     "output_type": "stream",
     "text": [
      "\r",
      "Epoch 51:   0%|          | 0/1 [00:00<?, ?it/s, loss=0.694, v_num=134]        "
     ]
    },
    {
     "name": "stdout",
     "output_type": "stream",
     "text": [
      "\r",
      "Epoch 52:   0%|          | 0/1 [00:00<?, ?it/s, loss=0.694, v_num=134]"
     ]
    },
    {
     "name": "stdout",
     "output_type": "stream",
     "text": [
      "\r",
      "Epoch 52: 100%|██████████| 1/1 [00:00<00:00, 19.97it/s, loss=0.693, v_num=134]"
     ]
    },
    {
     "name": "stdout",
     "output_type": "stream",
     "text": [
      "\r",
      "Epoch 52:   0%|          | 0/1 [00:00<?, ?it/s, loss=0.693, v_num=134]        "
     ]
    },
    {
     "name": "stdout",
     "output_type": "stream",
     "text": [
      "\r",
      "Epoch 53:   0%|          | 0/1 [00:00<?, ?it/s, loss=0.693, v_num=134]"
     ]
    },
    {
     "name": "stdout",
     "output_type": "stream",
     "text": [
      "\r",
      "Epoch 53: 100%|██████████| 1/1 [00:00<00:00, 21.31it/s, loss=0.693, v_num=134]"
     ]
    },
    {
     "name": "stdout",
     "output_type": "stream",
     "text": [
      "\r",
      "Epoch 53:   0%|          | 0/1 [00:00<?, ?it/s, loss=0.693, v_num=134]        "
     ]
    },
    {
     "name": "stdout",
     "output_type": "stream",
     "text": [
      "\r",
      "Epoch 54:   0%|          | 0/1 [00:00<?, ?it/s, loss=0.693, v_num=134]"
     ]
    },
    {
     "name": "stdout",
     "output_type": "stream",
     "text": [
      "\r",
      "Epoch 54: 100%|██████████| 1/1 [00:00<00:00, 22.66it/s, loss=0.692, v_num=134]"
     ]
    },
    {
     "name": "stdout",
     "output_type": "stream",
     "text": [
      "\r",
      "Epoch 54:   0%|          | 0/1 [00:00<?, ?it/s, loss=0.692, v_num=134]        "
     ]
    },
    {
     "name": "stdout",
     "output_type": "stream",
     "text": [
      "\r",
      "Epoch 55:   0%|          | 0/1 [00:00<?, ?it/s, loss=0.692, v_num=134]"
     ]
    },
    {
     "name": "stdout",
     "output_type": "stream",
     "text": [
      "\r",
      "Epoch 55: 100%|██████████| 1/1 [00:00<00:00, 20.05it/s, loss=0.692, v_num=134]"
     ]
    },
    {
     "name": "stdout",
     "output_type": "stream",
     "text": [
      "\r",
      "Epoch 55:   0%|          | 0/1 [00:00<?, ?it/s, loss=0.692, v_num=134]        "
     ]
    },
    {
     "name": "stdout",
     "output_type": "stream",
     "text": [
      "\r",
      "Epoch 56:   0%|          | 0/1 [00:00<?, ?it/s, loss=0.692, v_num=134]"
     ]
    },
    {
     "name": "stdout",
     "output_type": "stream",
     "text": [
      "\r",
      "Epoch 56: 100%|██████████| 1/1 [00:00<00:00, 21.24it/s, loss=0.691, v_num=134]"
     ]
    },
    {
     "name": "stdout",
     "output_type": "stream",
     "text": [
      "\r",
      "Epoch 56:   0%|          | 0/1 [00:00<?, ?it/s, loss=0.691, v_num=134]        "
     ]
    },
    {
     "name": "stdout",
     "output_type": "stream",
     "text": [
      "\r",
      "Epoch 57:   0%|          | 0/1 [00:00<?, ?it/s, loss=0.691, v_num=134]"
     ]
    },
    {
     "name": "stdout",
     "output_type": "stream",
     "text": [
      "\r",
      "Epoch 57: 100%|██████████| 1/1 [00:00<00:00, 21.33it/s, loss=0.691, v_num=134]"
     ]
    },
    {
     "name": "stdout",
     "output_type": "stream",
     "text": [
      "\r",
      "Epoch 57:   0%|          | 0/1 [00:00<?, ?it/s, loss=0.691, v_num=134]        "
     ]
    },
    {
     "name": "stdout",
     "output_type": "stream",
     "text": [
      "\r",
      "Epoch 58:   0%|          | 0/1 [00:00<?, ?it/s, loss=0.691, v_num=134]"
     ]
    },
    {
     "name": "stdout",
     "output_type": "stream",
     "text": [
      "\r",
      "Epoch 58: 100%|██████████| 1/1 [00:00<00:00, 20.56it/s, loss=0.69, v_num=134]"
     ]
    },
    {
     "name": "stdout",
     "output_type": "stream",
     "text": [
      "\r",
      "Epoch 58:   0%|          | 0/1 [00:00<?, ?it/s, loss=0.69, v_num=134]        "
     ]
    },
    {
     "name": "stdout",
     "output_type": "stream",
     "text": [
      "\r",
      "Epoch 59:   0%|          | 0/1 [00:00<?, ?it/s, loss=0.69, v_num=134]"
     ]
    },
    {
     "name": "stdout",
     "output_type": "stream",
     "text": [
      "\r",
      "Epoch 59: 100%|██████████| 1/1 [00:00<00:00, 22.12it/s, loss=0.689, v_num=134]"
     ]
    },
    {
     "name": "stdout",
     "output_type": "stream",
     "text": [
      "\r",
      "Epoch 59:   0%|          | 0/1 [00:00<?, ?it/s, loss=0.689, v_num=134]        "
     ]
    },
    {
     "name": "stdout",
     "output_type": "stream",
     "text": [
      "\r",
      "Epoch 60:   0%|          | 0/1 [00:00<?, ?it/s, loss=0.689, v_num=134]"
     ]
    },
    {
     "name": "stdout",
     "output_type": "stream",
     "text": [
      "\r",
      "Epoch 60: 100%|██████████| 1/1 [00:00<00:00, 19.87it/s, loss=0.689, v_num=134]"
     ]
    },
    {
     "name": "stdout",
     "output_type": "stream",
     "text": [
      "\r",
      "Epoch 60:   0%|          | 0/1 [00:00<?, ?it/s, loss=0.689, v_num=134]        "
     ]
    },
    {
     "name": "stdout",
     "output_type": "stream",
     "text": [
      "\r",
      "Epoch 61:   0%|          | 0/1 [00:00<?, ?it/s, loss=0.689, v_num=134]"
     ]
    },
    {
     "name": "stdout",
     "output_type": "stream",
     "text": [
      "\r",
      "Epoch 61: 100%|██████████| 1/1 [00:00<00:00, 19.17it/s, loss=0.688, v_num=134]"
     ]
    },
    {
     "name": "stdout",
     "output_type": "stream",
     "text": [
      "\r",
      "Epoch 61:   0%|          | 0/1 [00:00<?, ?it/s, loss=0.688, v_num=134]        "
     ]
    },
    {
     "name": "stdout",
     "output_type": "stream",
     "text": [
      "\r",
      "Epoch 62:   0%|          | 0/1 [00:00<?, ?it/s, loss=0.688, v_num=134]"
     ]
    },
    {
     "name": "stdout",
     "output_type": "stream",
     "text": [
      "\r",
      "Epoch 62: 100%|██████████| 1/1 [00:00<00:00, 22.77it/s, loss=0.687, v_num=134]"
     ]
    },
    {
     "name": "stdout",
     "output_type": "stream",
     "text": [
      "\r",
      "Epoch 62:   0%|          | 0/1 [00:00<?, ?it/s, loss=0.687, v_num=134]        "
     ]
    },
    {
     "name": "stdout",
     "output_type": "stream",
     "text": [
      "\r",
      "Epoch 63:   0%|          | 0/1 [00:00<?, ?it/s, loss=0.687, v_num=134]"
     ]
    },
    {
     "name": "stdout",
     "output_type": "stream",
     "text": [
      "\r",
      "Epoch 63: 100%|██████████| 1/1 [00:00<00:00, 24.05it/s, loss=0.687, v_num=134]"
     ]
    },
    {
     "name": "stdout",
     "output_type": "stream",
     "text": [
      "\r",
      "Epoch 63:   0%|          | 0/1 [00:00<?, ?it/s, loss=0.687, v_num=134]        "
     ]
    },
    {
     "name": "stdout",
     "output_type": "stream",
     "text": [
      "\r",
      "Epoch 64:   0%|          | 0/1 [00:00<?, ?it/s, loss=0.687, v_num=134]"
     ]
    },
    {
     "name": "stdout",
     "output_type": "stream",
     "text": [
      "\r",
      "Epoch 64: 100%|██████████| 1/1 [00:00<00:00, 19.68it/s, loss=0.686, v_num=134]"
     ]
    },
    {
     "name": "stdout",
     "output_type": "stream",
     "text": [
      "\r",
      "Epoch 64:   0%|          | 0/1 [00:00<?, ?it/s, loss=0.686, v_num=134]        "
     ]
    },
    {
     "name": "stdout",
     "output_type": "stream",
     "text": [
      "\r",
      "Epoch 65:   0%|          | 0/1 [00:00<?, ?it/s, loss=0.686, v_num=134]"
     ]
    },
    {
     "name": "stdout",
     "output_type": "stream",
     "text": [
      "\r",
      "Epoch 65: 100%|██████████| 1/1 [00:00<00:00, 19.70it/s, loss=0.685, v_num=134]"
     ]
    },
    {
     "name": "stdout",
     "output_type": "stream",
     "text": [
      "\r",
      "Epoch 65:   0%|          | 0/1 [00:00<?, ?it/s, loss=0.685, v_num=134]        "
     ]
    },
    {
     "name": "stdout",
     "output_type": "stream",
     "text": [
      "\r",
      "Epoch 66:   0%|          | 0/1 [00:00<?, ?it/s, loss=0.685, v_num=134]"
     ]
    },
    {
     "name": "stdout",
     "output_type": "stream",
     "text": [
      "\r",
      "Epoch 66: 100%|██████████| 1/1 [00:00<00:00, 21.06it/s, loss=0.684, v_num=134]"
     ]
    },
    {
     "name": "stdout",
     "output_type": "stream",
     "text": [
      "\r",
      "Epoch 66:   0%|          | 0/1 [00:00<?, ?it/s, loss=0.684, v_num=134]        "
     ]
    },
    {
     "name": "stdout",
     "output_type": "stream",
     "text": [
      "\r",
      "Epoch 67:   0%|          | 0/1 [00:00<?, ?it/s, loss=0.684, v_num=134]"
     ]
    },
    {
     "name": "stdout",
     "output_type": "stream",
     "text": [
      "\r",
      "Epoch 67: 100%|██████████| 1/1 [00:00<00:00, 22.73it/s, loss=0.683, v_num=134]"
     ]
    },
    {
     "name": "stdout",
     "output_type": "stream",
     "text": [
      "\r",
      "Epoch 67:   0%|          | 0/1 [00:00<?, ?it/s, loss=0.683, v_num=134]        "
     ]
    },
    {
     "name": "stdout",
     "output_type": "stream",
     "text": [
      "\r",
      "Epoch 68:   0%|          | 0/1 [00:00<?, ?it/s, loss=0.683, v_num=134]"
     ]
    },
    {
     "name": "stdout",
     "output_type": "stream",
     "text": [
      "\r",
      "Epoch 68: 100%|██████████| 1/1 [00:00<00:00, 21.02it/s, loss=0.682, v_num=134]"
     ]
    },
    {
     "name": "stdout",
     "output_type": "stream",
     "text": [
      "\r",
      "Epoch 68:   0%|          | 0/1 [00:00<?, ?it/s, loss=0.682, v_num=134]        "
     ]
    },
    {
     "name": "stdout",
     "output_type": "stream",
     "text": [
      "\r",
      "Epoch 69:   0%|          | 0/1 [00:00<?, ?it/s, loss=0.682, v_num=134]"
     ]
    },
    {
     "name": "stdout",
     "output_type": "stream",
     "text": [
      "\r",
      "Epoch 69: 100%|██████████| 1/1 [00:00<00:00, 19.60it/s, loss=0.681, v_num=134]"
     ]
    },
    {
     "name": "stdout",
     "output_type": "stream",
     "text": [
      "\r",
      "Epoch 69:   0%|          | 0/1 [00:00<?, ?it/s, loss=0.681, v_num=134]        "
     ]
    },
    {
     "name": "stdout",
     "output_type": "stream",
     "text": [
      "\r",
      "Epoch 70:   0%|          | 0/1 [00:00<?, ?it/s, loss=0.681, v_num=134]"
     ]
    },
    {
     "name": "stdout",
     "output_type": "stream",
     "text": [
      "\r",
      "Epoch 70: 100%|██████████| 1/1 [00:00<00:00, 21.89it/s, loss=0.679, v_num=134]"
     ]
    },
    {
     "name": "stdout",
     "output_type": "stream",
     "text": [
      "\r",
      "Epoch 70:   0%|          | 0/1 [00:00<?, ?it/s, loss=0.679, v_num=134]        "
     ]
    },
    {
     "name": "stdout",
     "output_type": "stream",
     "text": [
      "\r",
      "Epoch 71:   0%|          | 0/1 [00:00<?, ?it/s, loss=0.679, v_num=134]"
     ]
    },
    {
     "name": "stdout",
     "output_type": "stream",
     "text": [
      "\r",
      "Epoch 71: 100%|██████████| 1/1 [00:00<00:00, 20.09it/s, loss=0.678, v_num=134]"
     ]
    },
    {
     "name": "stdout",
     "output_type": "stream",
     "text": [
      "\r",
      "Epoch 71:   0%|          | 0/1 [00:00<?, ?it/s, loss=0.678, v_num=134]        "
     ]
    },
    {
     "name": "stdout",
     "output_type": "stream",
     "text": [
      "\r",
      "Epoch 72:   0%|          | 0/1 [00:00<?, ?it/s, loss=0.678, v_num=134]"
     ]
    },
    {
     "name": "stdout",
     "output_type": "stream",
     "text": [
      "\r",
      "Epoch 72: 100%|██████████| 1/1 [00:00<00:00, 21.11it/s, loss=0.677, v_num=134]"
     ]
    },
    {
     "name": "stdout",
     "output_type": "stream",
     "text": [
      "\r",
      "Epoch 72:   0%|          | 0/1 [00:00<?, ?it/s, loss=0.677, v_num=134]        "
     ]
    },
    {
     "name": "stdout",
     "output_type": "stream",
     "text": [
      "\r",
      "Epoch 73:   0%|          | 0/1 [00:00<?, ?it/s, loss=0.677, v_num=134]"
     ]
    },
    {
     "name": "stdout",
     "output_type": "stream",
     "text": [
      "\r",
      "Epoch 73: 100%|██████████| 1/1 [00:00<00:00, 19.52it/s, loss=0.675, v_num=134]"
     ]
    },
    {
     "name": "stdout",
     "output_type": "stream",
     "text": [
      "\r",
      "Epoch 73:   0%|          | 0/1 [00:00<?, ?it/s, loss=0.675, v_num=134]        "
     ]
    },
    {
     "name": "stdout",
     "output_type": "stream",
     "text": [
      "\r",
      "Epoch 74:   0%|          | 0/1 [00:00<?, ?it/s, loss=0.675, v_num=134]"
     ]
    },
    {
     "name": "stdout",
     "output_type": "stream",
     "text": [
      "\r",
      "Epoch 74: 100%|██████████| 1/1 [00:00<00:00, 22.93it/s, loss=0.673, v_num=134]"
     ]
    },
    {
     "name": "stdout",
     "output_type": "stream",
     "text": [
      "\r",
      "Epoch 74:   0%|          | 0/1 [00:00<?, ?it/s, loss=0.673, v_num=134]        "
     ]
    },
    {
     "name": "stdout",
     "output_type": "stream",
     "text": [
      "\r",
      "Epoch 75:   0%|          | 0/1 [00:00<?, ?it/s, loss=0.673, v_num=134]"
     ]
    },
    {
     "name": "stdout",
     "output_type": "stream",
     "text": [
      "\r",
      "Epoch 75: 100%|██████████| 1/1 [00:00<00:00, 21.11it/s, loss=0.672, v_num=134]"
     ]
    },
    {
     "name": "stdout",
     "output_type": "stream",
     "text": [
      "\r",
      "Epoch 75:   0%|          | 0/1 [00:00<?, ?it/s, loss=0.672, v_num=134]        "
     ]
    },
    {
     "name": "stdout",
     "output_type": "stream",
     "text": [
      "\r",
      "Epoch 76:   0%|          | 0/1 [00:00<?, ?it/s, loss=0.672, v_num=134]"
     ]
    },
    {
     "name": "stdout",
     "output_type": "stream",
     "text": [
      "\r",
      "Epoch 76: 100%|██████████| 1/1 [00:00<00:00, 21.98it/s, loss=0.67, v_num=134]"
     ]
    },
    {
     "name": "stdout",
     "output_type": "stream",
     "text": [
      "\r",
      "Epoch 76:   0%|          | 0/1 [00:00<?, ?it/s, loss=0.67, v_num=134]        "
     ]
    },
    {
     "name": "stdout",
     "output_type": "stream",
     "text": [
      "\r",
      "Epoch 77:   0%|          | 0/1 [00:00<?, ?it/s, loss=0.67, v_num=134]"
     ]
    },
    {
     "name": "stdout",
     "output_type": "stream",
     "text": [
      "\r",
      "Epoch 77: 100%|██████████| 1/1 [00:00<00:00, 20.02it/s, loss=0.668, v_num=134]"
     ]
    },
    {
     "name": "stdout",
     "output_type": "stream",
     "text": [
      "\r",
      "Epoch 77:   0%|          | 0/1 [00:00<?, ?it/s, loss=0.668, v_num=134]        "
     ]
    },
    {
     "name": "stdout",
     "output_type": "stream",
     "text": [
      "\r",
      "Epoch 78:   0%|          | 0/1 [00:00<?, ?it/s, loss=0.668, v_num=134]"
     ]
    },
    {
     "name": "stdout",
     "output_type": "stream",
     "text": [
      "\r",
      "Epoch 78: 100%|██████████| 1/1 [00:00<00:00, 21.16it/s, loss=0.666, v_num=134]"
     ]
    },
    {
     "name": "stdout",
     "output_type": "stream",
     "text": [
      "\r",
      "Epoch 78:   0%|          | 0/1 [00:00<?, ?it/s, loss=0.666, v_num=134]        "
     ]
    },
    {
     "name": "stdout",
     "output_type": "stream",
     "text": [
      "\r",
      "Epoch 79:   0%|          | 0/1 [00:00<?, ?it/s, loss=0.666, v_num=134]"
     ]
    },
    {
     "name": "stdout",
     "output_type": "stream",
     "text": [
      "\r",
      "Epoch 79: 100%|██████████| 1/1 [00:00<00:00, 22.59it/s, loss=0.663, v_num=134]"
     ]
    },
    {
     "name": "stdout",
     "output_type": "stream",
     "text": [
      "\r",
      "Epoch 79:   0%|          | 0/1 [00:00<?, ?it/s, loss=0.663, v_num=134]        "
     ]
    },
    {
     "name": "stdout",
     "output_type": "stream",
     "text": [
      "\r",
      "Epoch 80:   0%|          | 0/1 [00:00<?, ?it/s, loss=0.663, v_num=134]"
     ]
    },
    {
     "name": "stdout",
     "output_type": "stream",
     "text": [
      "\r",
      "Epoch 80: 100%|██████████| 1/1 [00:00<00:00, 23.30it/s, loss=0.661, v_num=134]"
     ]
    },
    {
     "name": "stdout",
     "output_type": "stream",
     "text": [
      "\r",
      "Epoch 80:   0%|          | 0/1 [00:00<?, ?it/s, loss=0.661, v_num=134]        "
     ]
    },
    {
     "name": "stdout",
     "output_type": "stream",
     "text": [
      "\r",
      "Epoch 81:   0%|          | 0/1 [00:00<?, ?it/s, loss=0.661, v_num=134]"
     ]
    },
    {
     "name": "stdout",
     "output_type": "stream",
     "text": [
      "\r",
      "Epoch 81: 100%|██████████| 1/1 [00:00<00:00, 20.21it/s, loss=0.658, v_num=134]"
     ]
    },
    {
     "name": "stdout",
     "output_type": "stream",
     "text": [
      "\r",
      "Epoch 81:   0%|          | 0/1 [00:00<?, ?it/s, loss=0.658, v_num=134]        "
     ]
    },
    {
     "name": "stdout",
     "output_type": "stream",
     "text": [
      "\r",
      "Epoch 82:   0%|          | 0/1 [00:00<?, ?it/s, loss=0.658, v_num=134]"
     ]
    },
    {
     "name": "stdout",
     "output_type": "stream",
     "text": [
      "\r",
      "Epoch 82: 100%|██████████| 1/1 [00:00<00:00, 20.40it/s, loss=0.655, v_num=134]"
     ]
    },
    {
     "name": "stdout",
     "output_type": "stream",
     "text": [
      "\r",
      "Epoch 82:   0%|          | 0/1 [00:00<?, ?it/s, loss=0.655, v_num=134]        "
     ]
    },
    {
     "name": "stdout",
     "output_type": "stream",
     "text": [
      "\r",
      "Epoch 83:   0%|          | 0/1 [00:00<?, ?it/s, loss=0.655, v_num=134]"
     ]
    },
    {
     "name": "stdout",
     "output_type": "stream",
     "text": [
      "\r",
      "Epoch 83: 100%|██████████| 1/1 [00:00<00:00, 22.59it/s, loss=0.652, v_num=134]"
     ]
    },
    {
     "name": "stdout",
     "output_type": "stream",
     "text": [
      "\r",
      "Epoch 83:   0%|          | 0/1 [00:00<?, ?it/s, loss=0.652, v_num=134]        "
     ]
    },
    {
     "name": "stdout",
     "output_type": "stream",
     "text": [
      "\r",
      "Epoch 84:   0%|          | 0/1 [00:00<?, ?it/s, loss=0.652, v_num=134]"
     ]
    },
    {
     "name": "stdout",
     "output_type": "stream",
     "text": [
      "\r",
      "Epoch 84: 100%|██████████| 1/1 [00:00<00:00, 21.80it/s, loss=0.649, v_num=134]"
     ]
    },
    {
     "name": "stdout",
     "output_type": "stream",
     "text": [
      "\r",
      "Epoch 84:   0%|          | 0/1 [00:00<?, ?it/s, loss=0.649, v_num=134]        "
     ]
    },
    {
     "name": "stdout",
     "output_type": "stream",
     "text": [
      "\r",
      "Epoch 85:   0%|          | 0/1 [00:00<?, ?it/s, loss=0.649, v_num=134]"
     ]
    },
    {
     "name": "stdout",
     "output_type": "stream",
     "text": [
      "\r",
      "Epoch 85: 100%|██████████| 1/1 [00:00<00:00, 21.33it/s, loss=0.646, v_num=134]"
     ]
    },
    {
     "name": "stdout",
     "output_type": "stream",
     "text": [
      "\r",
      "Epoch 85:   0%|          | 0/1 [00:00<?, ?it/s, loss=0.646, v_num=134]        "
     ]
    },
    {
     "name": "stdout",
     "output_type": "stream",
     "text": [
      "\r",
      "Epoch 86:   0%|          | 0/1 [00:00<?, ?it/s, loss=0.646, v_num=134]"
     ]
    },
    {
     "name": "stdout",
     "output_type": "stream",
     "text": [
      "\r",
      "Epoch 86: 100%|██████████| 1/1 [00:00<00:00, 23.55it/s, loss=0.642, v_num=134]"
     ]
    },
    {
     "name": "stdout",
     "output_type": "stream",
     "text": [
      "\r",
      "Epoch 86:   0%|          | 0/1 [00:00<?, ?it/s, loss=0.642, v_num=134]        "
     ]
    },
    {
     "name": "stdout",
     "output_type": "stream",
     "text": [
      "\r",
      "Epoch 87:   0%|          | 0/1 [00:00<?, ?it/s, loss=0.642, v_num=134]"
     ]
    },
    {
     "name": "stdout",
     "output_type": "stream",
     "text": [
      "\r",
      "Epoch 87: 100%|██████████| 1/1 [00:00<00:00, 25.00it/s, loss=0.638, v_num=134]"
     ]
    },
    {
     "name": "stdout",
     "output_type": "stream",
     "text": [
      "\r",
      "Epoch 87:   0%|          | 0/1 [00:00<?, ?it/s, loss=0.638, v_num=134]        "
     ]
    },
    {
     "name": "stdout",
     "output_type": "stream",
     "text": [
      "\r",
      "Epoch 88:   0%|          | 0/1 [00:00<?, ?it/s, loss=0.638, v_num=134]"
     ]
    },
    {
     "name": "stdout",
     "output_type": "stream",
     "text": [
      "\r",
      "Epoch 88: 100%|██████████| 1/1 [00:00<00:00, 21.35it/s, loss=0.634, v_num=134]"
     ]
    },
    {
     "name": "stdout",
     "output_type": "stream",
     "text": [
      "\r",
      "Epoch 88:   0%|          | 0/1 [00:00<?, ?it/s, loss=0.634, v_num=134]        "
     ]
    },
    {
     "name": "stdout",
     "output_type": "stream",
     "text": [
      "\r",
      "Epoch 89:   0%|          | 0/1 [00:00<?, ?it/s, loss=0.634, v_num=134]"
     ]
    },
    {
     "name": "stdout",
     "output_type": "stream",
     "text": [
      "\r",
      "Epoch 89: 100%|██████████| 1/1 [00:00<00:00, 24.44it/s, loss=0.629, v_num=134]"
     ]
    },
    {
     "name": "stdout",
     "output_type": "stream",
     "text": [
      "\r",
      "Epoch 89:   0%|          | 0/1 [00:00<?, ?it/s, loss=0.629, v_num=134]        "
     ]
    },
    {
     "name": "stdout",
     "output_type": "stream",
     "text": [
      "\r",
      "Epoch 90:   0%|          | 0/1 [00:00<?, ?it/s, loss=0.629, v_num=134]"
     ]
    },
    {
     "name": "stdout",
     "output_type": "stream",
     "text": [
      "\r",
      "Epoch 90: 100%|██████████| 1/1 [00:00<00:00, 27.48it/s, loss=0.625, v_num=134]"
     ]
    },
    {
     "name": "stdout",
     "output_type": "stream",
     "text": [
      "\r",
      "Epoch 90:   0%|          | 0/1 [00:00<?, ?it/s, loss=0.625, v_num=134]        "
     ]
    },
    {
     "name": "stdout",
     "output_type": "stream",
     "text": [
      "\r",
      "Epoch 91:   0%|          | 0/1 [00:00<?, ?it/s, loss=0.625, v_num=134]"
     ]
    },
    {
     "name": "stdout",
     "output_type": "stream",
     "text": [
      "\r",
      "Epoch 91: 100%|██████████| 1/1 [00:00<00:00, 27.06it/s, loss=0.619, v_num=134]"
     ]
    },
    {
     "name": "stdout",
     "output_type": "stream",
     "text": [
      "\r",
      "Epoch 91:   0%|          | 0/1 [00:00<?, ?it/s, loss=0.619, v_num=134]        "
     ]
    },
    {
     "name": "stdout",
     "output_type": "stream",
     "text": [
      "\r",
      "Epoch 92:   0%|          | 0/1 [00:00<?, ?it/s, loss=0.619, v_num=134]"
     ]
    },
    {
     "name": "stdout",
     "output_type": "stream",
     "text": [
      "\r",
      "Epoch 92: 100%|██████████| 1/1 [00:00<00:00, 27.59it/s, loss=0.614, v_num=134]"
     ]
    },
    {
     "name": "stdout",
     "output_type": "stream",
     "text": [
      "\r",
      "Epoch 92:   0%|          | 0/1 [00:00<?, ?it/s, loss=0.614, v_num=134]        "
     ]
    },
    {
     "name": "stdout",
     "output_type": "stream",
     "text": [
      "\r",
      "Epoch 93:   0%|          | 0/1 [00:00<?, ?it/s, loss=0.614, v_num=134]"
     ]
    },
    {
     "name": "stdout",
     "output_type": "stream",
     "text": [
      "\r",
      "Epoch 93: 100%|██████████| 1/1 [00:00<00:00, 25.95it/s, loss=0.608, v_num=134]"
     ]
    },
    {
     "name": "stdout",
     "output_type": "stream",
     "text": [
      "\r",
      "Epoch 93:   0%|          | 0/1 [00:00<?, ?it/s, loss=0.608, v_num=134]        "
     ]
    },
    {
     "name": "stdout",
     "output_type": "stream",
     "text": [
      "\r",
      "Epoch 94:   0%|          | 0/1 [00:00<?, ?it/s, loss=0.608, v_num=134]"
     ]
    },
    {
     "name": "stdout",
     "output_type": "stream",
     "text": [
      "\r",
      "Epoch 94: 100%|██████████| 1/1 [00:00<00:00, 25.82it/s, loss=0.602, v_num=134]"
     ]
    },
    {
     "name": "stdout",
     "output_type": "stream",
     "text": [
      "\r",
      "Epoch 94:   0%|          | 0/1 [00:00<?, ?it/s, loss=0.602, v_num=134]        "
     ]
    },
    {
     "name": "stdout",
     "output_type": "stream",
     "text": [
      "\r",
      "Epoch 95:   0%|          | 0/1 [00:00<?, ?it/s, loss=0.602, v_num=134]"
     ]
    },
    {
     "name": "stdout",
     "output_type": "stream",
     "text": [
      "\r",
      "Epoch 95: 100%|██████████| 1/1 [00:00<00:00, 26.02it/s, loss=0.595, v_num=134]"
     ]
    },
    {
     "name": "stdout",
     "output_type": "stream",
     "text": [
      "\r",
      "Epoch 95:   0%|          | 0/1 [00:00<?, ?it/s, loss=0.595, v_num=134]        "
     ]
    },
    {
     "name": "stdout",
     "output_type": "stream",
     "text": [
      "\r",
      "Epoch 96:   0%|          | 0/1 [00:00<?, ?it/s, loss=0.595, v_num=134]"
     ]
    },
    {
     "name": "stdout",
     "output_type": "stream",
     "text": [
      "\r",
      "Epoch 96: 100%|██████████| 1/1 [00:00<00:00, 25.68it/s, loss=0.588, v_num=134]"
     ]
    },
    {
     "name": "stdout",
     "output_type": "stream",
     "text": [
      "\r",
      "Epoch 96:   0%|          | 0/1 [00:00<?, ?it/s, loss=0.588, v_num=134]        "
     ]
    },
    {
     "name": "stdout",
     "output_type": "stream",
     "text": [
      "\r",
      "Epoch 97:   0%|          | 0/1 [00:00<?, ?it/s, loss=0.588, v_num=134]"
     ]
    },
    {
     "name": "stdout",
     "output_type": "stream",
     "text": [
      "\r",
      "Epoch 97: 100%|██████████| 1/1 [00:00<00:00, 25.96it/s, loss=0.58, v_num=134]"
     ]
    },
    {
     "name": "stdout",
     "output_type": "stream",
     "text": [
      "\r",
      "Epoch 97:   0%|          | 0/1 [00:00<?, ?it/s, loss=0.58, v_num=134]        "
     ]
    },
    {
     "name": "stdout",
     "output_type": "stream",
     "text": [
      "\r",
      "Epoch 98:   0%|          | 0/1 [00:00<?, ?it/s, loss=0.58, v_num=134]"
     ]
    },
    {
     "name": "stdout",
     "output_type": "stream",
     "text": [
      "\r",
      "Epoch 98: 100%|██████████| 1/1 [00:00<00:00, 28.17it/s, loss=0.571, v_num=134]"
     ]
    },
    {
     "name": "stdout",
     "output_type": "stream",
     "text": [
      "\r",
      "Epoch 98:   0%|          | 0/1 [00:00<?, ?it/s, loss=0.571, v_num=134]        "
     ]
    },
    {
     "name": "stdout",
     "output_type": "stream",
     "text": [
      "\r",
      "Epoch 99:   0%|          | 0/1 [00:00<?, ?it/s, loss=0.571, v_num=134]"
     ]
    },
    {
     "name": "stdout",
     "output_type": "stream",
     "text": [
      "\r",
      "Epoch 99: 100%|██████████| 1/1 [00:00<00:00, 23.68it/s, loss=0.562, v_num=134]"
     ]
    },
    {
     "name": "stdout",
     "output_type": "stream",
     "text": [
      "\r",
      "Epoch 99:   0%|          | 0/1 [00:00<?, ?it/s, loss=0.562, v_num=134]        "
     ]
    },
    {
     "name": "stdout",
     "output_type": "stream",
     "text": [
      "\r",
      "Epoch 100:   0%|          | 0/1 [00:00<?, ?it/s, loss=0.562, v_num=134]"
     ]
    },
    {
     "name": "stdout",
     "output_type": "stream",
     "text": [
      "\r",
      "Epoch 100: 100%|██████████| 1/1 [00:00<00:00, 23.18it/s, loss=0.552, v_num=134]"
     ]
    },
    {
     "name": "stdout",
     "output_type": "stream",
     "text": [
      "\r",
      "Epoch 100:   0%|          | 0/1 [00:00<?, ?it/s, loss=0.552, v_num=134]        "
     ]
    },
    {
     "name": "stdout",
     "output_type": "stream",
     "text": [
      "\r",
      "Epoch 101:   0%|          | 0/1 [00:00<?, ?it/s, loss=0.552, v_num=134]"
     ]
    },
    {
     "name": "stdout",
     "output_type": "stream",
     "text": [
      "\r",
      "Epoch 101: 100%|██████████| 1/1 [00:00<00:00, 27.30it/s, loss=0.54, v_num=134]"
     ]
    },
    {
     "name": "stdout",
     "output_type": "stream",
     "text": [
      "\r",
      "Epoch 101:   0%|          | 0/1 [00:00<?, ?it/s, loss=0.54, v_num=134]        "
     ]
    },
    {
     "name": "stdout",
     "output_type": "stream",
     "text": [
      "\r",
      "Epoch 102:   0%|          | 0/1 [00:00<?, ?it/s, loss=0.54, v_num=134]"
     ]
    },
    {
     "name": "stdout",
     "output_type": "stream",
     "text": [
      "\r",
      "Epoch 102: 100%|██████████| 1/1 [00:00<00:00, 25.46it/s, loss=0.528, v_num=134]"
     ]
    },
    {
     "name": "stdout",
     "output_type": "stream",
     "text": [
      "\r",
      "Epoch 102:   0%|          | 0/1 [00:00<?, ?it/s, loss=0.528, v_num=134]        "
     ]
    },
    {
     "name": "stdout",
     "output_type": "stream",
     "text": [
      "\r",
      "Epoch 103:   0%|          | 0/1 [00:00<?, ?it/s, loss=0.528, v_num=134]"
     ]
    },
    {
     "name": "stdout",
     "output_type": "stream",
     "text": [
      "\r",
      "Epoch 103: 100%|██████████| 1/1 [00:00<00:00, 26.03it/s, loss=0.515, v_num=134]"
     ]
    },
    {
     "name": "stdout",
     "output_type": "stream",
     "text": [
      "\r",
      "Epoch 103:   0%|          | 0/1 [00:00<?, ?it/s, loss=0.515, v_num=134]        "
     ]
    },
    {
     "name": "stdout",
     "output_type": "stream",
     "text": [
      "\r",
      "Epoch 104:   0%|          | 0/1 [00:00<?, ?it/s, loss=0.515, v_num=134]"
     ]
    },
    {
     "name": "stdout",
     "output_type": "stream",
     "text": [
      "\r",
      "Epoch 104: 100%|██████████| 1/1 [00:00<00:00, 24.04it/s, loss=0.501, v_num=134]"
     ]
    },
    {
     "name": "stdout",
     "output_type": "stream",
     "text": [
      "\r",
      "Epoch 104:   0%|          | 0/1 [00:00<?, ?it/s, loss=0.501, v_num=134]        "
     ]
    },
    {
     "name": "stdout",
     "output_type": "stream",
     "text": [
      "\r",
      "Epoch 105:   0%|          | 0/1 [00:00<?, ?it/s, loss=0.501, v_num=134]"
     ]
    },
    {
     "name": "stdout",
     "output_type": "stream",
     "text": [
      "\r",
      "Epoch 105: 100%|██████████| 1/1 [00:00<00:00, 24.03it/s, loss=0.486, v_num=134]"
     ]
    },
    {
     "name": "stdout",
     "output_type": "stream",
     "text": [
      "\r",
      "Epoch 105:   0%|          | 0/1 [00:00<?, ?it/s, loss=0.486, v_num=134]        "
     ]
    },
    {
     "name": "stdout",
     "output_type": "stream",
     "text": [
      "\r",
      "Epoch 106:   0%|          | 0/1 [00:00<?, ?it/s, loss=0.486, v_num=134]"
     ]
    },
    {
     "name": "stdout",
     "output_type": "stream",
     "text": [
      "\r",
      "Epoch 106: 100%|██████████| 1/1 [00:00<00:00, 22.74it/s, loss=0.469, v_num=134]"
     ]
    },
    {
     "name": "stdout",
     "output_type": "stream",
     "text": [
      "\r",
      "Epoch 106:   0%|          | 0/1 [00:00<?, ?it/s, loss=0.469, v_num=134]        "
     ]
    },
    {
     "name": "stdout",
     "output_type": "stream",
     "text": [
      "\r",
      "Epoch 107:   0%|          | 0/1 [00:00<?, ?it/s, loss=0.469, v_num=134]"
     ]
    },
    {
     "name": "stdout",
     "output_type": "stream",
     "text": [
      "\r",
      "Epoch 107: 100%|██████████| 1/1 [00:00<00:00, 19.75it/s, loss=0.452, v_num=134]"
     ]
    },
    {
     "name": "stdout",
     "output_type": "stream",
     "text": [
      "\r",
      "Epoch 107:   0%|          | 0/1 [00:00<?, ?it/s, loss=0.452, v_num=134]        "
     ]
    },
    {
     "name": "stdout",
     "output_type": "stream",
     "text": [
      "\r",
      "Epoch 108:   0%|          | 0/1 [00:00<?, ?it/s, loss=0.452, v_num=134]"
     ]
    },
    {
     "name": "stdout",
     "output_type": "stream",
     "text": [
      "\r",
      "Epoch 108: 100%|██████████| 1/1 [00:00<00:00, 20.71it/s, loss=0.433, v_num=134]"
     ]
    },
    {
     "name": "stdout",
     "output_type": "stream",
     "text": [
      "\r",
      "Epoch 108:   0%|          | 0/1 [00:00<?, ?it/s, loss=0.433, v_num=134]        "
     ]
    },
    {
     "name": "stdout",
     "output_type": "stream",
     "text": [
      "\r",
      "Epoch 109:   0%|          | 0/1 [00:00<?, ?it/s, loss=0.433, v_num=134]"
     ]
    },
    {
     "name": "stdout",
     "output_type": "stream",
     "text": [
      "\r",
      "Epoch 109: 100%|██████████| 1/1 [00:00<00:00, 22.04it/s, loss=0.413, v_num=134]"
     ]
    },
    {
     "name": "stdout",
     "output_type": "stream",
     "text": [
      "\r",
      "Epoch 109:   0%|          | 0/1 [00:00<?, ?it/s, loss=0.413, v_num=134]        "
     ]
    },
    {
     "name": "stdout",
     "output_type": "stream",
     "text": [
      "\r",
      "Epoch 110:   0%|          | 0/1 [00:00<?, ?it/s, loss=0.413, v_num=134]"
     ]
    },
    {
     "name": "stdout",
     "output_type": "stream",
     "text": [
      "\r",
      "Epoch 110: 100%|██████████| 1/1 [00:00<00:00, 21.96it/s, loss=0.392, v_num=134]"
     ]
    },
    {
     "name": "stdout",
     "output_type": "stream",
     "text": [
      "\r",
      "Epoch 110:   0%|          | 0/1 [00:00<?, ?it/s, loss=0.392, v_num=134]        "
     ]
    },
    {
     "name": "stdout",
     "output_type": "stream",
     "text": [
      "\r",
      "Epoch 111:   0%|          | 0/1 [00:00<?, ?it/s, loss=0.392, v_num=134]"
     ]
    },
    {
     "name": "stdout",
     "output_type": "stream",
     "text": [
      "\r",
      "Epoch 111: 100%|██████████| 1/1 [00:00<00:00, 21.10it/s, loss=0.371, v_num=134]"
     ]
    },
    {
     "name": "stdout",
     "output_type": "stream",
     "text": [
      "\r",
      "Epoch 111:   0%|          | 0/1 [00:00<?, ?it/s, loss=0.371, v_num=134]        "
     ]
    },
    {
     "name": "stdout",
     "output_type": "stream",
     "text": [
      "\r",
      "Epoch 112:   0%|          | 0/1 [00:00<?, ?it/s, loss=0.371, v_num=134]"
     ]
    },
    {
     "name": "stdout",
     "output_type": "stream",
     "text": [
      "\r",
      "Epoch 112: 100%|██████████| 1/1 [00:00<00:00, 18.73it/s, loss=0.348, v_num=134]"
     ]
    },
    {
     "name": "stdout",
     "output_type": "stream",
     "text": [
      "\r",
      "Epoch 112:   0%|          | 0/1 [00:00<?, ?it/s, loss=0.348, v_num=134]        "
     ]
    },
    {
     "name": "stdout",
     "output_type": "stream",
     "text": [
      "\r",
      "Epoch 113:   0%|          | 0/1 [00:00<?, ?it/s, loss=0.348, v_num=134]"
     ]
    },
    {
     "name": "stdout",
     "output_type": "stream",
     "text": [
      "\r",
      "Epoch 113: 100%|██████████| 1/1 [00:00<00:00, 16.42it/s, loss=0.325, v_num=134]"
     ]
    },
    {
     "name": "stdout",
     "output_type": "stream",
     "text": [
      "\r",
      "Epoch 113:   0%|          | 0/1 [00:00<?, ?it/s, loss=0.325, v_num=134]        "
     ]
    },
    {
     "name": "stdout",
     "output_type": "stream",
     "text": [
      "\r",
      "Epoch 114:   0%|          | 0/1 [00:00<?, ?it/s, loss=0.325, v_num=134]"
     ]
    },
    {
     "name": "stdout",
     "output_type": "stream",
     "text": [
      "\r",
      "Epoch 114: 100%|██████████| 1/1 [00:00<00:00, 17.07it/s, loss=0.302, v_num=134]"
     ]
    },
    {
     "name": "stdout",
     "output_type": "stream",
     "text": [
      "\r",
      "Epoch 114:   0%|          | 0/1 [00:00<?, ?it/s, loss=0.302, v_num=134]        "
     ]
    },
    {
     "name": "stdout",
     "output_type": "stream",
     "text": [
      "\r",
      "Epoch 115:   0%|          | 0/1 [00:00<?, ?it/s, loss=0.302, v_num=134]"
     ]
    },
    {
     "name": "stdout",
     "output_type": "stream",
     "text": [
      "\r",
      "Epoch 115: 100%|██████████| 1/1 [00:00<00:00, 16.53it/s, loss=0.278, v_num=134]"
     ]
    },
    {
     "name": "stdout",
     "output_type": "stream",
     "text": [
      "\r",
      "Epoch 115:   0%|          | 0/1 [00:00<?, ?it/s, loss=0.278, v_num=134]        "
     ]
    },
    {
     "name": "stdout",
     "output_type": "stream",
     "text": [
      "\r",
      "Epoch 116:   0%|          | 0/1 [00:00<?, ?it/s, loss=0.278, v_num=134]"
     ]
    },
    {
     "name": "stdout",
     "output_type": "stream",
     "text": [
      "\r",
      "Epoch 116: 100%|██████████| 1/1 [00:00<00:00, 17.29it/s, loss=0.255, v_num=134]"
     ]
    },
    {
     "name": "stdout",
     "output_type": "stream",
     "text": [
      "\r",
      "Epoch 116:   0%|          | 0/1 [00:00<?, ?it/s, loss=0.255, v_num=134]        "
     ]
    },
    {
     "name": "stdout",
     "output_type": "stream",
     "text": [
      "\r",
      "Epoch 117:   0%|          | 0/1 [00:00<?, ?it/s, loss=0.255, v_num=134]"
     ]
    },
    {
     "name": "stdout",
     "output_type": "stream",
     "text": [
      "\r",
      "Epoch 117: 100%|██████████| 1/1 [00:00<00:00, 17.50it/s, loss=0.232, v_num=134]"
     ]
    },
    {
     "name": "stdout",
     "output_type": "stream",
     "text": [
      "\r",
      "Epoch 117:   0%|          | 0/1 [00:00<?, ?it/s, loss=0.232, v_num=134]        "
     ]
    },
    {
     "name": "stdout",
     "output_type": "stream",
     "text": [
      "\r",
      "Epoch 118:   0%|          | 0/1 [00:00<?, ?it/s, loss=0.232, v_num=134]"
     ]
    },
    {
     "name": "stdout",
     "output_type": "stream",
     "text": [
      "\r",
      "Epoch 118: 100%|██████████| 1/1 [00:00<00:00, 16.89it/s, loss=0.21, v_num=134]"
     ]
    },
    {
     "name": "stdout",
     "output_type": "stream",
     "text": [
      "\r",
      "Epoch 118:   0%|          | 0/1 [00:00<?, ?it/s, loss=0.21, v_num=134]        "
     ]
    },
    {
     "name": "stdout",
     "output_type": "stream",
     "text": [
      "\r",
      "Epoch 119:   0%|          | 0/1 [00:00<?, ?it/s, loss=0.21, v_num=134]"
     ]
    },
    {
     "name": "stdout",
     "output_type": "stream",
     "text": [
      "\r",
      "Epoch 119: 100%|██████████| 1/1 [00:00<00:00, 17.00it/s, loss=0.188, v_num=134]"
     ]
    },
    {
     "name": "stdout",
     "output_type": "stream",
     "text": [
      "\r",
      "Epoch 119:   0%|          | 0/1 [00:00<?, ?it/s, loss=0.188, v_num=134]        "
     ]
    },
    {
     "name": "stdout",
     "output_type": "stream",
     "text": [
      "\r",
      "Epoch 120:   0%|          | 0/1 [00:00<?, ?it/s, loss=0.188, v_num=134]"
     ]
    },
    {
     "name": "stdout",
     "output_type": "stream",
     "text": [
      "\r",
      "Epoch 120: 100%|██████████| 1/1 [00:00<00:00, 14.47it/s, loss=0.167, v_num=134]"
     ]
    },
    {
     "name": "stdout",
     "output_type": "stream",
     "text": [
      "\r",
      "Epoch 120:   0%|          | 0/1 [00:00<?, ?it/s, loss=0.167, v_num=134]        "
     ]
    },
    {
     "name": "stdout",
     "output_type": "stream",
     "text": [
      "\r",
      "Epoch 121:   0%|          | 0/1 [00:00<?, ?it/s, loss=0.167, v_num=134]"
     ]
    },
    {
     "name": "stdout",
     "output_type": "stream",
     "text": [
      "\r",
      "Epoch 121: 100%|██████████| 1/1 [00:00<00:00, 15.18it/s, loss=0.148, v_num=134]"
     ]
    },
    {
     "name": "stdout",
     "output_type": "stream",
     "text": [
      "\r",
      "Epoch 121:   0%|          | 0/1 [00:00<?, ?it/s, loss=0.148, v_num=134]        "
     ]
    },
    {
     "name": "stdout",
     "output_type": "stream",
     "text": [
      "\r",
      "Epoch 122:   0%|          | 0/1 [00:00<?, ?it/s, loss=0.148, v_num=134]"
     ]
    },
    {
     "name": "stdout",
     "output_type": "stream",
     "text": [
      "\r",
      "Epoch 122: 100%|██████████| 1/1 [00:00<00:00, 14.68it/s, loss=0.129, v_num=134]"
     ]
    },
    {
     "name": "stdout",
     "output_type": "stream",
     "text": [
      "\r",
      "Epoch 122:   0%|          | 0/1 [00:00<?, ?it/s, loss=0.129, v_num=134]        "
     ]
    },
    {
     "name": "stdout",
     "output_type": "stream",
     "text": [
      "\r",
      "Epoch 123:   0%|          | 0/1 [00:00<?, ?it/s, loss=0.129, v_num=134]"
     ]
    },
    {
     "name": "stdout",
     "output_type": "stream",
     "text": [
      "\r",
      "Epoch 123: 100%|██████████| 1/1 [00:00<00:00, 14.53it/s, loss=0.112, v_num=134]"
     ]
    },
    {
     "name": "stdout",
     "output_type": "stream",
     "text": [
      "\r",
      "Epoch 123:   0%|          | 0/1 [00:00<?, ?it/s, loss=0.112, v_num=134]        "
     ]
    },
    {
     "name": "stdout",
     "output_type": "stream",
     "text": [
      "\r",
      "Epoch 124:   0%|          | 0/1 [00:00<?, ?it/s, loss=0.112, v_num=134]"
     ]
    },
    {
     "name": "stdout",
     "output_type": "stream",
     "text": [
      "\r",
      "Epoch 124: 100%|██████████| 1/1 [00:00<00:00, 14.31it/s, loss=0.0957, v_num=134]"
     ]
    },
    {
     "name": "stdout",
     "output_type": "stream",
     "text": [
      "\r",
      "Epoch 124:   0%|          | 0/1 [00:00<?, ?it/s, loss=0.0957, v_num=134]        "
     ]
    },
    {
     "name": "stdout",
     "output_type": "stream",
     "text": [
      "\r",
      "Epoch 125:   0%|          | 0/1 [00:00<?, ?it/s, loss=0.0957, v_num=134]"
     ]
    },
    {
     "name": "stdout",
     "output_type": "stream",
     "text": [
      "\r",
      "Epoch 125: 100%|██████████| 1/1 [00:00<00:00, 12.49it/s, loss=0.0811, v_num=134]"
     ]
    },
    {
     "name": "stdout",
     "output_type": "stream",
     "text": [
      "\r",
      "Epoch 125:   0%|          | 0/1 [00:00<?, ?it/s, loss=0.0811, v_num=134]        "
     ]
    },
    {
     "name": "stdout",
     "output_type": "stream",
     "text": [
      "\r",
      "Epoch 126:   0%|          | 0/1 [00:00<?, ?it/s, loss=0.0811, v_num=134]"
     ]
    },
    {
     "name": "stdout",
     "output_type": "stream",
     "text": [
      "\r",
      "Epoch 126: 100%|██████████| 1/1 [00:00<00:00, 11.75it/s, loss=0.0679, v_num=134]"
     ]
    },
    {
     "name": "stdout",
     "output_type": "stream",
     "text": [
      "\r",
      "Epoch 126:   0%|          | 0/1 [00:00<?, ?it/s, loss=0.0679, v_num=134]        "
     ]
    },
    {
     "name": "stdout",
     "output_type": "stream",
     "text": [
      "\r",
      "Epoch 127:   0%|          | 0/1 [00:00<?, ?it/s, loss=0.0679, v_num=134]"
     ]
    },
    {
     "name": "stdout",
     "output_type": "stream",
     "text": [
      "\r",
      "Epoch 127: 100%|██████████| 1/1 [00:00<00:00,  5.77it/s, loss=0.0679, v_num=134]"
     ]
    },
    {
     "name": "stdout",
     "output_type": "stream",
     "text": [
      "\r",
      "Epoch 127: 100%|██████████| 1/1 [00:00<00:00,  5.73it/s, loss=0.0562, v_num=134]"
     ]
    },
    {
     "name": "stdout",
     "output_type": "stream",
     "text": [
      "\r",
      "Epoch 127:   0%|          | 0/1 [00:00<?, ?it/s, loss=0.0562, v_num=134]        "
     ]
    },
    {
     "name": "stdout",
     "output_type": "stream",
     "text": [
      "\r",
      "Epoch 128:   0%|          | 0/1 [00:00<?, ?it/s, loss=0.0562, v_num=134]"
     ]
    },
    {
     "name": "stdout",
     "output_type": "stream",
     "text": [
      "\r",
      "Epoch 128: 100%|██████████| 1/1 [00:00<00:00, 14.14it/s, loss=0.194, v_num=134]"
     ]
    },
    {
     "name": "stdout",
     "output_type": "stream",
     "text": [
      "\r",
      "Epoch 128:   0%|          | 0/1 [00:00<?, ?it/s, loss=0.194, v_num=134]        "
     ]
    },
    {
     "name": "stdout",
     "output_type": "stream",
     "text": [
      "\r",
      "Epoch 129:   0%|          | 0/1 [00:00<?, ?it/s, loss=0.194, v_num=134]"
     ]
    },
    {
     "name": "stdout",
     "output_type": "stream",
     "text": [
      "\r",
      "Epoch 129: 100%|██████████| 1/1 [00:00<00:00, 13.36it/s, loss=0.185, v_num=134]"
     ]
    },
    {
     "name": "stdout",
     "output_type": "stream",
     "text": [
      "\r",
      "Epoch 129:   0%|          | 0/1 [00:00<?, ?it/s, loss=0.185, v_num=134]        "
     ]
    },
    {
     "name": "stdout",
     "output_type": "stream",
     "text": [
      "\r",
      "Epoch 130:   0%|          | 0/1 [00:00<?, ?it/s, loss=0.185, v_num=134]"
     ]
    },
    {
     "name": "stdout",
     "output_type": "stream",
     "text": [
      "\r",
      "Epoch 130: 100%|██████████| 1/1 [00:00<00:00, 13.55it/s, loss=0.179, v_num=134]"
     ]
    },
    {
     "name": "stdout",
     "output_type": "stream",
     "text": [
      "\r",
      "Epoch 130:   0%|          | 0/1 [00:00<?, ?it/s, loss=0.179, v_num=134]        "
     ]
    },
    {
     "name": "stdout",
     "output_type": "stream",
     "text": [
      "\r",
      "Epoch 131:   0%|          | 0/1 [00:00<?, ?it/s, loss=0.179, v_num=134]"
     ]
    },
    {
     "name": "stdout",
     "output_type": "stream",
     "text": [
      "\r",
      "Epoch 131: 100%|██████████| 1/1 [00:00<00:00, 13.50it/s, loss=0.176, v_num=134]"
     ]
    },
    {
     "name": "stdout",
     "output_type": "stream",
     "text": [
      "\r",
      "Epoch 131:   0%|          | 0/1 [00:00<?, ?it/s, loss=0.176, v_num=134]        "
     ]
    },
    {
     "name": "stdout",
     "output_type": "stream",
     "text": [
      "\r",
      "Epoch 132:   0%|          | 0/1 [00:00<?, ?it/s, loss=0.176, v_num=134]"
     ]
    },
    {
     "name": "stdout",
     "output_type": "stream",
     "text": [
      "\r",
      "Epoch 132: 100%|██████████| 1/1 [00:00<00:00, 13.66it/s, loss=0.176, v_num=134]"
     ]
    },
    {
     "name": "stdout",
     "output_type": "stream",
     "text": [
      "\r",
      "Epoch 132:   0%|          | 0/1 [00:00<?, ?it/s, loss=0.176, v_num=134]        "
     ]
    },
    {
     "name": "stdout",
     "output_type": "stream",
     "text": [
      "\r",
      "Epoch 133:   0%|          | 0/1 [00:00<?, ?it/s, loss=0.176, v_num=134]"
     ]
    },
    {
     "name": "stdout",
     "output_type": "stream",
     "text": [
      "\r",
      "Epoch 133: 100%|██████████| 1/1 [00:00<00:00, 13.81it/s, loss=0.177, v_num=134]"
     ]
    },
    {
     "name": "stdout",
     "output_type": "stream",
     "text": [
      "\r",
      "Epoch 133:   0%|          | 0/1 [00:00<?, ?it/s, loss=0.177, v_num=134]        "
     ]
    },
    {
     "name": "stdout",
     "output_type": "stream",
     "text": [
      "\r",
      "Epoch 134:   0%|          | 0/1 [00:00<?, ?it/s, loss=0.177, v_num=134]"
     ]
    },
    {
     "name": "stdout",
     "output_type": "stream",
     "text": [
      "\r",
      "Epoch 134: 100%|██████████| 1/1 [00:00<00:00, 13.86it/s, loss=0.177, v_num=134]"
     ]
    },
    {
     "name": "stdout",
     "output_type": "stream",
     "text": [
      "\r",
      "Epoch 134:   0%|          | 0/1 [00:00<?, ?it/s, loss=0.177, v_num=134]        "
     ]
    },
    {
     "name": "stdout",
     "output_type": "stream",
     "text": [
      "\r",
      "Epoch 135:   0%|          | 0/1 [00:00<?, ?it/s, loss=0.177, v_num=134]"
     ]
    },
    {
     "name": "stdout",
     "output_type": "stream",
     "text": [
      "\r",
      "Epoch 135: 100%|██████████| 1/1 [00:00<00:00, 13.65it/s, loss=0.177, v_num=134]"
     ]
    },
    {
     "name": "stdout",
     "output_type": "stream",
     "text": [
      "\r",
      "Epoch 135:   0%|          | 0/1 [00:00<?, ?it/s, loss=0.177, v_num=134]        "
     ]
    },
    {
     "name": "stdout",
     "output_type": "stream",
     "text": [
      "\r",
      "Epoch 136:   0%|          | 0/1 [00:00<?, ?it/s, loss=0.177, v_num=134]"
     ]
    },
    {
     "name": "stdout",
     "output_type": "stream",
     "text": [
      "\r",
      "Epoch 136: 100%|██████████| 1/1 [00:00<00:00, 12.98it/s, loss=0.177, v_num=134]"
     ]
    },
    {
     "name": "stdout",
     "output_type": "stream",
     "text": [
      "\r",
      "Epoch 136:   0%|          | 0/1 [00:00<?, ?it/s, loss=0.177, v_num=134]        "
     ]
    },
    {
     "name": "stdout",
     "output_type": "stream",
     "text": [
      "\r",
      "Epoch 137:   0%|          | 0/1 [00:00<?, ?it/s, loss=0.177, v_num=134]"
     ]
    },
    {
     "name": "stdout",
     "output_type": "stream",
     "text": [
      "\r",
      "Epoch 137: 100%|██████████| 1/1 [00:00<00:00, 13.96it/s, loss=0.176, v_num=134]"
     ]
    },
    {
     "name": "stdout",
     "output_type": "stream",
     "text": [
      "\r",
      "Epoch 137:   0%|          | 0/1 [00:00<?, ?it/s, loss=0.176, v_num=134]        "
     ]
    },
    {
     "name": "stdout",
     "output_type": "stream",
     "text": [
      "\r",
      "Epoch 138:   0%|          | 0/1 [00:00<?, ?it/s, loss=0.176, v_num=134]"
     ]
    },
    {
     "name": "stdout",
     "output_type": "stream",
     "text": [
      "\r",
      "Epoch 138: 100%|██████████| 1/1 [00:00<00:00, 13.31it/s, loss=0.175, v_num=134]"
     ]
    },
    {
     "name": "stdout",
     "output_type": "stream",
     "text": [
      "\r",
      "Epoch 138:   0%|          | 0/1 [00:00<?, ?it/s, loss=0.175, v_num=134]        "
     ]
    },
    {
     "name": "stdout",
     "output_type": "stream",
     "text": [
      "\r",
      "Epoch 139:   0%|          | 0/1 [00:00<?, ?it/s, loss=0.175, v_num=134]"
     ]
    },
    {
     "name": "stdout",
     "output_type": "stream",
     "text": [
      "\r",
      "Epoch 139: 100%|██████████| 1/1 [00:00<00:00, 13.42it/s, loss=0.175, v_num=134]"
     ]
    },
    {
     "name": "stdout",
     "output_type": "stream",
     "text": [
      "\r",
      "Epoch 139:   0%|          | 0/1 [00:00<?, ?it/s, loss=0.175, v_num=134]        "
     ]
    },
    {
     "name": "stdout",
     "output_type": "stream",
     "text": [
      "\r",
      "Epoch 140:   0%|          | 0/1 [00:00<?, ?it/s, loss=0.175, v_num=134]"
     ]
    },
    {
     "name": "stdout",
     "output_type": "stream",
     "text": [
      "\r",
      "Epoch 140: 100%|██████████| 1/1 [00:00<00:00, 13.30it/s, loss=0.175, v_num=134]"
     ]
    },
    {
     "name": "stdout",
     "output_type": "stream",
     "text": [
      "\r",
      "Epoch 140:   0%|          | 0/1 [00:00<?, ?it/s, loss=0.175, v_num=134]        "
     ]
    },
    {
     "name": "stdout",
     "output_type": "stream",
     "text": [
      "\r",
      "Epoch 141:   0%|          | 0/1 [00:00<?, ?it/s, loss=0.175, v_num=134]"
     ]
    },
    {
     "name": "stdout",
     "output_type": "stream",
     "text": [
      "\r",
      "Epoch 141: 100%|██████████| 1/1 [00:00<00:00, 13.98it/s, loss=0.175, v_num=134]"
     ]
    },
    {
     "name": "stdout",
     "output_type": "stream",
     "text": [
      "\r",
      "Epoch 141:   0%|          | 0/1 [00:00<?, ?it/s, loss=0.175, v_num=134]        "
     ]
    },
    {
     "name": "stdout",
     "output_type": "stream",
     "text": [
      "\r",
      "Epoch 142:   0%|          | 0/1 [00:00<?, ?it/s, loss=0.175, v_num=134]"
     ]
    },
    {
     "name": "stdout",
     "output_type": "stream",
     "text": [
      "\r",
      "Epoch 142: 100%|██████████| 1/1 [00:00<00:00, 13.95it/s, loss=0.175, v_num=134]"
     ]
    },
    {
     "name": "stdout",
     "output_type": "stream",
     "text": [
      "\r",
      "Epoch 142:   0%|          | 0/1 [00:00<?, ?it/s, loss=0.175, v_num=134]        "
     ]
    },
    {
     "name": "stdout",
     "output_type": "stream",
     "text": [
      "\r",
      "Epoch 143:   0%|          | 0/1 [00:00<?, ?it/s, loss=0.175, v_num=134]"
     ]
    },
    {
     "name": "stdout",
     "output_type": "stream",
     "text": [
      "\r",
      "Epoch 143: 100%|██████████| 1/1 [00:00<00:00, 15.06it/s, loss=0.176, v_num=134]"
     ]
    },
    {
     "name": "stdout",
     "output_type": "stream",
     "text": [
      "\r",
      "Epoch 143:   0%|          | 0/1 [00:00<?, ?it/s, loss=0.176, v_num=134]        "
     ]
    },
    {
     "name": "stdout",
     "output_type": "stream",
     "text": [
      "\r",
      "Epoch 144:   0%|          | 0/1 [00:00<?, ?it/s, loss=0.176, v_num=134]"
     ]
    },
    {
     "name": "stdout",
     "output_type": "stream",
     "text": [
      "\r",
      "Epoch 144: 100%|██████████| 1/1 [00:00<00:00, 15.42it/s, loss=0.34, v_num=134]"
     ]
    },
    {
     "name": "stdout",
     "output_type": "stream",
     "text": [
      "\r",
      "Epoch 144:   0%|          | 0/1 [00:00<?, ?it/s, loss=0.34, v_num=134]        "
     ]
    },
    {
     "name": "stdout",
     "output_type": "stream",
     "text": [
      "\r",
      "Epoch 145:   0%|          | 0/1 [00:00<?, ?it/s, loss=0.34, v_num=134]"
     ]
    },
    {
     "name": "stdout",
     "output_type": "stream",
     "text": [
      "\r",
      "Epoch 145: 100%|██████████| 1/1 [00:00<00:00, 14.44it/s, loss=0.34, v_num=134]"
     ]
    },
    {
     "name": "stdout",
     "output_type": "stream",
     "text": [
      "\r",
      "Epoch 145:   0%|          | 0/1 [00:00<?, ?it/s, loss=0.34, v_num=134]        "
     ]
    },
    {
     "name": "stdout",
     "output_type": "stream",
     "text": [
      "\r",
      "Epoch 146:   0%|          | 0/1 [00:00<?, ?it/s, loss=0.34, v_num=134]"
     ]
    },
    {
     "name": "stdout",
     "output_type": "stream",
     "text": [
      "\r",
      "Epoch 146: 100%|██████████| 1/1 [00:00<00:00, 13.82it/s, loss=0.34, v_num=134]"
     ]
    },
    {
     "name": "stdout",
     "output_type": "stream",
     "text": [
      "\r",
      "Epoch 146:   0%|          | 0/1 [00:00<?, ?it/s, loss=0.34, v_num=134]        "
     ]
    },
    {
     "name": "stdout",
     "output_type": "stream",
     "text": [
      "\r",
      "Epoch 147:   0%|          | 0/1 [00:00<?, ?it/s, loss=0.34, v_num=134]"
     ]
    },
    {
     "name": "stdout",
     "output_type": "stream",
     "text": [
      "\r",
      "Epoch 147: 100%|██████████| 1/1 [00:00<00:00, 13.80it/s, loss=0.34, v_num=134]"
     ]
    },
    {
     "name": "stdout",
     "output_type": "stream",
     "text": [
      "\r",
      "Epoch 147:   0%|          | 0/1 [00:00<?, ?it/s, loss=0.34, v_num=134]        "
     ]
    },
    {
     "name": "stdout",
     "output_type": "stream",
     "text": [
      "\r",
      "Epoch 148:   0%|          | 0/1 [00:00<?, ?it/s, loss=0.34, v_num=134]"
     ]
    },
    {
     "name": "stdout",
     "output_type": "stream",
     "text": [
      "\r",
      "Epoch 148: 100%|██████████| 1/1 [00:00<00:00, 13.91it/s, loss=0.193, v_num=134]"
     ]
    },
    {
     "name": "stdout",
     "output_type": "stream",
     "text": [
      "\r",
      "Epoch 148:   0%|          | 0/1 [00:00<?, ?it/s, loss=0.193, v_num=134]        "
     ]
    },
    {
     "name": "stdout",
     "output_type": "stream",
     "text": [
      "\r",
      "Epoch 149:   0%|          | 0/1 [00:00<?, ?it/s, loss=0.193, v_num=134]"
     ]
    },
    {
     "name": "stdout",
     "output_type": "stream",
     "text": [
      "\r",
      "Epoch 149: 100%|██████████| 1/1 [00:00<00:00, 13.54it/s, loss=0.193, v_num=134]"
     ]
    },
    {
     "name": "stdout",
     "output_type": "stream",
     "text": [
      "\r",
      "Epoch 149:   0%|          | 0/1 [00:00<?, ?it/s, loss=0.193, v_num=134]        "
     ]
    },
    {
     "name": "stdout",
     "output_type": "stream",
     "text": [
      "\r",
      "Epoch 150:   0%|          | 0/1 [00:00<?, ?it/s, loss=0.193, v_num=134]"
     ]
    },
    {
     "name": "stdout",
     "output_type": "stream",
     "text": [
      "\r",
      "Epoch 150: 100%|██████████| 1/1 [00:00<00:00, 13.17it/s, loss=0.192, v_num=134]"
     ]
    },
    {
     "name": "stdout",
     "output_type": "stream",
     "text": [
      "\r",
      "Epoch 150:   0%|          | 0/1 [00:00<?, ?it/s, loss=0.192, v_num=134]        "
     ]
    },
    {
     "name": "stdout",
     "output_type": "stream",
     "text": [
      "\r",
      "Epoch 151:   0%|          | 0/1 [00:00<?, ?it/s, loss=0.192, v_num=134]"
     ]
    },
    {
     "name": "stdout",
     "output_type": "stream",
     "text": [
      "\r",
      "Epoch 151: 100%|██████████| 1/1 [00:00<00:00, 13.41it/s, loss=0.189, v_num=134]"
     ]
    },
    {
     "name": "stdout",
     "output_type": "stream",
     "text": [
      "\r",
      "Epoch 151:   0%|          | 0/1 [00:00<?, ?it/s, loss=0.189, v_num=134]        "
     ]
    },
    {
     "name": "stdout",
     "output_type": "stream",
     "text": [
      "\r",
      "Epoch 152:   0%|          | 0/1 [00:00<?, ?it/s, loss=0.189, v_num=134]"
     ]
    },
    {
     "name": "stdout",
     "output_type": "stream",
     "text": [
      "\r",
      "Epoch 152: 100%|██████████| 1/1 [00:00<00:00, 13.62it/s, loss=0.185, v_num=134]"
     ]
    },
    {
     "name": "stdout",
     "output_type": "stream",
     "text": [
      "\r",
      "Epoch 152:   0%|          | 0/1 [00:00<?, ?it/s, loss=0.185, v_num=134]        "
     ]
    },
    {
     "name": "stdout",
     "output_type": "stream",
     "text": [
      "\r",
      "Epoch 153:   0%|          | 0/1 [00:00<?, ?it/s, loss=0.185, v_num=134]"
     ]
    },
    {
     "name": "stdout",
     "output_type": "stream",
     "text": [
      "\r",
      "Epoch 153: 100%|██████████| 1/1 [00:00<00:00, 13.75it/s, loss=0.18, v_num=134]"
     ]
    },
    {
     "name": "stdout",
     "output_type": "stream",
     "text": [
      "\r",
      "Epoch 153:   0%|          | 0/1 [00:00<?, ?it/s, loss=0.18, v_num=134]        "
     ]
    },
    {
     "name": "stdout",
     "output_type": "stream",
     "text": [
      "\r",
      "Epoch 154:   0%|          | 0/1 [00:00<?, ?it/s, loss=0.18, v_num=134]"
     ]
    },
    {
     "name": "stdout",
     "output_type": "stream",
     "text": [
      "\r",
      "Epoch 154: 100%|██████████| 1/1 [00:00<00:00, 13.57it/s, loss=0.177, v_num=134]"
     ]
    },
    {
     "name": "stdout",
     "output_type": "stream",
     "text": [
      "\r",
      "Epoch 154:   0%|          | 0/1 [00:00<?, ?it/s, loss=0.177, v_num=134]        "
     ]
    },
    {
     "name": "stdout",
     "output_type": "stream",
     "text": [
      "\r",
      "Epoch 155:   0%|          | 0/1 [00:00<?, ?it/s, loss=0.177, v_num=134]"
     ]
    },
    {
     "name": "stdout",
     "output_type": "stream",
     "text": [
      "\r",
      "Epoch 155: 100%|██████████| 1/1 [00:00<00:00, 14.08it/s, loss=0.176, v_num=134]"
     ]
    },
    {
     "name": "stdout",
     "output_type": "stream",
     "text": [
      "\r",
      "Epoch 155:   0%|          | 0/1 [00:00<?, ?it/s, loss=0.176, v_num=134]        "
     ]
    },
    {
     "name": "stdout",
     "output_type": "stream",
     "text": [
      "\r",
      "Epoch 156:   0%|          | 0/1 [00:00<?, ?it/s, loss=0.176, v_num=134]"
     ]
    },
    {
     "name": "stdout",
     "output_type": "stream",
     "text": [
      "\r",
      "Epoch 156: 100%|██████████| 1/1 [00:00<00:00, 13.63it/s, loss=0.176, v_num=134]"
     ]
    },
    {
     "name": "stdout",
     "output_type": "stream",
     "text": [
      "\r",
      "Epoch 156:   0%|          | 0/1 [00:00<?, ?it/s, loss=0.176, v_num=134]        "
     ]
    },
    {
     "name": "stdout",
     "output_type": "stream",
     "text": [
      "\r",
      "Epoch 157:   0%|          | 0/1 [00:00<?, ?it/s, loss=0.176, v_num=134]"
     ]
    },
    {
     "name": "stdout",
     "output_type": "stream",
     "text": [
      "\r",
      "Epoch 157: 100%|██████████| 1/1 [00:00<00:00, 13.95it/s, loss=0.176, v_num=134]"
     ]
    },
    {
     "name": "stdout",
     "output_type": "stream",
     "text": [
      "\r",
      "Epoch 157:   0%|          | 0/1 [00:00<?, ?it/s, loss=0.176, v_num=134]        "
     ]
    },
    {
     "name": "stdout",
     "output_type": "stream",
     "text": [
      "\r",
      "Epoch 158:   0%|          | 0/1 [00:00<?, ?it/s, loss=0.176, v_num=134]"
     ]
    },
    {
     "name": "stdout",
     "output_type": "stream",
     "text": [
      "\r",
      "Epoch 158: 100%|██████████| 1/1 [00:00<00:00, 13.67it/s, loss=0.177, v_num=134]"
     ]
    },
    {
     "name": "stdout",
     "output_type": "stream",
     "text": [
      "\r",
      "Epoch 158:   0%|          | 0/1 [00:00<?, ?it/s, loss=0.177, v_num=134]        "
     ]
    },
    {
     "name": "stdout",
     "output_type": "stream",
     "text": [
      "\r",
      "Epoch 159:   0%|          | 0/1 [00:00<?, ?it/s, loss=0.177, v_num=134]"
     ]
    },
    {
     "name": "stdout",
     "output_type": "stream",
     "text": [
      "\r",
      "Epoch 159: 100%|██████████| 1/1 [00:00<00:00, 14.11it/s, loss=0.177, v_num=134]"
     ]
    },
    {
     "name": "stdout",
     "output_type": "stream",
     "text": [
      "\r",
      "Epoch 159:   0%|          | 0/1 [00:00<?, ?it/s, loss=0.177, v_num=134]        "
     ]
    },
    {
     "name": "stdout",
     "output_type": "stream",
     "text": [
      "\r",
      "Epoch 160:   0%|          | 0/1 [00:00<?, ?it/s, loss=0.177, v_num=134]"
     ]
    },
    {
     "name": "stdout",
     "output_type": "stream",
     "text": [
      "\r",
      "Epoch 160: 100%|██████████| 1/1 [00:00<00:00, 13.39it/s, loss=0.177, v_num=134]"
     ]
    },
    {
     "name": "stdout",
     "output_type": "stream",
     "text": [
      "\r",
      "Epoch 160:   0%|          | 0/1 [00:00<?, ?it/s, loss=0.177, v_num=134]        "
     ]
    },
    {
     "name": "stdout",
     "output_type": "stream",
     "text": [
      "\r",
      "Epoch 161:   0%|          | 0/1 [00:00<?, ?it/s, loss=0.177, v_num=134]"
     ]
    },
    {
     "name": "stdout",
     "output_type": "stream",
     "text": [
      "\r",
      "Epoch 161: 100%|██████████| 1/1 [00:00<00:00, 13.49it/s, loss=0.177, v_num=134]"
     ]
    },
    {
     "name": "stdout",
     "output_type": "stream",
     "text": [
      "\r",
      "Epoch 161:   0%|          | 0/1 [00:00<?, ?it/s, loss=0.177, v_num=134]        "
     ]
    },
    {
     "name": "stdout",
     "output_type": "stream",
     "text": [
      "\r",
      "Epoch 162:   0%|          | 0/1 [00:00<?, ?it/s, loss=0.177, v_num=134]"
     ]
    },
    {
     "name": "stdout",
     "output_type": "stream",
     "text": [
      "\r",
      "Epoch 162: 100%|██████████| 1/1 [00:00<00:00, 13.30it/s, loss=0.177, v_num=134]"
     ]
    },
    {
     "name": "stdout",
     "output_type": "stream",
     "text": [
      "\r",
      "Epoch 162:   0%|          | 0/1 [00:00<?, ?it/s, loss=0.177, v_num=134]        "
     ]
    },
    {
     "name": "stdout",
     "output_type": "stream",
     "text": [
      "\r",
      "Epoch 163:   0%|          | 0/1 [00:00<?, ?it/s, loss=0.177, v_num=134]"
     ]
    },
    {
     "name": "stdout",
     "output_type": "stream",
     "text": [
      "\r",
      "Epoch 163: 100%|██████████| 1/1 [00:00<00:00, 13.60it/s, loss=0.177, v_num=134]"
     ]
    },
    {
     "name": "stdout",
     "output_type": "stream",
     "text": [
      "\r",
      "Epoch 163:   0%|          | 0/1 [00:00<?, ?it/s, loss=0.177, v_num=134]        "
     ]
    },
    {
     "name": "stdout",
     "output_type": "stream",
     "text": [
      "\r",
      "Epoch 164:   0%|          | 0/1 [00:00<?, ?it/s, loss=0.177, v_num=134]"
     ]
    },
    {
     "name": "stdout",
     "output_type": "stream",
     "text": [
      "\r",
      "Epoch 164: 100%|██████████| 1/1 [00:00<00:00, 13.47it/s, loss=0.0127, v_num=134]"
     ]
    },
    {
     "name": "stdout",
     "output_type": "stream",
     "text": [
      "\r",
      "Epoch 164:   0%|          | 0/1 [00:00<?, ?it/s, loss=0.0127, v_num=134]        "
     ]
    },
    {
     "name": "stdout",
     "output_type": "stream",
     "text": [
      "\r",
      "Epoch 165:   0%|          | 0/1 [00:00<?, ?it/s, loss=0.0127, v_num=134]"
     ]
    },
    {
     "name": "stdout",
     "output_type": "stream",
     "text": [
      "\r",
      "Epoch 165: 100%|██████████| 1/1 [00:00<00:00, 13.62it/s, loss=0.0125, v_num=134]"
     ]
    },
    {
     "name": "stdout",
     "output_type": "stream",
     "text": [
      "\r",
      "Epoch 165:   0%|          | 0/1 [00:00<?, ?it/s, loss=0.0125, v_num=134]        "
     ]
    },
    {
     "name": "stdout",
     "output_type": "stream",
     "text": [
      "\r",
      "Epoch 166:   0%|          | 0/1 [00:00<?, ?it/s, loss=0.0125, v_num=134]"
     ]
    },
    {
     "name": "stdout",
     "output_type": "stream",
     "text": [
      "\r",
      "Epoch 166: 100%|██████████| 1/1 [00:00<00:00, 14.09it/s, loss=0.0125, v_num=134]"
     ]
    },
    {
     "name": "stdout",
     "output_type": "stream",
     "text": [
      "\r",
      "Epoch 166:   0%|          | 0/1 [00:00<?, ?it/s, loss=0.0125, v_num=134]        "
     ]
    },
    {
     "name": "stdout",
     "output_type": "stream",
     "text": [
      "\r",
      "Epoch 167:   0%|          | 0/1 [00:00<?, ?it/s, loss=0.0125, v_num=134]"
     ]
    },
    {
     "name": "stdout",
     "output_type": "stream",
     "text": [
      "\r",
      "Epoch 167: 100%|██████████| 1/1 [00:00<00:00, 13.45it/s, loss=0.0125, v_num=134]"
     ]
    },
    {
     "name": "stdout",
     "output_type": "stream",
     "text": [
      "\r",
      "Epoch 167:   0%|          | 0/1 [00:00<?, ?it/s, loss=0.0125, v_num=134]        "
     ]
    },
    {
     "name": "stdout",
     "output_type": "stream",
     "text": [
      "\r",
      "Epoch 168:   0%|          | 0/1 [00:00<?, ?it/s, loss=0.0125, v_num=134]"
     ]
    },
    {
     "name": "stdout",
     "output_type": "stream",
     "text": [
      "\r",
      "Epoch 168: 100%|██████████| 1/1 [00:00<00:00, 13.65it/s, loss=0.0126, v_num=134]"
     ]
    },
    {
     "name": "stdout",
     "output_type": "stream",
     "text": [
      "\r",
      "Epoch 168:   0%|          | 0/1 [00:00<?, ?it/s, loss=0.0126, v_num=134]        "
     ]
    },
    {
     "name": "stdout",
     "output_type": "stream",
     "text": [
      "\r",
      "Epoch 169:   0%|          | 0/1 [00:00<?, ?it/s, loss=0.0126, v_num=134]"
     ]
    },
    {
     "name": "stdout",
     "output_type": "stream",
     "text": [
      "\r",
      "Epoch 169: 100%|██████████| 1/1 [00:00<00:00, 13.74it/s, loss=0.0127, v_num=134]"
     ]
    },
    {
     "name": "stdout",
     "output_type": "stream",
     "text": [
      "\r",
      "Epoch 169:   0%|          | 0/1 [00:00<?, ?it/s, loss=0.0127, v_num=134]        "
     ]
    },
    {
     "name": "stdout",
     "output_type": "stream",
     "text": [
      "\r",
      "Epoch 170:   0%|          | 0/1 [00:00<?, ?it/s, loss=0.0127, v_num=134]"
     ]
    },
    {
     "name": "stdout",
     "output_type": "stream",
     "text": [
      "\r",
      "Epoch 170: 100%|██████████| 1/1 [00:00<00:00, 14.67it/s, loss=0.0126, v_num=134]"
     ]
    },
    {
     "name": "stdout",
     "output_type": "stream",
     "text": [
      "\r",
      "Epoch 170:   0%|          | 0/1 [00:00<?, ?it/s, loss=0.0126, v_num=134]        "
     ]
    },
    {
     "name": "stdout",
     "output_type": "stream",
     "text": [
      "\r",
      "Epoch 171:   0%|          | 0/1 [00:00<?, ?it/s, loss=0.0126, v_num=134]"
     ]
    },
    {
     "name": "stdout",
     "output_type": "stream",
     "text": [
      "\r",
      "Epoch 171: 100%|██████████| 1/1 [00:00<00:00, 14.43it/s, loss=0.0126, v_num=134]"
     ]
    },
    {
     "name": "stdout",
     "output_type": "stream",
     "text": [
      "\r",
      "Epoch 171:   0%|          | 0/1 [00:00<?, ?it/s, loss=0.0126, v_num=134]        "
     ]
    },
    {
     "name": "stdout",
     "output_type": "stream",
     "text": [
      "\r",
      "Epoch 172:   0%|          | 0/1 [00:00<?, ?it/s, loss=0.0126, v_num=134]"
     ]
    },
    {
     "name": "stdout",
     "output_type": "stream",
     "text": [
      "\r",
      "Epoch 172: 100%|██████████| 1/1 [00:00<00:00, 14.87it/s, loss=0.0125, v_num=134]"
     ]
    },
    {
     "name": "stdout",
     "output_type": "stream",
     "text": [
      "\r",
      "Epoch 172:   0%|          | 0/1 [00:00<?, ?it/s, loss=0.0125, v_num=134]        "
     ]
    },
    {
     "name": "stdout",
     "output_type": "stream",
     "text": [
      "\r",
      "Epoch 173:   0%|          | 0/1 [00:00<?, ?it/s, loss=0.0125, v_num=134]"
     ]
    },
    {
     "name": "stdout",
     "output_type": "stream",
     "text": [
      "\r",
      "Epoch 173: 100%|██████████| 1/1 [00:00<00:00, 14.22it/s, loss=0.0122, v_num=134]"
     ]
    },
    {
     "name": "stdout",
     "output_type": "stream",
     "text": [
      "\r",
      "Epoch 173:   0%|          | 0/1 [00:00<?, ?it/s, loss=0.0122, v_num=134]        "
     ]
    },
    {
     "name": "stdout",
     "output_type": "stream",
     "text": [
      "\r",
      "Epoch 174:   0%|          | 0/1 [00:00<?, ?it/s, loss=0.0122, v_num=134]"
     ]
    },
    {
     "name": "stdout",
     "output_type": "stream",
     "text": [
      "\r",
      "Epoch 174: 100%|██████████| 1/1 [00:00<00:00, 13.61it/s, loss=0.0119, v_num=134]"
     ]
    },
    {
     "name": "stdout",
     "output_type": "stream",
     "text": [
      "\r",
      "Epoch 174:   0%|          | 0/1 [00:00<?, ?it/s, loss=0.0119, v_num=134]        "
     ]
    },
    {
     "name": "stdout",
     "output_type": "stream",
     "text": [
      "\r",
      "Epoch 175:   0%|          | 0/1 [00:00<?, ?it/s, loss=0.0119, v_num=134]"
     ]
    },
    {
     "name": "stdout",
     "output_type": "stream",
     "text": [
      "\r",
      "Epoch 175: 100%|██████████| 1/1 [00:00<00:00, 14.60it/s, loss=0.0115, v_num=134]"
     ]
    },
    {
     "name": "stdout",
     "output_type": "stream",
     "text": [
      "\r",
      "Epoch 175:   0%|          | 0/1 [00:00<?, ?it/s, loss=0.0115, v_num=134]        "
     ]
    },
    {
     "name": "stdout",
     "output_type": "stream",
     "text": [
      "\r",
      "Epoch 176:   0%|          | 0/1 [00:00<?, ?it/s, loss=0.0115, v_num=134]"
     ]
    },
    {
     "name": "stdout",
     "output_type": "stream",
     "text": [
      "\r",
      "Epoch 176: 100%|██████████| 1/1 [00:00<00:00, 14.37it/s, loss=0.011, v_num=134]"
     ]
    },
    {
     "name": "stdout",
     "output_type": "stream",
     "text": [
      "\r",
      "Epoch 176:   0%|          | 0/1 [00:00<?, ?it/s, loss=0.011, v_num=134]        "
     ]
    },
    {
     "name": "stdout",
     "output_type": "stream",
     "text": [
      "\r",
      "Epoch 177:   0%|          | 0/1 [00:00<?, ?it/s, loss=0.011, v_num=134]"
     ]
    },
    {
     "name": "stdout",
     "output_type": "stream",
     "text": [
      "\r",
      "Epoch 177: 100%|██████████| 1/1 [00:00<00:00, 14.70it/s, loss=0.0105, v_num=134]"
     ]
    },
    {
     "name": "stdout",
     "output_type": "stream",
     "text": [
      "\r",
      "Epoch 177:   0%|          | 0/1 [00:00<?, ?it/s, loss=0.0105, v_num=134]        "
     ]
    },
    {
     "name": "stdout",
     "output_type": "stream",
     "text": [
      "\r",
      "Epoch 178:   0%|          | 0/1 [00:00<?, ?it/s, loss=0.0105, v_num=134]"
     ]
    },
    {
     "name": "stdout",
     "output_type": "stream",
     "text": [
      "\r",
      "Epoch 178: 100%|██████████| 1/1 [00:00<00:00, 14.84it/s, loss=0.0101, v_num=134]"
     ]
    },
    {
     "name": "stdout",
     "output_type": "stream",
     "text": [
      "\r",
      "Epoch 178:   0%|          | 0/1 [00:00<?, ?it/s, loss=0.0101, v_num=134]        "
     ]
    },
    {
     "name": "stdout",
     "output_type": "stream",
     "text": [
      "\r",
      "Epoch 179:   0%|          | 0/1 [00:00<?, ?it/s, loss=0.0101, v_num=134]"
     ]
    },
    {
     "name": "stdout",
     "output_type": "stream",
     "text": [
      "\r",
      "Epoch 179: 100%|██████████| 1/1 [00:00<00:00, 15.47it/s, loss=0.0097, v_num=134]"
     ]
    },
    {
     "name": "stdout",
     "output_type": "stream",
     "text": [
      "\r",
      "Epoch 179:   0%|          | 0/1 [00:00<?, ?it/s, loss=0.0097, v_num=134]        "
     ]
    },
    {
     "name": "stdout",
     "output_type": "stream",
     "text": [
      "\r",
      "Epoch 180:   0%|          | 0/1 [00:00<?, ?it/s, loss=0.0097, v_num=134]"
     ]
    },
    {
     "name": "stdout",
     "output_type": "stream",
     "text": [
      "\r",
      "Epoch 180: 100%|██████████| 1/1 [00:00<00:00, 14.91it/s, loss=0.00935, v_num=134]"
     ]
    },
    {
     "name": "stdout",
     "output_type": "stream",
     "text": [
      "\r",
      "Epoch 180:   0%|          | 0/1 [00:00<?, ?it/s, loss=0.00935, v_num=134]        "
     ]
    },
    {
     "name": "stdout",
     "output_type": "stream",
     "text": [
      "\r",
      "Epoch 181:   0%|          | 0/1 [00:00<?, ?it/s, loss=0.00935, v_num=134]"
     ]
    },
    {
     "name": "stdout",
     "output_type": "stream",
     "text": [
      "\r",
      "Epoch 181: 100%|██████████| 1/1 [00:00<00:00, 14.32it/s, loss=0.00908, v_num=134]"
     ]
    },
    {
     "name": "stdout",
     "output_type": "stream",
     "text": [
      "\r",
      "Epoch 181:   0%|          | 0/1 [00:00<?, ?it/s, loss=0.00908, v_num=134]        "
     ]
    },
    {
     "name": "stdout",
     "output_type": "stream",
     "text": [
      "\r",
      "Epoch 182:   0%|          | 0/1 [00:00<?, ?it/s, loss=0.00908, v_num=134]"
     ]
    },
    {
     "name": "stdout",
     "output_type": "stream",
     "text": [
      "\r",
      "Epoch 182: 100%|██████████| 1/1 [00:00<00:00, 14.91it/s, loss=0.00884, v_num=134]"
     ]
    },
    {
     "name": "stdout",
     "output_type": "stream",
     "text": [
      "\r",
      "Epoch 182:   0%|          | 0/1 [00:00<?, ?it/s, loss=0.00884, v_num=134]        "
     ]
    },
    {
     "name": "stdout",
     "output_type": "stream",
     "text": [
      "\r",
      "Epoch 183:   0%|          | 0/1 [00:00<?, ?it/s, loss=0.00884, v_num=134]"
     ]
    },
    {
     "name": "stdout",
     "output_type": "stream",
     "text": [
      "\r",
      "Epoch 183: 100%|██████████| 1/1 [00:00<00:00, 15.49it/s, loss=0.00864, v_num=134]"
     ]
    },
    {
     "name": "stdout",
     "output_type": "stream",
     "text": [
      "\r",
      "Epoch 183:   0%|          | 0/1 [00:00<?, ?it/s, loss=0.00864, v_num=134]        "
     ]
    },
    {
     "name": "stdout",
     "output_type": "stream",
     "text": [
      "\r",
      "Epoch 184:   0%|          | 0/1 [00:00<?, ?it/s, loss=0.00864, v_num=134]"
     ]
    },
    {
     "name": "stdout",
     "output_type": "stream",
     "text": [
      "\r",
      "Epoch 184: 100%|██████████| 1/1 [00:00<00:00, 14.90it/s, loss=0.00847, v_num=134]"
     ]
    },
    {
     "name": "stdout",
     "output_type": "stream",
     "text": [
      "\r",
      "Epoch 184:   0%|          | 0/1 [00:00<?, ?it/s, loss=0.00847, v_num=134]        "
     ]
    },
    {
     "name": "stdout",
     "output_type": "stream",
     "text": [
      "\r",
      "Epoch 185:   0%|          | 0/1 [00:00<?, ?it/s, loss=0.00847, v_num=134]"
     ]
    },
    {
     "name": "stdout",
     "output_type": "stream",
     "text": [
      "\r",
      "Epoch 185: 100%|██████████| 1/1 [00:00<00:00, 13.62it/s, loss=0.00833, v_num=134]"
     ]
    },
    {
     "name": "stdout",
     "output_type": "stream",
     "text": [
      "\r",
      "Epoch 185:   0%|          | 0/1 [00:00<?, ?it/s, loss=0.00833, v_num=134]        "
     ]
    },
    {
     "name": "stdout",
     "output_type": "stream",
     "text": [
      "\r",
      "Epoch 186:   0%|          | 0/1 [00:00<?, ?it/s, loss=0.00833, v_num=134]"
     ]
    },
    {
     "name": "stdout",
     "output_type": "stream",
     "text": [
      "\r",
      "Epoch 186: 100%|██████████| 1/1 [00:00<00:00, 14.54it/s, loss=0.00819, v_num=134]"
     ]
    },
    {
     "name": "stdout",
     "output_type": "stream",
     "text": [
      "\r",
      "Epoch 186:   0%|          | 0/1 [00:00<?, ?it/s, loss=0.00819, v_num=134]        "
     ]
    },
    {
     "name": "stdout",
     "output_type": "stream",
     "text": [
      "\r",
      "Epoch 187:   0%|          | 0/1 [00:00<?, ?it/s, loss=0.00819, v_num=134]"
     ]
    },
    {
     "name": "stdout",
     "output_type": "stream",
     "text": [
      "\r",
      "Epoch 187: 100%|██████████| 1/1 [00:00<00:00, 13.69it/s, loss=0.00806, v_num=134]"
     ]
    },
    {
     "name": "stdout",
     "output_type": "stream",
     "text": [
      "\r",
      "Epoch 187:   0%|          | 0/1 [00:00<?, ?it/s, loss=0.00806, v_num=134]        "
     ]
    },
    {
     "name": "stdout",
     "output_type": "stream",
     "text": [
      "\r",
      "Epoch 188:   0%|          | 0/1 [00:00<?, ?it/s, loss=0.00806, v_num=134]"
     ]
    },
    {
     "name": "stdout",
     "output_type": "stream",
     "text": [
      "\r",
      "Epoch 188: 100%|██████████| 1/1 [00:00<00:00, 13.69it/s, loss=0.00794, v_num=134]"
     ]
    },
    {
     "name": "stdout",
     "output_type": "stream",
     "text": [
      "\r",
      "Epoch 188:   0%|          | 0/1 [00:00<?, ?it/s, loss=0.00794, v_num=134]        "
     ]
    },
    {
     "name": "stdout",
     "output_type": "stream",
     "text": [
      "\r",
      "Epoch 189:   0%|          | 0/1 [00:00<?, ?it/s, loss=0.00794, v_num=134]"
     ]
    },
    {
     "name": "stdout",
     "output_type": "stream",
     "text": [
      "\r",
      "Epoch 189: 100%|██████████| 1/1 [00:00<00:00, 14.50it/s, loss=0.00779, v_num=134]"
     ]
    },
    {
     "name": "stdout",
     "output_type": "stream",
     "text": [
      "\r",
      "Epoch 189:   0%|          | 0/1 [00:00<?, ?it/s, loss=0.00779, v_num=134]        "
     ]
    },
    {
     "name": "stdout",
     "output_type": "stream",
     "text": [
      "\r",
      "Epoch 190:   0%|          | 0/1 [00:00<?, ?it/s, loss=0.00779, v_num=134]"
     ]
    },
    {
     "name": "stdout",
     "output_type": "stream",
     "text": [
      "\r",
      "Epoch 190: 100%|██████████| 1/1 [00:00<00:00, 12.10it/s, loss=0.00766, v_num=134]"
     ]
    },
    {
     "name": "stdout",
     "output_type": "stream",
     "text": [
      "\r",
      "Epoch 190:   0%|          | 0/1 [00:00<?, ?it/s, loss=0.00766, v_num=134]        "
     ]
    },
    {
     "name": "stdout",
     "output_type": "stream",
     "text": [
      "\r",
      "Epoch 191:   0%|          | 0/1 [00:00<?, ?it/s, loss=0.00766, v_num=134]"
     ]
    },
    {
     "name": "stdout",
     "output_type": "stream",
     "text": [
      "\r",
      "Epoch 191: 100%|██████████| 1/1 [00:00<00:00, 12.91it/s, loss=0.00752, v_num=134]"
     ]
    },
    {
     "name": "stdout",
     "output_type": "stream",
     "text": [
      "\r",
      "Epoch 191:   0%|          | 0/1 [00:00<?, ?it/s, loss=0.00752, v_num=134]        "
     ]
    },
    {
     "name": "stdout",
     "output_type": "stream",
     "text": [
      "\r",
      "Epoch 192:   0%|          | 0/1 [00:00<?, ?it/s, loss=0.00752, v_num=134]"
     ]
    },
    {
     "name": "stdout",
     "output_type": "stream",
     "text": [
      "\r",
      "Epoch 192: 100%|██████████| 1/1 [00:00<00:00, 12.89it/s, loss=0.00738, v_num=134]"
     ]
    },
    {
     "name": "stdout",
     "output_type": "stream",
     "text": [
      "\r",
      "Epoch 192:   0%|          | 0/1 [00:00<?, ?it/s, loss=0.00738, v_num=134]        "
     ]
    },
    {
     "name": "stdout",
     "output_type": "stream",
     "text": [
      "\r",
      "Epoch 193:   0%|          | 0/1 [00:00<?, ?it/s, loss=0.00738, v_num=134]"
     ]
    },
    {
     "name": "stdout",
     "output_type": "stream",
     "text": [
      "\r",
      "Epoch 193: 100%|██████████| 1/1 [00:00<00:00, 13.71it/s, loss=0.00724, v_num=134]"
     ]
    },
    {
     "name": "stdout",
     "output_type": "stream",
     "text": [
      "\r",
      "Epoch 193:   0%|          | 0/1 [00:00<?, ?it/s, loss=0.00724, v_num=134]        "
     ]
    },
    {
     "name": "stdout",
     "output_type": "stream",
     "text": [
      "\r",
      "Epoch 194:   0%|          | 0/1 [00:00<?, ?it/s, loss=0.00724, v_num=134]"
     ]
    },
    {
     "name": "stdout",
     "output_type": "stream",
     "text": [
      "\r",
      "Epoch 194: 100%|██████████| 1/1 [00:00<00:00, 12.58it/s, loss=0.0071, v_num=134]"
     ]
    },
    {
     "name": "stdout",
     "output_type": "stream",
     "text": [
      "\r",
      "Epoch 194:   0%|          | 0/1 [00:00<?, ?it/s, loss=0.0071, v_num=134]        "
     ]
    },
    {
     "name": "stdout",
     "output_type": "stream",
     "text": [
      "\r",
      "Epoch 195:   0%|          | 0/1 [00:00<?, ?it/s, loss=0.0071, v_num=134]"
     ]
    },
    {
     "name": "stdout",
     "output_type": "stream",
     "text": [
      "\r",
      "Epoch 195: 100%|██████████| 1/1 [00:00<00:00, 12.80it/s, loss=0.00695, v_num=134]"
     ]
    },
    {
     "name": "stdout",
     "output_type": "stream",
     "text": [
      "\r",
      "Epoch 195:   0%|          | 0/1 [00:00<?, ?it/s, loss=0.00695, v_num=134]        "
     ]
    },
    {
     "name": "stdout",
     "output_type": "stream",
     "text": [
      "\r",
      "Epoch 196:   0%|          | 0/1 [00:00<?, ?it/s, loss=0.00695, v_num=134]"
     ]
    },
    {
     "name": "stdout",
     "output_type": "stream",
     "text": [
      "\r",
      "Epoch 196: 100%|██████████| 1/1 [00:00<00:00, 14.12it/s, loss=0.0068, v_num=134]"
     ]
    },
    {
     "name": "stdout",
     "output_type": "stream",
     "text": [
      "\r",
      "Epoch 196:   0%|          | 0/1 [00:00<?, ?it/s, loss=0.0068, v_num=134]        "
     ]
    },
    {
     "name": "stdout",
     "output_type": "stream",
     "text": [
      "\r",
      "Epoch 197:   0%|          | 0/1 [00:00<?, ?it/s, loss=0.0068, v_num=134]"
     ]
    },
    {
     "name": "stdout",
     "output_type": "stream",
     "text": [
      "\r",
      "Epoch 197: 100%|██████████| 1/1 [00:00<00:00, 13.11it/s, loss=0.00667, v_num=134]"
     ]
    },
    {
     "name": "stdout",
     "output_type": "stream",
     "text": [
      "\r",
      "Epoch 197:   0%|          | 0/1 [00:00<?, ?it/s, loss=0.00667, v_num=134]        "
     ]
    },
    {
     "name": "stdout",
     "output_type": "stream",
     "text": [
      "\r",
      "Epoch 198:   0%|          | 0/1 [00:00<?, ?it/s, loss=0.00667, v_num=134]"
     ]
    },
    {
     "name": "stdout",
     "output_type": "stream",
     "text": [
      "\r",
      "Epoch 198: 100%|██████████| 1/1 [00:00<00:00, 13.29it/s, loss=0.00654, v_num=134]"
     ]
    },
    {
     "name": "stdout",
     "output_type": "stream",
     "text": [
      "\r",
      "Epoch 198:   0%|          | 0/1 [00:00<?, ?it/s, loss=0.00654, v_num=134]        "
     ]
    },
    {
     "name": "stdout",
     "output_type": "stream",
     "text": [
      "\r",
      "Epoch 199:   0%|          | 0/1 [00:00<?, ?it/s, loss=0.00654, v_num=134]"
     ]
    },
    {
     "name": "stdout",
     "output_type": "stream",
     "text": [
      "\r",
      "Epoch 199: 100%|██████████| 1/1 [00:00<00:00, 13.65it/s, loss=0.00643, v_num=134]"
     ]
    },
    {
     "name": "stdout",
     "output_type": "stream",
     "text": [
      "\r",
      "Epoch 199:   0%|          | 0/1 [00:00<?, ?it/s, loss=0.00643, v_num=134]        "
     ]
    },
    {
     "name": "stdout",
     "output_type": "stream",
     "text": [
      "\r",
      "Epoch 200:   0%|          | 0/1 [00:00<?, ?it/s, loss=0.00643, v_num=134]"
     ]
    },
    {
     "name": "stdout",
     "output_type": "stream",
     "text": [
      "\r",
      "Epoch 200: 100%|██████████| 1/1 [00:00<00:00, 14.30it/s, loss=0.00632, v_num=134]"
     ]
    },
    {
     "name": "stdout",
     "output_type": "stream",
     "text": [
      "\r",
      "Epoch 200:   0%|          | 0/1 [00:00<?, ?it/s, loss=0.00632, v_num=134]        "
     ]
    },
    {
     "name": "stdout",
     "output_type": "stream",
     "text": [
      "\r",
      "Epoch 201:   0%|          | 0/1 [00:00<?, ?it/s, loss=0.00632, v_num=134]"
     ]
    },
    {
     "name": "stdout",
     "output_type": "stream",
     "text": [
      "\r",
      "Epoch 201: 100%|██████████| 1/1 [00:00<00:00, 13.87it/s, loss=0.00621, v_num=134]"
     ]
    },
    {
     "name": "stdout",
     "output_type": "stream",
     "text": [
      "\r",
      "Epoch 201:   0%|          | 0/1 [00:00<?, ?it/s, loss=0.00621, v_num=134]        "
     ]
    },
    {
     "name": "stdout",
     "output_type": "stream",
     "text": [
      "\r",
      "Epoch 202:   0%|          | 0/1 [00:00<?, ?it/s, loss=0.00621, v_num=134]"
     ]
    },
    {
     "name": "stdout",
     "output_type": "stream",
     "text": [
      "\r",
      "Epoch 202: 100%|██████████| 1/1 [00:00<00:00, 14.10it/s, loss=0.00611, v_num=134]"
     ]
    },
    {
     "name": "stdout",
     "output_type": "stream",
     "text": [
      "\r",
      "Epoch 202:   0%|          | 0/1 [00:00<?, ?it/s, loss=0.00611, v_num=134]        "
     ]
    },
    {
     "name": "stdout",
     "output_type": "stream",
     "text": [
      "\r",
      "Epoch 203:   0%|          | 0/1 [00:00<?, ?it/s, loss=0.00611, v_num=134]"
     ]
    },
    {
     "name": "stdout",
     "output_type": "stream",
     "text": [
      "\r",
      "Epoch 203: 100%|██████████| 1/1 [00:00<00:00, 13.51it/s, loss=0.00603, v_num=134]"
     ]
    },
    {
     "name": "stdout",
     "output_type": "stream",
     "text": [
      "\r",
      "Epoch 203:   0%|          | 0/1 [00:00<?, ?it/s, loss=0.00603, v_num=134]        "
     ]
    },
    {
     "name": "stdout",
     "output_type": "stream",
     "text": [
      "\r",
      "Epoch 204:   0%|          | 0/1 [00:00<?, ?it/s, loss=0.00603, v_num=134]"
     ]
    },
    {
     "name": "stdout",
     "output_type": "stream",
     "text": [
      "\r",
      "Epoch 204: 100%|██████████| 1/1 [00:00<00:00, 14.21it/s, loss=0.00594, v_num=134]"
     ]
    },
    {
     "name": "stdout",
     "output_type": "stream",
     "text": [
      "\r",
      "Epoch 204:   0%|          | 0/1 [00:00<?, ?it/s, loss=0.00594, v_num=134]        "
     ]
    },
    {
     "name": "stdout",
     "output_type": "stream",
     "text": [
      "\r",
      "Epoch 205:   0%|          | 0/1 [00:00<?, ?it/s, loss=0.00594, v_num=134]"
     ]
    },
    {
     "name": "stdout",
     "output_type": "stream",
     "text": [
      "\r",
      "Epoch 205: 100%|██████████| 1/1 [00:00<00:00, 12.20it/s, loss=0.00585, v_num=134]"
     ]
    },
    {
     "name": "stdout",
     "output_type": "stream",
     "text": [
      "\r",
      "Epoch 205:   0%|          | 0/1 [00:00<?, ?it/s, loss=0.00585, v_num=134]        "
     ]
    },
    {
     "name": "stdout",
     "output_type": "stream",
     "text": [
      "\r",
      "Epoch 206:   0%|          | 0/1 [00:00<?, ?it/s, loss=0.00585, v_num=134]"
     ]
    },
    {
     "name": "stdout",
     "output_type": "stream",
     "text": [
      "\r",
      "Epoch 206: 100%|██████████| 1/1 [00:00<00:00, 11.99it/s, loss=0.00578, v_num=134]"
     ]
    },
    {
     "name": "stdout",
     "output_type": "stream",
     "text": [
      "\r",
      "Epoch 206:   0%|          | 0/1 [00:00<?, ?it/s, loss=0.00578, v_num=134]        "
     ]
    },
    {
     "name": "stdout",
     "output_type": "stream",
     "text": [
      "\r",
      "Epoch 207:   0%|          | 0/1 [00:00<?, ?it/s, loss=0.00578, v_num=134]"
     ]
    },
    {
     "name": "stdout",
     "output_type": "stream",
     "text": [
      "\r",
      "Epoch 207: 100%|██████████| 1/1 [00:00<00:00, 13.72it/s, loss=0.0057, v_num=134]"
     ]
    },
    {
     "name": "stdout",
     "output_type": "stream",
     "text": [
      "\r",
      "Epoch 207:   0%|          | 0/1 [00:00<?, ?it/s, loss=0.0057, v_num=134]        "
     ]
    },
    {
     "name": "stdout",
     "output_type": "stream",
     "text": [
      "\r",
      "Epoch 208:   0%|          | 0/1 [00:00<?, ?it/s, loss=0.0057, v_num=134]"
     ]
    },
    {
     "name": "stdout",
     "output_type": "stream",
     "text": [
      "\r",
      "Epoch 208: 100%|██████████| 1/1 [00:00<00:00, 13.70it/s, loss=0.00562, v_num=134]"
     ]
    },
    {
     "name": "stdout",
     "output_type": "stream",
     "text": [
      "\r",
      "Epoch 208:   0%|          | 0/1 [00:00<?, ?it/s, loss=0.00562, v_num=134]        "
     ]
    },
    {
     "name": "stdout",
     "output_type": "stream",
     "text": [
      "\r",
      "Epoch 209:   0%|          | 0/1 [00:00<?, ?it/s, loss=0.00562, v_num=134]"
     ]
    },
    {
     "name": "stdout",
     "output_type": "stream",
     "text": [
      "\r",
      "Epoch 209: 100%|██████████| 1/1 [00:00<00:00, 13.71it/s, loss=0.00556, v_num=134]"
     ]
    },
    {
     "name": "stdout",
     "output_type": "stream",
     "text": [
      "\r",
      "Epoch 209:   0%|          | 0/1 [00:00<?, ?it/s, loss=0.00556, v_num=134]        "
     ]
    },
    {
     "name": "stdout",
     "output_type": "stream",
     "text": [
      "\r",
      "Epoch 210:   0%|          | 0/1 [00:00<?, ?it/s, loss=0.00556, v_num=134]"
     ]
    },
    {
     "name": "stdout",
     "output_type": "stream",
     "text": [
      "\r",
      "Epoch 210: 100%|██████████| 1/1 [00:00<00:00, 14.33it/s, loss=0.00548, v_num=134]"
     ]
    },
    {
     "name": "stdout",
     "output_type": "stream",
     "text": [
      "\r",
      "Epoch 210:   0%|          | 0/1 [00:00<?, ?it/s, loss=0.00548, v_num=134]        "
     ]
    },
    {
     "name": "stdout",
     "output_type": "stream",
     "text": [
      "\r",
      "Epoch 211:   0%|          | 0/1 [00:00<?, ?it/s, loss=0.00548, v_num=134]"
     ]
    },
    {
     "name": "stdout",
     "output_type": "stream",
     "text": [
      "\r",
      "Epoch 211: 100%|██████████| 1/1 [00:00<00:00, 12.80it/s, loss=0.00541, v_num=134]"
     ]
    },
    {
     "name": "stdout",
     "output_type": "stream",
     "text": [
      "\r",
      "Epoch 211:   0%|          | 0/1 [00:00<?, ?it/s, loss=0.00541, v_num=134]        "
     ]
    },
    {
     "name": "stdout",
     "output_type": "stream",
     "text": [
      "\r",
      "Epoch 212:   0%|          | 0/1 [00:00<?, ?it/s, loss=0.00541, v_num=134]"
     ]
    },
    {
     "name": "stdout",
     "output_type": "stream",
     "text": [
      "\r",
      "Epoch 212: 100%|██████████| 1/1 [00:00<00:00, 13.69it/s, loss=0.00535, v_num=134]"
     ]
    },
    {
     "name": "stdout",
     "output_type": "stream",
     "text": [
      "\r",
      "Epoch 212:   0%|          | 0/1 [00:00<?, ?it/s, loss=0.00535, v_num=134]        "
     ]
    },
    {
     "name": "stdout",
     "output_type": "stream",
     "text": [
      "\r",
      "Epoch 213:   0%|          | 0/1 [00:00<?, ?it/s, loss=0.00535, v_num=134]"
     ]
    },
    {
     "name": "stdout",
     "output_type": "stream",
     "text": [
      "\r",
      "Epoch 213: 100%|██████████| 1/1 [00:00<00:00, 14.19it/s, loss=0.00528, v_num=134]"
     ]
    },
    {
     "name": "stdout",
     "output_type": "stream",
     "text": [
      "\r",
      "Epoch 213:   0%|          | 0/1 [00:00<?, ?it/s, loss=0.00528, v_num=134]        "
     ]
    },
    {
     "name": "stdout",
     "output_type": "stream",
     "text": [
      "\r",
      "Epoch 214:   0%|          | 0/1 [00:00<?, ?it/s, loss=0.00528, v_num=134]"
     ]
    },
    {
     "name": "stdout",
     "output_type": "stream",
     "text": [
      "\r",
      "Epoch 214: 100%|██████████| 1/1 [00:00<00:00, 13.87it/s, loss=0.00522, v_num=134]"
     ]
    },
    {
     "name": "stdout",
     "output_type": "stream",
     "text": [
      "\r",
      "Epoch 214:   0%|          | 0/1 [00:00<?, ?it/s, loss=0.00522, v_num=134]        "
     ]
    },
    {
     "name": "stdout",
     "output_type": "stream",
     "text": [
      "\r",
      "Epoch 215:   0%|          | 0/1 [00:00<?, ?it/s, loss=0.00522, v_num=134]"
     ]
    },
    {
     "name": "stdout",
     "output_type": "stream",
     "text": [
      "\r",
      "Epoch 215: 100%|██████████| 1/1 [00:00<00:00, 13.36it/s, loss=0.00517, v_num=134]"
     ]
    },
    {
     "name": "stdout",
     "output_type": "stream",
     "text": [
      "\r",
      "Epoch 215:   0%|          | 0/1 [00:00<?, ?it/s, loss=0.00517, v_num=134]        "
     ]
    },
    {
     "name": "stdout",
     "output_type": "stream",
     "text": [
      "\r",
      "Epoch 216:   0%|          | 0/1 [00:00<?, ?it/s, loss=0.00517, v_num=134]"
     ]
    },
    {
     "name": "stdout",
     "output_type": "stream",
     "text": [
      "\r",
      "Epoch 216: 100%|██████████| 1/1 [00:00<00:00, 14.12it/s, loss=0.00511, v_num=134]"
     ]
    },
    {
     "name": "stdout",
     "output_type": "stream",
     "text": [
      "\r",
      "Epoch 216:   0%|          | 0/1 [00:00<?, ?it/s, loss=0.00511, v_num=134]        "
     ]
    },
    {
     "name": "stdout",
     "output_type": "stream",
     "text": [
      "\r",
      "Epoch 217:   0%|          | 0/1 [00:00<?, ?it/s, loss=0.00511, v_num=134]"
     ]
    },
    {
     "name": "stdout",
     "output_type": "stream",
     "text": [
      "\r",
      "Epoch 217: 100%|██████████| 1/1 [00:00<00:00, 12.75it/s, loss=0.00505, v_num=134]"
     ]
    },
    {
     "name": "stdout",
     "output_type": "stream",
     "text": [
      "\r",
      "Epoch 217:   0%|          | 0/1 [00:00<?, ?it/s, loss=0.00505, v_num=134]        "
     ]
    },
    {
     "name": "stdout",
     "output_type": "stream",
     "text": [
      "\r",
      "Epoch 218:   0%|          | 0/1 [00:00<?, ?it/s, loss=0.00505, v_num=134]"
     ]
    },
    {
     "name": "stdout",
     "output_type": "stream",
     "text": [
      "\r",
      "Epoch 218: 100%|██████████| 1/1 [00:00<00:00, 13.57it/s, loss=0.00499, v_num=134]"
     ]
    },
    {
     "name": "stdout",
     "output_type": "stream",
     "text": [
      "\r",
      "Epoch 218:   0%|          | 0/1 [00:00<?, ?it/s, loss=0.00499, v_num=134]        "
     ]
    },
    {
     "name": "stdout",
     "output_type": "stream",
     "text": [
      "\r",
      "Epoch 219:   0%|          | 0/1 [00:00<?, ?it/s, loss=0.00499, v_num=134]"
     ]
    },
    {
     "name": "stdout",
     "output_type": "stream",
     "text": [
      "\r",
      "Epoch 219: 100%|██████████| 1/1 [00:00<00:00, 13.95it/s, loss=0.00494, v_num=134]"
     ]
    },
    {
     "name": "stdout",
     "output_type": "stream",
     "text": [
      "\r",
      "Epoch 219:   0%|          | 0/1 [00:00<?, ?it/s, loss=0.00494, v_num=134]        "
     ]
    },
    {
     "name": "stdout",
     "output_type": "stream",
     "text": [
      "\r",
      "Epoch 220:   0%|          | 0/1 [00:00<?, ?it/s, loss=0.00494, v_num=134]"
     ]
    },
    {
     "name": "stdout",
     "output_type": "stream",
     "text": [
      "\r",
      "Epoch 220: 100%|██████████| 1/1 [00:00<00:00, 13.83it/s, loss=0.00489, v_num=134]"
     ]
    },
    {
     "name": "stdout",
     "output_type": "stream",
     "text": [
      "\r",
      "Epoch 220:   0%|          | 0/1 [00:00<?, ?it/s, loss=0.00489, v_num=134]        "
     ]
    },
    {
     "name": "stdout",
     "output_type": "stream",
     "text": [
      "\r",
      "Epoch 221:   0%|          | 0/1 [00:00<?, ?it/s, loss=0.00489, v_num=134]"
     ]
    },
    {
     "name": "stdout",
     "output_type": "stream",
     "text": [
      "\r",
      "Epoch 221: 100%|██████████| 1/1 [00:00<00:00, 13.60it/s, loss=0.00484, v_num=134]"
     ]
    },
    {
     "name": "stdout",
     "output_type": "stream",
     "text": [
      "\r",
      "Epoch 221:   0%|          | 0/1 [00:00<?, ?it/s, loss=0.00484, v_num=134]        "
     ]
    },
    {
     "name": "stdout",
     "output_type": "stream",
     "text": [
      "\r",
      "Epoch 222:   0%|          | 0/1 [00:00<?, ?it/s, loss=0.00484, v_num=134]"
     ]
    },
    {
     "name": "stdout",
     "output_type": "stream",
     "text": [
      "\r",
      "Epoch 222: 100%|██████████| 1/1 [00:00<00:00, 13.47it/s, loss=0.00479, v_num=134]"
     ]
    },
    {
     "name": "stdout",
     "output_type": "stream",
     "text": [
      "\r",
      "Epoch 222:   0%|          | 0/1 [00:00<?, ?it/s, loss=0.00479, v_num=134]        "
     ]
    },
    {
     "name": "stdout",
     "output_type": "stream",
     "text": [
      "\r",
      "Epoch 223:   0%|          | 0/1 [00:00<?, ?it/s, loss=0.00479, v_num=134]"
     ]
    },
    {
     "name": "stdout",
     "output_type": "stream",
     "text": [
      "\r",
      "Epoch 223: 100%|██████████| 1/1 [00:00<00:00, 14.09it/s, loss=0.00473, v_num=134]"
     ]
    },
    {
     "name": "stdout",
     "output_type": "stream",
     "text": [
      "\r",
      "Epoch 223:   0%|          | 0/1 [00:00<?, ?it/s, loss=0.00473, v_num=134]        "
     ]
    },
    {
     "name": "stdout",
     "output_type": "stream",
     "text": [
      "\r",
      "Epoch 224:   0%|          | 0/1 [00:00<?, ?it/s, loss=0.00473, v_num=134]"
     ]
    },
    {
     "name": "stdout",
     "output_type": "stream",
     "text": [
      "\r",
      "Epoch 224: 100%|██████████| 1/1 [00:00<00:00, 13.55it/s, loss=0.00469, v_num=134]"
     ]
    },
    {
     "name": "stdout",
     "output_type": "stream",
     "text": [
      "\r",
      "Epoch 224:   0%|          | 0/1 [00:00<?, ?it/s, loss=0.00469, v_num=134]        "
     ]
    },
    {
     "name": "stdout",
     "output_type": "stream",
     "text": [
      "\r",
      "Epoch 225:   0%|          | 0/1 [00:00<?, ?it/s, loss=0.00469, v_num=134]"
     ]
    },
    {
     "name": "stdout",
     "output_type": "stream",
     "text": [
      "\r",
      "Epoch 225: 100%|██████████| 1/1 [00:00<00:00, 13.83it/s, loss=0.00465, v_num=134]"
     ]
    },
    {
     "name": "stdout",
     "output_type": "stream",
     "text": [
      "\r",
      "Epoch 225:   0%|          | 0/1 [00:00<?, ?it/s, loss=0.00465, v_num=134]        "
     ]
    },
    {
     "name": "stdout",
     "output_type": "stream",
     "text": [
      "\r",
      "Epoch 226:   0%|          | 0/1 [00:00<?, ?it/s, loss=0.00465, v_num=134]"
     ]
    },
    {
     "name": "stdout",
     "output_type": "stream",
     "text": [
      "\r",
      "Epoch 226: 100%|██████████| 1/1 [00:00<00:00, 13.23it/s, loss=0.0046, v_num=134]"
     ]
    },
    {
     "name": "stdout",
     "output_type": "stream",
     "text": [
      "\r",
      "Epoch 226:   0%|          | 0/1 [00:00<?, ?it/s, loss=0.0046, v_num=134]        "
     ]
    },
    {
     "name": "stdout",
     "output_type": "stream",
     "text": [
      "\r",
      "Epoch 227:   0%|          | 0/1 [00:00<?, ?it/s, loss=0.0046, v_num=134]"
     ]
    },
    {
     "name": "stdout",
     "output_type": "stream",
     "text": [
      "\r",
      "Epoch 227: 100%|██████████| 1/1 [00:00<00:00, 12.49it/s, loss=0.00456, v_num=134]"
     ]
    },
    {
     "name": "stdout",
     "output_type": "stream",
     "text": [
      "\r",
      "Epoch 227:   0%|          | 0/1 [00:00<?, ?it/s, loss=0.00456, v_num=134]        "
     ]
    },
    {
     "name": "stdout",
     "output_type": "stream",
     "text": [
      "\r",
      "Epoch 228:   0%|          | 0/1 [00:00<?, ?it/s, loss=0.00456, v_num=134]"
     ]
    },
    {
     "name": "stdout",
     "output_type": "stream",
     "text": [
      "\r",
      "Epoch 228: 100%|██████████| 1/1 [00:00<00:00, 13.95it/s, loss=0.00451, v_num=134]"
     ]
    },
    {
     "name": "stdout",
     "output_type": "stream",
     "text": [
      "\r",
      "Epoch 228:   0%|          | 0/1 [00:00<?, ?it/s, loss=0.00451, v_num=134]        "
     ]
    },
    {
     "name": "stdout",
     "output_type": "stream",
     "text": [
      "\r",
      "Epoch 229:   0%|          | 0/1 [00:00<?, ?it/s, loss=0.00451, v_num=134]"
     ]
    },
    {
     "name": "stdout",
     "output_type": "stream",
     "text": [
      "\r",
      "Epoch 229: 100%|██████████| 1/1 [00:00<00:00, 13.49it/s, loss=0.00447, v_num=134]"
     ]
    },
    {
     "name": "stdout",
     "output_type": "stream",
     "text": [
      "\r",
      "Epoch 229:   0%|          | 0/1 [00:00<?, ?it/s, loss=0.00447, v_num=134]        "
     ]
    },
    {
     "name": "stdout",
     "output_type": "stream",
     "text": [
      "\r",
      "Epoch 230:   0%|          | 0/1 [00:00<?, ?it/s, loss=0.00447, v_num=134]"
     ]
    },
    {
     "name": "stdout",
     "output_type": "stream",
     "text": [
      "\r",
      "Epoch 230: 100%|██████████| 1/1 [00:00<00:00, 13.62it/s, loss=0.00443, v_num=134]"
     ]
    },
    {
     "name": "stdout",
     "output_type": "stream",
     "text": [
      "\r",
      "Epoch 230:   0%|          | 0/1 [00:00<?, ?it/s, loss=0.00443, v_num=134]        "
     ]
    },
    {
     "name": "stdout",
     "output_type": "stream",
     "text": [
      "\r",
      "Epoch 231:   0%|          | 0/1 [00:00<?, ?it/s, loss=0.00443, v_num=134]"
     ]
    },
    {
     "name": "stdout",
     "output_type": "stream",
     "text": [
      "\r",
      "Epoch 231: 100%|██████████| 1/1 [00:00<00:00, 14.15it/s, loss=0.00438, v_num=134]"
     ]
    },
    {
     "name": "stdout",
     "output_type": "stream",
     "text": [
      "\r",
      "Epoch 231:   0%|          | 0/1 [00:00<?, ?it/s, loss=0.00438, v_num=134]        "
     ]
    },
    {
     "name": "stdout",
     "output_type": "stream",
     "text": [
      "\r",
      "Epoch 232:   0%|          | 0/1 [00:00<?, ?it/s, loss=0.00438, v_num=134]"
     ]
    },
    {
     "name": "stdout",
     "output_type": "stream",
     "text": [
      "\r",
      "Epoch 232: 100%|██████████| 1/1 [00:00<00:00, 14.23it/s, loss=0.153, v_num=134]"
     ]
    },
    {
     "name": "stdout",
     "output_type": "stream",
     "text": [
      "\r",
      "Epoch 232:   0%|          | 0/1 [00:00<?, ?it/s, loss=0.153, v_num=134]        "
     ]
    },
    {
     "name": "stdout",
     "output_type": "stream",
     "text": [
      "\r",
      "Epoch 233:   0%|          | 0/1 [00:00<?, ?it/s, loss=0.153, v_num=134]"
     ]
    },
    {
     "name": "stdout",
     "output_type": "stream",
     "text": [
      "\r",
      "Epoch 233: 100%|██████████| 1/1 [00:00<00:00, 14.02it/s, loss=0.153, v_num=134]"
     ]
    },
    {
     "name": "stdout",
     "output_type": "stream",
     "text": [
      "\r",
      "Epoch 233:   0%|          | 0/1 [00:00<?, ?it/s, loss=0.153, v_num=134]        "
     ]
    },
    {
     "name": "stdout",
     "output_type": "stream",
     "text": [
      "\r",
      "Epoch 234:   0%|          | 0/1 [00:00<?, ?it/s, loss=0.153, v_num=134]"
     ]
    },
    {
     "name": "stdout",
     "output_type": "stream",
     "text": [
      "\r",
      "Epoch 234: 100%|██████████| 1/1 [00:00<00:00, 14.09it/s, loss=0.154, v_num=134]"
     ]
    },
    {
     "name": "stdout",
     "output_type": "stream",
     "text": [
      "\r",
      "Epoch 234:   0%|          | 0/1 [00:00<?, ?it/s, loss=0.154, v_num=134]        "
     ]
    },
    {
     "name": "stdout",
     "output_type": "stream",
     "text": [
      "\r",
      "Epoch 235:   0%|          | 0/1 [00:00<?, ?it/s, loss=0.154, v_num=134]"
     ]
    },
    {
     "name": "stdout",
     "output_type": "stream",
     "text": [
      "\r",
      "Epoch 235: 100%|██████████| 1/1 [00:00<00:00, 13.48it/s, loss=0.155, v_num=134]"
     ]
    },
    {
     "name": "stdout",
     "output_type": "stream",
     "text": [
      "\r",
      "Epoch 235:   0%|          | 0/1 [00:00<?, ?it/s, loss=0.155, v_num=134]        "
     ]
    },
    {
     "name": "stdout",
     "output_type": "stream",
     "text": [
      "\r",
      "Epoch 236:   0%|          | 0/1 [00:00<?, ?it/s, loss=0.155, v_num=134]"
     ]
    },
    {
     "name": "stdout",
     "output_type": "stream",
     "text": [
      "\r",
      "Epoch 236: 100%|██████████| 1/1 [00:00<00:00, 13.83it/s, loss=0.157, v_num=134]"
     ]
    },
    {
     "name": "stdout",
     "output_type": "stream",
     "text": [
      "\r",
      "Epoch 236:   0%|          | 0/1 [00:00<?, ?it/s, loss=0.157, v_num=134]        "
     ]
    },
    {
     "name": "stdout",
     "output_type": "stream",
     "text": [
      "\r",
      "Epoch 237:   0%|          | 0/1 [00:00<?, ?it/s, loss=0.157, v_num=134]"
     ]
    },
    {
     "name": "stdout",
     "output_type": "stream",
     "text": [
      "\r",
      "Epoch 237: 100%|██████████| 1/1 [00:00<00:00, 13.64it/s, loss=0.16, v_num=134]"
     ]
    },
    {
     "name": "stdout",
     "output_type": "stream",
     "text": [
      "\r",
      "Epoch 237:   0%|          | 0/1 [00:00<?, ?it/s, loss=0.16, v_num=134]        "
     ]
    },
    {
     "name": "stdout",
     "output_type": "stream",
     "text": [
      "\r",
      "Epoch 238:   0%|          | 0/1 [00:00<?, ?it/s, loss=0.16, v_num=134]"
     ]
    },
    {
     "name": "stdout",
     "output_type": "stream",
     "text": [
      "\r",
      "Epoch 238: 100%|██████████| 1/1 [00:00<00:00, 13.39it/s, loss=0.163, v_num=134]"
     ]
    },
    {
     "name": "stdout",
     "output_type": "stream",
     "text": [
      "\r",
      "Epoch 238:   0%|          | 0/1 [00:00<?, ?it/s, loss=0.163, v_num=134]        "
     ]
    },
    {
     "name": "stdout",
     "output_type": "stream",
     "text": [
      "\r",
      "Epoch 239:   0%|          | 0/1 [00:00<?, ?it/s, loss=0.163, v_num=134]"
     ]
    },
    {
     "name": "stdout",
     "output_type": "stream",
     "text": [
      "\r",
      "Epoch 239: 100%|██████████| 1/1 [00:00<00:00, 13.80it/s, loss=0.165, v_num=134]"
     ]
    },
    {
     "name": "stdout",
     "output_type": "stream",
     "text": [
      "\r",
      "Epoch 239:   0%|          | 0/1 [00:00<?, ?it/s, loss=0.165, v_num=134]        "
     ]
    },
    {
     "name": "stdout",
     "output_type": "stream",
     "text": [
      "\r",
      "Epoch 240:   0%|          | 0/1 [00:00<?, ?it/s, loss=0.165, v_num=134]"
     ]
    },
    {
     "name": "stdout",
     "output_type": "stream",
     "text": [
      "\r",
      "Epoch 240: 100%|██████████| 1/1 [00:00<00:00, 15.27it/s, loss=0.167, v_num=134]"
     ]
    },
    {
     "name": "stdout",
     "output_type": "stream",
     "text": [
      "\r",
      "Epoch 240:   0%|          | 0/1 [00:00<?, ?it/s, loss=0.167, v_num=134]        "
     ]
    },
    {
     "name": "stdout",
     "output_type": "stream",
     "text": [
      "\r",
      "Epoch 241:   0%|          | 0/1 [00:00<?, ?it/s, loss=0.167, v_num=134]"
     ]
    },
    {
     "name": "stdout",
     "output_type": "stream",
     "text": [
      "\r",
      "Epoch 241: 100%|██████████| 1/1 [00:00<00:00, 13.32it/s, loss=0.168, v_num=134]"
     ]
    },
    {
     "name": "stdout",
     "output_type": "stream",
     "text": [
      "\r",
      "Epoch 241:   0%|          | 0/1 [00:00<?, ?it/s, loss=0.168, v_num=134]        "
     ]
    },
    {
     "name": "stdout",
     "output_type": "stream",
     "text": [
      "\r",
      "Epoch 242:   0%|          | 0/1 [00:00<?, ?it/s, loss=0.168, v_num=134]"
     ]
    },
    {
     "name": "stdout",
     "output_type": "stream",
     "text": [
      "\r",
      "Epoch 242: 100%|██████████| 1/1 [00:00<00:00, 13.30it/s, loss=0.168, v_num=134]"
     ]
    },
    {
     "name": "stdout",
     "output_type": "stream",
     "text": [
      "\r",
      "Epoch 242:   0%|          | 0/1 [00:00<?, ?it/s, loss=0.168, v_num=134]        "
     ]
    },
    {
     "name": "stdout",
     "output_type": "stream",
     "text": [
      "\r",
      "Epoch 243:   0%|          | 0/1 [00:00<?, ?it/s, loss=0.168, v_num=134]"
     ]
    },
    {
     "name": "stdout",
     "output_type": "stream",
     "text": [
      "\r",
      "Epoch 243: 100%|██████████| 1/1 [00:00<00:00, 13.81it/s, loss=0.169, v_num=134]"
     ]
    },
    {
     "name": "stdout",
     "output_type": "stream",
     "text": [
      "\r",
      "Epoch 243:   0%|          | 0/1 [00:00<?, ?it/s, loss=0.169, v_num=134]        "
     ]
    },
    {
     "name": "stdout",
     "output_type": "stream",
     "text": [
      "\r",
      "Epoch 244:   0%|          | 0/1 [00:00<?, ?it/s, loss=0.169, v_num=134]"
     ]
    },
    {
     "name": "stdout",
     "output_type": "stream",
     "text": [
      "\r",
      "Epoch 244: 100%|██████████| 1/1 [00:00<00:00, 13.58it/s, loss=0.169, v_num=134]"
     ]
    },
    {
     "name": "stdout",
     "output_type": "stream",
     "text": [
      "\r",
      "Epoch 244:   0%|          | 0/1 [00:00<?, ?it/s, loss=0.169, v_num=134]        "
     ]
    },
    {
     "name": "stdout",
     "output_type": "stream",
     "text": [
      "\r",
      "Epoch 245:   0%|          | 0/1 [00:00<?, ?it/s, loss=0.169, v_num=134]"
     ]
    },
    {
     "name": "stdout",
     "output_type": "stream",
     "text": [
      "\r",
      "Epoch 245: 100%|██████████| 1/1 [00:00<00:00, 12.94it/s, loss=0.169, v_num=134]"
     ]
    },
    {
     "name": "stdout",
     "output_type": "stream",
     "text": [
      "\r",
      "Epoch 245:   0%|          | 0/1 [00:00<?, ?it/s, loss=0.169, v_num=134]        "
     ]
    },
    {
     "name": "stdout",
     "output_type": "stream",
     "text": [
      "\r",
      "Epoch 246:   0%|          | 0/1 [00:00<?, ?it/s, loss=0.169, v_num=134]"
     ]
    },
    {
     "name": "stdout",
     "output_type": "stream",
     "text": [
      "\r",
      "Epoch 246: 100%|██████████| 1/1 [00:00<00:00, 13.47it/s, loss=0.17, v_num=134]"
     ]
    },
    {
     "name": "stdout",
     "output_type": "stream",
     "text": [
      "\r",
      "Epoch 246:   0%|          | 0/1 [00:00<?, ?it/s, loss=0.17, v_num=134]        "
     ]
    },
    {
     "name": "stdout",
     "output_type": "stream",
     "text": [
      "\r",
      "Epoch 247:   0%|          | 0/1 [00:00<?, ?it/s, loss=0.17, v_num=134]"
     ]
    },
    {
     "name": "stdout",
     "output_type": "stream",
     "text": [
      "\r",
      "Epoch 247: 100%|██████████| 1/1 [00:00<00:00, 13.27it/s, loss=0.17, v_num=134]"
     ]
    },
    {
     "name": "stdout",
     "output_type": "stream",
     "text": [
      "\r",
      "Epoch 247:   0%|          | 0/1 [00:00<?, ?it/s, loss=0.17, v_num=134]        "
     ]
    },
    {
     "name": "stdout",
     "output_type": "stream",
     "text": [
      "\r",
      "Epoch 248:   0%|          | 0/1 [00:00<?, ?it/s, loss=0.17, v_num=134]"
     ]
    },
    {
     "name": "stdout",
     "output_type": "stream",
     "text": [
      "\r",
      "Epoch 248: 100%|██████████| 1/1 [00:00<00:00, 13.56it/s, loss=0.171, v_num=134]"
     ]
    },
    {
     "name": "stdout",
     "output_type": "stream",
     "text": [
      "\r",
      "Epoch 248:   0%|          | 0/1 [00:00<?, ?it/s, loss=0.171, v_num=134]        "
     ]
    },
    {
     "name": "stdout",
     "output_type": "stream",
     "text": [
      "\r",
      "Epoch 249:   0%|          | 0/1 [00:00<?, ?it/s, loss=0.171, v_num=134]"
     ]
    },
    {
     "name": "stdout",
     "output_type": "stream",
     "text": [
      "\r",
      "Epoch 249: 100%|██████████| 1/1 [00:00<00:00, 15.10it/s, loss=0.171, v_num=134]"
     ]
    },
    {
     "name": "stdout",
     "output_type": "stream",
     "text": [
      "\r",
      "Epoch 249: 100%|██████████| 1/1 [00:00<00:00, 14.75it/s, loss=0.171, v_num=134]"
     ]
    },
    {
     "name": "stdout",
     "output_type": "stream",
     "text": [
      "\n"
     ]
    }
   ],
   "source": [
    "# train the Neural ODE\n",
    "learn = Learner(model)\n",
    "trainer = pl.Trainer(min_epochs=200, max_epochs=250, progress_bar_refresh_rate=1)\n",
    "trainer.fit(learn)"
   ]
  },
  {
   "cell_type": "markdown",
   "id": "cc907b57",
   "metadata": {
    "papermill": {
     "duration": 0.132675,
     "end_time": "2021-06-16T04:38:20.911207",
     "exception": false,
     "start_time": "2021-06-16T04:38:20.778532",
     "status": "completed"
    },
    "tags": []
   },
   "source": [
    "**Plots**"
   ]
  },
  {
   "cell_type": "markdown",
   "id": "c729c612",
   "metadata": {
    "tags": [
     "papermill-error-cell-tag"
    ]
   },
   "source": [
    "<span id=\"papermill-error-cell\" style=\"color:red; font-family:Helvetica Neue, Helvetica, Arial, sans-serif; font-size:2em;\">Execution using papermill encountered an exception here and stopped:</span>"
   ]
  },
  {
   "cell_type": "code",
   "execution_count": 8,
   "id": "7dadc5f9",
   "metadata": {
    "execution": {
     "iopub.execute_input": "2021-06-16T04:38:21.180751Z",
     "iopub.status.busy": "2021-06-16T04:38:21.180486Z",
     "iopub.status.idle": "2021-06-16T04:38:21.338298Z",
     "shell.execute_reply": "2021-06-16T04:38:21.337820Z"
    },
    "papermill": {
     "duration": 0.293902,
     "end_time": "2021-06-16T04:38:21.338553",
     "exception": true,
     "start_time": "2021-06-16T04:38:21.044651",
     "status": "failed"
    },
    "tags": []
   },
   "outputs": [
    {
     "name": "stderr",
     "output_type": "stream",
     "text": [
      "/home/michael/.cache/pypoetry/virtualenvs/torchdyn-voYSR01p-py3.8/lib/python3.8/site-packages/torchdiffeq/_impl/misc.py:296: UserWarning: t is not on the same device as y0. Coercing to y0.device.\n",
      "  warnings.warn(\"t is not on the same device as y0. Coercing to y0.device.\")\n"
     ]
    },
    {
     "ename": "RuntimeError",
     "evalue": "Tensor for 'out' is on CPU, Tensor for argument #1 'self' is on CPU, but expected them to be on GPU (while checking arguments for addmm)",
     "output_type": "error",
     "traceback": [
      "\u001b[0;31m---------------------------------------------------------------------------\u001b[0m",
      "\u001b[0;31mRuntimeError\u001b[0m                              Traceback (most recent call last)",
      "\u001b[0;32m<ipython-input-8-d1b3fbbd9cff>\u001b[0m in \u001b[0;36m<module>\u001b[0;34m\u001b[0m\n\u001b[1;32m      1\u001b[0m \u001b[0;31m# Evaluate the data trajectories\u001b[0m\u001b[0;34m\u001b[0m\u001b[0;34m\u001b[0m\u001b[0;34m\u001b[0m\u001b[0m\n\u001b[1;32m      2\u001b[0m \u001b[0ms_span\u001b[0m \u001b[0;34m=\u001b[0m \u001b[0mtorch\u001b[0m\u001b[0;34m.\u001b[0m\u001b[0mlinspace\u001b[0m\u001b[0;34m(\u001b[0m\u001b[0;36m0\u001b[0m\u001b[0;34m,\u001b[0m\u001b[0;36m1\u001b[0m\u001b[0;34m,\u001b[0m\u001b[0;36m100\u001b[0m\u001b[0;34m)\u001b[0m\u001b[0;34m\u001b[0m\u001b[0;34m\u001b[0m\u001b[0m\n\u001b[0;32m----> 3\u001b[0;31m \u001b[0mtrajectory\u001b[0m \u001b[0;34m=\u001b[0m \u001b[0mmodel\u001b[0m\u001b[0;34m.\u001b[0m\u001b[0mtrajectory\u001b[0m\u001b[0;34m(\u001b[0m\u001b[0mX_train\u001b[0m\u001b[0;34m,\u001b[0m \u001b[0ms_span\u001b[0m\u001b[0;34m)\u001b[0m\u001b[0;34m.\u001b[0m\u001b[0mdetach\u001b[0m\u001b[0;34m(\u001b[0m\u001b[0;34m)\u001b[0m\u001b[0;34m.\u001b[0m\u001b[0mcpu\u001b[0m\u001b[0;34m(\u001b[0m\u001b[0;34m)\u001b[0m\u001b[0;34m\u001b[0m\u001b[0;34m\u001b[0m\u001b[0m\n\u001b[0m",
      "\u001b[0;32m~/libraries/torchdyn/torchdyn/core/neuralde.py\u001b[0m in \u001b[0;36mtrajectory\u001b[0;34m(self, x, s_span)\u001b[0m\n\u001b[1;32m    190\u001b[0m         \"\"\"\n\u001b[1;32m    191\u001b[0m         \u001b[0mx\u001b[0m \u001b[0;34m=\u001b[0m \u001b[0mself\u001b[0m\u001b[0;34m.\u001b[0m\u001b[0m_prep_odeint\u001b[0m\u001b[0;34m(\u001b[0m\u001b[0mx\u001b[0m\u001b[0;34m)\u001b[0m\u001b[0;34m\u001b[0m\u001b[0;34m\u001b[0m\u001b[0m\n\u001b[0;32m--> 192\u001b[0;31m         sol = torchdiffeq.odeint(self.defunc, x, s_span,\n\u001b[0m\u001b[1;32m    193\u001b[0m                                  rtol=self.rtol, atol=self.atol, **self.solver)\n\u001b[1;32m    194\u001b[0m         \u001b[0;32mreturn\u001b[0m \u001b[0msol\u001b[0m\u001b[0;34m\u001b[0m\u001b[0;34m\u001b[0m\u001b[0m\n",
      "\u001b[0;32m~/.cache/pypoetry/virtualenvs/torchdyn-voYSR01p-py3.8/lib/python3.8/site-packages/torchdiffeq/_impl/odeint.py\u001b[0m in \u001b[0;36modeint\u001b[0;34m(func, y0, t, rtol, atol, method, options, event_fn)\u001b[0m\n\u001b[1;32m     75\u001b[0m \u001b[0;34m\u001b[0m\u001b[0m\n\u001b[1;32m     76\u001b[0m     \u001b[0;32mif\u001b[0m \u001b[0mevent_fn\u001b[0m \u001b[0;32mis\u001b[0m \u001b[0;32mNone\u001b[0m\u001b[0;34m:\u001b[0m\u001b[0;34m\u001b[0m\u001b[0;34m\u001b[0m\u001b[0m\n\u001b[0;32m---> 77\u001b[0;31m         \u001b[0msolution\u001b[0m \u001b[0;34m=\u001b[0m \u001b[0msolver\u001b[0m\u001b[0;34m.\u001b[0m\u001b[0mintegrate\u001b[0m\u001b[0;34m(\u001b[0m\u001b[0mt\u001b[0m\u001b[0;34m)\u001b[0m\u001b[0;34m\u001b[0m\u001b[0;34m\u001b[0m\u001b[0m\n\u001b[0m\u001b[1;32m     78\u001b[0m     \u001b[0;32melse\u001b[0m\u001b[0;34m:\u001b[0m\u001b[0;34m\u001b[0m\u001b[0;34m\u001b[0m\u001b[0m\n\u001b[1;32m     79\u001b[0m         \u001b[0mevent_t\u001b[0m\u001b[0;34m,\u001b[0m \u001b[0msolution\u001b[0m \u001b[0;34m=\u001b[0m \u001b[0msolver\u001b[0m\u001b[0;34m.\u001b[0m\u001b[0mintegrate_until_event\u001b[0m\u001b[0;34m(\u001b[0m\u001b[0mt\u001b[0m\u001b[0;34m[\u001b[0m\u001b[0;36m0\u001b[0m\u001b[0;34m]\u001b[0m\u001b[0;34m,\u001b[0m \u001b[0mevent_fn\u001b[0m\u001b[0;34m)\u001b[0m\u001b[0;34m\u001b[0m\u001b[0;34m\u001b[0m\u001b[0m\n",
      "\u001b[0;32m~/.cache/pypoetry/virtualenvs/torchdyn-voYSR01p-py3.8/lib/python3.8/site-packages/torchdiffeq/_impl/solvers.py\u001b[0m in \u001b[0;36mintegrate\u001b[0;34m(self, t)\u001b[0m\n\u001b[1;32m     26\u001b[0m         \u001b[0msolution\u001b[0m\u001b[0;34m[\u001b[0m\u001b[0;36m0\u001b[0m\u001b[0;34m]\u001b[0m \u001b[0;34m=\u001b[0m \u001b[0mself\u001b[0m\u001b[0;34m.\u001b[0m\u001b[0my0\u001b[0m\u001b[0;34m\u001b[0m\u001b[0;34m\u001b[0m\u001b[0m\n\u001b[1;32m     27\u001b[0m         \u001b[0mt\u001b[0m \u001b[0;34m=\u001b[0m \u001b[0mt\u001b[0m\u001b[0;34m.\u001b[0m\u001b[0mto\u001b[0m\u001b[0;34m(\u001b[0m\u001b[0mself\u001b[0m\u001b[0;34m.\u001b[0m\u001b[0mdtype\u001b[0m\u001b[0;34m)\u001b[0m\u001b[0;34m\u001b[0m\u001b[0;34m\u001b[0m\u001b[0m\n\u001b[0;32m---> 28\u001b[0;31m         \u001b[0mself\u001b[0m\u001b[0;34m.\u001b[0m\u001b[0m_before_integrate\u001b[0m\u001b[0;34m(\u001b[0m\u001b[0mt\u001b[0m\u001b[0;34m)\u001b[0m\u001b[0;34m\u001b[0m\u001b[0;34m\u001b[0m\u001b[0m\n\u001b[0m\u001b[1;32m     29\u001b[0m         \u001b[0;32mfor\u001b[0m \u001b[0mi\u001b[0m \u001b[0;32min\u001b[0m \u001b[0mrange\u001b[0m\u001b[0;34m(\u001b[0m\u001b[0;36m1\u001b[0m\u001b[0;34m,\u001b[0m \u001b[0mlen\u001b[0m\u001b[0;34m(\u001b[0m\u001b[0mt\u001b[0m\u001b[0;34m)\u001b[0m\u001b[0;34m)\u001b[0m\u001b[0;34m:\u001b[0m\u001b[0;34m\u001b[0m\u001b[0;34m\u001b[0m\u001b[0m\n\u001b[1;32m     30\u001b[0m             \u001b[0msolution\u001b[0m\u001b[0;34m[\u001b[0m\u001b[0mi\u001b[0m\u001b[0;34m]\u001b[0m \u001b[0;34m=\u001b[0m \u001b[0mself\u001b[0m\u001b[0;34m.\u001b[0m\u001b[0m_advance\u001b[0m\u001b[0;34m(\u001b[0m\u001b[0mt\u001b[0m\u001b[0;34m[\u001b[0m\u001b[0mi\u001b[0m\u001b[0;34m]\u001b[0m\u001b[0;34m)\u001b[0m\u001b[0;34m\u001b[0m\u001b[0;34m\u001b[0m\u001b[0m\n",
      "\u001b[0;32m~/.cache/pypoetry/virtualenvs/torchdyn-voYSR01p-py3.8/lib/python3.8/site-packages/torchdiffeq/_impl/rk_common.py\u001b[0m in \u001b[0;36m_before_integrate\u001b[0;34m(self, t)\u001b[0m\n\u001b[1;32m    159\u001b[0m     \u001b[0;32mdef\u001b[0m \u001b[0m_before_integrate\u001b[0m\u001b[0;34m(\u001b[0m\u001b[0mself\u001b[0m\u001b[0;34m,\u001b[0m \u001b[0mt\u001b[0m\u001b[0;34m)\u001b[0m\u001b[0;34m:\u001b[0m\u001b[0;34m\u001b[0m\u001b[0;34m\u001b[0m\u001b[0m\n\u001b[1;32m    160\u001b[0m         \u001b[0mt0\u001b[0m \u001b[0;34m=\u001b[0m \u001b[0mt\u001b[0m\u001b[0;34m[\u001b[0m\u001b[0;36m0\u001b[0m\u001b[0;34m]\u001b[0m\u001b[0;34m\u001b[0m\u001b[0;34m\u001b[0m\u001b[0m\n\u001b[0;32m--> 161\u001b[0;31m         \u001b[0mf0\u001b[0m \u001b[0;34m=\u001b[0m \u001b[0mself\u001b[0m\u001b[0;34m.\u001b[0m\u001b[0mfunc\u001b[0m\u001b[0;34m(\u001b[0m\u001b[0mt\u001b[0m\u001b[0;34m[\u001b[0m\u001b[0;36m0\u001b[0m\u001b[0;34m]\u001b[0m\u001b[0;34m,\u001b[0m \u001b[0mself\u001b[0m\u001b[0;34m.\u001b[0m\u001b[0my0\u001b[0m\u001b[0;34m)\u001b[0m\u001b[0;34m\u001b[0m\u001b[0;34m\u001b[0m\u001b[0m\n\u001b[0m\u001b[1;32m    162\u001b[0m         \u001b[0;32mif\u001b[0m \u001b[0mself\u001b[0m\u001b[0;34m.\u001b[0m\u001b[0mfirst_step\u001b[0m \u001b[0;32mis\u001b[0m \u001b[0;32mNone\u001b[0m\u001b[0;34m:\u001b[0m\u001b[0;34m\u001b[0m\u001b[0;34m\u001b[0m\u001b[0m\n\u001b[1;32m    163\u001b[0m             first_step = _select_initial_step(self.func, t[0], self.y0, self.order - 1, self.rtol, self.atol,\n",
      "\u001b[0;32m~/.cache/pypoetry/virtualenvs/torchdyn-voYSR01p-py3.8/lib/python3.8/site-packages/torch/nn/modules/module.py\u001b[0m in \u001b[0;36m_call_impl\u001b[0;34m(self, *input, **kwargs)\u001b[0m\n\u001b[1;32m    887\u001b[0m             \u001b[0mresult\u001b[0m \u001b[0;34m=\u001b[0m \u001b[0mself\u001b[0m\u001b[0;34m.\u001b[0m\u001b[0m_slow_forward\u001b[0m\u001b[0;34m(\u001b[0m\u001b[0;34m*\u001b[0m\u001b[0minput\u001b[0m\u001b[0;34m,\u001b[0m \u001b[0;34m**\u001b[0m\u001b[0mkwargs\u001b[0m\u001b[0;34m)\u001b[0m\u001b[0;34m\u001b[0m\u001b[0;34m\u001b[0m\u001b[0m\n\u001b[1;32m    888\u001b[0m         \u001b[0;32melse\u001b[0m\u001b[0;34m:\u001b[0m\u001b[0;34m\u001b[0m\u001b[0;34m\u001b[0m\u001b[0m\n\u001b[0;32m--> 889\u001b[0;31m             \u001b[0mresult\u001b[0m \u001b[0;34m=\u001b[0m \u001b[0mself\u001b[0m\u001b[0;34m.\u001b[0m\u001b[0mforward\u001b[0m\u001b[0;34m(\u001b[0m\u001b[0;34m*\u001b[0m\u001b[0minput\u001b[0m\u001b[0;34m,\u001b[0m \u001b[0;34m**\u001b[0m\u001b[0mkwargs\u001b[0m\u001b[0;34m)\u001b[0m\u001b[0;34m\u001b[0m\u001b[0;34m\u001b[0m\u001b[0m\n\u001b[0m\u001b[1;32m    890\u001b[0m         for hook in itertools.chain(\n\u001b[1;32m    891\u001b[0m                 \u001b[0m_global_forward_hooks\u001b[0m\u001b[0;34m.\u001b[0m\u001b[0mvalues\u001b[0m\u001b[0;34m(\u001b[0m\u001b[0;34m)\u001b[0m\u001b[0;34m,\u001b[0m\u001b[0;34m\u001b[0m\u001b[0;34m\u001b[0m\u001b[0m\n",
      "\u001b[0;32m~/.cache/pypoetry/virtualenvs/torchdyn-voYSR01p-py3.8/lib/python3.8/site-packages/torchdiffeq/_impl/misc.py\u001b[0m in \u001b[0;36mforward\u001b[0;34m(self, t, y, perturb)\u001b[0m\n\u001b[1;32m    187\u001b[0m             \u001b[0;31m# Do nothing.\u001b[0m\u001b[0;34m\u001b[0m\u001b[0;34m\u001b[0m\u001b[0;34m\u001b[0m\u001b[0m\n\u001b[1;32m    188\u001b[0m             \u001b[0;32mpass\u001b[0m\u001b[0;34m\u001b[0m\u001b[0;34m\u001b[0m\u001b[0m\n\u001b[0;32m--> 189\u001b[0;31m         \u001b[0;32mreturn\u001b[0m \u001b[0mself\u001b[0m\u001b[0;34m.\u001b[0m\u001b[0mbase_func\u001b[0m\u001b[0;34m(\u001b[0m\u001b[0mt\u001b[0m\u001b[0;34m,\u001b[0m \u001b[0my\u001b[0m\u001b[0;34m)\u001b[0m\u001b[0;34m\u001b[0m\u001b[0;34m\u001b[0m\u001b[0m\n\u001b[0m\u001b[1;32m    190\u001b[0m \u001b[0;34m\u001b[0m\u001b[0m\n\u001b[1;32m    191\u001b[0m \u001b[0;34m\u001b[0m\u001b[0m\n",
      "\u001b[0;32m~/.cache/pypoetry/virtualenvs/torchdyn-voYSR01p-py3.8/lib/python3.8/site-packages/torch/nn/modules/module.py\u001b[0m in \u001b[0;36m_call_impl\u001b[0;34m(self, *input, **kwargs)\u001b[0m\n\u001b[1;32m    887\u001b[0m             \u001b[0mresult\u001b[0m \u001b[0;34m=\u001b[0m \u001b[0mself\u001b[0m\u001b[0;34m.\u001b[0m\u001b[0m_slow_forward\u001b[0m\u001b[0;34m(\u001b[0m\u001b[0;34m*\u001b[0m\u001b[0minput\u001b[0m\u001b[0;34m,\u001b[0m \u001b[0;34m**\u001b[0m\u001b[0mkwargs\u001b[0m\u001b[0;34m)\u001b[0m\u001b[0;34m\u001b[0m\u001b[0;34m\u001b[0m\u001b[0m\n\u001b[1;32m    888\u001b[0m         \u001b[0;32melse\u001b[0m\u001b[0;34m:\u001b[0m\u001b[0;34m\u001b[0m\u001b[0;34m\u001b[0m\u001b[0m\n\u001b[0;32m--> 889\u001b[0;31m             \u001b[0mresult\u001b[0m \u001b[0;34m=\u001b[0m \u001b[0mself\u001b[0m\u001b[0;34m.\u001b[0m\u001b[0mforward\u001b[0m\u001b[0;34m(\u001b[0m\u001b[0;34m*\u001b[0m\u001b[0minput\u001b[0m\u001b[0;34m,\u001b[0m \u001b[0;34m**\u001b[0m\u001b[0mkwargs\u001b[0m\u001b[0;34m)\u001b[0m\u001b[0;34m\u001b[0m\u001b[0;34m\u001b[0m\u001b[0m\n\u001b[0m\u001b[1;32m    890\u001b[0m         for hook in itertools.chain(\n\u001b[1;32m    891\u001b[0m                 \u001b[0m_global_forward_hooks\u001b[0m\u001b[0;34m.\u001b[0m\u001b[0mvalues\u001b[0m\u001b[0;34m(\u001b[0m\u001b[0;34m)\u001b[0m\u001b[0;34m,\u001b[0m\u001b[0;34m\u001b[0m\u001b[0;34m\u001b[0m\u001b[0m\n",
      "\u001b[0;32m~/libraries/torchdyn/torchdyn/core/defunc.py\u001b[0m in \u001b[0;36mforward\u001b[0;34m(self, s, x)\u001b[0m\n\u001b[1;32m     48\u001b[0m         \u001b[0;32melse\u001b[0m\u001b[0;34m:\u001b[0m\u001b[0;34m\u001b[0m\u001b[0;34m\u001b[0m\u001b[0m\n\u001b[1;32m     49\u001b[0m             \u001b[0;32mif\u001b[0m \u001b[0mself\u001b[0m\u001b[0;34m.\u001b[0m\u001b[0morder\u001b[0m \u001b[0;34m>\u001b[0m \u001b[0;36m1\u001b[0m\u001b[0;34m:\u001b[0m \u001b[0mx\u001b[0m \u001b[0;34m=\u001b[0m \u001b[0mself\u001b[0m\u001b[0;34m.\u001b[0m\u001b[0mhorder_forward\u001b[0m\u001b[0;34m(\u001b[0m\u001b[0ms\u001b[0m\u001b[0;34m,\u001b[0m \u001b[0mx\u001b[0m\u001b[0;34m)\u001b[0m\u001b[0;34m\u001b[0m\u001b[0;34m\u001b[0m\u001b[0m\n\u001b[0;32m---> 50\u001b[0;31m             \u001b[0;32melse\u001b[0m\u001b[0;34m:\u001b[0m \u001b[0mx\u001b[0m \u001b[0;34m=\u001b[0m \u001b[0mself\u001b[0m\u001b[0;34m.\u001b[0m\u001b[0mm\u001b[0m\u001b[0;34m(\u001b[0m\u001b[0mx\u001b[0m\u001b[0;34m)\u001b[0m\u001b[0;34m\u001b[0m\u001b[0;34m\u001b[0m\u001b[0m\n\u001b[0m\u001b[1;32m     51\u001b[0m             \u001b[0;32mreturn\u001b[0m \u001b[0mx\u001b[0m\u001b[0;34m\u001b[0m\u001b[0;34m\u001b[0m\u001b[0m\n\u001b[1;32m     52\u001b[0m \u001b[0;34m\u001b[0m\u001b[0m\n",
      "\u001b[0;32m~/.cache/pypoetry/virtualenvs/torchdyn-voYSR01p-py3.8/lib/python3.8/site-packages/torch/nn/modules/module.py\u001b[0m in \u001b[0;36m_call_impl\u001b[0;34m(self, *input, **kwargs)\u001b[0m\n\u001b[1;32m    887\u001b[0m             \u001b[0mresult\u001b[0m \u001b[0;34m=\u001b[0m \u001b[0mself\u001b[0m\u001b[0;34m.\u001b[0m\u001b[0m_slow_forward\u001b[0m\u001b[0;34m(\u001b[0m\u001b[0;34m*\u001b[0m\u001b[0minput\u001b[0m\u001b[0;34m,\u001b[0m \u001b[0;34m**\u001b[0m\u001b[0mkwargs\u001b[0m\u001b[0;34m)\u001b[0m\u001b[0;34m\u001b[0m\u001b[0;34m\u001b[0m\u001b[0m\n\u001b[1;32m    888\u001b[0m         \u001b[0;32melse\u001b[0m\u001b[0;34m:\u001b[0m\u001b[0;34m\u001b[0m\u001b[0;34m\u001b[0m\u001b[0m\n\u001b[0;32m--> 889\u001b[0;31m             \u001b[0mresult\u001b[0m \u001b[0;34m=\u001b[0m \u001b[0mself\u001b[0m\u001b[0;34m.\u001b[0m\u001b[0mforward\u001b[0m\u001b[0;34m(\u001b[0m\u001b[0;34m*\u001b[0m\u001b[0minput\u001b[0m\u001b[0;34m,\u001b[0m \u001b[0;34m**\u001b[0m\u001b[0mkwargs\u001b[0m\u001b[0;34m)\u001b[0m\u001b[0;34m\u001b[0m\u001b[0;34m\u001b[0m\u001b[0m\n\u001b[0m\u001b[1;32m    890\u001b[0m         for hook in itertools.chain(\n\u001b[1;32m    891\u001b[0m                 \u001b[0m_global_forward_hooks\u001b[0m\u001b[0;34m.\u001b[0m\u001b[0mvalues\u001b[0m\u001b[0;34m(\u001b[0m\u001b[0;34m)\u001b[0m\u001b[0;34m,\u001b[0m\u001b[0;34m\u001b[0m\u001b[0;34m\u001b[0m\u001b[0m\n",
      "\u001b[0;32m~/.cache/pypoetry/virtualenvs/torchdyn-voYSR01p-py3.8/lib/python3.8/site-packages/torch/nn/modules/container.py\u001b[0m in \u001b[0;36mforward\u001b[0;34m(self, input)\u001b[0m\n\u001b[1;32m    117\u001b[0m     \u001b[0;32mdef\u001b[0m \u001b[0mforward\u001b[0m\u001b[0;34m(\u001b[0m\u001b[0mself\u001b[0m\u001b[0;34m,\u001b[0m \u001b[0minput\u001b[0m\u001b[0;34m)\u001b[0m\u001b[0;34m:\u001b[0m\u001b[0;34m\u001b[0m\u001b[0;34m\u001b[0m\u001b[0m\n\u001b[1;32m    118\u001b[0m         \u001b[0;32mfor\u001b[0m \u001b[0mmodule\u001b[0m \u001b[0;32min\u001b[0m \u001b[0mself\u001b[0m\u001b[0;34m:\u001b[0m\u001b[0;34m\u001b[0m\u001b[0;34m\u001b[0m\u001b[0m\n\u001b[0;32m--> 119\u001b[0;31m             \u001b[0minput\u001b[0m \u001b[0;34m=\u001b[0m \u001b[0mmodule\u001b[0m\u001b[0;34m(\u001b[0m\u001b[0minput\u001b[0m\u001b[0;34m)\u001b[0m\u001b[0;34m\u001b[0m\u001b[0;34m\u001b[0m\u001b[0m\n\u001b[0m\u001b[1;32m    120\u001b[0m         \u001b[0;32mreturn\u001b[0m \u001b[0minput\u001b[0m\u001b[0;34m\u001b[0m\u001b[0;34m\u001b[0m\u001b[0m\n\u001b[1;32m    121\u001b[0m \u001b[0;34m\u001b[0m\u001b[0m\n",
      "\u001b[0;32m~/.cache/pypoetry/virtualenvs/torchdyn-voYSR01p-py3.8/lib/python3.8/site-packages/torch/nn/modules/module.py\u001b[0m in \u001b[0;36m_call_impl\u001b[0;34m(self, *input, **kwargs)\u001b[0m\n\u001b[1;32m    887\u001b[0m             \u001b[0mresult\u001b[0m \u001b[0;34m=\u001b[0m \u001b[0mself\u001b[0m\u001b[0;34m.\u001b[0m\u001b[0m_slow_forward\u001b[0m\u001b[0;34m(\u001b[0m\u001b[0;34m*\u001b[0m\u001b[0minput\u001b[0m\u001b[0;34m,\u001b[0m \u001b[0;34m**\u001b[0m\u001b[0mkwargs\u001b[0m\u001b[0;34m)\u001b[0m\u001b[0;34m\u001b[0m\u001b[0;34m\u001b[0m\u001b[0m\n\u001b[1;32m    888\u001b[0m         \u001b[0;32melse\u001b[0m\u001b[0;34m:\u001b[0m\u001b[0;34m\u001b[0m\u001b[0;34m\u001b[0m\u001b[0m\n\u001b[0;32m--> 889\u001b[0;31m             \u001b[0mresult\u001b[0m \u001b[0;34m=\u001b[0m \u001b[0mself\u001b[0m\u001b[0;34m.\u001b[0m\u001b[0mforward\u001b[0m\u001b[0;34m(\u001b[0m\u001b[0;34m*\u001b[0m\u001b[0minput\u001b[0m\u001b[0;34m,\u001b[0m \u001b[0;34m**\u001b[0m\u001b[0mkwargs\u001b[0m\u001b[0;34m)\u001b[0m\u001b[0;34m\u001b[0m\u001b[0;34m\u001b[0m\u001b[0m\n\u001b[0m\u001b[1;32m    890\u001b[0m         for hook in itertools.chain(\n\u001b[1;32m    891\u001b[0m                 \u001b[0m_global_forward_hooks\u001b[0m\u001b[0;34m.\u001b[0m\u001b[0mvalues\u001b[0m\u001b[0;34m(\u001b[0m\u001b[0;34m)\u001b[0m\u001b[0;34m,\u001b[0m\u001b[0;34m\u001b[0m\u001b[0;34m\u001b[0m\u001b[0m\n",
      "\u001b[0;32m~/.cache/pypoetry/virtualenvs/torchdyn-voYSR01p-py3.8/lib/python3.8/site-packages/torch/nn/modules/linear.py\u001b[0m in \u001b[0;36mforward\u001b[0;34m(self, input)\u001b[0m\n\u001b[1;32m     92\u001b[0m \u001b[0;34m\u001b[0m\u001b[0m\n\u001b[1;32m     93\u001b[0m     \u001b[0;32mdef\u001b[0m \u001b[0mforward\u001b[0m\u001b[0;34m(\u001b[0m\u001b[0mself\u001b[0m\u001b[0;34m,\u001b[0m \u001b[0minput\u001b[0m\u001b[0;34m:\u001b[0m \u001b[0mTensor\u001b[0m\u001b[0;34m)\u001b[0m \u001b[0;34m->\u001b[0m \u001b[0mTensor\u001b[0m\u001b[0;34m:\u001b[0m\u001b[0;34m\u001b[0m\u001b[0;34m\u001b[0m\u001b[0m\n\u001b[0;32m---> 94\u001b[0;31m         \u001b[0;32mreturn\u001b[0m \u001b[0mF\u001b[0m\u001b[0;34m.\u001b[0m\u001b[0mlinear\u001b[0m\u001b[0;34m(\u001b[0m\u001b[0minput\u001b[0m\u001b[0;34m,\u001b[0m \u001b[0mself\u001b[0m\u001b[0;34m.\u001b[0m\u001b[0mweight\u001b[0m\u001b[0;34m,\u001b[0m \u001b[0mself\u001b[0m\u001b[0;34m.\u001b[0m\u001b[0mbias\u001b[0m\u001b[0;34m)\u001b[0m\u001b[0;34m\u001b[0m\u001b[0;34m\u001b[0m\u001b[0m\n\u001b[0m\u001b[1;32m     95\u001b[0m \u001b[0;34m\u001b[0m\u001b[0m\n\u001b[1;32m     96\u001b[0m     \u001b[0;32mdef\u001b[0m \u001b[0mextra_repr\u001b[0m\u001b[0;34m(\u001b[0m\u001b[0mself\u001b[0m\u001b[0;34m)\u001b[0m \u001b[0;34m->\u001b[0m \u001b[0mstr\u001b[0m\u001b[0;34m:\u001b[0m\u001b[0;34m\u001b[0m\u001b[0;34m\u001b[0m\u001b[0m\n",
      "\u001b[0;32m~/.cache/pypoetry/virtualenvs/torchdyn-voYSR01p-py3.8/lib/python3.8/site-packages/torch/nn/functional.py\u001b[0m in \u001b[0;36mlinear\u001b[0;34m(input, weight, bias)\u001b[0m\n\u001b[1;32m   1751\u001b[0m     \u001b[0;32mif\u001b[0m \u001b[0mhas_torch_function_variadic\u001b[0m\u001b[0;34m(\u001b[0m\u001b[0minput\u001b[0m\u001b[0;34m,\u001b[0m \u001b[0mweight\u001b[0m\u001b[0;34m)\u001b[0m\u001b[0;34m:\u001b[0m\u001b[0;34m\u001b[0m\u001b[0;34m\u001b[0m\u001b[0m\n\u001b[1;32m   1752\u001b[0m         \u001b[0;32mreturn\u001b[0m \u001b[0mhandle_torch_function\u001b[0m\u001b[0;34m(\u001b[0m\u001b[0mlinear\u001b[0m\u001b[0;34m,\u001b[0m \u001b[0;34m(\u001b[0m\u001b[0minput\u001b[0m\u001b[0;34m,\u001b[0m \u001b[0mweight\u001b[0m\u001b[0;34m)\u001b[0m\u001b[0;34m,\u001b[0m \u001b[0minput\u001b[0m\u001b[0;34m,\u001b[0m \u001b[0mweight\u001b[0m\u001b[0;34m,\u001b[0m \u001b[0mbias\u001b[0m\u001b[0;34m=\u001b[0m\u001b[0mbias\u001b[0m\u001b[0;34m)\u001b[0m\u001b[0;34m\u001b[0m\u001b[0;34m\u001b[0m\u001b[0m\n\u001b[0;32m-> 1753\u001b[0;31m     \u001b[0;32mreturn\u001b[0m \u001b[0mtorch\u001b[0m\u001b[0;34m.\u001b[0m\u001b[0m_C\u001b[0m\u001b[0;34m.\u001b[0m\u001b[0m_nn\u001b[0m\u001b[0;34m.\u001b[0m\u001b[0mlinear\u001b[0m\u001b[0;34m(\u001b[0m\u001b[0minput\u001b[0m\u001b[0;34m,\u001b[0m \u001b[0mweight\u001b[0m\u001b[0;34m,\u001b[0m \u001b[0mbias\u001b[0m\u001b[0;34m)\u001b[0m\u001b[0;34m\u001b[0m\u001b[0;34m\u001b[0m\u001b[0m\n\u001b[0m\u001b[1;32m   1754\u001b[0m \u001b[0;34m\u001b[0m\u001b[0m\n\u001b[1;32m   1755\u001b[0m \u001b[0;34m\u001b[0m\u001b[0m\n",
      "\u001b[0;31mRuntimeError\u001b[0m: Tensor for 'out' is on CPU, Tensor for argument #1 'self' is on CPU, but expected them to be on GPU (while checking arguments for addmm)"
     ]
    }
   ],
   "source": [
    "# Evaluate the data trajectories\n",
    "s_span = torch.linspace(0,1,100)\n",
    "trajectory = model.trajectory(X_train, s_span).detach().cpu()"
   ]
  },
  {
   "cell_type": "code",
   "execution_count": null,
   "id": "bb51f116",
   "metadata": {
    "papermill": {
     "duration": null,
     "end_time": null,
     "exception": null,
     "start_time": null,
     "status": "pending"
    },
    "tags": []
   },
   "outputs": [],
   "source": [
    "# Trajectories in the depth domain\n",
    "plot_2D_depth_trajectory(s_span, trajectory, yn, len(X))"
   ]
  },
  {
   "cell_type": "code",
   "execution_count": null,
   "id": "fb7b453f",
   "metadata": {
    "papermill": {
     "duration": null,
     "end_time": null,
     "exception": null,
     "start_time": null,
     "status": "pending"
    },
    "tags": []
   },
   "outputs": [],
   "source": [
    "# Trajectories in the state-space\n",
    "plot_2D_state_space(trajectory, yn, len(X))"
   ]
  },
  {
   "cell_type": "code",
   "execution_count": null,
   "id": "8735a54d",
   "metadata": {
    "papermill": {
     "duration": null,
     "end_time": null,
     "exception": null,
     "start_time": null,
     "status": "pending"
    },
    "tags": []
   },
   "outputs": [],
   "source": [
    "# Trajectories in space-depth\n",
    "plot_2D_space_depth(s_span, trajectory, yn, len(X))"
   ]
  },
  {
   "cell_type": "markdown",
   "id": "b2f72cfe",
   "metadata": {
    "papermill": {
     "duration": null,
     "end_time": null,
     "exception": null,
     "start_time": null,
     "status": "pending"
    },
    "tags": []
   },
   "source": [
    "## Vanilla Neural ODE (Depth-Variant)"
   ]
  },
  {
   "cell_type": "markdown",
   "id": "3aaead14",
   "metadata": {
    "papermill": {
     "duration": null,
     "end_time": null,
     "exception": null,
     "start_time": null,
     "status": "pending"
    },
    "tags": []
   },
   "source": [
    "$$ \\left\\{\n",
    "    \\begin{aligned}\n",
    "        \\dot{z}(s) &= f(s, z(s), \\theta)\\\\\n",
    "        z(0) &= x\\\\\n",
    "        \\hat y & = z(1)\n",
    "    \\end{aligned}\n",
    "    \\right. \\quad s\\in[0,1]\n",
    "$$\n",
    "\n",
    "This model, contemplated by the seminal paper from [[Chen T. Q. et al, 2018]](https://arxiv.org/abs/1806.07366), is usually obtained by concatenating $s$ to the state $h$ as input of $f$, i.e. $f([h(s),s])$. For a simple and flexible implementation we developed a dedicated layer, `DepthCat`, which takes care of automatically concatenating $s$ to the state at each call of the `DEFunc`. The final user only needs to specify concatenation dimension to which $s$ should be appended. Specifically, for an MLP, $h\\in\\mathbb{R}^{batch\\times dims}$ and, thus we should use `DepthCat(1)`."
   ]
  },
  {
   "cell_type": "code",
   "execution_count": null,
   "id": "0c88dd96",
   "metadata": {
    "papermill": {
     "duration": null,
     "end_time": null,
     "exception": null,
     "start_time": null,
     "status": "pending"
    },
    "tags": []
   },
   "outputs": [],
   "source": [
    "# vector field parametrized by a NN\n",
    "f = nn.Sequential(\n",
    "        DepthCat(1),\n",
    "        nn.Linear(2+1, 64),\n",
    "        nn.Tanh(),\n",
    "        DepthCat(1),\n",
    "        nn.Linear(64+1, 2))\n",
    "\n",
    "# Neural ODE\n",
    "model = NeuralODE(f, sensitivity='adjoint', solver='dopri5').to(device)"
   ]
  },
  {
   "cell_type": "code",
   "execution_count": null,
   "id": "2d9dafd2",
   "metadata": {
    "papermill": {
     "duration": null,
     "end_time": null,
     "exception": null,
     "start_time": null,
     "status": "pending"
    },
    "tags": []
   },
   "outputs": [],
   "source": [
    "# train the Neural ODE\n",
    "learn = Learner(model)\n",
    "trainer = pl.Trainer(min_epochs=200, max_epochs=250, progress_bar_refresh_rate=1)\n",
    "trainer.fit(learn)"
   ]
  },
  {
   "cell_type": "markdown",
   "id": "3a23c02d",
   "metadata": {
    "papermill": {
     "duration": null,
     "end_time": null,
     "exception": null,
     "start_time": null,
     "status": "pending"
    },
    "tags": []
   },
   "source": [
    "**Plot**"
   ]
  },
  {
   "cell_type": "code",
   "execution_count": null,
   "id": "1113a22c",
   "metadata": {
    "papermill": {
     "duration": null,
     "end_time": null,
     "exception": null,
     "start_time": null,
     "status": "pending"
    },
    "tags": []
   },
   "outputs": [],
   "source": [
    "# Evaluate the data trajectories\n",
    "s_span = torch.linspace(0,1,100)\n",
    "trajectory = model.trajectory(X_train, s_span).detach().cpu()"
   ]
  },
  {
   "cell_type": "code",
   "execution_count": null,
   "id": "d06a4012",
   "metadata": {
    "papermill": {
     "duration": null,
     "end_time": null,
     "exception": null,
     "start_time": null,
     "status": "pending"
    },
    "tags": []
   },
   "outputs": [],
   "source": [
    "# Trajectories in the depth domain\n",
    "plot_2D_depth_trajectory(s_span, trajectory, yn, len(X))"
   ]
  },
  {
   "cell_type": "code",
   "execution_count": null,
   "id": "305cd9ca",
   "metadata": {
    "papermill": {
     "duration": null,
     "end_time": null,
     "exception": null,
     "start_time": null,
     "status": "pending"
    },
    "tags": []
   },
   "outputs": [],
   "source": [
    "# Trajectories in the state-space\n",
    "plot_2D_state_space(trajectory, yn, len(X))"
   ]
  },
  {
   "cell_type": "code",
   "execution_count": null,
   "id": "ba1f4986",
   "metadata": {
    "papermill": {
     "duration": null,
     "end_time": null,
     "exception": null,
     "start_time": null,
     "status": "pending"
    },
    "tags": []
   },
   "outputs": [],
   "source": [
    "# Trajectories in space-depth\n",
    "plot_2D_space_depth(s_span, trajectory, yn, len(X))"
   ]
  },
  {
   "cell_type": "markdown",
   "id": "831a295b",
   "metadata": {
    "papermill": {
     "duration": null,
     "end_time": null,
     "exception": null,
     "start_time": null,
     "status": "pending"
    },
    "tags": []
   },
   "source": [
    "## Galerkin-Style Neural ODE"
   ]
  },
  {
   "cell_type": "markdown",
   "id": "d7217397",
   "metadata": {
    "papermill": {
     "duration": null,
     "end_time": null,
     "exception": null,
     "start_time": null,
     "status": "pending"
    },
    "tags": []
   },
   "source": [
    "Galerkin-style Neural ODEs proposed in [Massaroli S., Poli M. et al., 2020](https://arxiv.org/abs/2002.08071) make the weights of the neural ODE to be *depth-varying*, i.e. $\\theta=\\theta(s)$ obtaining a model of type\n",
    "\n",
    "$$\n",
    "    \\left\\{\n",
    "    \\begin{aligned}\n",
    "        \\dot{z}(s) &= f(z(s), \\theta(s))\\\\\n",
    "        z(0) &= x\\\\\n",
    "        \\hat y & = z(1)\n",
    "    \\end{aligned}\n",
    "    \\right. \\quad s\\in[0,1]\n",
    "$$\n",
    "\n",
    "where the depth evolution of $\\theta(s)$ is parametrized by a trucated eigenfunction expasion, usually an orthogonal basis of some functional space, i.e.\n",
    "\n",
    "$$\n",
    "    \\forall i \\quad \\theta_i(s) = \\sum_{j=0}^{m}\\gamma_j\\odot\\psi_j(s)\n",
    "$$\n",
    "\n",
    "The model is then trained by optimizing for the eigenvalues $\\gamma_j$. Note that if $\\theta\\in \\mathbb{R}^d$ there will be $d\\times m$ final model's parameters. In this tutorial, we use a 10th-order polynomial expansion to model $\\theta(s)$.\n",
    "\n",
    "**Note:** In `torchdyn 0.1.0` only Fourier `FourierExpansion` and polynomial `PolyExpansion` bases are currently implemented out-of-the-box. Even though a wider selection of bases is planned as a future addition, e.g.  piece-wise constant functions, radial basis functions, etc., users can easily create custom `Expansions` on their own given `torchdyn`'s modular design."
   ]
  },
  {
   "cell_type": "code",
   "execution_count": null,
   "id": "ce034837",
   "metadata": {
    "papermill": {
     "duration": null,
     "end_time": null,
     "exception": null,
     "start_time": null,
     "status": "pending"
    },
    "tags": []
   },
   "outputs": [],
   "source": [
    "# vector field parametrized by a NN with \"GalLinear\" layer\n",
    "# notice how DepthCat is still used since Galerkin layers make use of `s` (though in a different way compared to concatenation)\n",
    "f = nn.Sequential(DepthCat(1), \n",
    "                  GalLinear(2, 32, basisfunc=Fourier(5)),\n",
    "                  nn.Tanh(),\n",
    "                  nn.Linear(32, 2))\n",
    "# neural ODE\n",
    "model = NeuralODE(f, sensitivity='adjoint', solver='dopri5').to(device)"
   ]
  },
  {
   "cell_type": "code",
   "execution_count": null,
   "id": "5aeac5d0",
   "metadata": {
    "papermill": {
     "duration": null,
     "end_time": null,
     "exception": null,
     "start_time": null,
     "status": "pending"
    },
    "tags": []
   },
   "outputs": [],
   "source": [
    "# train the Neural ODE\n",
    "learn = Learner(model)\n",
    "trainer = pl.Trainer(min_epochs=150, max_epochs=200, progress_bar_refresh_rate=1)\n",
    "trainer.fit(learn)"
   ]
  },
  {
   "cell_type": "markdown",
   "id": "71c9aa3a",
   "metadata": {
    "papermill": {
     "duration": null,
     "end_time": null,
     "exception": null,
     "start_time": null,
     "status": "pending"
    },
    "tags": []
   },
   "source": [
    "**Plot**"
   ]
  },
  {
   "cell_type": "code",
   "execution_count": null,
   "id": "10b6ed5c",
   "metadata": {
    "papermill": {
     "duration": null,
     "end_time": null,
     "exception": null,
     "start_time": null,
     "status": "pending"
    },
    "tags": []
   },
   "outputs": [],
   "source": [
    "# Evaluate the data trajectories\n",
    "s_span = torch.linspace(0,1,100)\n",
    "trajectory = model.trajectory(X_train, s_span).detach().cpu()"
   ]
  },
  {
   "cell_type": "code",
   "execution_count": null,
   "id": "9ff53f6e",
   "metadata": {
    "papermill": {
     "duration": null,
     "end_time": null,
     "exception": null,
     "start_time": null,
     "status": "pending"
    },
    "scrolled": true,
    "tags": []
   },
   "outputs": [],
   "source": [
    "# Trajectories in the depth domain\n",
    "plot_2D_depth_trajectory(s_span, trajectory, yn, len(X))"
   ]
  },
  {
   "cell_type": "code",
   "execution_count": null,
   "id": "5f70a8c7",
   "metadata": {
    "papermill": {
     "duration": null,
     "end_time": null,
     "exception": null,
     "start_time": null,
     "status": "pending"
    },
    "tags": []
   },
   "outputs": [],
   "source": [
    "# Trajectories in the state-space\n",
    "plot_2D_state_space(trajectory, yn, len(X))"
   ]
  },
  {
   "cell_type": "code",
   "execution_count": null,
   "id": "509a19c3",
   "metadata": {
    "papermill": {
     "duration": null,
     "end_time": null,
     "exception": null,
     "start_time": null,
     "status": "pending"
    },
    "scrolled": true,
    "tags": []
   },
   "outputs": [],
   "source": [
    "# Trajectories in space-depth\n",
    "plot_2D_space_depth(s_span, trajectory, yn, len(X))"
   ]
  },
  {
   "cell_type": "markdown",
   "id": "18edbad9",
   "metadata": {
    "papermill": {
     "duration": null,
     "end_time": null,
     "exception": null,
     "start_time": null,
     "status": "pending"
    },
    "tags": []
   },
   "source": [
    "## Data-Controlled Neural ODE"
   ]
  },
  {
   "cell_type": "markdown",
   "id": "999ff850",
   "metadata": {
    "papermill": {
     "duration": null,
     "end_time": null,
     "exception": null,
     "start_time": null,
     "status": "pending"
    },
    "tags": []
   },
   "source": [
    "Data-controlled neural ODEs, also introduced in [Massaroli S., Poli M. et al., 2020](https://arxiv.org/abs/2002.08071) consist in feeding to the vector field the input data $x$ (the initial condition of the ODE), leading to\n",
    "\n",
    "$$ \\left\\{\n",
    "    \\begin{aligned}\n",
    "        \\dot{z}(s) &= f(z(s), x, \\theta)\\\\\n",
    "        z(0) &= x\\\\\n",
    "        \\hat y & = z(1)\n",
    "    \\end{aligned}\n",
    "    \\right. \\quad s\\in[0,1]\n",
    "$$\n",
    "\n",
    "In this way, the Neural ODE learns a family of vector fields rather than a single one. \n",
    "\n",
    "In practice, we concatenate $x$ to $h$ and simply feed $[h, x]$ to $f$, which should indeed be defined to accomodate the extra $dim(x)$ dimensions. Data-control inputs can be defined at any point in `f` via use of `DataControl`."
   ]
  },
  {
   "cell_type": "code",
   "execution_count": null,
   "id": "5cf7e27a",
   "metadata": {
    "papermill": {
     "duration": null,
     "end_time": null,
     "exception": null,
     "start_time": null,
     "status": "pending"
    },
    "tags": []
   },
   "outputs": [],
   "source": [
    "# vector field parametrized by a NN which takes as input [h, x]\n",
    "f = nn.Sequential(DataControl(),\n",
    "                  nn.Linear(2+2, 64),\n",
    "                  nn.Tanh(),\n",
    "                  nn.Linear(64, 2))\n",
    "\n",
    "# neural ODE\n",
    "model = NeuralODE(f, sensitivity='adjoint', solver='dopri5').to(device)"
   ]
  },
  {
   "cell_type": "code",
   "execution_count": null,
   "id": "e964ead3",
   "metadata": {
    "papermill": {
     "duration": null,
     "end_time": null,
     "exception": null,
     "start_time": null,
     "status": "pending"
    },
    "tags": []
   },
   "outputs": [],
   "source": [
    "learn = Learner(model)\n",
    "trainer = pl.Trainer(min_epochs=150, max_epochs=250)\n",
    "trainer.fit(learn)"
   ]
  },
  {
   "cell_type": "markdown",
   "id": "bc9dacba",
   "metadata": {
    "papermill": {
     "duration": null,
     "end_time": null,
     "exception": null,
     "start_time": null,
     "status": "pending"
    },
    "tags": []
   },
   "source": [
    "**Plots**"
   ]
  },
  {
   "cell_type": "code",
   "execution_count": null,
   "id": "1ac6eaef",
   "metadata": {
    "papermill": {
     "duration": null,
     "end_time": null,
     "exception": null,
     "start_time": null,
     "status": "pending"
    },
    "tags": []
   },
   "outputs": [],
   "source": [
    "# Evaluate the data trajectories\n",
    "s_span = torch.linspace(0,1,100)\n",
    "trajectory = model.trajectory(X_train, s_span).detach().cpu()"
   ]
  },
  {
   "cell_type": "code",
   "execution_count": null,
   "id": "25d69549",
   "metadata": {
    "papermill": {
     "duration": null,
     "end_time": null,
     "exception": null,
     "start_time": null,
     "status": "pending"
    },
    "tags": []
   },
   "outputs": [],
   "source": [
    "# Trajectories in the depth domain\n",
    "plot_2D_depth_trajectory(s_span, trajectory, yn, len(X))"
   ]
  },
  {
   "cell_type": "code",
   "execution_count": null,
   "id": "895e019d",
   "metadata": {
    "papermill": {
     "duration": null,
     "end_time": null,
     "exception": null,
     "start_time": null,
     "status": "pending"
    },
    "scrolled": true,
    "tags": []
   },
   "outputs": [],
   "source": [
    "# Trajectories in the state-space\n",
    "plot_2D_state_space(trajectory, yn, len(X))"
   ]
  },
  {
   "cell_type": "code",
   "execution_count": null,
   "id": "928d788f",
   "metadata": {
    "papermill": {
     "duration": null,
     "end_time": null,
     "exception": null,
     "start_time": null,
     "status": "pending"
    },
    "scrolled": true,
    "tags": []
   },
   "outputs": [],
   "source": [
    "# Trajectories in space-depth\n",
    "plot_2D_space_depth(s_span, trajectory, yn, len(X))"
   ]
  },
  {
   "cell_type": "markdown",
   "id": "4c1b8353",
   "metadata": {
    "papermill": {
     "duration": null,
     "end_time": null,
     "exception": null,
     "start_time": null,
     "status": "pending"
    },
    "tags": []
   },
   "source": [
    "## Stacked Neural ODE (aka Piece-wise constant parameters)"
   ]
  },
  {
   "cell_type": "markdown",
   "id": "d0492c61",
   "metadata": {
    "papermill": {
     "duration": null,
     "end_time": null,
     "exception": null,
     "start_time": null,
     "status": "pending"
    },
    "tags": []
   },
   "source": [
    "While looking for an \"easier\" solution than Galererkin Neural ODEs without trading the expressivity of the model, **stacked neural ODEs** may come in handy. Instead of approximating the solution of an infinite-dimensional problem (e.g. Galerkin-style), we can also use piece-wise constant weight functions. Let us subdivide the depth in $N$ intervals\n",
    "    \n",
    "$$\n",
    "        \\mathcal{S} = \\prod_{i=0}^{N}[s_i,s_{i+1}], \\quad s_0 = 0, \\quad s_{N+1}=S  \\quad(\\forall i  \\quad s_i\\leq s_{i+1})\n",
    "$$\n",
    "\n",
    "We can then define the weights as piece-wise constant functions \n",
    "\n",
    "$$\n",
    "        \\forall i  \\quad s\\in[s_i,s_{i+1}]\\Rightarrow\\theta(s) = \\theta_i, \\quad\\theta_i\\in\\{\\theta_1,\\theta_2,\\theta_N\\}\n",
    "$$\n",
    "    \n",
    "The solution of the neural ODE becomes \n",
    "    \n",
    "$$\n",
    "    \\begin{aligned}\n",
    "        z(s) &= x + \\int_0^S f(z(\\tau),\\theta(\\tau))d\\tau \\\\\n",
    "        &= x + \\sum_{i=1}^{N-1}\\int_{s_i}^{s_{i+1}} f(z(\\tau),\\theta_i)d\\tau\n",
    "    \\end{aligned}\n",
    "$$\n",
    "    \n",
    "This is equivalent to stacking $N-1$ neural ODEs with **identical structure** and **disentangled weights**\n",
    "    \n",
    "$$\n",
    "        \\begin{aligned}\n",
    "         \\dot z =  f( z(s),\\theta_i) \\quad s\\in[s_i,s_{i+1}]\n",
    "        \\end{aligned}\n",
    "$$\n",
    "    \n",
    "which are **stacked sequentially** and trained with *classic* adjoint method.\n",
    "\n",
    "In principle, $f$ can be chosen arbitrarily. Hereafter we consider, e.g. the `data-controlled` case.\n",
    "\n",
    "**NOTE:** Let $\\Delta s_i = s_{i+1} - s_i$. Since the individual Neural ODEs are *depth-invariant*, we can just solve the ODEs in $[0,\\Delta s_i]$"
   ]
  },
  {
   "cell_type": "code",
   "execution_count": null,
   "id": "72c3b407",
   "metadata": {
    "papermill": {
     "duration": null,
     "end_time": null,
     "exception": null,
     "start_time": null,
     "status": "pending"
    },
    "tags": []
   },
   "outputs": [],
   "source": [
    "# We choose to divide the domain [0,1] in num_pieces=5 intervals\n",
    "num_pieces = 5\n",
    "\n",
    "# Stacked depth-invariant Neural ODEs aka Neural ODEs with piecewise constant weights \n",
    "nde = []\n",
    "for i in range(num_pieces):\n",
    "    nde.append(NeuralODE(nn.Sequential(DataControl(),\n",
    "                                      nn.Linear(4, 4), \n",
    "                                      nn.Tanh(), \n",
    "                                      nn.Linear(4, 2)), solver='dopri5', s_span=torch.linspace(0, 1, 2))) # here we chose Δ𝑠_𝑖 = 1 ∀𝑖. (s_span)\n",
    "model = nn.Sequential(*nde).to(device)"
   ]
  },
  {
   "cell_type": "code",
   "execution_count": null,
   "id": "61c5eb7e",
   "metadata": {
    "papermill": {
     "duration": null,
     "end_time": null,
     "exception": null,
     "start_time": null,
     "status": "pending"
    },
    "tags": []
   },
   "outputs": [],
   "source": [
    "learn = Learner(model)\n",
    "trainer = pl.Trainer(min_epochs=300, max_epochs=350)\n",
    "trainer.fit(learn)"
   ]
  },
  {
   "cell_type": "markdown",
   "id": "7b664dae",
   "metadata": {
    "papermill": {
     "duration": null,
     "end_time": null,
     "exception": null,
     "start_time": null,
     "status": "pending"
    },
    "tags": []
   },
   "source": [
    "**Plots**"
   ]
  },
  {
   "cell_type": "code",
   "execution_count": null,
   "id": "7c8ed541",
   "metadata": {
    "papermill": {
     "duration": null,
     "end_time": null,
     "exception": null,
     "start_time": null,
     "status": "pending"
    },
    "tags": []
   },
   "outputs": [],
   "source": [
    "# Evaluate the data trajectories\n",
    "s_span = torch.linspace(0,1,20)\n",
    "trajectory = [model[0].trajectory(X_train, s_span)]\n",
    "for i in range(1, num_pieces):\n",
    "    trajectory.append(\n",
    "        model[i].trajectory(trajectory[i-1][-1,:,:], s_span))\n",
    "                      \n",
    "trajectory = torch.cat(trajectory, 0).detach().cpu() \n",
    "tot_s_span = torch.linspace(0, 5, 100)"
   ]
  },
  {
   "cell_type": "code",
   "execution_count": null,
   "id": "31edd8f2",
   "metadata": {
    "papermill": {
     "duration": null,
     "end_time": null,
     "exception": null,
     "start_time": null,
     "status": "pending"
    },
    "tags": []
   },
   "outputs": [],
   "source": [
    "# Trajectories in the depth domain\n",
    "plot_2D_depth_trajectory(tot_s_span, trajectory, yn, len(X))"
   ]
  },
  {
   "cell_type": "code",
   "execution_count": null,
   "id": "1d828f25",
   "metadata": {
    "papermill": {
     "duration": null,
     "end_time": null,
     "exception": null,
     "start_time": null,
     "status": "pending"
    },
    "tags": []
   },
   "outputs": [],
   "source": [
    "# Trajectories in the state-space\n",
    "plot_2D_state_space(trajectory, yn, len(X))"
   ]
  },
  {
   "cell_type": "code",
   "execution_count": null,
   "id": "763ad67f",
   "metadata": {
    "papermill": {
     "duration": null,
     "end_time": null,
     "exception": null,
     "start_time": null,
     "status": "pending"
    },
    "tags": []
   },
   "outputs": [],
   "source": [
    "# Trajectories in space-depth\n",
    "plot_2D_space_depth(tot_s_span, trajectory, yn, len(X))"
   ]
  },
  {
   "cell_type": "markdown",
   "id": "70051b07",
   "metadata": {
    "papermill": {
     "duration": null,
     "end_time": null,
     "exception": null,
     "start_time": null,
     "status": "pending"
    },
    "tags": []
   },
   "source": [
    "## Stacked Neural ODEs with Discrete State Transitions\n",
    "\n",
    "These are basically the `Stacked` model where, at the end of an interval $[s_i, s_{i+1}]$, the state is also updated by learned transition maps $g(h, \\omega_i)$ parametrized by a NN, i.e.\n",
    "\n",
    "$$\n",
    "  \\left\\{\n",
    "        \\begin{aligned}\n",
    "             \\dot z &=  f(z(s),\\theta_i) \\quad s\\in[s_i,s_{i+1}]\\\\\n",
    "             z^+ &= g(z(s),\\omega_i) \\quad s = s_{i+1}\n",
    "        \\end{aligned}\n",
    "  \\right.\n",
    "$$\n",
    "\n",
    "**NOTE:** While not standard, this class highlights how Neural ODE variants can be put together hassle-free via torchdyn's API.\n"
   ]
  },
  {
   "cell_type": "code",
   "execution_count": null,
   "id": "56a482ee",
   "metadata": {
    "papermill": {
     "duration": null,
     "end_time": null,
     "exception": null,
     "start_time": null,
     "status": "pending"
    },
    "tags": []
   },
   "outputs": [],
   "source": [
    "# We choose to divide the domain [0,1] in num_pieces=5 intervals\n",
    "num_pieces = 5\n",
    "\n",
    "# stacked depth-invariant Neural ODEs\n",
    "nde = []\n",
    "for i in range(num_pieces):\n",
    "    nde.append(NeuralODE(nn.Sequential(DataControl(),\n",
    "                                      nn.Linear(4, 4), \n",
    "                                      nn.Tanh(), \n",
    "                                      nn.Linear(4, 2)), solver='dopri5'))\n",
    "    # In this case the state \"jump\" is parametrized by a simple linear layer\n",
    "    nde.append(\n",
    "        nn.Linear(2, 2)\n",
    "    )\n",
    "    \n",
    "model = nn.Sequential(*nde).to(device)"
   ]
  },
  {
   "cell_type": "code",
   "execution_count": null,
   "id": "f1bc2d7c",
   "metadata": {
    "papermill": {
     "duration": null,
     "end_time": null,
     "exception": null,
     "start_time": null,
     "status": "pending"
    },
    "tags": []
   },
   "outputs": [],
   "source": [
    "learn = Learner(model)\n",
    "trainer = pl.Trainer(min_epochs=200, max_epochs=250)\n",
    "trainer.fit(learn)"
   ]
  },
  {
   "cell_type": "markdown",
   "id": "c2b2d199",
   "metadata": {
    "papermill": {
     "duration": null,
     "end_time": null,
     "exception": null,
     "start_time": null,
     "status": "pending"
    },
    "tags": []
   },
   "source": [
    "**Plots**"
   ]
  },
  {
   "cell_type": "code",
   "execution_count": null,
   "id": "58ecda24",
   "metadata": {
    "papermill": {
     "duration": null,
     "end_time": null,
     "exception": null,
     "start_time": null,
     "status": "pending"
    },
    "tags": []
   },
   "outputs": [],
   "source": [
    "# Evaluate the data trajectories\n",
    "s_span = torch.linspace(0,1,20)\n",
    "trajectory = [model[0].trajectory(X_train, s_span)]\n",
    "i = 2\n",
    "c = 0\n",
    "while c < num_pieces-1:\n",
    "    x0 = model[i-1](trajectory[c][-1,:,:])\n",
    "    trajectory.append(\n",
    "        model[i].trajectory(x0, s_span))\n",
    "    i += 2\n",
    "    c += 1\n",
    "                      \n",
    "trajectory = torch.cat(trajectory, 0).detach().cpu() \n",
    "tot_s_span = torch.linspace(0, 5, 100)"
   ]
  },
  {
   "cell_type": "code",
   "execution_count": null,
   "id": "f33c21f2",
   "metadata": {
    "papermill": {
     "duration": null,
     "end_time": null,
     "exception": null,
     "start_time": null,
     "status": "pending"
    },
    "tags": []
   },
   "outputs": [],
   "source": [
    "# Trajectories in the depth domain\n",
    "plot_2D_depth_trajectory(tot_s_span, trajectory, yn, len(X))"
   ]
  },
  {
   "cell_type": "code",
   "execution_count": null,
   "id": "93d9c1d6",
   "metadata": {
    "papermill": {
     "duration": null,
     "end_time": null,
     "exception": null,
     "start_time": null,
     "status": "pending"
    },
    "tags": []
   },
   "outputs": [],
   "source": [
    "# Trajectories in the state-space\n",
    "plot_2D_state_space(trajectory, yn, len(X))"
   ]
  },
  {
   "cell_type": "code",
   "execution_count": null,
   "id": "de7474be",
   "metadata": {
    "papermill": {
     "duration": null,
     "end_time": null,
     "exception": null,
     "start_time": null,
     "status": "pending"
    },
    "tags": []
   },
   "outputs": [],
   "source": [
    "# Trajectories in space-depth\n",
    "plot_2D_space_depth(tot_s_span, trajectory, yn, len(X))"
   ]
  }
 ],
 "metadata": {
  "kernelspec": {
   "display_name": "Python 3",
   "language": "python",
   "name": "python3"
  },
  "language_info": {
   "codemirror_mode": {
    "name": "ipython",
    "version": 3
   },
   "file_extension": ".py",
   "mimetype": "text/x-python",
   "name": "python",
   "nbconvert_exporter": "python",
   "pygments_lexer": "ipython3",
   "version": "3.8.5"
  },
  "latex_envs": {
   "LaTeX_envs_menu_present": true,
   "autoclose": false,
   "autocomplete": true,
   "bibliofile": "biblio.bib",
   "cite_by": "apalike",
   "current_citInitial": 1,
   "eqLabelWithNumbers": true,
   "eqNumInitial": 1,
   "hotkeys": {
    "equation": "Ctrl-E",
    "itemize": "Ctrl-I"
   },
   "labels_anchors": false,
   "latex_user_defs": false,
   "report_style_numbering": false,
   "user_envs_cfg": false
  },
  "papermill": {
   "default_parameters": {},
   "duration": 28.045065,
   "end_time": "2021-06-16T04:38:23.943394",
   "environment_variables": {},
   "exception": true,
   "input_path": "tutorials/01_neural_ode_cookbook.ipynb",
   "output_path": "tutorials/01_neural_ode_cookbook.ipynb",
   "parameters": {},
   "start_time": "2021-06-16T04:37:55.898329",
   "version": "2.3.3"
  },
  "varInspector": {
   "cols": {
    "lenName": 16,
    "lenType": 16,
    "lenVar": 40
   },
   "kernels_config": {
    "python": {
     "delete_cmd_postfix": "",
     "delete_cmd_prefix": "del ",
     "library": "var_list.py",
     "varRefreshCmd": "print(var_dic_list())"
    },
    "r": {
     "delete_cmd_postfix": ") ",
     "delete_cmd_prefix": "rm(",
     "library": "var_list.r",
     "varRefreshCmd": "cat(var_dic_list()) "
    }
   },
   "types_to_exclude": [
    "module",
    "function",
    "builtin_function_or_method",
    "instance",
    "_Feature"
   ],
   "window_display": false
  }
 },
 "nbformat": 4,
 "nbformat_minor": 5
}