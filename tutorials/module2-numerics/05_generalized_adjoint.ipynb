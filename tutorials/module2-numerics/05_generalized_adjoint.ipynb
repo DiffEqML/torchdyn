{
 "cells": [
  {
   "cell_type": "markdown",
   "metadata": {},
   "source": [
    "# Trajectory Tracking with Integral Loss"
   ]
  },
  {
   "cell_type": "code",
   "execution_count": 3,
   "metadata": {},
   "outputs": [],
   "source": [
    "from torchdyn.core import NeuralODE\n",
    "from torchdyn.nn import *\n",
    "from torchdyn.datasets import *\n",
    "from torchdyn.utils import *\n",
    "\n",
    "%load_ext autoreload\n",
    "%autoreload 2"
   ]
  },
  {
   "cell_type": "markdown",
   "metadata": {},
   "source": [
    "## Integral Loss\n",
    "\n",
    "We consider a loss of type\n",
    "\n",
    "$$\n",
    "    \\ell_\\theta := \\int_0^S g(z(t))d\\tau\n",
    "$$\n",
    "\n",
    "where $z(s)$ satisfies the neural ODE initial value problem \n",
    "\n",
    "$$\n",
    "    \\left\\{\n",
    "    \\begin{aligned}\n",
    "        \\dot{z}(t) &= f(z(t), \\theta(t))\\\\\n",
    "        z(0) &= x\n",
    "    \\end{aligned}\n",
    "    \\right. \\quad t\\in[0,T]\n",
    "$$\n",
    "\n",
    "where $\\theta(t)$ is parametrized with some spectral method (`Galerkin-style`),  i.e. $\\theta(t)=\\theta(t,\\omega)$ [$\\omega$: parameters of $\\theta(t)$].\n",
    "\n",
    "**REMARK:** In `torchdyn`, we do not need to evaluate the following integral in the forward pass of the ODE integration.\n",
    "In fact, we will compute the gradient $d\\ell/d\\omega$ just by solving backward \n",
    "\n",
    "$$\n",
    "    \\begin{aligned}\n",
    "        \\dot\\lambda (t) &= -\\frac{\\partial f}{\\partial z}\\lambda(t) + \\frac{\\partial g}{\\partial z} \\\\\n",
    "        \\dot\\mu (t) &= -\\frac{\\partial f}{\\partial \\theta}\\frac{\\partial \\theta}{\\partial \\omega}\\lambda(t)\n",
    "    \\end{aligned}~~\\text{with}~~\n",
    "    \\begin{aligned}\n",
    "        \\lambda (T) &= 0\\\\\n",
    "        \\mu (T) &= 0\n",
    "    \\end{aligned}\n",
    "$$\n",
    "\n",
    "and, $\\frac{d\\ell}{d\\omega} = \\mu(0)$. Check out [this paper](https://arxiv.org/abs/2003.08063) for more details on the integral adjoint for Neural ODEs."
   ]
  },
  {
   "cell_type": "markdown",
   "metadata": {},
   "source": [
    "**Example:** Use a neural ODE to track a 2D curve $\\gamma:[0,\\infty]\\rightarrow \\mathbb{S}_2$ ($\\mathbb{S}_2$: unit circle, $\\mathbb{S}_2:=\\{x\\in\\mathbb{R}^2:||x||_2=1\\}$), i.e.\n",
    "\n",
    "$$\n",
    "    \\gamma(s) := [\\cos(2\\pi s), \\sin(2\\pi s)]\n",
    "$$\n",
    "\n",
    "which has periodicity equal to $1$: $\\forall n\\in\\mathbb{N}, \\forall s\\in[0,\\infty]~~\\gamma(s) = \\gamma(ns)$.\n",
    "\n",
    "Let suppose to train the neural ODE for $s\\in[0,1]$. Therefore we can easily setup the integral cost as\n",
    "\n",
    "$$\n",
    "    \\ell_\\theta := \\int_0^1 (h(\\tau)-\\gamma(\\tau))^2 d\\tau\n",
    "$$"
   ]
  },
  {
   "cell_type": "code",
   "execution_count": 31,
   "metadata": {},
   "outputs": [],
   "source": [
    "# simple Callables are also fine as integral losses, as long as they're callable with `t, x`. We use nn.Modules for convenience, since\n",
    "# we compute the reference signal here as well\n",
    "\n",
    "class SineReferenceIntegralLoss(nn.Module):\n",
    "    def __init__(self):\n",
    "        super().__init__()\n",
    "        \n",
    "    def y(self, t):\n",
    "        return torch.tensor([torch.cos(2*np.pi*t), torch.sin(2*np.pi*t)])[None, :].to(t)\n",
    "        \n",
    "    def forward(self, t, x):\n",
    "        int_loss = ((self.y(t)-x)**2).sum(1, keepdim=True)\n",
    "        return int_loss"
   ]
  },
  {
   "cell_type": "markdown",
   "metadata": {},
   "source": [
    "**Note:** In this case we do not define any dataset of initial conditions and load it into the dataloader. Instead, at each step, we will sample new ICs from a normal distrubution centered in $\\gamma(0) = [1,0]$\n",
    "\n",
    "$$\n",
    "    x_t \\sim \\mathcal{N}(\\gamma(0),0.1)\n",
    "$$\n",
    "\n",
    "However, we still define a \"dummy\" `trainloader` to use `pythorch_lightning`'s API."
   ]
  },
  {
   "cell_type": "code",
   "execution_count": 60,
   "metadata": {},
   "outputs": [],
   "source": [
    "# dummy trainloader\n",
    "train = torch.utils.data.TensorDataset(torch.zeros(1), torch.zeros(1))\n",
    "trainloader = torch.utils.data.DataLoader(train, batch_size=1, shuffle=True)\n",
    "t_span = torch.linspace(0, 2, 60)"
   ]
  },
  {
   "cell_type": "markdown",
   "metadata": {},
   "source": [
    "**Learner**"
   ]
  },
  {
   "cell_type": "code",
   "execution_count": 61,
   "metadata": {},
   "outputs": [],
   "source": [
    "import torch\n",
    "import torch.nn as nn\n",
    "import pytorch_lightning as pl\n",
    "device = torch.device(\"cuda\" if torch.cuda.is_available() else \"cpu\")\n",
    "\n",
    "class Learner(pl.LightningModule):\n",
    "    def __init__(self, model:nn.Module):\n",
    "        super().__init__()\n",
    "        self.model = model\n",
    "        self.iterations = 0\n",
    "        \n",
    "    def forward(self, x):\n",
    "        return self.model(x)    \n",
    "    \n",
    "    def training_step(self, batch, batch_idx):    \n",
    "        self.iterations += 1\n",
    "        # We sample from Normal distribution around \"nominal\" initial condition\n",
    "        x = torch.tensor([1.,0.])\n",
    "        x = (x + 0.5*torch.randn(4096, 2)).to(device)\n",
    "        _, y_hat = self.model(x, t_span)\n",
    "        y_hat = y_hat[-1]\n",
    "        \n",
    "        # We need to evaluate a \"dummy loss\" (just the summed output of the model)\n",
    "        # to construct the graph for the 'backward()' \"triggering\" integral adjoint computation \n",
    "        loss = 0.*y_hat.sum()\n",
    "        intloss = None\n",
    "        \n",
    "        if self.iterations % 10 == 0:\n",
    "            with torch.no_grad():\n",
    "            # compute integral loss explicitly by augmentation of state with \n",
    "            # an aux. variable. See `Dissecting Neural ODEs` for more information\n",
    "                model.sensitivity = model.vf.sensitivity = 'autograd'  \n",
    "                x = torch.cat([torch.zeros(x.shape[0], 1).to(x), x], 1)\n",
    "                _, sol = self.model(x, t_span)\n",
    "                intloss = sol[-1, :, :1].mean()\n",
    "                model.sensitivity = model.vf.sensitivity = 'interpolated_adjoint'\n",
    "            self.log('intloss', intloss, prog_bar=True)\n",
    "\n",
    "        return {'loss': loss}   \n",
    "    \n",
    "    def configure_optimizers(self):\n",
    "        return torch.optim.Adam(self.model.parameters(), lr=3e-3)\n",
    "\n",
    "    def train_dataloader(self):\n",
    "        return trainloader"
   ]
  },
  {
   "cell_type": "markdown",
   "metadata": {},
   "source": [
    "## Parameter Varying Neural ODE"
   ]
  },
  {
   "cell_type": "markdown",
   "metadata": {},
   "source": [
    "**Model**"
   ]
  },
  {
   "cell_type": "code",
   "execution_count": 63,
   "metadata": {},
   "outputs": [
    {
     "name": "stdout",
     "output_type": "stream",
     "text": [
      "Your vector field callable (nn.Module) should have both time `t` and state `x` as arguments, we've wrapped it for you.\n"
     ]
    }
   ],
   "source": [
    "# We use a Galerkin Neural ODE with one hidden layer, \n",
    "# Fourier spectrum (period=1) and only 2 freq.s\n",
    "f = nn.Sequential(nn.Linear(2, 64),\n",
    "                  nn.Tanh(),\n",
    "                  nn.Linear(64, 2)).to(device)\n",
    "\n",
    "# Define the model\n",
    "model = NeuralODE(f, \n",
    "                 solver='rk4',\n",
    "                 sensitivity='interpolated_adjoint',\n",
    "                 solver_adjoint='dopri5',\n",
    "                 atol_adjoint=1e-5,\n",
    "                 rtol_adjoint=1e-5,\n",
    "                 integral_loss=SineReferenceIntegralLoss()).to(device)"
   ]
  },
  {
   "cell_type": "code",
   "execution_count": null,
   "metadata": {},
   "outputs": [
    {
     "name": "stderr",
     "output_type": "stream",
     "text": [
      "GPU available: True, used: True\n",
      "TPU available: False, using: 0 TPU cores\n",
      "LOCAL_RANK: 0 - CUDA_VISIBLE_DEVICES: [0,1]\n",
      "\n",
      "  | Name  | Type      | Params\n",
      "------------------------------------\n",
      "0 | model | NeuralODE | 322   \n",
      "------------------------------------\n",
      "322       Trainable params\n",
      "0         Non-trainable params\n",
      "322       Total params\n",
      "0.001     Total estimated model params size (MB)\n",
      "/home/michael/.cache/pypoetry/virtualenvs/torchdyn-voYSR01p-py3.8/lib/python3.8/site-packages/pytorch_lightning/utilities/distributed.py:69: UserWarning: The dataloader, train dataloader, does not have many workers which may be a bottleneck. Consider increasing the value of the `num_workers` argument` (try 48 which is the number of cpus on this machine) in the `DataLoader` init to improve performance.\n",
      "  warnings.warn(*args, **kwargs)\n"
     ]
    },
    {
     "data": {
      "application/vnd.jupyter.widget-view+json": {
       "model_id": "3f1897bc7df241f2a93476297fc1a04a",
       "version_major": 2,
       "version_minor": 0
      },
      "text/plain": [
       "Training: 0it [00:00, ?it/s]"
      ]
     },
     "metadata": {},
     "output_type": "display_data"
    }
   ],
   "source": [
    "# Train the model (will take a while)\n",
    "learn = Learner(model)\n",
    "trainer = pl.Trainer(max_epochs=1000, gpus=1)\n",
    "trainer.fit(learn)"
   ]
  },
  {
   "cell_type": "markdown",
   "metadata": {},
   "source": [
    "**Plots**\n",
    "\n",
    "We first evaluate the model on a test set of initial conditions sampled from $\\mathcal{N}(\\gamma(0),\\sigma\\mathbb{I})$. Since we trained the neural ODE with $\\sigma=0.1$, now we test it with $\\sigma=0.2$."
   ]
  },
  {
   "cell_type": "code",
   "execution_count": 57,
   "metadata": {},
   "outputs": [],
   "source": [
    "t_span = torch.linspace(0, 12, 460).to(device)\n",
    "x_test = torch.tensor([1.,0.])\n",
    "x_test = (x_test + 0.2*torch.randn(100, 2)).to(device)\n",
    "model = model.to(device)\n",
    "_, trajectory = model.trajectory(x_test, t_span)\n",
    "trajectory = trajectory.detach().cpu()"
   ]
  },
  {
   "cell_type": "markdown",
   "metadata": {},
   "source": [
    "**Depth evolution of the system** -> The system is trained for $s\\in[0,1]$ and then we extrapolate until $s=5$"
   ]
  },
  {
   "cell_type": "code",
   "execution_count": 58,
   "metadata": {},
   "outputs": [
    {
     "data": {
      "image/png": "[encoded data removed]",
      "text/plain": [
       "<Figure size 576x216 with 1 Axes>"
      ]
     },
     "metadata": {
      "needs_background": "light"
     },
     "output_type": "display_data"
    }
   ],
   "source": [
    "K = 60\n",
    "t_span = t_span.cpu()\n",
    "y1 = np.cos(2*np.pi*t_span)\n",
    "y2 = np.sin(2*np.pi*t_span)\n",
    "\n",
    "fig = plt.figure(figsize=(8,3))\n",
    "ax = fig.add_subplot(111)\n",
    "ax.scatter(t_span[:K], y1[:K], color='orange',alpha=0.5)\n",
    "ax.scatter(t_span[:K], y2[:K], color='orange',alpha=0.5)\n",
    "ax.scatter(t_span[K:], y1[K:], color='red',alpha=0.5)\n",
    "ax.scatter(t_span[K:], y2[K:], color='red',alpha=0.5)\n",
    "for i in range(len(x_test)):\n",
    "    ax.plot(t_span, trajectory[:,i,:], color='blue', alpha=.1)\n",
    "ax.set_xlabel(r\"$t$ [depth]\")\n",
    "ax.set_ylabel(r\"$z(t)$ [state]\")\n",
    "ax.set_title(r\"Depth evolution of the system\");"
   ]
  },
  {
   "cell_type": "markdown",
   "metadata": {},
   "source": [
    "**State-space trajectories**\n",
    "-> All the (random) IC converge to the desired trajectory"
   ]
  },
  {
   "cell_type": "code",
   "execution_count": 59,
   "metadata": {},
   "outputs": [
    {
     "data": {
      "image/png": "[encoded data removed]",
      "text/plain": [
       "<Figure size 216x216 with 1 Axes>"
      ]
     },
     "metadata": {
      "needs_background": "light"
     },
     "output_type": "display_data"
    }
   ],
   "source": [
    "fig = plt.figure(figsize=(3,3))\n",
    "ax = fig.add_subplot(111)\n",
    "for i in range(len(x_test)):\n",
    "    ax.plot(trajectory[:,i,0], trajectory[:,i,1], color='blue', alpha=.1)\n",
    "    ax.scatter(trajectory[0,i,0], trajectory[0,i,1], color='black', alpha=.1)\n",
    "ax.plot(y1[:100],y2[:100], color='red')\n",
    "ax.set_xlabel(r\"$z_0$\")\n",
    "ax.set_ylabel(r\"$z_1$\")\n",
    "ax.set_title(r\"State-Space Trajectories\");"
   ]
  },
  {
   "cell_type": "code",
   "execution_count": null,
   "metadata": {},
   "outputs": [],
   "source": []
  }
 ],
 "metadata": {
  "kernelspec": {
   "display_name": "torchdyn",
   "language": "python",
   "name": "torchdyn"
  },
  "language_info": {
   "codemirror_mode": {
    "name": "ipython",
    "version": 3
   },
   "file_extension": ".py",
   "mimetype": "text/x-python",
   "name": "python",
   "nbconvert_exporter": "python",
   "pygments_lexer": "ipython3",
   "version": "3.8.5"
  },
  "latex_envs": {
   "LaTeX_envs_menu_present": true,
   "autoclose": false,
   "autocomplete": true,
   "bibliofile": "biblio.bib",
   "cite_by": "apalike",
   "current_citInitial": 1,
   "eqLabelWithNumbers": true,
   "eqNumInitial": 1,
   "hotkeys": {
    "equation": "Ctrl-E",
    "itemize": "Ctrl-I"
   },
   "labels_anchors": false,
   "latex_user_defs": false,
   "report_style_numbering": false,
   "user_envs_cfg": false
  },
  "varInspector": {
   "cols": {
    "lenName": 16,
    "lenType": 16,
    "lenVar": 40
   },
   "kernels_config": {
    "python": {
     "delete_cmd_postfix": "",
     "delete_cmd_prefix": "del ",
     "library": "var_list.py",
     "varRefreshCmd": "print(var_dic_list())"
    },
    "r": {
     "delete_cmd_postfix": ") ",
     "delete_cmd_prefix": "rm(",
     "library": "var_list.r",
     "varRefreshCmd": "cat(var_dic_list()) "
    }
   },
   "types_to_exclude": [
    "module",
    "function",
    "builtin_function_or_method",
    "instance",
    "_Feature"
   ],
   "window_display": false
  }
 },
 "nbformat": 4,
 "nbformat_minor": 4
}
